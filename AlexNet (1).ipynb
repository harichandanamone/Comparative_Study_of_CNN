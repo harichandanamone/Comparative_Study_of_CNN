{
  "cells": [
    {
      "cell_type": "code",
      "execution_count": 22,
      "metadata": {
        "id": "gVg1WITCh4Fg"
      },
      "outputs": [],
      "source": [
        "import tensorflow as tf\n",
        "from tensorflow import keras\n",
        "from sklearn.manifold import TSNE\n",
        "from tensorflow.keras.datasets import mnist\n",
        "from matplotlib import pyplot as plt\n",
        "import numpy as np\n",
        "import pandas as pd\n",
        "import seaborn as sns\n",
        "import os\n",
        "from tensorflow.keras.optimizers import Adam\n",
        "from tensorflow.keras.models import Sequential\n",
        "from tensorflow.keras.layers import Conv2D,MaxPool2D\n",
        "from tensorflow.keras.layers import Dense, Activation, Flatten"
      ]
    },
    {
      "cell_type": "code",
      "execution_count": 23,
      "metadata": {
        "colab": {
          "base_uri": "https://localhost:8080/"
        },
        "id": "I4--xwsciNaN",
        "outputId": "b431d5e8-e538-4cb5-9b04-c4fdc6974452"
      },
      "outputs": [
        {
          "output_type": "stream",
          "name": "stdout",
          "text": [
            "X_train: (60000, 28, 28)\n",
            "Y_train: (60000,)\n",
            "X_test:  (10000, 28, 28)\n",
            "Y_test:  (10000,)\n"
          ]
        }
      ],
      "source": [
        "import keras\n",
        "from keras.datasets import mnist\n",
        "(train_X, train_y), (test_X, test_y) = mnist.load_data()\n",
        "print('X_train: ' + str(train_X.shape))\n",
        "print('Y_train: ' + str(train_y.shape))\n",
        "print('X_test:  '  + str(test_X.shape))\n",
        "print('Y_test:  '  + str(test_y.shape))"
      ]
    },
    {
      "cell_type": "code",
      "execution_count": 24,
      "metadata": {
        "id": "e2EwnKBch8Rb"
      },
      "outputs": [],
      "source": [
        "alexnet = keras.models.Sequential([\n",
        "    keras.layers.Conv2D(filters=96, kernel_size=(11,11), strides=(4,4), activation='relu', input_shape=(28,28,1)),\n",
        "    keras.layers.MaxPool2D(pool_size=(3,3), strides=(2,2)),\n",
        "    keras.layers.Conv2D(filters=256, kernel_size=(5,5), strides=(1,1), activation='relu', padding=\"same\"),\n",
        "    keras.layers.MaxPool2D(pool_size=(3,3), strides=(2,2),padding='same'),\n",
        "    keras.layers.Conv2D(filters=384, kernel_size=(3,3), strides=(1,1), activation='relu', padding=\"same\"),\n",
        "    keras.layers.Conv2D(filters=384, kernel_size=(3,3), strides=(1,1), activation='relu', padding=\"same\"),\n",
        "    keras.layers.Conv2D(filters=256, kernel_size=(3,3), strides=(1,1), activation='relu', padding=\"same\"),\n",
        "    keras.layers.MaxPool2D(pool_size=(3,3), strides=(2,2),padding='same'),\n",
        "    keras.layers.Flatten(),\n",
        "    keras.layers.Dense(4096, activation='relu'),\n",
        "    keras.layers.Dropout(0.5),\n",
        "    keras.layers.Dense(4096, activation='relu'),\n",
        "    keras.layers.Dropout(0.5),\n",
        "    keras.layers.Dense(10, activation='softmax')\n",
        "])"
      ]
    },
    {
      "cell_type": "code",
      "execution_count": 25,
      "metadata": {
        "colab": {
          "base_uri": "https://localhost:8080/"
        },
        "id": "2ghk53WVh8KQ",
        "outputId": "350a107c-81c0-4530-f745-bfdd26bd04bd"
      },
      "outputs": [
        {
          "output_type": "stream",
          "name": "stdout",
          "text": [
            "Model: \"sequential_3\"\n",
            "_________________________________________________________________\n",
            " Layer (type)                Output Shape              Param #   \n",
            "=================================================================\n",
            " conv2d_15 (Conv2D)          (None, 5, 5, 96)          11712     \n",
            "                                                                 \n",
            " max_pooling2d_9 (MaxPooling  (None, 2, 2, 96)         0         \n",
            " 2D)                                                             \n",
            "                                                                 \n",
            " conv2d_16 (Conv2D)          (None, 2, 2, 256)         614656    \n",
            "                                                                 \n",
            " max_pooling2d_10 (MaxPoolin  (None, 1, 1, 256)        0         \n",
            " g2D)                                                            \n",
            "                                                                 \n",
            " conv2d_17 (Conv2D)          (None, 1, 1, 384)         885120    \n",
            "                                                                 \n",
            " conv2d_18 (Conv2D)          (None, 1, 1, 384)         1327488   \n",
            "                                                                 \n",
            " conv2d_19 (Conv2D)          (None, 1, 1, 256)         884992    \n",
            "                                                                 \n",
            " max_pooling2d_11 (MaxPoolin  (None, 1, 1, 256)        0         \n",
            " g2D)                                                            \n",
            "                                                                 \n",
            " flatten_3 (Flatten)         (None, 256)               0         \n",
            "                                                                 \n",
            " dense_9 (Dense)             (None, 4096)              1052672   \n",
            "                                                                 \n",
            " dropout_6 (Dropout)         (None, 4096)              0         \n",
            "                                                                 \n",
            " dense_10 (Dense)            (None, 4096)              16781312  \n",
            "                                                                 \n",
            " dropout_7 (Dropout)         (None, 4096)              0         \n",
            "                                                                 \n",
            " dense_11 (Dense)            (None, 10)                40970     \n",
            "                                                                 \n",
            "=================================================================\n",
            "Total params: 21,598,922\n",
            "Trainable params: 21,598,922\n",
            "Non-trainable params: 0\n",
            "_________________________________________________________________\n"
          ]
        }
      ],
      "source": [
        "alexnet.summary()"
      ]
    },
    {
      "cell_type": "code",
      "execution_count": 26,
      "metadata": {
        "id": "GQ8RvOFih8Ej"
      },
      "outputs": [],
      "source": [
        "train_y = tf.keras.utils.to_categorical(train_y, num_classes=10)\n",
        "test_y = tf.keras.utils.to_categorical(test_y, num_classes=10)"
      ]
    },
    {
      "cell_type": "code",
      "execution_count": 27,
      "metadata": {
        "id": "S4us5lC-Wjp-"
      },
      "outputs": [],
      "source": [
        "from sklearn.model_selection import train_test_split\n",
        "train_X, X_val, train_y, y_val = train_test_split(train_X, train_y, test_size=0.2, random_state=1)"
      ]
    },
    {
      "cell_type": "code",
      "execution_count": 27,
      "metadata": {
        "id": "-SqxdIpcWjnV"
      },
      "outputs": [],
      "source": []
    },
    {
      "cell_type": "code",
      "execution_count": 28,
      "metadata": {
        "colab": {
          "base_uri": "https://localhost:8080/"
        },
        "id": "Fk3gnym2kd6B",
        "outputId": "61a6284e-8670-43ed-fae5-0de4b6f60ded"
      },
      "outputs": [
        {
          "output_type": "execute_result",
          "data": {
            "text/plain": [
              "(10,)"
            ]
          },
          "metadata": {},
          "execution_count": 28
        }
      ],
      "source": [
        "train_y[0].shape"
      ]
    },
    {
      "cell_type": "code",
      "execution_count": 29,
      "metadata": {
        "id": "jmPj7Y7Uijcx"
      },
      "outputs": [],
      "source": [
        "hist=[]\n",
        "results=[]"
      ]
    },
    {
      "cell_type": "code",
      "execution_count": 30,
      "metadata": {
        "id": "QAISndv6itpG",
        "outputId": "f7cda195-63ab-4075-86f5-1d6e8a01c9b9",
        "colab": {
          "base_uri": "https://localhost:8080/"
        }
      },
      "outputs": [
        {
          "output_type": "stream",
          "name": "stdout",
          "text": [
            "Epoch 1/10\n",
            "750/750 [==============================] - 10s 12ms/step - loss: 0.5336 - accuracy: 0.8218 - val_loss: 0.1947 - val_accuracy: 0.9478\n",
            "Epoch 2/10\n",
            "750/750 [==============================] - 9s 12ms/step - loss: 0.1481 - accuracy: 0.9624 - val_loss: 0.1343 - val_accuracy: 0.9625\n",
            "Epoch 3/10\n",
            "750/750 [==============================] - 9s 12ms/step - loss: 0.0966 - accuracy: 0.9753 - val_loss: 0.1084 - val_accuracy: 0.9710\n",
            "Epoch 4/10\n",
            "750/750 [==============================] - 9s 13ms/step - loss: 0.0761 - accuracy: 0.9792 - val_loss: 0.0796 - val_accuracy: 0.9787\n",
            "Epoch 5/10\n",
            "750/750 [==============================] - 9s 12ms/step - loss: 0.0618 - accuracy: 0.9832 - val_loss: 0.1098 - val_accuracy: 0.9730\n",
            "Epoch 6/10\n",
            "750/750 [==============================] - 9s 12ms/step - loss: 0.0598 - accuracy: 0.9837 - val_loss: 0.0784 - val_accuracy: 0.9812\n",
            "Epoch 7/10\n",
            "750/750 [==============================] - 9s 12ms/step - loss: 0.0452 - accuracy: 0.9879 - val_loss: 0.0758 - val_accuracy: 0.9812\n",
            "Epoch 8/10\n",
            "750/750 [==============================] - 9s 12ms/step - loss: 0.0367 - accuracy: 0.9897 - val_loss: 0.0846 - val_accuracy: 0.9805\n",
            "Epoch 9/10\n",
            "750/750 [==============================] - 9s 12ms/step - loss: 0.0343 - accuracy: 0.9908 - val_loss: 0.0836 - val_accuracy: 0.9799\n",
            "Epoch 10/10\n",
            "750/750 [==============================] - 9s 12ms/step - loss: 0.0312 - accuracy: 0.9910 - val_loss: 0.0769 - val_accuracy: 0.9799\n",
            "79/79 [==============================] - 1s 6ms/step - loss: 0.0675 - accuracy: 0.9807\n",
            "Epoch 1/20\n",
            "750/750 [==============================] - 10s 13ms/step - loss: 0.0260 - accuracy: 0.9933 - val_loss: 0.1141 - val_accuracy: 0.9777\n",
            "Epoch 2/20\n",
            "750/750 [==============================] - 9s 12ms/step - loss: 0.0266 - accuracy: 0.9928 - val_loss: 0.0865 - val_accuracy: 0.9818\n",
            "Epoch 3/20\n",
            "750/750 [==============================] - 9s 12ms/step - loss: 0.0212 - accuracy: 0.9937 - val_loss: 0.0879 - val_accuracy: 0.9835\n",
            "Epoch 4/20\n",
            "750/750 [==============================] - 9s 12ms/step - loss: 0.0197 - accuracy: 0.9947 - val_loss: 0.0887 - val_accuracy: 0.9818\n",
            "Epoch 5/20\n",
            "750/750 [==============================] - 9s 12ms/step - loss: 0.0185 - accuracy: 0.9945 - val_loss: 0.0999 - val_accuracy: 0.9831\n",
            "Epoch 6/20\n",
            "750/750 [==============================] - 9s 12ms/step - loss: 0.0190 - accuracy: 0.9949 - val_loss: 0.0995 - val_accuracy: 0.9827\n",
            "Epoch 7/20\n",
            "750/750 [==============================] - 9s 13ms/step - loss: 0.0149 - accuracy: 0.9962 - val_loss: 0.0980 - val_accuracy: 0.9837\n",
            "Epoch 8/20\n",
            "750/750 [==============================] - 9s 13ms/step - loss: 0.0151 - accuracy: 0.9963 - val_loss: 0.1013 - val_accuracy: 0.9831\n",
            "Epoch 9/20\n",
            "750/750 [==============================] - 9s 13ms/step - loss: 0.0127 - accuracy: 0.9966 - val_loss: 0.1017 - val_accuracy: 0.9828\n",
            "Epoch 10/20\n",
            "750/750 [==============================] - 9s 12ms/step - loss: 0.0149 - accuracy: 0.9960 - val_loss: 0.0944 - val_accuracy: 0.9827\n",
            "Epoch 11/20\n",
            "750/750 [==============================] - 9s 12ms/step - loss: 0.0095 - accuracy: 0.9973 - val_loss: 0.1059 - val_accuracy: 0.9827\n",
            "Epoch 12/20\n",
            "750/750 [==============================] - 9s 12ms/step - loss: 0.0141 - accuracy: 0.9959 - val_loss: 0.0968 - val_accuracy: 0.9827\n",
            "Epoch 13/20\n",
            "750/750 [==============================] - 9s 12ms/step - loss: 0.0111 - accuracy: 0.9971 - val_loss: 0.1086 - val_accuracy: 0.9822\n",
            "Epoch 14/20\n",
            "750/750 [==============================] - 9s 12ms/step - loss: 0.0088 - accuracy: 0.9976 - val_loss: 0.0998 - val_accuracy: 0.9823\n",
            "Epoch 15/20\n",
            "750/750 [==============================] - 9s 13ms/step - loss: 0.0090 - accuracy: 0.9978 - val_loss: 0.0851 - val_accuracy: 0.9837\n",
            "Epoch 16/20\n",
            "750/750 [==============================] - 9s 12ms/step - loss: 0.0063 - accuracy: 0.9983 - val_loss: 0.1064 - val_accuracy: 0.9832\n",
            "Epoch 17/20\n",
            "750/750 [==============================] - 9s 13ms/step - loss: 0.0147 - accuracy: 0.9962 - val_loss: 0.1241 - val_accuracy: 0.9821\n",
            "Epoch 18/20\n",
            "750/750 [==============================] - 9s 12ms/step - loss: 0.0072 - accuracy: 0.9980 - val_loss: 0.1122 - val_accuracy: 0.9827\n",
            "Epoch 19/20\n",
            "750/750 [==============================] - 9s 12ms/step - loss: 0.0092 - accuracy: 0.9977 - val_loss: 0.0961 - val_accuracy: 0.9844\n",
            "Epoch 20/20\n",
            "750/750 [==============================] - 9s 12ms/step - loss: 0.0084 - accuracy: 0.9976 - val_loss: 0.1195 - val_accuracy: 0.9820\n",
            "79/79 [==============================] - 0s 5ms/step - loss: 0.1086 - accuracy: 0.9828\n",
            "Epoch 1/30\n",
            "750/750 [==============================] - 9s 12ms/step - loss: 0.0088 - accuracy: 0.9979 - val_loss: 0.1042 - val_accuracy: 0.9846\n",
            "Epoch 2/30\n",
            "750/750 [==============================] - 9s 12ms/step - loss: 0.0064 - accuracy: 0.9982 - val_loss: 0.1143 - val_accuracy: 0.9843\n",
            "Epoch 3/30\n",
            "750/750 [==============================] - 9s 12ms/step - loss: 0.0064 - accuracy: 0.9984 - val_loss: 0.1067 - val_accuracy: 0.9831\n",
            "Epoch 4/30\n",
            "750/750 [==============================] - 9s 12ms/step - loss: 0.0103 - accuracy: 0.9972 - val_loss: 0.1025 - val_accuracy: 0.9834\n",
            "Epoch 5/30\n",
            "750/750 [==============================] - 9s 12ms/step - loss: 0.0034 - accuracy: 0.9992 - val_loss: 0.2389 - val_accuracy: 0.9739\n",
            "Epoch 6/30\n",
            "750/750 [==============================] - 9s 12ms/step - loss: 0.0065 - accuracy: 0.9987 - val_loss: 0.1051 - val_accuracy: 0.9846\n",
            "Epoch 7/30\n",
            "750/750 [==============================] - 9s 12ms/step - loss: 0.0058 - accuracy: 0.9985 - val_loss: 0.1268 - val_accuracy: 0.9833\n",
            "Epoch 8/30\n",
            "750/750 [==============================] - 9s 12ms/step - loss: 0.0067 - accuracy: 0.9983 - val_loss: 0.1105 - val_accuracy: 0.9839\n",
            "Epoch 9/30\n",
            "750/750 [==============================] - 9s 12ms/step - loss: 0.0035 - accuracy: 0.9993 - val_loss: 0.1130 - val_accuracy: 0.9823\n",
            "Epoch 10/30\n",
            "750/750 [==============================] - 9s 12ms/step - loss: 0.0049 - accuracy: 0.9989 - val_loss: 0.1195 - val_accuracy: 0.9832\n",
            "Epoch 11/30\n",
            "750/750 [==============================] - 9s 12ms/step - loss: 7.8594e-04 - accuracy: 0.9998 - val_loss: 0.1218 - val_accuracy: 0.9855\n",
            "Epoch 12/30\n",
            "750/750 [==============================] - 9s 13ms/step - loss: 0.0029 - accuracy: 0.9993 - val_loss: 0.1257 - val_accuracy: 0.9860\n",
            "Epoch 13/30\n",
            "750/750 [==============================] - 9s 12ms/step - loss: 9.4818e-04 - accuracy: 0.9999 - val_loss: 0.1244 - val_accuracy: 0.9874\n",
            "Epoch 14/30\n",
            "750/750 [==============================] - 9s 12ms/step - loss: 5.8684e-04 - accuracy: 0.9999 - val_loss: 0.1448 - val_accuracy: 0.9853\n",
            "Epoch 15/30\n",
            "750/750 [==============================] - 9s 12ms/step - loss: 0.0052 - accuracy: 0.9989 - val_loss: 0.1206 - val_accuracy: 0.9822\n",
            "Epoch 16/30\n",
            "750/750 [==============================] - 9s 12ms/step - loss: 0.0028 - accuracy: 0.9994 - val_loss: 0.1208 - val_accuracy: 0.9834\n",
            "Epoch 17/30\n",
            "750/750 [==============================] - 9s 12ms/step - loss: 0.0012 - accuracy: 0.9998 - val_loss: 0.1354 - val_accuracy: 0.9855\n",
            "Epoch 18/30\n",
            "750/750 [==============================] - 9s 13ms/step - loss: 0.0032 - accuracy: 0.9994 - val_loss: 0.1377 - val_accuracy: 0.9841\n",
            "Epoch 19/30\n",
            "750/750 [==============================] - 9s 12ms/step - loss: 0.0024 - accuracy: 0.9994 - val_loss: 0.1332 - val_accuracy: 0.9840\n",
            "Epoch 20/30\n",
            "750/750 [==============================] - 9s 12ms/step - loss: 0.0017 - accuracy: 0.9996 - val_loss: 0.1448 - val_accuracy: 0.9836\n",
            "Epoch 21/30\n",
            "750/750 [==============================] - 9s 13ms/step - loss: 0.0070 - accuracy: 0.9982 - val_loss: 0.1221 - val_accuracy: 0.9853\n",
            "Epoch 22/30\n",
            "750/750 [==============================] - 9s 12ms/step - loss: 8.3965e-04 - accuracy: 0.9998 - val_loss: 0.1303 - val_accuracy: 0.9859\n",
            "Epoch 23/30\n",
            "750/750 [==============================] - 10s 13ms/step - loss: 4.1834e-04 - accuracy: 0.9999 - val_loss: 0.1407 - val_accuracy: 0.9856\n",
            "Epoch 24/30\n",
            "750/750 [==============================] - 9s 13ms/step - loss: 5.6432e-05 - accuracy: 1.0000 - val_loss: 0.1383 - val_accuracy: 0.9862\n",
            "Epoch 25/30\n",
            "750/750 [==============================] - 9s 12ms/step - loss: 1.8604e-05 - accuracy: 1.0000 - val_loss: 0.1414 - val_accuracy: 0.9866\n",
            "Epoch 26/30\n",
            "750/750 [==============================] - 9s 12ms/step - loss: 1.3937e-05 - accuracy: 1.0000 - val_loss: 0.1441 - val_accuracy: 0.9862\n",
            "Epoch 27/30\n",
            "750/750 [==============================] - 9s 12ms/step - loss: 1.1663e-05 - accuracy: 1.0000 - val_loss: 0.1475 - val_accuracy: 0.9863\n",
            "Epoch 28/30\n",
            "750/750 [==============================] - 9s 12ms/step - loss: 6.6039e-06 - accuracy: 1.0000 - val_loss: 0.1487 - val_accuracy: 0.9865\n",
            "Epoch 29/30\n",
            "750/750 [==============================] - 9s 12ms/step - loss: 5.9469e-06 - accuracy: 1.0000 - val_loss: 0.1500 - val_accuracy: 0.9864\n",
            "Epoch 30/30\n",
            "750/750 [==============================] - 9s 12ms/step - loss: 7.4321e-06 - accuracy: 1.0000 - val_loss: 0.1512 - val_accuracy: 0.9865\n",
            "79/79 [==============================] - 1s 7ms/step - loss: 0.1063 - accuracy: 0.9869\n",
            "Epoch 1/10\n",
            "750/750 [==============================] - 11s 14ms/step - loss: 0.1494 - accuracy: 0.9865 - val_loss: 0.3473 - val_accuracy: 0.9792\n",
            "Epoch 2/10\n",
            "750/750 [==============================] - 10s 13ms/step - loss: 0.0742 - accuracy: 0.9901 - val_loss: 0.3942 - val_accuracy: 0.9692\n",
            "Epoch 3/10\n",
            "750/750 [==============================] - 10s 13ms/step - loss: 0.0908 - accuracy: 0.9858 - val_loss: 0.4315 - val_accuracy: 0.9735\n",
            "Epoch 4/10\n",
            "750/750 [==============================] - 10s 13ms/step - loss: 0.0695 - accuracy: 0.9886 - val_loss: 0.2950 - val_accuracy: 0.9764\n",
            "Epoch 5/10\n",
            "750/750 [==============================] - 10s 13ms/step - loss: 0.0700 - accuracy: 0.9879 - val_loss: 0.5424 - val_accuracy: 0.9740\n",
            "Epoch 6/10\n",
            "750/750 [==============================] - 10s 13ms/step - loss: 0.0895 - accuracy: 0.9847 - val_loss: 0.2933 - val_accuracy: 0.9743\n",
            "Epoch 7/10\n",
            "750/750 [==============================] - 9s 13ms/step - loss: 0.0696 - accuracy: 0.9876 - val_loss: 0.2366 - val_accuracy: 0.9783\n",
            "Epoch 8/10\n",
            "750/750 [==============================] - 9s 13ms/step - loss: 0.0719 - accuracy: 0.9878 - val_loss: 0.1965 - val_accuracy: 0.9789\n",
            "Epoch 9/10\n",
            "750/750 [==============================] - 9s 13ms/step - loss: 0.0616 - accuracy: 0.9892 - val_loss: 0.2780 - val_accuracy: 0.9795\n",
            "Epoch 10/10\n",
            "750/750 [==============================] - 10s 13ms/step - loss: 0.0658 - accuracy: 0.9874 - val_loss: 0.2465 - val_accuracy: 0.9787\n",
            "79/79 [==============================] - 1s 7ms/step - loss: 0.1966 - accuracy: 0.9784\n",
            "Epoch 1/20\n",
            "750/750 [==============================] - 47s 13ms/step - loss: 0.0815 - accuracy: 0.9849 - val_loss: 0.2567 - val_accuracy: 0.9663\n",
            "Epoch 2/20\n",
            "750/750 [==============================] - 10s 14ms/step - loss: 0.0737 - accuracy: 0.9869 - val_loss: 0.1653 - val_accuracy: 0.9770\n",
            "Epoch 3/20\n",
            "750/750 [==============================] - 10s 14ms/step - loss: 0.0474 - accuracy: 0.9917 - val_loss: 0.1656 - val_accuracy: 0.9770\n",
            "Epoch 4/20\n",
            "750/750 [==============================] - 10s 13ms/step - loss: 0.0830 - accuracy: 0.9842 - val_loss: 0.2258 - val_accuracy: 0.9771\n",
            "Epoch 5/20\n",
            "750/750 [==============================] - 10s 13ms/step - loss: 0.0595 - accuracy: 0.9892 - val_loss: 0.2117 - val_accuracy: 0.9682\n",
            "Epoch 6/20\n",
            "750/750 [==============================] - 9s 13ms/step - loss: 0.0711 - accuracy: 0.9873 - val_loss: 0.2050 - val_accuracy: 0.9678\n",
            "Epoch 7/20\n",
            "750/750 [==============================] - 9s 13ms/step - loss: 0.0792 - accuracy: 0.9850 - val_loss: 0.1968 - val_accuracy: 0.9746\n",
            "Epoch 8/20\n",
            "750/750 [==============================] - 10s 13ms/step - loss: 0.0467 - accuracy: 0.9911 - val_loss: 0.2467 - val_accuracy: 0.9768\n",
            "Epoch 9/20\n",
            "750/750 [==============================] - 10s 13ms/step - loss: 0.1128 - accuracy: 0.9819 - val_loss: 0.2140 - val_accuracy: 0.9654\n",
            "Epoch 10/20\n",
            "750/750 [==============================] - 9s 13ms/step - loss: 0.0661 - accuracy: 0.9877 - val_loss: 0.2018 - val_accuracy: 0.9799\n",
            "Epoch 11/20\n",
            "750/750 [==============================] - 10s 13ms/step - loss: 0.0453 - accuracy: 0.9913 - val_loss: 0.2612 - val_accuracy: 0.9770\n",
            "Epoch 12/20\n",
            "750/750 [==============================] - 10s 13ms/step - loss: 0.0607 - accuracy: 0.9887 - val_loss: 0.3452 - val_accuracy: 0.9718\n",
            "Epoch 13/20\n",
            "750/750 [==============================] - 10s 13ms/step - loss: 0.1097 - accuracy: 0.9797 - val_loss: 0.4721 - val_accuracy: 0.8958\n",
            "Epoch 14/20\n",
            "750/750 [==============================] - 10s 13ms/step - loss: 0.1243 - accuracy: 0.9773 - val_loss: 0.1828 - val_accuracy: 0.9707\n",
            "Epoch 15/20\n",
            "750/750 [==============================] - 9s 13ms/step - loss: 0.0760 - accuracy: 0.9831 - val_loss: 0.1486 - val_accuracy: 0.9787\n",
            "Epoch 16/20\n",
            "750/750 [==============================] - 9s 13ms/step - loss: 0.0915 - accuracy: 0.9821 - val_loss: 0.1721 - val_accuracy: 0.9603\n",
            "Epoch 17/20\n",
            "750/750 [==============================] - 10s 13ms/step - loss: 0.0539 - accuracy: 0.9883 - val_loss: 0.2138 - val_accuracy: 0.9774\n",
            "Epoch 18/20\n",
            "750/750 [==============================] - 10s 13ms/step - loss: 0.0566 - accuracy: 0.9874 - val_loss: 0.2195 - val_accuracy: 0.9810\n",
            "Epoch 19/20\n",
            "750/750 [==============================] - 9s 13ms/step - loss: 0.0785 - accuracy: 0.9831 - val_loss: 0.3313 - val_accuracy: 0.9609\n",
            "Epoch 20/20\n",
            "750/750 [==============================] - 10s 13ms/step - loss: 0.1044 - accuracy: 0.9822 - val_loss: 0.3957 - val_accuracy: 0.9658\n",
            "79/79 [==============================] - 0s 5ms/step - loss: 0.5191 - accuracy: 0.9685\n",
            "Epoch 1/30\n",
            "750/750 [==============================] - 11s 14ms/step - loss: 0.0760 - accuracy: 0.9846 - val_loss: 0.2130 - val_accuracy: 0.9739\n",
            "Epoch 2/30\n",
            "750/750 [==============================] - 9s 13ms/step - loss: 0.0705 - accuracy: 0.9852 - val_loss: 0.2139 - val_accuracy: 0.9766\n",
            "Epoch 3/30\n",
            "750/750 [==============================] - 10s 13ms/step - loss: 0.1010 - accuracy: 0.9805 - val_loss: 0.1983 - val_accuracy: 0.9639\n",
            "Epoch 4/30\n",
            "750/750 [==============================] - 10s 13ms/step - loss: 0.0870 - accuracy: 0.9822 - val_loss: 0.1431 - val_accuracy: 0.9803\n",
            "Epoch 5/30\n",
            "750/750 [==============================] - 9s 13ms/step - loss: 0.1425 - accuracy: 0.9676 - val_loss: 0.2337 - val_accuracy: 0.9656\n",
            "Epoch 6/30\n",
            "750/750 [==============================] - 10s 13ms/step - loss: 0.0946 - accuracy: 0.9824 - val_loss: 0.3233 - val_accuracy: 0.9573\n",
            "Epoch 7/30\n",
            "750/750 [==============================] - 10s 14ms/step - loss: 0.1229 - accuracy: 0.9718 - val_loss: 0.3233 - val_accuracy: 0.9676\n",
            "Epoch 8/30\n",
            "750/750 [==============================] - 10s 13ms/step - loss: 0.0713 - accuracy: 0.9880 - val_loss: 0.2194 - val_accuracy: 0.9634\n",
            "Epoch 9/30\n",
            "750/750 [==============================] - 10s 13ms/step - loss: 0.1217 - accuracy: 0.9761 - val_loss: 0.3222 - val_accuracy: 0.9594\n",
            "Epoch 10/30\n",
            "750/750 [==============================] - 9s 13ms/step - loss: 0.2119 - accuracy: 0.9594 - val_loss: 0.3784 - val_accuracy: 0.9462\n",
            "Epoch 11/30\n",
            "750/750 [==============================] - 10s 13ms/step - loss: 0.1235 - accuracy: 0.9758 - val_loss: 0.3289 - val_accuracy: 0.9630\n",
            "Epoch 12/30\n",
            "750/750 [==============================] - 9s 13ms/step - loss: 0.1510 - accuracy: 0.9710 - val_loss: 0.2380 - val_accuracy: 0.9715\n",
            "Epoch 13/30\n",
            "750/750 [==============================] - 10s 13ms/step - loss: 0.1130 - accuracy: 0.9772 - val_loss: 0.2784 - val_accuracy: 0.9565\n",
            "Epoch 14/30\n",
            "750/750 [==============================] - 10s 13ms/step - loss: 0.1067 - accuracy: 0.9778 - val_loss: 0.3170 - val_accuracy: 0.9367\n",
            "Epoch 15/30\n",
            "750/750 [==============================] - 10s 13ms/step - loss: 0.1852 - accuracy: 0.9676 - val_loss: 0.1657 - val_accuracy: 0.9699\n",
            "Epoch 16/30\n",
            "750/750 [==============================] - 10s 13ms/step - loss: 0.1189 - accuracy: 0.9770 - val_loss: 0.3146 - val_accuracy: 0.9567\n",
            "Epoch 17/30\n",
            "750/750 [==============================] - 10s 13ms/step - loss: 0.1254 - accuracy: 0.9760 - val_loss: 0.1386 - val_accuracy: 0.9727\n",
            "Epoch 18/30\n",
            "750/750 [==============================] - 9s 13ms/step - loss: 0.1133 - accuracy: 0.9750 - val_loss: 0.1727 - val_accuracy: 0.9661\n",
            "Epoch 19/30\n",
            "750/750 [==============================] - 9s 13ms/step - loss: 0.1322 - accuracy: 0.9728 - val_loss: 0.2379 - val_accuracy: 0.9587\n",
            "Epoch 20/30\n",
            "750/750 [==============================] - 9s 13ms/step - loss: 0.1973 - accuracy: 0.9555 - val_loss: 0.2084 - val_accuracy: 0.9513\n",
            "Epoch 21/30\n",
            "750/750 [==============================] - 10s 13ms/step - loss: 0.1531 - accuracy: 0.9635 - val_loss: 0.2576 - val_accuracy: 0.9579\n",
            "Epoch 22/30\n",
            "750/750 [==============================] - 10s 13ms/step - loss: 0.1297 - accuracy: 0.9743 - val_loss: 0.1754 - val_accuracy: 0.9728\n",
            "Epoch 23/30\n",
            "750/750 [==============================] - 10s 13ms/step - loss: 0.1449 - accuracy: 0.9710 - val_loss: 0.1876 - val_accuracy: 0.9720\n",
            "Epoch 24/30\n",
            "750/750 [==============================] - 9s 13ms/step - loss: 0.1500 - accuracy: 0.9730 - val_loss: 0.2606 - val_accuracy: 0.9605\n",
            "Epoch 25/30\n",
            "750/750 [==============================] - 9s 13ms/step - loss: 0.1841 - accuracy: 0.9605 - val_loss: 0.3097 - val_accuracy: 0.9663\n",
            "Epoch 26/30\n",
            "750/750 [==============================] - 10s 14ms/step - loss: 0.1988 - accuracy: 0.9611 - val_loss: 0.2030 - val_accuracy: 0.9655\n",
            "Epoch 27/30\n",
            "750/750 [==============================] - 10s 13ms/step - loss: 0.1430 - accuracy: 0.9713 - val_loss: 0.2500 - val_accuracy: 0.9387\n",
            "Epoch 28/30\n",
            "750/750 [==============================] - 10s 13ms/step - loss: 0.1571 - accuracy: 0.9609 - val_loss: 0.1624 - val_accuracy: 0.9668\n",
            "Epoch 29/30\n",
            "750/750 [==============================] - 10s 13ms/step - loss: 0.1166 - accuracy: 0.9757 - val_loss: 0.1947 - val_accuracy: 0.9684\n",
            "Epoch 30/30\n",
            "750/750 [==============================] - 10s 13ms/step - loss: 0.1150 - accuracy: 0.9782 - val_loss: 0.2120 - val_accuracy: 0.9625\n",
            "79/79 [==============================] - 1s 7ms/step - loss: 0.1588 - accuracy: 0.9676\n"
          ]
        }
      ],
      "source": [
        "from keras.optimizers import SGD,Adam\n",
        "\n",
        "opt_list=[SGD(lr=0.01, momentum=0.9),Adam(lr=0.001)]\n",
        "epochs_list = [10,20,30]\n",
        "for optimizer in  opt_list:\n",
        "  for epoch in epochs_list:\n",
        "\n",
        "    alexnet.compile(optimizer=optimizer, loss=keras.losses.categorical_crossentropy, metrics=['accuracy'])\n",
        "    history = alexnet.fit(\n",
        "      train_X,\n",
        "      train_y,\n",
        "      batch_size=64,\n",
        "      epochs=epoch,\n",
        "      validation_data=(X_val, y_val)\n",
        "    )\n",
        "    hist.append(history.history)\n",
        "    results.append(alexnet.evaluate(test_X, test_y, batch_size=128))"
      ]
    },
    {
      "cell_type": "code",
      "execution_count": 31,
      "metadata": {
        "id": "d2fqm1MPWXu8",
        "outputId": "e4040efd-61e7-4b18-afe0-e2fc071cc09a",
        "colab": {
          "base_uri": "https://localhost:8080/",
          "height": 314
        }
      },
      "outputs": [
        {
          "output_type": "display_data",
          "data": {
            "text/plain": [
              "<Figure size 432x288 with 6 Axes>"
            ],
            "image/png": "[encoded data removed]"
          },
          "metadata": {
            "needs_background": "light"
          }
        }
      ],
      "source": [
        "fig, axs = plt.subplots(2, 3)\n",
        "epoch1=range(1,11)\n",
        "epoch2 = range(1,21)\n",
        "epoch3 = range(1,31)\n",
        "\n",
        "\n",
        "axs[0, 0].set_title('SGD,epoch:10')\n",
        "axs[0, 0].plot(epoch1,hist[0]['loss'],color=\"green\",label=\"Training Loss\")\n",
        "axs[0, 0].plot(epoch1,hist[0]['val_loss'],color=\"blue\",label = \"Validation Loss\")\n",
        "\n",
        "axs[0, 1].set_title('SGD,epoch:20')\n",
        "axs[0, 1].plot(epoch2,hist[1]['loss'],color=\"green\")\n",
        "axs[0, 1].plot(epoch2,hist[1]['val_loss'],color=\"blue\")\n",
        "\n",
        "axs[0, 2].set_title('SGD,epoch:30')\n",
        "axs[0, 2].plot(epoch3,hist[2]['loss'],color=\"green\")\n",
        "axs[0, 2].plot(epoch3,hist[2]['val_loss'],color=\"blue\")\n",
        "\n",
        "axs[1, 0].set_title('Adam,epoch:10')\n",
        "axs[1, 0].plot(epoch1,hist[3]['loss'],color=\"green\")\n",
        "axs[1, 0].plot(epoch1,hist[3]['val_loss'],color=\"blue\")\n",
        "\n",
        "axs[1, 1].set_title('Adam,epoch:20')\n",
        "axs[1, 1].plot(epoch2,hist[4]['loss'],color=\"green\")\n",
        "axs[1, 1].plot(epoch2,hist[4]['val_loss'],color=\"blue\")\n",
        "\n",
        "\n",
        "axs[1, 2].set_title('Adam,epoch:30')\n",
        "axs[1, 2].plot(epoch3,hist[5]['loss'],color=\"green\")\n",
        "axs[1, 2].plot(epoch3,hist[5]['val_loss'],color=\"blue\")\n",
        "  \n",
        "\n",
        "for ax in axs.flat:\n",
        "    ax.set(xlabel='epoch', ylabel='Loss')\n",
        "\n",
        "fig.legend(bbox_to_anchor=(1.04, 1), borderaxespad=0)\n",
        "\n",
        "\n",
        "# Hide x labels and tick labels for top plots and y ticks for right plots.\n",
        "for ax in axs.flat:\n",
        "    ax.label_outer()"
      ]
    },
    {
      "cell_type": "code",
      "source": [
        "fig, axs = plt.subplots(2, 3)\n",
        "epoch1=range(1,11)\n",
        "epoch2 = range(1,21)\n",
        "epoch3 = range(1,31)\n",
        "\n",
        "axs[0, 0].set_title('SGD,epoch:10')\n",
        "axs[0, 0].plot(epoch1,hist[0]['accuracy'],color=\"green\",label=\"Training Accu\")\n",
        "axs[0, 0].plot(epoch1,hist[0]['val_accuracy'],color=\"blue\",label = \"Validation Accu\")\n",
        "\n",
        "axs[0, 1].set_title('SGD,epoch:20' )\n",
        "axs[0, 1].plot(epoch2,hist[1]['accuracy'],color=\"green\")\n",
        "axs[0, 1].plot(epoch2,hist[1]['val_accuracy'],color=\"blue\")\n",
        "\n",
        "axs[0, 2].set_title('SGD,epoch:30')\n",
        "axs[0, 2].plot(epoch3,hist[2]['accuracy'],color=\"green\")\n",
        "axs[0, 2].plot(epoch3,hist[2]['val_accuracy'],color=\"blue\")\n",
        "\n",
        "\n",
        "\n",
        "axs[1, 0].set_title('Adam,epoch:10')\n",
        "axs[1, 0].plot(epoch1,hist[3]['accuracy'],color=\"green\")\n",
        "axs[1, 0].plot(epoch1,hist[3]['val_accuracy'],color=\"blue\")\n",
        "\n",
        "axs[1, 1].set_title('Adam,epoch:20')\n",
        "axs[1, 1].plot(epoch2,hist[4]['accuracy'],color=\"green\")\n",
        "axs[1, 1].plot(epoch2,hist[4]['val_accuracy'],color=\"blue\")\n",
        "\n",
        "\n",
        "axs[1, 2].set_title('Adam,epoch:30')\n",
        "axs[1, 2].plot(epoch3,hist[5]['accuracy'],color=\"green\")\n",
        "axs[1, 2].plot(epoch3,hist[5]['val_accuracy'],color=\"blue\")\n",
        "\n",
        "\n",
        "for ax in axs.flat:\n",
        "    ax.set(xlabel='epoch', ylabel='Accuracy')\n",
        "    \n",
        "fig.legend(bbox_to_anchor=(1.04, 1), borderaxespad=0)\n",
        "\n",
        "\n",
        "# Hide x labels and tick labels for top plots and y ticks for right plots.\n",
        "for ax in axs.flat:\n",
        "    ax.label_outer()"
      ],
      "metadata": {
        "id": "RRx_jf6YqYhi",
        "outputId": "ae4d3c15-c050-42fd-ec73-1a1cc4d020e2",
        "colab": {
          "base_uri": "https://localhost:8080/",
          "height": 314
        }
      },
      "execution_count": 32,
      "outputs": [
        {
          "output_type": "display_data",
          "data": {
            "text/plain": [
              "<Figure size 432x288 with 6 Axes>"
            ],
            "image/png": "[encoded data removed]"
          },
          "metadata": {
            "needs_background": "light"
          }
        }
      ]
    },
    {
      "cell_type": "code",
      "source": [
        "results"
      ],
      "metadata": {
        "id": "PpEBZxjnx5Wj",
        "outputId": "8171c1a0-df0a-487a-e854-87980c4c479d",
        "colab": {
          "base_uri": "https://localhost:8080/"
        }
      },
      "execution_count": 33,
      "outputs": [
        {
          "output_type": "execute_result",
          "data": {
            "text/plain": [
              "[[0.0674937516450882, 0.9807000160217285],\n",
              " [0.10862821340560913, 0.9828000068664551],\n",
              " [0.10627920925617218, 0.9868999719619751],\n",
              " [0.19659043848514557, 0.9783999919891357],\n",
              " [0.5190836191177368, 0.968500018119812],\n",
              " [0.1588457077741623, 0.9675999879837036]]"
            ]
          },
          "metadata": {},
          "execution_count": 33
        }
      ]
    }
  ],
  "metadata": {
    "accelerator": "GPU",
    "colab": {
      "provenance": []
    },
    "gpuClass": "standard",
    "kernelspec": {
      "display_name": "Python 3",
      "name": "python3"
    },
    "language_info": {
      "name": "python"
    }
  },
  "nbformat": 4,
  "nbformat_minor": 0
}