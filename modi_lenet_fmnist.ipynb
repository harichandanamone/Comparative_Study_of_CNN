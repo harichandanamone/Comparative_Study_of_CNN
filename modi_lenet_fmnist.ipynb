{
  "nbformat": 4,
  "nbformat_minor": 0,
  "metadata": {
    "colab": {
      "provenance": []
    },
    "kernelspec": {
      "name": "python3",
      "display_name": "Python 3"
    },
    "language_info": {
      "name": "python"
    },
    "accelerator": "GPU",
    "gpuClass": "standard"
  },
  "cells": [
    {
      "cell_type": "code",
      "execution_count": 1,
      "metadata": {
        "id": "7CupkKm07jHU"
      },
      "outputs": [],
      "source": [
        "import tensorflow as tf\n",
        "from tensorflow import keras\n",
        "from sklearn.manifold import TSNE\n",
        "from tensorflow.keras.datasets import mnist\n",
        "from matplotlib import pyplot as plt\n",
        "import numpy as np\n",
        "import pandas as pd\n",
        "import seaborn as sns\n",
        "import os\n",
        "from tensorflow.keras.optimizers import Adam\n",
        "from tensorflow.keras.models import Sequential\n",
        "from tensorflow.keras.layers import Conv2D,MaxPool2D\n",
        "from tensorflow.keras.layers import Dense, Activation, Flatten"
      ]
    },
    {
      "cell_type": "code",
      "source": [
        "from keras.datasets import fashion_mnist\n",
        "(train_X, train_y), (test_X, test_y) = fashion_mnist.load_data()\n"
      ],
      "metadata": {
        "colab": {
          "base_uri": "https://localhost:8080/"
        },
        "id": "XRtP-g3u8t3w",
        "outputId": "d33e176d-a536-44de-dac5-2b6c119e4ff6"
      },
      "execution_count": 2,
      "outputs": [
        {
          "output_type": "stream",
          "name": "stdout",
          "text": [
            "Downloading data from https://storage.googleapis.com/tensorflow/tf-keras-datasets/train-labels-idx1-ubyte.gz\n",
            "29515/29515 [==============================] - 0s 0us/step\n",
            "Downloading data from https://storage.googleapis.com/tensorflow/tf-keras-datasets/train-images-idx3-ubyte.gz\n",
            "26421880/26421880 [==============================] - 0s 0us/step\n",
            "Downloading data from https://storage.googleapis.com/tensorflow/tf-keras-datasets/t10k-labels-idx1-ubyte.gz\n",
            "5148/5148 [==============================] - 0s 0us/step\n",
            "Downloading data from https://storage.googleapis.com/tensorflow/tf-keras-datasets/t10k-images-idx3-ubyte.gz\n",
            "4422102/4422102 [==============================] - 0s 0us/step\n"
          ]
        }
      ]
    },
    {
      "cell_type": "code",
      "source": [
        "lenet_model = Sequential()\n",
        "lenet_model.add(Conv2D(filters=6, kernel_size=(3, 3), activation='relu', input_shape=(28,28,1)))\n",
        "lenet_model.add(MaxPool2D(pool_size=(2,2),strides=(2,2)))\n",
        "lenet_model.add(Conv2D(filters=16, kernel_size=(3, 3), activation='relu'))\n",
        "lenet_model.add(MaxPool2D(pool_size=(2,2),strides=(2,2),padding=\"same\"))\n",
        "lenet_model.add(Conv2D(filters=128, kernel_size=(5, 5), activation='relu'))\n",
        "lenet_model.add(MaxPool2D(pool_size=(2,2),strides=(2,2),padding=\"same\"))\n",
        "\n",
        "lenet_model.add(Flatten())\n",
        "#lenet_model.add(Dense(units=180, activation='relu'))\n",
        "lenet_model.add(Dense(units=120, activation='relu'))\n",
        "lenet_model.add(Dense(units=84, activation='relu'))\n",
        "lenet_model.add(Dense(units=10, activation = 'softmax'))"
      ],
      "metadata": {
        "id": "WILqVQG181tn"
      },
      "execution_count": 3,
      "outputs": []
    },
    {
      "cell_type": "code",
      "source": [
        "lenet_model.summary()"
      ],
      "metadata": {
        "colab": {
          "base_uri": "https://localhost:8080/"
        },
        "id": "2JPnqevb82Vy",
        "outputId": "081d9cc4-d012-4434-ee44-43e02d5a83b6"
      },
      "execution_count": 4,
      "outputs": [
        {
          "output_type": "stream",
          "name": "stdout",
          "text": [
            "Model: \"sequential\"\n",
            "_________________________________________________________________\n",
            " Layer (type)                Output Shape              Param #   \n",
            "=================================================================\n",
            " conv2d (Conv2D)             (None, 26, 26, 6)         60        \n",
            "                                                                 \n",
            " max_pooling2d (MaxPooling2D  (None, 13, 13, 6)        0         \n",
            " )                                                               \n",
            "                                                                 \n",
            " conv2d_1 (Conv2D)           (None, 11, 11, 16)        880       \n",
            "                                                                 \n",
            " max_pooling2d_1 (MaxPooling  (None, 6, 6, 16)         0         \n",
            " 2D)                                                             \n",
            "                                                                 \n",
            " conv2d_2 (Conv2D)           (None, 2, 2, 128)         51328     \n",
            "                                                                 \n",
            " max_pooling2d_2 (MaxPooling  (None, 1, 1, 128)        0         \n",
            " 2D)                                                             \n",
            "                                                                 \n",
            " flatten (Flatten)           (None, 128)               0         \n",
            "                                                                 \n",
            " dense (Dense)               (None, 120)               15480     \n",
            "                                                                 \n",
            " dense_1 (Dense)             (None, 84)                10164     \n",
            "                                                                 \n",
            " dense_2 (Dense)             (None, 10)                850       \n",
            "                                                                 \n",
            "=================================================================\n",
            "Total params: 78,762\n",
            "Trainable params: 78,762\n",
            "Non-trainable params: 0\n",
            "_________________________________________________________________\n"
          ]
        }
      ]
    },
    {
      "cell_type": "code",
      "source": [
        "train_y = tf.keras.utils.to_categorical(train_y, num_classes=10)\n",
        "test_y = tf.keras.utils.to_categorical(test_y, num_classes=10)"
      ],
      "metadata": {
        "id": "2glUURxI88tX"
      },
      "execution_count": 5,
      "outputs": []
    },
    {
      "cell_type": "code",
      "source": [
        "from sklearn.model_selection import train_test_split\n",
        "train_X, X_val, train_y, y_val = train_test_split(train_X, train_y, test_size=0.2, random_state=1)"
      ],
      "metadata": {
        "id": "7QAydCZC89qC"
      },
      "execution_count": 6,
      "outputs": []
    },
    {
      "cell_type": "code",
      "source": [
        "hist=[]\n",
        "results=[]"
      ],
      "metadata": {
        "id": "CnajeHSL9E4Q"
      },
      "execution_count": 7,
      "outputs": []
    },
    {
      "cell_type": "code",
      "source": [
        "from keras.optimizers import SGD,Adam\n",
        "\n",
        "opt_list=[SGD(lr=0.01),Adam(lr=0.001)]\n",
        "epochs_list = [10,20,30]\n",
        "for optimizer in  opt_list:\n",
        "  for epoch in epochs_list:\n",
        "\n",
        "    lenet_model.compile(optimizer=optimizer, loss=keras.losses.categorical_crossentropy, metrics=['accuracy'])\n",
        "    history = lenet_model.fit(\n",
        "      train_X,\n",
        "      train_y,\n",
        "      batch_size=64,\n",
        "      epochs=epoch,\n",
        "      validation_data=(X_val, y_val)\n",
        "    )\n",
        "    hist.append(history.history)\n",
        "    results.append(lenet_model.evaluate(test_X, test_y, batch_size=128))"
      ],
      "metadata": {
        "colab": {
          "base_uri": "https://localhost:8080/"
        },
        "id": "voEEu1SW9Eu-",
        "outputId": "53985cfb-a5b5-46ad-c68f-c9a201153069"
      },
      "execution_count": 8,
      "outputs": [
        {
          "output_type": "stream",
          "name": "stderr",
          "text": [
            "/usr/local/lib/python3.8/dist-packages/keras/optimizers/optimizer_v2/gradient_descent.py:108: UserWarning: The `lr` argument is deprecated, use `learning_rate` instead.\n",
            "  super(SGD, self).__init__(name, **kwargs)\n",
            "/usr/local/lib/python3.8/dist-packages/keras/optimizers/optimizer_v2/adam.py:110: UserWarning: The `lr` argument is deprecated, use `learning_rate` instead.\n",
            "  super(Adam, self).__init__(name, **kwargs)\n"
          ]
        },
        {
          "output_type": "stream",
          "name": "stdout",
          "text": [
            "Epoch 1/10\n",
            "750/750 [==============================] - 14s 6ms/step - loss: 0.7507 - accuracy: 0.7608 - val_loss: 0.5284 - val_accuracy: 0.8076\n",
            "Epoch 2/10\n",
            "750/750 [==============================] - 3s 4ms/step - loss: 0.4464 - accuracy: 0.8373 - val_loss: 0.4273 - val_accuracy: 0.8441\n",
            "Epoch 3/10\n",
            "750/750 [==============================] - 3s 4ms/step - loss: 0.3852 - accuracy: 0.8594 - val_loss: 0.3907 - val_accuracy: 0.8548\n",
            "Epoch 4/10\n",
            "750/750 [==============================] - 3s 4ms/step - loss: 0.3492 - accuracy: 0.8720 - val_loss: 0.3711 - val_accuracy: 0.8637\n",
            "Epoch 5/10\n",
            "750/750 [==============================] - 3s 4ms/step - loss: 0.3243 - accuracy: 0.8802 - val_loss: 0.3666 - val_accuracy: 0.8669\n",
            "Epoch 6/10\n",
            "750/750 [==============================] - 3s 4ms/step - loss: 0.3028 - accuracy: 0.8877 - val_loss: 0.3613 - val_accuracy: 0.8687\n",
            "Epoch 7/10\n",
            "750/750 [==============================] - 3s 4ms/step - loss: 0.2856 - accuracy: 0.8947 - val_loss: 0.3456 - val_accuracy: 0.8759\n",
            "Epoch 8/10\n",
            "750/750 [==============================] - 3s 4ms/step - loss: 0.2702 - accuracy: 0.8993 - val_loss: 0.3411 - val_accuracy: 0.8783\n",
            "Epoch 9/10\n",
            "750/750 [==============================] - 3s 4ms/step - loss: 0.2549 - accuracy: 0.9052 - val_loss: 0.3534 - val_accuracy: 0.8763\n",
            "Epoch 10/10\n",
            "750/750 [==============================] - 3s 4ms/step - loss: 0.2419 - accuracy: 0.9086 - val_loss: 0.3602 - val_accuracy: 0.8742\n",
            "79/79 [==============================] - 0s 4ms/step - loss: 0.3995 - accuracy: 0.8663\n",
            "Epoch 1/20\n",
            "750/750 [==============================] - 4s 4ms/step - loss: 0.2313 - accuracy: 0.9134 - val_loss: 0.3512 - val_accuracy: 0.8819\n",
            "Epoch 2/20\n",
            "750/750 [==============================] - 3s 4ms/step - loss: 0.2208 - accuracy: 0.9173 - val_loss: 0.3717 - val_accuracy: 0.8768\n",
            "Epoch 3/20\n",
            "750/750 [==============================] - 3s 4ms/step - loss: 0.2094 - accuracy: 0.9213 - val_loss: 0.3973 - val_accuracy: 0.8709\n",
            "Epoch 4/20\n",
            "750/750 [==============================] - 3s 4ms/step - loss: 0.1987 - accuracy: 0.9231 - val_loss: 0.3692 - val_accuracy: 0.8775\n",
            "Epoch 5/20\n",
            "750/750 [==============================] - 3s 4ms/step - loss: 0.1908 - accuracy: 0.9289 - val_loss: 0.3905 - val_accuracy: 0.8762\n",
            "Epoch 6/20\n",
            "750/750 [==============================] - 3s 4ms/step - loss: 0.1784 - accuracy: 0.9331 - val_loss: 0.4105 - val_accuracy: 0.8779\n",
            "Epoch 7/20\n",
            "750/750 [==============================] - 3s 4ms/step - loss: 0.1758 - accuracy: 0.9334 - val_loss: 0.4276 - val_accuracy: 0.8667\n",
            "Epoch 8/20\n",
            "750/750 [==============================] - 3s 4ms/step - loss: 0.1661 - accuracy: 0.9366 - val_loss: 0.3944 - val_accuracy: 0.8804\n",
            "Epoch 9/20\n",
            "750/750 [==============================] - 3s 4ms/step - loss: 0.1596 - accuracy: 0.9396 - val_loss: 0.4239 - val_accuracy: 0.8735\n",
            "Epoch 10/20\n",
            "750/750 [==============================] - 3s 4ms/step - loss: 0.1516 - accuracy: 0.9428 - val_loss: 0.4375 - val_accuracy: 0.8708\n",
            "Epoch 11/20\n",
            "750/750 [==============================] - 3s 4ms/step - loss: 0.1424 - accuracy: 0.9463 - val_loss: 0.4185 - val_accuracy: 0.8789\n",
            "Epoch 12/20\n",
            "750/750 [==============================] - 3s 4ms/step - loss: 0.1422 - accuracy: 0.9457 - val_loss: 0.4365 - val_accuracy: 0.8776\n",
            "Epoch 13/20\n",
            "750/750 [==============================] - 3s 4ms/step - loss: 0.1344 - accuracy: 0.9490 - val_loss: 0.4726 - val_accuracy: 0.8758\n",
            "Epoch 14/20\n",
            "750/750 [==============================] - 3s 4ms/step - loss: 0.1253 - accuracy: 0.9528 - val_loss: 0.4968 - val_accuracy: 0.8687\n",
            "Epoch 15/20\n",
            "750/750 [==============================] - 3s 4ms/step - loss: 0.1200 - accuracy: 0.9536 - val_loss: 0.4982 - val_accuracy: 0.8762\n",
            "Epoch 16/20\n",
            "750/750 [==============================] - 3s 4ms/step - loss: 0.1175 - accuracy: 0.9551 - val_loss: 0.5464 - val_accuracy: 0.8680\n",
            "Epoch 17/20\n",
            "750/750 [==============================] - 3s 4ms/step - loss: 0.1121 - accuracy: 0.9584 - val_loss: 0.5051 - val_accuracy: 0.8737\n",
            "Epoch 18/20\n",
            "750/750 [==============================] - 3s 4ms/step - loss: 0.1079 - accuracy: 0.9586 - val_loss: 0.4882 - val_accuracy: 0.8808\n",
            "Epoch 19/20\n",
            "750/750 [==============================] - 3s 4ms/step - loss: 0.0999 - accuracy: 0.9615 - val_loss: 0.5385 - val_accuracy: 0.8741\n",
            "Epoch 20/20\n",
            "750/750 [==============================] - 3s 4ms/step - loss: 0.0998 - accuracy: 0.9624 - val_loss: 0.5502 - val_accuracy: 0.8640\n",
            "79/79 [==============================] - 0s 3ms/step - loss: 0.6129 - accuracy: 0.8536\n",
            "Epoch 1/30\n",
            "750/750 [==============================] - 3s 4ms/step - loss: 0.0959 - accuracy: 0.9628 - val_loss: 0.5547 - val_accuracy: 0.8794\n",
            "Epoch 2/30\n",
            "750/750 [==============================] - 3s 4ms/step - loss: 0.0907 - accuracy: 0.9659 - val_loss: 0.5815 - val_accuracy: 0.8735\n",
            "Epoch 3/30\n",
            "750/750 [==============================] - 3s 4ms/step - loss: 0.0867 - accuracy: 0.9683 - val_loss: 0.5638 - val_accuracy: 0.8776\n",
            "Epoch 4/30\n",
            "750/750 [==============================] - 3s 4ms/step - loss: 0.0808 - accuracy: 0.9694 - val_loss: 0.5713 - val_accuracy: 0.8727\n",
            "Epoch 5/30\n",
            "750/750 [==============================] - 3s 4ms/step - loss: 0.0811 - accuracy: 0.9692 - val_loss: 0.6081 - val_accuracy: 0.8760\n",
            "Epoch 6/30\n",
            "750/750 [==============================] - 3s 4ms/step - loss: 0.0813 - accuracy: 0.9694 - val_loss: 0.6149 - val_accuracy: 0.8758\n",
            "Epoch 7/30\n",
            "750/750 [==============================] - 3s 4ms/step - loss: 0.0737 - accuracy: 0.9719 - val_loss: 0.6460 - val_accuracy: 0.8751\n",
            "Epoch 8/30\n",
            "750/750 [==============================] - 3s 4ms/step - loss: 0.0744 - accuracy: 0.9722 - val_loss: 0.6674 - val_accuracy: 0.8777\n",
            "Epoch 9/30\n",
            "750/750 [==============================] - 3s 4ms/step - loss: 0.0668 - accuracy: 0.9750 - val_loss: 0.6677 - val_accuracy: 0.8687\n",
            "Epoch 10/30\n",
            "750/750 [==============================] - 3s 4ms/step - loss: 0.0664 - accuracy: 0.9751 - val_loss: 0.6378 - val_accuracy: 0.8771\n",
            "Epoch 11/30\n",
            "750/750 [==============================] - 3s 4ms/step - loss: 0.0718 - accuracy: 0.9732 - val_loss: 0.7269 - val_accuracy: 0.8676\n",
            "Epoch 12/30\n",
            "750/750 [==============================] - 3s 4ms/step - loss: 0.0678 - accuracy: 0.9749 - val_loss: 0.7373 - val_accuracy: 0.8645\n",
            "Epoch 13/30\n",
            "750/750 [==============================] - 4s 5ms/step - loss: 0.0594 - accuracy: 0.9779 - val_loss: 0.8182 - val_accuracy: 0.8687\n",
            "Epoch 14/30\n",
            "750/750 [==============================] - 3s 4ms/step - loss: 0.0608 - accuracy: 0.9774 - val_loss: 0.7523 - val_accuracy: 0.8706\n",
            "Epoch 15/30\n",
            "750/750 [==============================] - 3s 4ms/step - loss: 0.0658 - accuracy: 0.9762 - val_loss: 0.7598 - val_accuracy: 0.8726\n",
            "Epoch 16/30\n",
            "750/750 [==============================] - 3s 4ms/step - loss: 0.0576 - accuracy: 0.9794 - val_loss: 0.7417 - val_accuracy: 0.8731\n",
            "Epoch 17/30\n",
            "750/750 [==============================] - 3s 4ms/step - loss: 0.0502 - accuracy: 0.9820 - val_loss: 0.7870 - val_accuracy: 0.8718\n",
            "Epoch 18/30\n",
            "750/750 [==============================] - 3s 4ms/step - loss: 0.0451 - accuracy: 0.9839 - val_loss: 0.7888 - val_accuracy: 0.8738\n",
            "Epoch 19/30\n",
            "750/750 [==============================] - 3s 4ms/step - loss: 0.0566 - accuracy: 0.9794 - val_loss: 0.7605 - val_accuracy: 0.8699\n",
            "Epoch 20/30\n",
            "750/750 [==============================] - 3s 4ms/step - loss: 0.0479 - accuracy: 0.9830 - val_loss: 0.7874 - val_accuracy: 0.8722\n",
            "Epoch 21/30\n",
            "750/750 [==============================] - 3s 4ms/step - loss: 0.0556 - accuracy: 0.9808 - val_loss: 0.7684 - val_accuracy: 0.8730\n",
            "Epoch 22/30\n",
            "750/750 [==============================] - 3s 4ms/step - loss: 0.0514 - accuracy: 0.9816 - val_loss: 0.8052 - val_accuracy: 0.8661\n",
            "Epoch 23/30\n",
            "750/750 [==============================] - 3s 4ms/step - loss: 0.0435 - accuracy: 0.9848 - val_loss: 0.9006 - val_accuracy: 0.8650\n",
            "Epoch 24/30\n",
            "750/750 [==============================] - 3s 4ms/step - loss: 0.0445 - accuracy: 0.9839 - val_loss: 0.8328 - val_accuracy: 0.8769\n",
            "Epoch 25/30\n",
            "750/750 [==============================] - 3s 4ms/step - loss: 0.0409 - accuracy: 0.9857 - val_loss: 0.8445 - val_accuracy: 0.8750\n",
            "Epoch 26/30\n",
            "750/750 [==============================] - 3s 4ms/step - loss: 0.0410 - accuracy: 0.9858 - val_loss: 0.9220 - val_accuracy: 0.8727\n",
            "Epoch 27/30\n",
            "750/750 [==============================] - 3s 4ms/step - loss: 0.0483 - accuracy: 0.9831 - val_loss: 0.8698 - val_accuracy: 0.8724\n",
            "Epoch 28/30\n",
            "750/750 [==============================] - 3s 4ms/step - loss: 0.0357 - accuracy: 0.9878 - val_loss: 0.8668 - val_accuracy: 0.8748\n",
            "Epoch 29/30\n",
            "750/750 [==============================] - 3s 4ms/step - loss: 0.0397 - accuracy: 0.9866 - val_loss: 0.8381 - val_accuracy: 0.8747\n",
            "Epoch 30/30\n",
            "750/750 [==============================] - 3s 4ms/step - loss: 0.0512 - accuracy: 0.9820 - val_loss: 0.8612 - val_accuracy: 0.8719\n",
            "79/79 [==============================] - 0s 3ms/step - loss: 0.9570 - accuracy: 0.8595\n",
            "Epoch 1/10\n",
            "750/750 [==============================] - 4s 4ms/step - loss: 0.2444 - accuracy: 0.9224 - val_loss: 0.5367 - val_accuracy: 0.8611\n",
            "Epoch 2/10\n",
            "750/750 [==============================] - 3s 4ms/step - loss: 0.1940 - accuracy: 0.9310 - val_loss: 0.4789 - val_accuracy: 0.8677\n",
            "Epoch 3/10\n",
            "750/750 [==============================] - 3s 4ms/step - loss: 0.1755 - accuracy: 0.9349 - val_loss: 0.5021 - val_accuracy: 0.8649\n",
            "Epoch 4/10\n",
            "750/750 [==============================] - 3s 4ms/step - loss: 0.1622 - accuracy: 0.9404 - val_loss: 0.4977 - val_accuracy: 0.8651\n",
            "Epoch 5/10\n",
            "750/750 [==============================] - 3s 4ms/step - loss: 0.1604 - accuracy: 0.9392 - val_loss: 0.5019 - val_accuracy: 0.8737\n",
            "Epoch 6/10\n",
            "750/750 [==============================] - 3s 4ms/step - loss: 0.1480 - accuracy: 0.9439 - val_loss: 0.5165 - val_accuracy: 0.8637\n",
            "Epoch 7/10\n",
            "750/750 [==============================] - 3s 4ms/step - loss: 0.1490 - accuracy: 0.9447 - val_loss: 0.5176 - val_accuracy: 0.8598\n",
            "Epoch 8/10\n",
            "750/750 [==============================] - 3s 4ms/step - loss: 0.1384 - accuracy: 0.9487 - val_loss: 0.5115 - val_accuracy: 0.8658\n",
            "Epoch 9/10\n",
            "750/750 [==============================] - 3s 4ms/step - loss: 0.1272 - accuracy: 0.9527 - val_loss: 0.5560 - val_accuracy: 0.8643\n",
            "Epoch 10/10\n",
            "750/750 [==============================] - 3s 4ms/step - loss: 0.1291 - accuracy: 0.9512 - val_loss: 0.4958 - val_accuracy: 0.8748\n",
            "79/79 [==============================] - 0s 3ms/step - loss: 0.5789 - accuracy: 0.8618\n",
            "Epoch 1/20\n",
            "750/750 [==============================] - 4s 5ms/step - loss: 0.1204 - accuracy: 0.9555 - val_loss: 0.5537 - val_accuracy: 0.8772\n",
            "Epoch 2/20\n",
            "750/750 [==============================] - 3s 4ms/step - loss: 0.1063 - accuracy: 0.9612 - val_loss: 0.5417 - val_accuracy: 0.8723\n",
            "Epoch 3/20\n",
            "750/750 [==============================] - 3s 4ms/step - loss: 0.1059 - accuracy: 0.9607 - val_loss: 0.5532 - val_accuracy: 0.8698\n",
            "Epoch 4/20\n",
            "750/750 [==============================] - 3s 4ms/step - loss: 0.1000 - accuracy: 0.9635 - val_loss: 0.5976 - val_accuracy: 0.8659\n",
            "Epoch 5/20\n",
            "750/750 [==============================] - 3s 4ms/step - loss: 0.0913 - accuracy: 0.9665 - val_loss: 0.6239 - val_accuracy: 0.8677\n",
            "Epoch 6/20\n",
            "750/750 [==============================] - 3s 4ms/step - loss: 0.0952 - accuracy: 0.9654 - val_loss: 0.6032 - val_accuracy: 0.8758\n",
            "Epoch 7/20\n",
            "750/750 [==============================] - 3s 4ms/step - loss: 0.0880 - accuracy: 0.9685 - val_loss: 0.6093 - val_accuracy: 0.8694\n",
            "Epoch 8/20\n",
            "750/750 [==============================] - 3s 4ms/step - loss: 0.0769 - accuracy: 0.9718 - val_loss: 0.6096 - val_accuracy: 0.8718\n",
            "Epoch 9/20\n",
            "750/750 [==============================] - 3s 4ms/step - loss: 0.0780 - accuracy: 0.9714 - val_loss: 0.6329 - val_accuracy: 0.8708\n",
            "Epoch 10/20\n",
            "750/750 [==============================] - 3s 4ms/step - loss: 0.0749 - accuracy: 0.9731 - val_loss: 0.6697 - val_accuracy: 0.8718\n",
            "Epoch 11/20\n",
            "750/750 [==============================] - 3s 4ms/step - loss: 0.0801 - accuracy: 0.9724 - val_loss: 0.6508 - val_accuracy: 0.8715\n",
            "Epoch 12/20\n",
            "750/750 [==============================] - 3s 4ms/step - loss: 0.0663 - accuracy: 0.9765 - val_loss: 0.6893 - val_accuracy: 0.8713\n",
            "Epoch 13/20\n",
            "750/750 [==============================] - 3s 4ms/step - loss: 0.0698 - accuracy: 0.9750 - val_loss: 0.6842 - val_accuracy: 0.8682\n",
            "Epoch 14/20\n",
            "750/750 [==============================] - 3s 4ms/step - loss: 0.0693 - accuracy: 0.9750 - val_loss: 0.7031 - val_accuracy: 0.8664\n",
            "Epoch 15/20\n",
            "750/750 [==============================] - 3s 4ms/step - loss: 0.0620 - accuracy: 0.9779 - val_loss: 0.7260 - val_accuracy: 0.8662\n",
            "Epoch 16/20\n",
            "750/750 [==============================] - 3s 4ms/step - loss: 0.0611 - accuracy: 0.9789 - val_loss: 0.7498 - val_accuracy: 0.8692\n",
            "Epoch 17/20\n",
            "750/750 [==============================] - 3s 4ms/step - loss: 0.0592 - accuracy: 0.9789 - val_loss: 0.7566 - val_accuracy: 0.8759\n",
            "Epoch 18/20\n",
            "750/750 [==============================] - 3s 4ms/step - loss: 0.0538 - accuracy: 0.9816 - val_loss: 0.8163 - val_accuracy: 0.8692\n",
            "Epoch 19/20\n",
            "750/750 [==============================] - 3s 4ms/step - loss: 0.0606 - accuracy: 0.9787 - val_loss: 0.7678 - val_accuracy: 0.8678\n",
            "Epoch 20/20\n",
            "750/750 [==============================] - 3s 4ms/step - loss: 0.0623 - accuracy: 0.9779 - val_loss: 0.7795 - val_accuracy: 0.8686\n",
            "79/79 [==============================] - 0s 3ms/step - loss: 0.8595 - accuracy: 0.8608\n",
            "Epoch 1/30\n",
            "750/750 [==============================] - 4s 5ms/step - loss: 0.0514 - accuracy: 0.9820 - val_loss: 0.7937 - val_accuracy: 0.8709\n",
            "Epoch 2/30\n",
            "750/750 [==============================] - 3s 4ms/step - loss: 0.0484 - accuracy: 0.9830 - val_loss: 0.8545 - val_accuracy: 0.8686\n",
            "Epoch 3/30\n",
            "750/750 [==============================] - 3s 4ms/step - loss: 0.0570 - accuracy: 0.9807 - val_loss: 0.7973 - val_accuracy: 0.8728\n",
            "Epoch 4/30\n",
            "750/750 [==============================] - 3s 5ms/step - loss: 0.0485 - accuracy: 0.9833 - val_loss: 0.8298 - val_accuracy: 0.8727\n",
            "Epoch 5/30\n",
            "750/750 [==============================] - 3s 4ms/step - loss: 0.0483 - accuracy: 0.9836 - val_loss: 0.8019 - val_accuracy: 0.8702\n",
            "Epoch 6/30\n",
            "750/750 [==============================] - 3s 4ms/step - loss: 0.0434 - accuracy: 0.9856 - val_loss: 0.9128 - val_accuracy: 0.8700\n",
            "Epoch 7/30\n",
            "750/750 [==============================] - 3s 4ms/step - loss: 0.0571 - accuracy: 0.9812 - val_loss: 0.8592 - val_accuracy: 0.8670\n",
            "Epoch 8/30\n",
            "750/750 [==============================] - 3s 4ms/step - loss: 0.0400 - accuracy: 0.9870 - val_loss: 0.8547 - val_accuracy: 0.8716\n",
            "Epoch 9/30\n",
            "750/750 [==============================] - 3s 4ms/step - loss: 0.0433 - accuracy: 0.9858 - val_loss: 1.0139 - val_accuracy: 0.8630\n",
            "Epoch 10/30\n",
            "750/750 [==============================] - 3s 4ms/step - loss: 0.0499 - accuracy: 0.9831 - val_loss: 0.8298 - val_accuracy: 0.8708\n",
            "Epoch 11/30\n",
            "750/750 [==============================] - 3s 4ms/step - loss: 0.0437 - accuracy: 0.9854 - val_loss: 0.9022 - val_accuracy: 0.8706\n",
            "Epoch 12/30\n",
            "750/750 [==============================] - 3s 4ms/step - loss: 0.0430 - accuracy: 0.9851 - val_loss: 0.9425 - val_accuracy: 0.8668\n",
            "Epoch 13/30\n",
            "750/750 [==============================] - 3s 4ms/step - loss: 0.0361 - accuracy: 0.9881 - val_loss: 0.9608 - val_accuracy: 0.8693\n",
            "Epoch 14/30\n",
            "750/750 [==============================] - 3s 4ms/step - loss: 0.0454 - accuracy: 0.9848 - val_loss: 0.9448 - val_accuracy: 0.8687\n",
            "Epoch 15/30\n",
            "750/750 [==============================] - 3s 4ms/step - loss: 0.0446 - accuracy: 0.9859 - val_loss: 0.9527 - val_accuracy: 0.8693\n",
            "Epoch 16/30\n",
            "750/750 [==============================] - 3s 4ms/step - loss: 0.0399 - accuracy: 0.9870 - val_loss: 0.9487 - val_accuracy: 0.8722\n",
            "Epoch 17/30\n",
            "750/750 [==============================] - 3s 4ms/step - loss: 0.0399 - accuracy: 0.9870 - val_loss: 0.9741 - val_accuracy: 0.8677\n",
            "Epoch 18/30\n",
            "750/750 [==============================] - 3s 4ms/step - loss: 0.0360 - accuracy: 0.9876 - val_loss: 1.0319 - val_accuracy: 0.8677\n",
            "Epoch 19/30\n",
            "750/750 [==============================] - 3s 4ms/step - loss: 0.0378 - accuracy: 0.9876 - val_loss: 1.0189 - val_accuracy: 0.8718\n",
            "Epoch 20/30\n",
            "750/750 [==============================] - 3s 4ms/step - loss: 0.0410 - accuracy: 0.9866 - val_loss: 1.0338 - val_accuracy: 0.8724\n",
            "Epoch 21/30\n",
            "750/750 [==============================] - 3s 4ms/step - loss: 0.0397 - accuracy: 0.9873 - val_loss: 0.9949 - val_accuracy: 0.8772\n",
            "Epoch 22/30\n",
            "750/750 [==============================] - 3s 4ms/step - loss: 0.0291 - accuracy: 0.9905 - val_loss: 1.0547 - val_accuracy: 0.8713\n",
            "Epoch 23/30\n",
            "750/750 [==============================] - 3s 4ms/step - loss: 0.0390 - accuracy: 0.9874 - val_loss: 1.0279 - val_accuracy: 0.8672\n",
            "Epoch 24/30\n",
            "750/750 [==============================] - 3s 4ms/step - loss: 0.0425 - accuracy: 0.9860 - val_loss: 0.9052 - val_accuracy: 0.8705\n",
            "Epoch 25/30\n",
            "750/750 [==============================] - 3s 4ms/step - loss: 0.0309 - accuracy: 0.9902 - val_loss: 1.0396 - val_accuracy: 0.8719\n",
            "Epoch 26/30\n",
            "750/750 [==============================] - 3s 4ms/step - loss: 0.0361 - accuracy: 0.9887 - val_loss: 0.9567 - val_accuracy: 0.8692\n",
            "Epoch 27/30\n",
            "750/750 [==============================] - 3s 4ms/step - loss: 0.0416 - accuracy: 0.9864 - val_loss: 0.9809 - val_accuracy: 0.8720\n",
            "Epoch 28/30\n",
            "750/750 [==============================] - 3s 4ms/step - loss: 0.0268 - accuracy: 0.9906 - val_loss: 1.0961 - val_accuracy: 0.8668\n",
            "Epoch 29/30\n",
            "750/750 [==============================] - 3s 4ms/step - loss: 0.0411 - accuracy: 0.9880 - val_loss: 0.9627 - val_accuracy: 0.8732\n",
            "Epoch 30/30\n",
            "750/750 [==============================] - 3s 4ms/step - loss: 0.0287 - accuracy: 0.9908 - val_loss: 1.0156 - val_accuracy: 0.8747\n",
            "79/79 [==============================] - 0s 3ms/step - loss: 1.1833 - accuracy: 0.8600\n"
          ]
        }
      ]
    },
    {
      "cell_type": "code",
      "source": [
        "fig, axs = plt.subplots(2, 3)\n",
        "epoch1=range(1,11)\n",
        "epoch2 = range(1,21)\n",
        "epoch3 = range(1,31)\n",
        "\n",
        "\n",
        "axs[0, 0].set_title('SGD,epoch:10')\n",
        "axs[0, 0].plot(epoch1,hist[0]['loss'],color=\"green\",label=\"Training Loss\")\n",
        "axs[0, 0].plot(epoch1,hist[0]['val_loss'],color=\"blue\",label = \"Validation Loss\")\n",
        "\n",
        "axs[0, 1].set_title('SGD,epoch:20')\n",
        "axs[0, 1].plot(epoch2,hist[1]['loss'],color=\"green\")\n",
        "axs[0, 1].plot(epoch2,hist[1]['val_loss'],color=\"blue\")\n",
        "\n",
        "axs[0, 2].set_title('SGD,epoch:30')\n",
        "axs[0, 2].plot(epoch3,hist[2]['loss'],color=\"green\")\n",
        "axs[0, 2].plot(epoch3,hist[2]['val_loss'],color=\"blue\")\n",
        "\n",
        "axs[1, 0].set_title('Adam,epoch:10')\n",
        "axs[1, 0].plot(epoch1,hist[3]['loss'],color=\"green\")\n",
        "axs[1, 0].plot(epoch1,hist[3]['val_loss'],color=\"blue\")\n",
        "\n",
        "axs[1, 1].set_title('Adam,epoch:20')\n",
        "axs[1, 1].plot(epoch2,hist[4]['loss'],color=\"green\")\n",
        "axs[1, 1].plot(epoch2,hist[4]['val_loss'],color=\"blue\")\n",
        "\n",
        "\n",
        "axs[1, 2].set_title('Adam,epoch:30')\n",
        "axs[1, 2].plot(epoch3,hist[5]['loss'],color=\"green\")\n",
        "axs[1, 2].plot(epoch3,hist[5]['val_loss'],color=\"blue\")\n",
        "  \n",
        "\n",
        "for ax in axs.flat:\n",
        "    ax.set(xlabel='epoch', ylabel='Loss')\n",
        "\n",
        "fig.legend(bbox_to_anchor=(1.04, 1), borderaxespad=0)\n",
        "\n",
        "\n",
        "# Hide x labels and tick labels for top plots and y ticks for right plots.\n",
        "for ax in axs.flat:\n",
        "    ax.label_outer()"
      ],
      "metadata": {
        "colab": {
          "base_uri": "https://localhost:8080/",
          "height": 314
        },
        "id": "ccMsSNwp9Pdt",
        "outputId": "07bf38f9-422b-4716-e9ac-c3fe23c8336a"
      },
      "execution_count": 9,
      "outputs": [
        {
          "output_type": "display_data",
          "data": {
            "text/plain": [
              "<Figure size 432x288 with 6 Axes>"
            ],
            "image/png": "[encoded data removed]"
          },
          "metadata": {
            "needs_background": "light"
          }
        }
      ]
    },
    {
      "cell_type": "code",
      "source": [
        "fig, axs = plt.subplots(2, 3)\n",
        "epoch1=range(1,11)\n",
        "epoch2 = range(1,21)\n",
        "epoch3 = range(1,31)\n",
        "\n",
        "axs[0, 0].set_title('SGD,epoch:10')\n",
        "axs[0, 0].plot(epoch1,hist[0]['accuracy'],color=\"green\",label=\"Training Accu\")\n",
        "axs[0, 0].plot(epoch1,hist[0]['val_accuracy'],color=\"blue\",label = \"Validation Accu\")\n",
        "\n",
        "axs[0, 1].set_title('SGD,epoch:20' )\n",
        "axs[0, 1].plot(epoch2,hist[1]['accuracy'],color=\"green\")\n",
        "axs[0, 1].plot(epoch2,hist[1]['val_accuracy'],color=\"blue\")\n",
        "\n",
        "axs[0, 2].set_title('SGD,epoch:30')\n",
        "axs[0, 2].plot(epoch3,hist[2]['accuracy'],color=\"green\")\n",
        "axs[0, 2].plot(epoch3,hist[2]['val_accuracy'],color=\"blue\")\n",
        "\n",
        "\n",
        "\n",
        "axs[1, 0].set_title('Adam,epoch:10')\n",
        "axs[1, 0].plot(epoch1,hist[3]['accuracy'],color=\"green\")\n",
        "axs[1, 0].plot(epoch1,hist[3]['val_accuracy'],color=\"blue\")\n",
        "\n",
        "axs[1, 1].set_title('Adam,epoch:20')\n",
        "axs[1, 1].plot(epoch2,hist[4]['accuracy'],color=\"green\")\n",
        "axs[1, 1].plot(epoch2,hist[4]['val_accuracy'],color=\"blue\")\n",
        "\n",
        "\n",
        "axs[1, 2].set_title('Adam,epoch:30')\n",
        "axs[1, 2].plot(epoch3,hist[5]['accuracy'],color=\"green\")\n",
        "axs[1, 2].plot(epoch3,hist[5]['val_accuracy'],color=\"blue\")\n",
        "\n",
        "\n",
        "for ax in axs.flat:\n",
        "    ax.set(xlabel='epoch', ylabel='Accuracy')\n",
        "    \n",
        "fig.legend(bbox_to_anchor=(1.04, 1), borderaxespad=0)\n",
        "\n",
        "\n",
        "# Hide x labels and tick labels for top plots and y ticks for right plots.\n",
        "for ax in axs.flat:\n",
        "    ax.label_outer()"
      ],
      "metadata": {
        "colab": {
          "base_uri": "https://localhost:8080/",
          "height": 314
        },
        "id": "IVYx7VLQ9QOK",
        "outputId": "075de7c6-1085-48d1-f8ac-d96e571ed968"
      },
      "execution_count": 10,
      "outputs": [
        {
          "output_type": "display_data",
          "data": {
            "text/plain": [
              "<Figure size 432x288 with 6 Axes>"
            ],
            "image/png": "[encoded data removed]"
          },
          "metadata": {
            "needs_background": "light"
          }
        }
      ]
    },
    {
      "cell_type": "code",
      "source": [
        "results"
      ],
      "metadata": {
        "colab": {
          "base_uri": "https://localhost:8080/"
        },
        "id": "EZJCKi7aBJoc",
        "outputId": "cea8b411-887c-462a-8100-200e08f86c71"
      },
      "execution_count": 11,
      "outputs": [
        {
          "output_type": "execute_result",
          "data": {
            "text/plain": [
              "[[0.3994680643081665, 0.8662999868392944],\n",
              " [0.6128657460212708, 0.853600025177002],\n",
              " [0.9569655060768127, 0.859499990940094],\n",
              " [0.578855037689209, 0.8618000149726868],\n",
              " [0.8595134019851685, 0.86080002784729],\n",
              " [1.1832749843597412, 0.8600000143051147]]"
            ]
          },
          "metadata": {},
          "execution_count": 11
        }
      ]
    }
  ]
}