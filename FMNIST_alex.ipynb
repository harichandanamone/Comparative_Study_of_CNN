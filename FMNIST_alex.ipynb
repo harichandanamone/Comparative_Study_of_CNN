{
  "cells": [
    {
      "cell_type": "code",
      "execution_count": 7,
      "metadata": {
        "id": "xuu0A2zDJXPG"
      },
      "outputs": [],
      "source": [
        "import tensorflow as tf\n",
        "from tensorflow import keras\n",
        "from sklearn.manifold import TSNE\n",
        "from tensorflow.keras.datasets import mnist\n",
        "from matplotlib import pyplot as plt\n",
        "import numpy as np\n",
        "import pandas as pd\n",
        "import seaborn as sns\n",
        "import os\n",
        "from tensorflow.keras.optimizers import Adam\n",
        "from tensorflow.keras.models import Sequential\n",
        "from tensorflow.keras.layers import Conv2D,MaxPool2D\n",
        "from tensorflow.keras.layers import Dense, Activation, Flatten"
      ]
    },
    {
      "cell_type": "code",
      "execution_count": 8,
      "metadata": {
        "id": "BgkzQoUVJRuR"
      },
      "outputs": [],
      "source": [
        "from keras.datasets import fashion_mnist\n",
        "(train_X, train_y), (test_X, test_y) = fashion_mnist.load_data()\n"
      ]
    },
    {
      "cell_type": "code",
      "execution_count": 9,
      "metadata": {
        "colab": {
          "base_uri": "https://localhost:8080/",
          "height": 507
        },
        "id": "V9FmWKlkJnlM",
        "outputId": "fb9ea1a3-5baf-4bec-b372-d040ce95fa5d"
      },
      "outputs": [
        {
          "output_type": "display_data",
          "data": {
            "text/plain": [
              "<Figure size 432x288 with 1 Axes>"
            ],
            "image/png": "[encoded data removed]"
          },
          "metadata": {
            "needs_background": "light"
          }
        },
        {
          "output_type": "display_data",
          "data": {
            "text/plain": [
              "<Figure size 432x288 with 1 Axes>"
            ],
            "image/png": "[encoded data removed]"
          },
          "metadata": {
            "needs_background": "light"
          }
        },
        {
          "output_type": "display_data",
          "data": {
            "text/plain": [
              "<Figure size 432x288 with 1 Axes>"
            ],
            "image/png": "[encoded data removed]"
          },
          "metadata": {
            "needs_background": "light"
          }
        },
        {
          "output_type": "display_data",
          "data": {
            "text/plain": [
              "<Figure size 432x288 with 1 Axes>"
            ],
            "image/png": "[encoded data removed]"
          },
          "metadata": {
            "needs_background": "light"
          }
        },
        {
          "output_type": "display_data",
          "data": {
            "text/plain": [
              "<Figure size 432x288 with 1 Axes>"
            ],
            "image/png": "[encoded data removed]"
          },
          "metadata": {
            "needs_background": "light"
          }
        }
      ],
      "source": [
        "for i in range(5):  \n",
        "  plt.subplot(330 + 1 + i)\n",
        "  plt.imshow(train_X[i], cmap=plt.get_cmap('gray'))\n",
        "  plt.show()"
      ]
    },
    {
      "cell_type": "code",
      "execution_count": 10,
      "metadata": {
        "id": "TAhAJGgrJxFF"
      },
      "outputs": [],
      "source": [
        "alexnet = keras.models.Sequential([\n",
        "    keras.layers.Conv2D(filters=96, kernel_size=(11,11), strides=(4,4), activation='relu', input_shape=(28,28,1)),\n",
        "    keras.layers.MaxPool2D(pool_size=(3,3), strides=(2,2),padding='same'),\n",
        "    keras.layers.Conv2D(filters=256, kernel_size=(5,5), strides=(1,1), activation='relu', padding=\"same\"),\n",
        "    keras.layers.MaxPool2D(pool_size=(3,3), strides=(2,2),padding='same'),\n",
        "    keras.layers.Conv2D(filters=384, kernel_size=(3,3), strides=(1,1), activation='relu', padding=\"same\"),\n",
        "    keras.layers.Conv2D(filters=384, kernel_size=(3,3), strides=(1,1), activation='relu', padding=\"same\"),\n",
        "    keras.layers.Conv2D(filters=256, kernel_size=(3,3), strides=(1,1), activation='relu', padding=\"same\"),\n",
        "    keras.layers.MaxPool2D(pool_size=(3,3), strides=(2,2),padding='same'),\n",
        "    keras.layers.Flatten(),\n",
        "    keras.layers.Dense(4096, activation='relu'),\n",
        "    keras.layers.Dropout(0.5),\n",
        "    keras.layers.Dense(4096, activation='relu'),\n",
        "    keras.layers.Dropout(0.5),\n",
        "    keras.layers.Dense(10, activation='softmax')\n",
        "])"
      ]
    },
    {
      "cell_type": "code",
      "execution_count": 11,
      "metadata": {
        "colab": {
          "base_uri": "https://localhost:8080/"
        },
        "id": "dIr2LidQJyOP",
        "outputId": "4c6a2770-1745-41c7-faed-ace380bb5761"
      },
      "outputs": [
        {
          "output_type": "stream",
          "name": "stdout",
          "text": [
            "Model: \"sequential_1\"\n",
            "_________________________________________________________________\n",
            " Layer (type)                Output Shape              Param #   \n",
            "=================================================================\n",
            " conv2d_5 (Conv2D)           (None, 5, 5, 96)          11712     \n",
            "                                                                 \n",
            " max_pooling2d_3 (MaxPooling  (None, 3, 3, 96)         0         \n",
            " 2D)                                                             \n",
            "                                                                 \n",
            " conv2d_6 (Conv2D)           (None, 3, 3, 256)         614656    \n",
            "                                                                 \n",
            " max_pooling2d_4 (MaxPooling  (None, 2, 2, 256)        0         \n",
            " 2D)                                                             \n",
            "                                                                 \n",
            " conv2d_7 (Conv2D)           (None, 2, 2, 384)         885120    \n",
            "                                                                 \n",
            " conv2d_8 (Conv2D)           (None, 2, 2, 384)         1327488   \n",
            "                                                                 \n",
            " conv2d_9 (Conv2D)           (None, 2, 2, 256)         884992    \n",
            "                                                                 \n",
            " max_pooling2d_5 (MaxPooling  (None, 1, 1, 256)        0         \n",
            " 2D)                                                             \n",
            "                                                                 \n",
            " flatten_1 (Flatten)         (None, 256)               0         \n",
            "                                                                 \n",
            " dense_3 (Dense)             (None, 4096)              1052672   \n",
            "                                                                 \n",
            " dropout_2 (Dropout)         (None, 4096)              0         \n",
            "                                                                 \n",
            " dense_4 (Dense)             (None, 4096)              16781312  \n",
            "                                                                 \n",
            " dropout_3 (Dropout)         (None, 4096)              0         \n",
            "                                                                 \n",
            " dense_5 (Dense)             (None, 10)                40970     \n",
            "                                                                 \n",
            "=================================================================\n",
            "Total params: 21,598,922\n",
            "Trainable params: 21,598,922\n",
            "Non-trainable params: 0\n",
            "_________________________________________________________________\n"
          ]
        }
      ],
      "source": [
        "alexnet.summary()"
      ]
    },
    {
      "cell_type": "code",
      "execution_count": 12,
      "metadata": {
        "id": "EpBd4byMJ0qJ"
      },
      "outputs": [],
      "source": [
        "train_y = tf.keras.utils.to_categorical(train_y, num_classes=10)\n",
        "test_y = tf.keras.utils.to_categorical(test_y, num_classes=10)"
      ]
    },
    {
      "cell_type": "code",
      "execution_count": 13,
      "metadata": {
        "id": "HswEYe_OJ4Bb"
      },
      "outputs": [],
      "source": [
        "from sklearn.model_selection import train_test_split\n",
        "train_X, X_val, train_y, y_val = train_test_split(train_X, train_y, test_size=0.2, random_state=1)"
      ]
    },
    {
      "cell_type": "code",
      "execution_count": 14,
      "metadata": {
        "id": "-iXnw7LsJ-MB"
      },
      "outputs": [],
      "source": [
        "hist=[]\n",
        "results=[]"
      ]
    },
    {
      "cell_type": "code",
      "execution_count": 15,
      "metadata": {
        "colab": {
          "base_uri": "https://localhost:8080/"
        },
        "id": "H3RrkYnhJ6UZ",
        "outputId": "ae1a8da3-c98a-406b-eb9e-91de88e8124e"
      },
      "outputs": [
        {
          "output_type": "stream",
          "name": "stdout",
          "text": [
            "Epoch 1/5\n"
          ]
        },
        {
          "output_type": "stream",
          "name": "stderr",
          "text": [
            "/usr/local/lib/python3.8/dist-packages/keras/optimizers/optimizer_v2/gradient_descent.py:108: UserWarning: The `lr` argument is deprecated, use `learning_rate` instead.\n",
            "  super(SGD, self).__init__(name, **kwargs)\n",
            "/usr/local/lib/python3.8/dist-packages/keras/optimizers/optimizer_v2/adam.py:110: UserWarning: The `lr` argument is deprecated, use `learning_rate` instead.\n",
            "  super(Adam, self).__init__(name, **kwargs)\n"
          ]
        },
        {
          "output_type": "stream",
          "name": "stdout",
          "text": [
            "750/750 [==============================] - 19s 13ms/step - loss: 0.8322 - accuracy: 0.6938 - val_loss: 0.6157 - val_accuracy: 0.7952\n",
            "Epoch 2/5\n",
            "750/750 [==============================] - 10s 13ms/step - loss: 0.5377 - accuracy: 0.8092 - val_loss: 0.4820 - val_accuracy: 0.8298\n",
            "Epoch 3/5\n",
            "750/750 [==============================] - 10s 13ms/step - loss: 0.4727 - accuracy: 0.8322 - val_loss: 0.4845 - val_accuracy: 0.8305\n",
            "Epoch 4/5\n",
            "750/750 [==============================] - 10s 13ms/step - loss: 0.4360 - accuracy: 0.8434 - val_loss: 0.4393 - val_accuracy: 0.8413\n",
            "Epoch 5/5\n",
            "750/750 [==============================] - 10s 13ms/step - loss: 0.4025 - accuracy: 0.8533 - val_loss: 0.4082 - val_accuracy: 0.8533\n",
            "79/79 [==============================] - 1s 7ms/step - loss: 0.4347 - accuracy: 0.8451\n",
            "Epoch 1/10\n",
            "750/750 [==============================] - 11s 14ms/step - loss: 0.3808 - accuracy: 0.8626 - val_loss: 0.4048 - val_accuracy: 0.8569\n",
            "Epoch 2/10\n",
            "750/750 [==============================] - 10s 14ms/step - loss: 0.3676 - accuracy: 0.8650 - val_loss: 0.3835 - val_accuracy: 0.8597\n",
            "Epoch 3/10\n",
            "750/750 [==============================] - 10s 14ms/step - loss: 0.3479 - accuracy: 0.8719 - val_loss: 0.3653 - val_accuracy: 0.8677\n",
            "Epoch 4/10\n",
            "750/750 [==============================] - 10s 14ms/step - loss: 0.3360 - accuracy: 0.8749 - val_loss: 0.4122 - val_accuracy: 0.8581\n",
            "Epoch 5/10\n",
            "750/750 [==============================] - 10s 13ms/step - loss: 0.3227 - accuracy: 0.8794 - val_loss: 0.3644 - val_accuracy: 0.8690\n",
            "Epoch 6/10\n",
            "750/750 [==============================] - 10s 13ms/step - loss: 0.3187 - accuracy: 0.8801 - val_loss: 0.3829 - val_accuracy: 0.8625\n",
            "Epoch 7/10\n",
            "750/750 [==============================] - 10s 13ms/step - loss: 0.3050 - accuracy: 0.8862 - val_loss: 0.3659 - val_accuracy: 0.8666\n",
            "Epoch 8/10\n",
            "750/750 [==============================] - 10s 14ms/step - loss: 0.2962 - accuracy: 0.8901 - val_loss: 0.3904 - val_accuracy: 0.8661\n",
            "Epoch 9/10\n",
            "750/750 [==============================] - 10s 13ms/step - loss: 0.2863 - accuracy: 0.8932 - val_loss: 0.3598 - val_accuracy: 0.8755\n",
            "Epoch 10/10\n",
            "750/750 [==============================] - 9s 13ms/step - loss: 0.2782 - accuracy: 0.8942 - val_loss: 0.3660 - val_accuracy: 0.8752\n",
            "79/79 [==============================] - 0s 6ms/step - loss: 0.3927 - accuracy: 0.8702\n",
            "Epoch 1/15\n",
            "750/750 [==============================] - 10s 13ms/step - loss: 0.2688 - accuracy: 0.8987 - val_loss: 0.3833 - val_accuracy: 0.8640\n",
            "Epoch 2/15\n",
            "750/750 [==============================] - 10s 13ms/step - loss: 0.2555 - accuracy: 0.9028 - val_loss: 0.3679 - val_accuracy: 0.8756\n",
            "Epoch 3/15\n",
            "750/750 [==============================] - 10s 13ms/step - loss: 0.2482 - accuracy: 0.9080 - val_loss: 0.3748 - val_accuracy: 0.8701\n",
            "Epoch 4/15\n",
            "750/750 [==============================] - 10s 13ms/step - loss: 0.2498 - accuracy: 0.9053 - val_loss: 0.3740 - val_accuracy: 0.8758\n",
            "Epoch 5/15\n",
            "750/750 [==============================] - 9s 13ms/step - loss: 0.2397 - accuracy: 0.9095 - val_loss: 0.3962 - val_accuracy: 0.8701\n",
            "Epoch 6/15\n",
            "750/750 [==============================] - 9s 13ms/step - loss: 0.2319 - accuracy: 0.9126 - val_loss: 0.3751 - val_accuracy: 0.8692\n",
            "Epoch 7/15\n",
            "750/750 [==============================] - 9s 13ms/step - loss: 0.2219 - accuracy: 0.9166 - val_loss: 0.3917 - val_accuracy: 0.8698\n",
            "Epoch 8/15\n",
            "750/750 [==============================] - 10s 13ms/step - loss: 0.2195 - accuracy: 0.9162 - val_loss: 0.3779 - val_accuracy: 0.8774\n",
            "Epoch 9/15\n",
            "750/750 [==============================] - 10s 13ms/step - loss: 0.2145 - accuracy: 0.9197 - val_loss: 0.4020 - val_accuracy: 0.8778\n",
            "Epoch 10/15\n",
            "750/750 [==============================] - 9s 13ms/step - loss: 0.2143 - accuracy: 0.9193 - val_loss: 0.4139 - val_accuracy: 0.8733\n",
            "Epoch 11/15\n",
            "750/750 [==============================] - 9s 13ms/step - loss: 0.2111 - accuracy: 0.9212 - val_loss: 0.3908 - val_accuracy: 0.8744\n",
            "Epoch 12/15\n",
            "750/750 [==============================] - 10s 13ms/step - loss: 0.2012 - accuracy: 0.9253 - val_loss: 0.4058 - val_accuracy: 0.8658\n",
            "Epoch 13/15\n",
            "750/750 [==============================] - 10s 13ms/step - loss: 0.1964 - accuracy: 0.9268 - val_loss: 0.4163 - val_accuracy: 0.8713\n",
            "Epoch 14/15\n",
            "750/750 [==============================] - 10s 14ms/step - loss: 0.1863 - accuracy: 0.9296 - val_loss: 0.4525 - val_accuracy: 0.8722\n",
            "Epoch 15/15\n",
            "750/750 [==============================] - 10s 13ms/step - loss: 0.1850 - accuracy: 0.9295 - val_loss: 0.4084 - val_accuracy: 0.8733\n",
            "79/79 [==============================] - 1s 7ms/step - loss: 0.4379 - accuracy: 0.8689\n",
            "Epoch 1/5\n",
            "750/750 [==============================] - 11s 14ms/step - loss: 0.4550 - accuracy: 0.8760 - val_loss: 0.6696 - val_accuracy: 0.8508\n",
            "Epoch 2/5\n",
            "750/750 [==============================] - 11s 15ms/step - loss: 0.4303 - accuracy: 0.8776 - val_loss: 0.5636 - val_accuracy: 0.8463\n",
            "Epoch 3/5\n",
            "750/750 [==============================] - 11s 15ms/step - loss: 0.4077 - accuracy: 0.8758 - val_loss: 0.6302 - val_accuracy: 0.8655\n",
            "Epoch 4/5\n",
            "750/750 [==============================] - 10s 14ms/step - loss: 0.3688 - accuracy: 0.8856 - val_loss: 0.5474 - val_accuracy: 0.8648\n",
            "Epoch 5/5\n",
            "750/750 [==============================] - 11s 14ms/step - loss: 0.3253 - accuracy: 0.8937 - val_loss: 0.6043 - val_accuracy: 0.8645\n",
            "79/79 [==============================] - 1s 7ms/step - loss: 0.6905 - accuracy: 0.8563\n",
            "Epoch 1/10\n",
            "750/750 [==============================] - 11s 14ms/step - loss: 0.3842 - accuracy: 0.8835 - val_loss: 0.6065 - val_accuracy: 0.8477\n",
            "Epoch 2/10\n",
            "750/750 [==============================] - 10s 14ms/step - loss: 0.4191 - accuracy: 0.8751 - val_loss: 0.5022 - val_accuracy: 0.8627\n",
            "Epoch 3/10\n",
            "750/750 [==============================] - 11s 14ms/step - loss: 0.2945 - accuracy: 0.9020 - val_loss: 0.4469 - val_accuracy: 0.8677\n",
            "Epoch 4/10\n",
            "750/750 [==============================] - 10s 14ms/step - loss: 0.2853 - accuracy: 0.9048 - val_loss: 0.8072 - val_accuracy: 0.8611\n",
            "Epoch 5/10\n",
            "750/750 [==============================] - 10s 14ms/step - loss: 0.3187 - accuracy: 0.8986 - val_loss: 0.4514 - val_accuracy: 0.8673\n",
            "Epoch 6/10\n",
            "750/750 [==============================] - 11s 14ms/step - loss: 0.2941 - accuracy: 0.9035 - val_loss: 0.4763 - val_accuracy: 0.8721\n",
            "Epoch 7/10\n",
            "750/750 [==============================] - 11s 14ms/step - loss: 0.2691 - accuracy: 0.9093 - val_loss: 0.7281 - val_accuracy: 0.8655\n",
            "Epoch 8/10\n",
            "750/750 [==============================] - 11s 14ms/step - loss: 0.3615 - accuracy: 0.8895 - val_loss: 0.4723 - val_accuracy: 0.8569\n",
            "Epoch 9/10\n",
            "750/750 [==============================] - 10s 14ms/step - loss: 0.3064 - accuracy: 0.9016 - val_loss: 0.4911 - val_accuracy: 0.8527\n",
            "Epoch 10/10\n",
            "750/750 [==============================] - 10s 14ms/step - loss: 0.3029 - accuracy: 0.9045 - val_loss: 0.5088 - val_accuracy: 0.8733\n",
            "79/79 [==============================] - 0s 6ms/step - loss: 0.6027 - accuracy: 0.8685\n",
            "Epoch 1/15\n",
            "750/750 [==============================] - 11s 14ms/step - loss: 0.2765 - accuracy: 0.9087 - val_loss: 0.6249 - val_accuracy: 0.8672\n",
            "Epoch 2/15\n",
            "750/750 [==============================] - 11s 14ms/step - loss: 0.2727 - accuracy: 0.9124 - val_loss: 0.6384 - val_accuracy: 0.8705\n",
            "Epoch 3/15\n",
            "750/750 [==============================] - 11s 14ms/step - loss: 0.3037 - accuracy: 0.9041 - val_loss: 0.5044 - val_accuracy: 0.8573\n",
            "Epoch 4/15\n",
            "750/750 [==============================] - 11s 14ms/step - loss: 0.3002 - accuracy: 0.9051 - val_loss: 0.4869 - val_accuracy: 0.8586\n",
            "Epoch 5/15\n",
            "750/750 [==============================] - 11s 14ms/step - loss: 0.3198 - accuracy: 0.9031 - val_loss: 0.4391 - val_accuracy: 0.8654\n",
            "Epoch 6/15\n",
            "750/750 [==============================] - 11s 14ms/step - loss: 0.2814 - accuracy: 0.9120 - val_loss: 0.4973 - val_accuracy: 0.8767\n",
            "Epoch 7/15\n",
            "750/750 [==============================] - 10s 13ms/step - loss: 0.2516 - accuracy: 0.9192 - val_loss: 0.5223 - val_accuracy: 0.8793\n",
            "Epoch 8/15\n",
            "750/750 [==============================] - 11s 14ms/step - loss: 0.2775 - accuracy: 0.9150 - val_loss: 0.5270 - val_accuracy: 0.8564\n",
            "Epoch 9/15\n",
            "750/750 [==============================] - 11s 14ms/step - loss: 0.2788 - accuracy: 0.9127 - val_loss: 0.4783 - val_accuracy: 0.8713\n",
            "Epoch 10/15\n",
            "750/750 [==============================] - 10s 13ms/step - loss: 0.2593 - accuracy: 0.9175 - val_loss: 0.4189 - val_accuracy: 0.8718\n",
            "Epoch 11/15\n",
            "750/750 [==============================] - 10s 13ms/step - loss: 0.2283 - accuracy: 0.9255 - val_loss: 0.4784 - val_accuracy: 0.8720\n",
            "Epoch 12/15\n",
            "750/750 [==============================] - 11s 14ms/step - loss: 0.2987 - accuracy: 0.9121 - val_loss: 0.5195 - val_accuracy: 0.8679\n",
            "Epoch 13/15\n",
            "750/750 [==============================] - 10s 13ms/step - loss: 0.2686 - accuracy: 0.9162 - val_loss: 0.4979 - val_accuracy: 0.8712\n",
            "Epoch 14/15\n",
            "750/750 [==============================] - 11s 14ms/step - loss: 0.2586 - accuracy: 0.9208 - val_loss: 0.6675 - val_accuracy: 0.8668\n",
            "Epoch 15/15\n",
            "750/750 [==============================] - 11s 14ms/step - loss: 0.2700 - accuracy: 0.9197 - val_loss: 0.4755 - val_accuracy: 0.8532\n",
            "79/79 [==============================] - 1s 7ms/step - loss: 0.5086 - accuracy: 0.8467\n"
          ]
        }
      ],
      "source": [
        "from keras.optimizers import SGD,Adam\n",
        "\n",
        "opt_list=[SGD(lr=0.01, momentum=0.9),Adam(lr=0.001)]\n",
        "epochs_list = [5,10,15]\n",
        "for optimizer in  opt_list:\n",
        "  for epoch in epochs_list:\n",
        "\n",
        "    alexnet.compile(optimizer=optimizer, loss=keras.losses.categorical_crossentropy, metrics=['accuracy'])\n",
        "    history = alexnet.fit(\n",
        "      train_X,\n",
        "      train_y,\n",
        "      batch_size=64,\n",
        "      epochs=epoch,\n",
        "      validation_data=(X_val, y_val)\n",
        "    )\n",
        "    hist.append(history.history)\n",
        "    results.append(alexnet.evaluate(test_X, test_y, batch_size=128))"
      ]
    },
    {
      "cell_type": "code",
      "source": [
        "hist"
      ],
      "metadata": {
        "colab": {
          "base_uri": "https://localhost:8080/"
        },
        "id": "qdm2LWCx4qGX",
        "outputId": "ad5e0d70-c81c-4cd2-9429-4845e6b79199"
      },
      "execution_count": 16,
      "outputs": [
        {
          "output_type": "execute_result",
          "data": {
            "text/plain": [
              "[{'loss': [0.8322179913520813,\n",
              "   0.5377291440963745,\n",
              "   0.47270673513412476,\n",
              "   0.4359871447086334,\n",
              "   0.4025457501411438],\n",
              "  'accuracy': [0.6937500238418579,\n",
              "   0.809208333492279,\n",
              "   0.8321874737739563,\n",
              "   0.843416690826416,\n",
              "   0.8532500267028809],\n",
              "  'val_loss': [0.6157169342041016,\n",
              "   0.48196080327033997,\n",
              "   0.4844772219657898,\n",
              "   0.439276784658432,\n",
              "   0.4081647992134094],\n",
              "  'val_accuracy': [0.7951666712760925,\n",
              "   0.8297500014305115,\n",
              "   0.8305000066757202,\n",
              "   0.8412500023841858,\n",
              "   0.8532500267028809]},\n",
              " {'loss': [0.38079655170440674,\n",
              "   0.36764004826545715,\n",
              "   0.3479090929031372,\n",
              "   0.3360244929790497,\n",
              "   0.3227006494998932,\n",
              "   0.31874701380729675,\n",
              "   0.30495887994766235,\n",
              "   0.2962251901626587,\n",
              "   0.28625673055648804,\n",
              "   0.2781715393066406],\n",
              "  'accuracy': [0.862625002861023,\n",
              "   0.8649583458900452,\n",
              "   0.8718541860580444,\n",
              "   0.874916672706604,\n",
              "   0.8793958425521851,\n",
              "   0.8801458477973938,\n",
              "   0.8861874938011169,\n",
              "   0.8900625109672546,\n",
              "   0.8932291865348816,\n",
              "   0.8941875100135803],\n",
              "  'val_loss': [0.40479564666748047,\n",
              "   0.3834976851940155,\n",
              "   0.3653087019920349,\n",
              "   0.41216030716896057,\n",
              "   0.3643818795681,\n",
              "   0.38288378715515137,\n",
              "   0.36585015058517456,\n",
              "   0.3904484808444977,\n",
              "   0.3597504496574402,\n",
              "   0.36595118045806885],\n",
              "  'val_accuracy': [0.8569166660308838,\n",
              "   0.859749972820282,\n",
              "   0.8676666617393494,\n",
              "   0.8580833077430725,\n",
              "   0.8690000176429749,\n",
              "   0.862500011920929,\n",
              "   0.8665833473205566,\n",
              "   0.8660833239555359,\n",
              "   0.8755000233650208,\n",
              "   0.875166654586792]},\n",
              " {'loss': [0.2688225507736206,\n",
              "   0.2555200457572937,\n",
              "   0.24817486107349396,\n",
              "   0.249771848320961,\n",
              "   0.23974613845348358,\n",
              "   0.23194752633571625,\n",
              "   0.22191579639911652,\n",
              "   0.21945318579673767,\n",
              "   0.21452075242996216,\n",
              "   0.2142532616853714,\n",
              "   0.21112127602100372,\n",
              "   0.2012321949005127,\n",
              "   0.1964370459318161,\n",
              "   0.1862538903951645,\n",
              "   0.1850154846906662],\n",
              "  'accuracy': [0.898687481880188,\n",
              "   0.9028333425521851,\n",
              "   0.9080416560173035,\n",
              "   0.9052708148956299,\n",
              "   0.909541666507721,\n",
              "   0.9126458168029785,\n",
              "   0.9166458249092102,\n",
              "   0.9162291884422302,\n",
              "   0.9196666479110718,\n",
              "   0.9193333387374878,\n",
              "   0.9212083220481873,\n",
              "   0.9252916574478149,\n",
              "   0.9268333315849304,\n",
              "   0.929604172706604,\n",
              "   0.9295416474342346],\n",
              "  'val_loss': [0.38330012559890747,\n",
              "   0.3678700029850006,\n",
              "   0.3747938573360443,\n",
              "   0.3740439713001251,\n",
              "   0.3961663842201233,\n",
              "   0.3751238286495209,\n",
              "   0.391732394695282,\n",
              "   0.37794071435928345,\n",
              "   0.40204110741615295,\n",
              "   0.4138926565647125,\n",
              "   0.3908049464225769,\n",
              "   0.4057578146457672,\n",
              "   0.41628125309944153,\n",
              "   0.45254239439964294,\n",
              "   0.40840116143226624],\n",
              "  'val_accuracy': [0.8640000224113464,\n",
              "   0.8755833506584167,\n",
              "   0.8700833320617676,\n",
              "   0.8758333325386047,\n",
              "   0.8700833320617676,\n",
              "   0.8691666722297668,\n",
              "   0.8698333501815796,\n",
              "   0.8774166703224182,\n",
              "   0.8778333067893982,\n",
              "   0.8732500076293945,\n",
              "   0.8744166493415833,\n",
              "   0.8657500147819519,\n",
              "   0.8713333606719971,\n",
              "   0.8721666932106018,\n",
              "   0.8733333349227905]},\n",
              " {'loss': [0.45500877499580383,\n",
              "   0.430336058139801,\n",
              "   0.4076787233352661,\n",
              "   0.36877116560935974,\n",
              "   0.3253328204154968],\n",
              "  'accuracy': [0.8759583234786987,\n",
              "   0.8776458501815796,\n",
              "   0.8757916688919067,\n",
              "   0.8856458067893982,\n",
              "   0.893666684627533],\n",
              "  'val_loss': [0.6696019172668457,\n",
              "   0.5635706782341003,\n",
              "   0.6302400827407837,\n",
              "   0.547372579574585,\n",
              "   0.6042738556861877],\n",
              "  'val_accuracy': [0.8508333563804626,\n",
              "   0.8463333249092102,\n",
              "   0.8654999732971191,\n",
              "   0.8648333549499512,\n",
              "   0.8644999861717224]},\n",
              " {'loss': [0.3842198848724365,\n",
              "   0.4191024899482727,\n",
              "   0.29451116919517517,\n",
              "   0.2852752208709717,\n",
              "   0.31867334246635437,\n",
              "   0.2941482663154602,\n",
              "   0.2691367268562317,\n",
              "   0.3614960014820099,\n",
              "   0.306429922580719,\n",
              "   0.3029228448867798],\n",
              "  'accuracy': [0.8835416436195374,\n",
              "   0.8751041889190674,\n",
              "   0.9019583463668823,\n",
              "   0.9048333168029785,\n",
              "   0.8986250162124634,\n",
              "   0.9035000205039978,\n",
              "   0.9092708230018616,\n",
              "   0.8895208239555359,\n",
              "   0.901604175567627,\n",
              "   0.9044791460037231],\n",
              "  'val_loss': [0.606495201587677,\n",
              "   0.5022258162498474,\n",
              "   0.44694241881370544,\n",
              "   0.8072284460067749,\n",
              "   0.4514399468898773,\n",
              "   0.4762800633907318,\n",
              "   0.7281034588813782,\n",
              "   0.47229501605033875,\n",
              "   0.4910995364189148,\n",
              "   0.5087759494781494],\n",
              "  'val_accuracy': [0.8476666808128357,\n",
              "   0.862666666507721,\n",
              "   0.8677499890327454,\n",
              "   0.8610833287239075,\n",
              "   0.8673333525657654,\n",
              "   0.872083306312561,\n",
              "   0.8654999732971191,\n",
              "   0.8569166660308838,\n",
              "   0.8526666760444641,\n",
              "   0.8733333349227905]},\n",
              " {'loss': [0.2765021324157715,\n",
              "   0.27266067266464233,\n",
              "   0.3036653399467468,\n",
              "   0.3002074956893921,\n",
              "   0.3197731375694275,\n",
              "   0.2814115881919861,\n",
              "   0.2515762150287628,\n",
              "   0.2775033414363861,\n",
              "   0.27881401777267456,\n",
              "   0.25932297110557556,\n",
              "   0.22830577194690704,\n",
              "   0.2987150549888611,\n",
              "   0.2686350643634796,\n",
              "   0.2586319148540497,\n",
              "   0.2700413465499878],\n",
              "  'accuracy': [0.9087499976158142,\n",
              "   0.9124374985694885,\n",
              "   0.9041249752044678,\n",
              "   0.9050624966621399,\n",
              "   0.903124988079071,\n",
              "   0.9120416641235352,\n",
              "   0.9191874861717224,\n",
              "   0.9149791598320007,\n",
              "   0.9127291440963745,\n",
              "   0.9175416827201843,\n",
              "   0.9255208373069763,\n",
              "   0.9121458530426025,\n",
              "   0.9162291884422302,\n",
              "   0.9208333492279053,\n",
              "   0.9197083115577698],\n",
              "  'val_loss': [0.6248995065689087,\n",
              "   0.6384032964706421,\n",
              "   0.5043745040893555,\n",
              "   0.4868580400943756,\n",
              "   0.4391392767429352,\n",
              "   0.4972779452800751,\n",
              "   0.5222801566123962,\n",
              "   0.5270307064056396,\n",
              "   0.4782913327217102,\n",
              "   0.418893963098526,\n",
              "   0.47836998105049133,\n",
              "   0.5195441246032715,\n",
              "   0.4979000687599182,\n",
              "   0.6674913763999939,\n",
              "   0.4754663407802582],\n",
              "  'val_accuracy': [0.8671666383743286,\n",
              "   0.8705000281333923,\n",
              "   0.8573333621025085,\n",
              "   0.8585833311080933,\n",
              "   0.8654166460037231,\n",
              "   0.8767499923706055,\n",
              "   0.8793333172798157,\n",
              "   0.856416642665863,\n",
              "   0.8713333606719971,\n",
              "   0.871833324432373,\n",
              "   0.871999979019165,\n",
              "   0.8679166436195374,\n",
              "   0.8711666464805603,\n",
              "   0.8667500019073486,\n",
              "   0.8531666398048401]}]"
            ]
          },
          "metadata": {},
          "execution_count": 16
        }
      ]
    },
    {
      "cell_type": "code",
      "source": [
        "results"
      ],
      "metadata": {
        "colab": {
          "base_uri": "https://localhost:8080/"
        },
        "id": "3ExjBafc45hV",
        "outputId": "fa1b1ee0-4e57-40d8-9063-d05d0c0357c4"
      },
      "execution_count": 17,
      "outputs": [
        {
          "output_type": "execute_result",
          "data": {
            "text/plain": [
              "[[0.4346608519554138, 0.8450999855995178],\n",
              " [0.39266693592071533, 0.870199978351593],\n",
              " [0.43793985247612, 0.8689000010490417],\n",
              " [0.6905240416526794, 0.8562999963760376],\n",
              " [0.6026971936225891, 0.8684999942779541],\n",
              " [0.5085741877555847, 0.8467000126838684]]"
            ]
          },
          "metadata": {},
          "execution_count": 17
        }
      ]
    },
    {
      "cell_type": "code",
      "source": [
        "fig, axs = plt.subplots(2, 3)\n",
        "epoch1=range(1,6)\n",
        "epoch2 = range(1,11)\n",
        "epoch3 = range(1,16)\n",
        "\n",
        "\n",
        "axs[0, 0].set_title('SGD,epoch:10')\n",
        "axs[0, 0].plot(epoch1,hist[0]['loss'],color=\"green\",label=\"Training Loss\")\n",
        "axs[0, 0].plot(epoch1,hist[0]['val_loss'],color=\"blue\",label = \"Validation Loss\")\n",
        "\n",
        "axs[0, 1].set_title('SGD,epoch:20')\n",
        "axs[0, 1].plot(epoch2,hist[1]['loss'],color=\"green\")\n",
        "axs[0, 1].plot(epoch2,hist[1]['val_loss'],color=\"blue\")\n",
        "\n",
        "axs[0, 2].set_title('SGD,epoch:30')\n",
        "axs[0, 2].plot(epoch3,hist[2]['loss'],color=\"green\")\n",
        "axs[0, 2].plot(epoch3,hist[2]['val_loss'],color=\"blue\")\n",
        "\n",
        "axs[1, 0].set_title('Adam,epoch:10')\n",
        "axs[1, 0].plot(epoch1,hist[3]['loss'],color=\"green\")\n",
        "axs[1, 0].plot(epoch1,hist[3]['val_loss'],color=\"blue\")\n",
        "\n",
        "axs[1, 1].set_title('Adam,epoch:20')\n",
        "axs[1, 1].plot(epoch2,hist[4]['loss'],color=\"green\")\n",
        "axs[1, 1].plot(epoch2,hist[4]['val_loss'],color=\"blue\")\n",
        "\n",
        "\n",
        "axs[1, 2].set_title('Adam,epoch:30')\n",
        "axs[1, 2].plot(epoch3,hist[5]['loss'],color=\"green\")\n",
        "axs[1, 2].plot(epoch3,hist[5]['val_loss'],color=\"blue\")\n",
        "  \n",
        "\n",
        "for ax in axs.flat:\n",
        "    ax.set(xlabel='epoch', ylabel='Loss')\n",
        "\n",
        "fig.legend(bbox_to_anchor=(1.04, 1), borderaxespad=0)\n",
        "\n",
        "\n",
        "# Hide x labels and tick labels for top plots and y ticks for right plots.\n",
        "for ax in axs.flat:\n",
        "    ax.label_outer()"
      ],
      "metadata": {
        "id": "UHJimUSS4tUg",
        "outputId": "c9d55974-bcba-415a-f3d9-3d0ed3718c64",
        "colab": {
          "base_uri": "https://localhost:8080/",
          "height": 314
        }
      },
      "execution_count": 20,
      "outputs": [
        {
          "output_type": "display_data",
          "data": {
            "text/plain": [
              "<Figure size 432x288 with 6 Axes>"
            ],
            "image/png": "[encoded data removed]"
          },
          "metadata": {
            "needs_background": "light"
          }
        }
      ]
    },
    {
      "cell_type": "code",
      "execution_count": 22,
      "metadata": {
        "colab": {
          "base_uri": "https://localhost:8080/",
          "height": 314
        },
        "id": "IWfcJ0PMKnBQ",
        "outputId": "28cf1fd8-589a-4907-9141-6267ce7275cf"
      },
      "outputs": [
        {
          "output_type": "display_data",
          "data": {
            "text/plain": [
              "<Figure size 432x288 with 6 Axes>"
            ],
            "image/png": "[encoded data removed]"
          },
          "metadata": {
            "needs_background": "light"
          }
        }
      ],
      "source": [
        "fig, axs = plt.subplots(2, 3)\n",
        "epoch1=range(1,6)\n",
        "epoch2 = range(1,11)\n",
        "epoch3 = range(1,16)\n",
        "axs[0, 0].set_title('SGD,epoch:10')\n",
        "axs[0, 0].plot(epoch1,hist[0]['accuracy'],color=\"green\",label=\"Training Accu\")\n",
        "axs[0, 0].plot(epoch1,hist[0]['val_accuracy'],color=\"blue\",label = \"Validation Accu\")\n",
        "\n",
        "axs[0, 1].set_title('SGD,epoch:20' )\n",
        "axs[0, 1].plot(epoch2,hist[1]['accuracy'],color=\"green\")\n",
        "axs[0, 1].plot(epoch2,hist[1]['val_accuracy'],color=\"blue\")\n",
        "\n",
        "axs[0, 2].set_title('SGD,epoch:30')\n",
        "axs[0, 2].plot(epoch3,hist[2]['accuracy'],color=\"green\")\n",
        "axs[0, 2].plot(epoch3,hist[2]['val_accuracy'],color=\"blue\")\n",
        "\n",
        "\n",
        "\n",
        "axs[1, 0].set_title('Adam,epoch:10')\n",
        "axs[1, 0].plot(epoch1,hist[3]['accuracy'],color=\"green\")\n",
        "axs[1, 0].plot(epoch1,hist[3]['val_accuracy'],color=\"blue\")\n",
        "\n",
        "axs[1, 1].set_title('Adam,epoch:20')\n",
        "axs[1, 1].plot(epoch2,hist[4]['accuracy'],color=\"green\")\n",
        "axs[1, 1].plot(epoch2,hist[4]['val_accuracy'],color=\"blue\")\n",
        "\n",
        "\n",
        "axs[1, 2].set_title('Adam,epoch:30')\n",
        "axs[1, 2].plot(epoch3,hist[5]['accuracy'],color=\"green\")\n",
        "axs[1, 2].plot(epoch3,hist[5]['val_accuracy'],color=\"blue\")\n",
        "\n",
        "\n",
        "for ax in axs.flat:\n",
        "    ax.set(xlabel='epoch', ylabel='Accuracy')\n",
        "    \n",
        "fig.legend(bbox_to_anchor=(1.04, 1), borderaxespad=0)\n",
        "\n",
        "\n",
        "# Hide x labels and tick labels for top plots and y ticks for right plots.\n",
        "for ax in axs.flat:\n",
        "    ax.label_outer()"
      ]
    },
    {
      "cell_type": "code",
      "execution_count": null,
      "metadata": {
        "id": "iF_RD-9UKnwp"
      },
      "outputs": [],
      "source": []
    }
  ],
  "metadata": {
    "accelerator": "GPU",
    "colab": {
      "provenance": []
    },
    "gpuClass": "standard",
    "kernelspec": {
      "display_name": "Python 3",
      "name": "python3"
    },
    "language_info": {
      "name": "python"
    }
  },
  "nbformat": 4,
  "nbformat_minor": 0
}