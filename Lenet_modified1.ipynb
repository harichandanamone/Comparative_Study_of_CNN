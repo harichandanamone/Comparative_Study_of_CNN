{
  "nbformat": 4,
  "nbformat_minor": 0,
  "metadata": {
    "colab": {
      "provenance": []
    },
    "kernelspec": {
      "name": "python3",
      "display_name": "Python 3"
    },
    "language_info": {
      "name": "python"
    },
    "accelerator": "GPU",
    "gpuClass": "standard"
  },
  "cells": [
    {
      "cell_type": "code",
      "execution_count": 12,
      "metadata": {
        "id": "5ET_ahpJfFg6"
      },
      "outputs": [],
      "source": [
        "import tensorflow as tf\n",
        "from tensorflow import keras\n",
        "from sklearn.manifold import TSNE\n",
        "from tensorflow.keras.datasets import mnist\n",
        "from matplotlib import pyplot as plt\n",
        "import numpy as np\n",
        "import pandas as pd\n",
        "import seaborn as sns\n",
        "import os\n",
        "from tensorflow.keras.optimizers import Adam\n",
        "from tensorflow.keras.models import Sequential\n",
        "from tensorflow.keras.layers import Conv2D,MaxPool2D\n",
        "from tensorflow.keras.layers import Dense, Activation, Flatten"
      ]
    },
    {
      "cell_type": "code",
      "source": [
        "import keras\n",
        "from keras.datasets import mnist\n",
        "(train_X, train_y), (test_X, test_y) = mnist.load_data()\n",
        "print('X_train: ' + str(train_X.shape))\n",
        "print('Y_train: ' + str(train_y.shape))\n",
        "print('X_test:  '  + str(test_X.shape))\n",
        "print('Y_test:  '  + str(test_y.shape))"
      ],
      "metadata": {
        "colab": {
          "base_uri": "https://localhost:8080/"
        },
        "id": "lEKdbTZDfn64",
        "outputId": "0ff68b29-a871-4ca9-b6df-6279f5aa3266"
      },
      "execution_count": 13,
      "outputs": [
        {
          "output_type": "stream",
          "name": "stdout",
          "text": [
            "X_train: (60000, 28, 28)\n",
            "Y_train: (60000,)\n",
            "X_test:  (10000, 28, 28)\n",
            "Y_test:  (10000,)\n"
          ]
        }
      ]
    },
    {
      "cell_type": "code",
      "source": [
        "lenet_model = Sequential()\n",
        "lenet_model.add(Conv2D(filters=6, kernel_size=(3, 3), activation='relu', input_shape=(28,28,1)))\n",
        "lenet_model.add(MaxPool2D(pool_size=(2,2),strides=(2,2)))\n",
        "lenet_model.add(Conv2D(filters=16, kernel_size=(3, 3), activation='relu'))\n",
        "lenet_model.add(MaxPool2D(pool_size=(2,2),strides=(2,2),padding=\"same\"))\n",
        "lenet_model.add(Conv2D(filters=128, kernel_size=(5, 5), activation='relu'))\n",
        "lenet_model.add(MaxPool2D(pool_size=(2,2),strides=(2,2),padding=\"same\"))\n",
        "\n",
        "lenet_model.add(Flatten())\n",
        "#lenet_model.add(Dense(units=180, activation='relu'))\n",
        "lenet_model.add(Dense(units=120, activation='relu'))\n",
        "lenet_model.add(Dense(units=84, activation='relu'))\n",
        "lenet_model.add(Dense(units=10, activation = 'softmax'))"
      ],
      "metadata": {
        "id": "Pm0X51UvfpSL"
      },
      "execution_count": 14,
      "outputs": []
    },
    {
      "cell_type": "code",
      "source": [
        "lenet_model.summary()"
      ],
      "metadata": {
        "colab": {
          "base_uri": "https://localhost:8080/"
        },
        "id": "nWfQeACQfzGF",
        "outputId": "227a0f5c-49af-412e-8df9-e5d41e652ed5"
      },
      "execution_count": 15,
      "outputs": [
        {
          "output_type": "stream",
          "name": "stdout",
          "text": [
            "Model: \"sequential_1\"\n",
            "_________________________________________________________________\n",
            " Layer (type)                Output Shape              Param #   \n",
            "=================================================================\n",
            " conv2d_3 (Conv2D)           (None, 26, 26, 6)         60        \n",
            "                                                                 \n",
            " max_pooling2d_3 (MaxPooling  (None, 13, 13, 6)        0         \n",
            " 2D)                                                             \n",
            "                                                                 \n",
            " conv2d_4 (Conv2D)           (None, 11, 11, 16)        880       \n",
            "                                                                 \n",
            " max_pooling2d_4 (MaxPooling  (None, 6, 6, 16)         0         \n",
            " 2D)                                                             \n",
            "                                                                 \n",
            " conv2d_5 (Conv2D)           (None, 2, 2, 128)         51328     \n",
            "                                                                 \n",
            " max_pooling2d_5 (MaxPooling  (None, 1, 1, 128)        0         \n",
            " 2D)                                                             \n",
            "                                                                 \n",
            " flatten_1 (Flatten)         (None, 128)               0         \n",
            "                                                                 \n",
            " dense_3 (Dense)             (None, 120)               15480     \n",
            "                                                                 \n",
            " dense_4 (Dense)             (None, 84)                10164     \n",
            "                                                                 \n",
            " dense_5 (Dense)             (None, 10)                850       \n",
            "                                                                 \n",
            "=================================================================\n",
            "Total params: 78,762\n",
            "Trainable params: 78,762\n",
            "Non-trainable params: 0\n",
            "_________________________________________________________________\n"
          ]
        }
      ]
    },
    {
      "cell_type": "code",
      "source": [
        "train_y = tf.keras.utils.to_categorical(train_y, num_classes=10)\n",
        "test_y = tf.keras.utils.to_categorical(test_y, num_classes=10)"
      ],
      "metadata": {
        "id": "kgquxMzagFpN"
      },
      "execution_count": 16,
      "outputs": []
    },
    {
      "cell_type": "code",
      "source": [
        "from sklearn.model_selection import train_test_split\n",
        "train_X, X_val, train_y, y_val = train_test_split(train_X, train_y, test_size=0.2, random_state=1)"
      ],
      "metadata": {
        "id": "sw1hyR2Og2t-"
      },
      "execution_count": 17,
      "outputs": []
    },
    {
      "cell_type": "code",
      "source": [
        "hist=[]\n",
        "results=[]"
      ],
      "metadata": {
        "id": "iNdscrrtoqEa"
      },
      "execution_count": 18,
      "outputs": []
    },
    {
      "cell_type": "code",
      "source": [
        "from keras.optimizers import SGD,Adam\n",
        "\n",
        "opt_list=[SGD(lr=0.01),Adam(lr=0.001)]\n",
        "epochs_list = [10,20,30]\n",
        "for optimizer in  opt_list:\n",
        "  for epoch in epochs_list:\n",
        "\n",
        "    lenet_model.compile(optimizer=optimizer, loss=keras.losses.categorical_crossentropy, metrics=['accuracy'])\n",
        "    history = lenet_model.fit(\n",
        "      train_X,\n",
        "      train_y,\n",
        "      batch_size=64,\n",
        "      epochs=epoch,\n",
        "      validation_data=(X_val, y_val)\n",
        "    )\n",
        "    hist.append(history.history)\n",
        "    results.append(lenet_model.evaluate(test_X, test_y, batch_size=128))"
      ],
      "metadata": {
        "colab": {
          "base_uri": "https://localhost:8080/"
        },
        "id": "-DqZvRFZg5Nr",
        "outputId": "6852ad65-8fb8-4f7b-cb41-e6cd9e6fa7ab"
      },
      "execution_count": 19,
      "outputs": [
        {
          "output_type": "stream",
          "name": "stdout",
          "text": [
            "Epoch 1/10\n",
            "750/750 [==============================] - 4s 4ms/step - loss: 1.0023 - accuracy: 0.6580 - val_loss: 0.2890 - val_accuracy: 0.9115\n",
            "Epoch 2/10\n",
            "750/750 [==============================] - 3s 4ms/step - loss: 0.2156 - accuracy: 0.9313 - val_loss: 0.1995 - val_accuracy: 0.9395\n",
            "Epoch 3/10\n",
            "750/750 [==============================] - 3s 4ms/step - loss: 0.1476 - accuracy: 0.9530 - val_loss: 0.1793 - val_accuracy: 0.9430\n",
            "Epoch 4/10\n",
            "750/750 [==============================] - 3s 4ms/step - loss: 0.1145 - accuracy: 0.9629 - val_loss: 0.1443 - val_accuracy: 0.9542\n",
            "Epoch 5/10\n",
            "750/750 [==============================] - 3s 4ms/step - loss: 0.0938 - accuracy: 0.9694 - val_loss: 0.1146 - val_accuracy: 0.9642\n",
            "Epoch 6/10\n",
            "750/750 [==============================] - 3s 4ms/step - loss: 0.0674 - accuracy: 0.9777 - val_loss: 0.0883 - val_accuracy: 0.9737\n",
            "Epoch 7/10\n",
            "750/750 [==============================] - 3s 4ms/step - loss: 0.0537 - accuracy: 0.9828 - val_loss: 0.0937 - val_accuracy: 0.9722\n",
            "Epoch 8/10\n",
            "750/750 [==============================] - 3s 4ms/step - loss: 0.0419 - accuracy: 0.9863 - val_loss: 0.0908 - val_accuracy: 0.9722\n",
            "Epoch 9/10\n",
            "750/750 [==============================] - 3s 4ms/step - loss: 0.0341 - accuracy: 0.9885 - val_loss: 0.0813 - val_accuracy: 0.9772\n",
            "Epoch 10/10\n",
            "750/750 [==============================] - 3s 4ms/step - loss: 0.0286 - accuracy: 0.9906 - val_loss: 0.0878 - val_accuracy: 0.9753\n",
            "79/79 [==============================] - 0s 3ms/step - loss: 0.0803 - accuracy: 0.9777\n",
            "Epoch 1/20\n",
            "750/750 [==============================] - 4s 4ms/step - loss: 0.0217 - accuracy: 0.9930 - val_loss: 0.0903 - val_accuracy: 0.9761\n",
            "Epoch 2/20\n",
            "750/750 [==============================] - 3s 4ms/step - loss: 0.0202 - accuracy: 0.9932 - val_loss: 0.0816 - val_accuracy: 0.9791\n",
            "Epoch 3/20\n",
            "750/750 [==============================] - 3s 4ms/step - loss: 0.0155 - accuracy: 0.9950 - val_loss: 0.0896 - val_accuracy: 0.9772\n",
            "Epoch 4/20\n",
            "750/750 [==============================] - 3s 4ms/step - loss: 0.0113 - accuracy: 0.9962 - val_loss: 0.1031 - val_accuracy: 0.9776\n",
            "Epoch 5/20\n",
            "750/750 [==============================] - 3s 4ms/step - loss: 0.0118 - accuracy: 0.9961 - val_loss: 0.1189 - val_accuracy: 0.9731\n",
            "Epoch 6/20\n",
            "750/750 [==============================] - 3s 4ms/step - loss: 0.0095 - accuracy: 0.9968 - val_loss: 0.1027 - val_accuracy: 0.9781\n",
            "Epoch 7/20\n",
            "750/750 [==============================] - 3s 4ms/step - loss: 0.0075 - accuracy: 0.9976 - val_loss: 0.1018 - val_accuracy: 0.9789\n",
            "Epoch 8/20\n",
            "750/750 [==============================] - 3s 4ms/step - loss: 0.0066 - accuracy: 0.9977 - val_loss: 0.1030 - val_accuracy: 0.9793\n",
            "Epoch 9/20\n",
            "750/750 [==============================] - 3s 4ms/step - loss: 0.0057 - accuracy: 0.9981 - val_loss: 0.1155 - val_accuracy: 0.9778\n",
            "Epoch 10/20\n",
            "750/750 [==============================] - 3s 4ms/step - loss: 0.0047 - accuracy: 0.9986 - val_loss: 0.1538 - val_accuracy: 0.9739\n",
            "Epoch 11/20\n",
            "750/750 [==============================] - 3s 4ms/step - loss: 0.0109 - accuracy: 0.9961 - val_loss: 0.1183 - val_accuracy: 0.9776\n",
            "Epoch 12/20\n",
            "750/750 [==============================] - 3s 4ms/step - loss: 0.0052 - accuracy: 0.9983 - val_loss: 0.1197 - val_accuracy: 0.9778\n",
            "Epoch 13/20\n",
            "750/750 [==============================] - 3s 4ms/step - loss: 0.0037 - accuracy: 0.9989 - val_loss: 0.1230 - val_accuracy: 0.9778\n",
            "Epoch 14/20\n",
            "750/750 [==============================] - 3s 4ms/step - loss: 0.0014 - accuracy: 0.9996 - val_loss: 0.1088 - val_accuracy: 0.9814\n",
            "Epoch 15/20\n",
            "750/750 [==============================] - 3s 4ms/step - loss: 1.9434e-04 - accuracy: 1.0000 - val_loss: 0.1107 - val_accuracy: 0.9815\n",
            "Epoch 16/20\n",
            "750/750 [==============================] - 3s 4ms/step - loss: 1.1565e-04 - accuracy: 1.0000 - val_loss: 0.1128 - val_accuracy: 0.9817\n",
            "Epoch 17/20\n",
            "750/750 [==============================] - 3s 4ms/step - loss: 9.0826e-05 - accuracy: 1.0000 - val_loss: 0.1141 - val_accuracy: 0.9816\n",
            "Epoch 18/20\n",
            "750/750 [==============================] - 3s 4ms/step - loss: 7.7661e-05 - accuracy: 1.0000 - val_loss: 0.1158 - val_accuracy: 0.9817\n",
            "Epoch 19/20\n",
            "750/750 [==============================] - 3s 4ms/step - loss: 6.8048e-05 - accuracy: 1.0000 - val_loss: 0.1172 - val_accuracy: 0.9817\n",
            "Epoch 20/20\n",
            "750/750 [==============================] - 3s 4ms/step - loss: 6.0690e-05 - accuracy: 1.0000 - val_loss: 0.1184 - val_accuracy: 0.9816\n",
            "79/79 [==============================] - 0s 3ms/step - loss: 0.1053 - accuracy: 0.9844\n",
            "Epoch 1/30\n",
            "750/750 [==============================] - 3s 4ms/step - loss: 5.5013e-05 - accuracy: 1.0000 - val_loss: 0.1194 - val_accuracy: 0.9818\n",
            "Epoch 2/30\n",
            "750/750 [==============================] - 3s 4ms/step - loss: 5.0456e-05 - accuracy: 1.0000 - val_loss: 0.1205 - val_accuracy: 0.9816\n",
            "Epoch 3/30\n",
            "750/750 [==============================] - 3s 4ms/step - loss: 4.6440e-05 - accuracy: 1.0000 - val_loss: 0.1214 - val_accuracy: 0.9815\n",
            "Epoch 4/30\n",
            "750/750 [==============================] - 3s 4ms/step - loss: 4.3260e-05 - accuracy: 1.0000 - val_loss: 0.1223 - val_accuracy: 0.9815\n",
            "Epoch 5/30\n",
            "750/750 [==============================] - 3s 4ms/step - loss: 4.0461e-05 - accuracy: 1.0000 - val_loss: 0.1230 - val_accuracy: 0.9814\n",
            "Epoch 6/30\n",
            "750/750 [==============================] - 3s 4ms/step - loss: 3.8121e-05 - accuracy: 1.0000 - val_loss: 0.1238 - val_accuracy: 0.9817\n",
            "Epoch 7/30\n",
            "750/750 [==============================] - 3s 4ms/step - loss: 3.5761e-05 - accuracy: 1.0000 - val_loss: 0.1245 - val_accuracy: 0.9815\n",
            "Epoch 8/30\n",
            "750/750 [==============================] - 3s 4ms/step - loss: 3.3862e-05 - accuracy: 1.0000 - val_loss: 0.1251 - val_accuracy: 0.9818\n",
            "Epoch 9/30\n",
            "750/750 [==============================] - 3s 4ms/step - loss: 3.2310e-05 - accuracy: 1.0000 - val_loss: 0.1258 - val_accuracy: 0.9813\n",
            "Epoch 10/30\n",
            "750/750 [==============================] - 3s 4ms/step - loss: 3.0656e-05 - accuracy: 1.0000 - val_loss: 0.1264 - val_accuracy: 0.9814\n",
            "Epoch 11/30\n",
            "750/750 [==============================] - 3s 4ms/step - loss: 2.9283e-05 - accuracy: 1.0000 - val_loss: 0.1271 - val_accuracy: 0.9814\n",
            "Epoch 12/30\n",
            "750/750 [==============================] - 3s 4ms/step - loss: 2.8078e-05 - accuracy: 1.0000 - val_loss: 0.1276 - val_accuracy: 0.9813\n",
            "Epoch 13/30\n",
            "750/750 [==============================] - 4s 5ms/step - loss: 2.6883e-05 - accuracy: 1.0000 - val_loss: 0.1280 - val_accuracy: 0.9815\n",
            "Epoch 14/30\n",
            "750/750 [==============================] - 3s 4ms/step - loss: 2.5805e-05 - accuracy: 1.0000 - val_loss: 0.1286 - val_accuracy: 0.9816\n",
            "Epoch 15/30\n",
            "750/750 [==============================] - 3s 4ms/step - loss: 2.4808e-05 - accuracy: 1.0000 - val_loss: 0.1291 - val_accuracy: 0.9812\n",
            "Epoch 16/30\n",
            "750/750 [==============================] - 3s 4ms/step - loss: 2.3895e-05 - accuracy: 1.0000 - val_loss: 0.1297 - val_accuracy: 0.9817\n",
            "Epoch 17/30\n",
            "750/750 [==============================] - 3s 4ms/step - loss: 2.3066e-05 - accuracy: 1.0000 - val_loss: 0.1299 - val_accuracy: 0.9815\n",
            "Epoch 18/30\n",
            "750/750 [==============================] - 3s 4ms/step - loss: 2.2297e-05 - accuracy: 1.0000 - val_loss: 0.1304 - val_accuracy: 0.9814\n",
            "Epoch 19/30\n",
            "750/750 [==============================] - 3s 4ms/step - loss: 2.1519e-05 - accuracy: 1.0000 - val_loss: 0.1308 - val_accuracy: 0.9814\n",
            "Epoch 20/30\n",
            "750/750 [==============================] - 3s 4ms/step - loss: 2.0877e-05 - accuracy: 1.0000 - val_loss: 0.1313 - val_accuracy: 0.9814\n",
            "Epoch 21/30\n",
            "750/750 [==============================] - 3s 4ms/step - loss: 2.0226e-05 - accuracy: 1.0000 - val_loss: 0.1316 - val_accuracy: 0.9816\n",
            "Epoch 22/30\n",
            "750/750 [==============================] - 3s 4ms/step - loss: 1.9617e-05 - accuracy: 1.0000 - val_loss: 0.1320 - val_accuracy: 0.9815\n",
            "Epoch 23/30\n",
            "750/750 [==============================] - 3s 4ms/step - loss: 1.9048e-05 - accuracy: 1.0000 - val_loss: 0.1323 - val_accuracy: 0.9814\n",
            "Epoch 24/30\n",
            "750/750 [==============================] - 3s 4ms/step - loss: 1.8496e-05 - accuracy: 1.0000 - val_loss: 0.1328 - val_accuracy: 0.9815\n",
            "Epoch 25/30\n",
            "750/750 [==============================] - 3s 4ms/step - loss: 1.8034e-05 - accuracy: 1.0000 - val_loss: 0.1331 - val_accuracy: 0.9813\n",
            "Epoch 26/30\n",
            "750/750 [==============================] - 3s 4ms/step - loss: 1.7540e-05 - accuracy: 1.0000 - val_loss: 0.1335 - val_accuracy: 0.9813\n",
            "Epoch 27/30\n",
            "750/750 [==============================] - 3s 4ms/step - loss: 1.7053e-05 - accuracy: 1.0000 - val_loss: 0.1337 - val_accuracy: 0.9813\n",
            "Epoch 28/30\n",
            "750/750 [==============================] - 3s 4ms/step - loss: 1.6617e-05 - accuracy: 1.0000 - val_loss: 0.1341 - val_accuracy: 0.9813\n",
            "Epoch 29/30\n",
            "750/750 [==============================] - 3s 4ms/step - loss: 1.6191e-05 - accuracy: 1.0000 - val_loss: 0.1344 - val_accuracy: 0.9813\n",
            "Epoch 30/30\n",
            "750/750 [==============================] - 3s 4ms/step - loss: 1.5847e-05 - accuracy: 1.0000 - val_loss: 0.1348 - val_accuracy: 0.9813\n",
            "79/79 [==============================] - 0s 3ms/step - loss: 0.1186 - accuracy: 0.9839\n",
            "Epoch 1/10\n",
            "750/750 [==============================] - 3s 4ms/step - loss: 0.0893 - accuracy: 0.9771 - val_loss: 0.1236 - val_accuracy: 0.9677\n",
            "Epoch 2/10\n",
            "750/750 [==============================] - 3s 4ms/step - loss: 0.0489 - accuracy: 0.9844 - val_loss: 0.0937 - val_accuracy: 0.9770\n",
            "Epoch 3/10\n",
            "750/750 [==============================] - 3s 4ms/step - loss: 0.0432 - accuracy: 0.9856 - val_loss: 0.0908 - val_accuracy: 0.9747\n",
            "Epoch 4/10\n",
            "750/750 [==============================] - 3s 4ms/step - loss: 0.0343 - accuracy: 0.9890 - val_loss: 0.0939 - val_accuracy: 0.9760\n",
            "Epoch 5/10\n",
            "750/750 [==============================] - 3s 4ms/step - loss: 0.0337 - accuracy: 0.9892 - val_loss: 0.0877 - val_accuracy: 0.9775\n",
            "Epoch 6/10\n",
            "750/750 [==============================] - 3s 4ms/step - loss: 0.0254 - accuracy: 0.9916 - val_loss: 0.0883 - val_accuracy: 0.9764\n",
            "Epoch 7/10\n",
            "750/750 [==============================] - 3s 4ms/step - loss: 0.0234 - accuracy: 0.9925 - val_loss: 0.0885 - val_accuracy: 0.9789\n",
            "Epoch 8/10\n",
            "750/750 [==============================] - 3s 4ms/step - loss: 0.0247 - accuracy: 0.9921 - val_loss: 0.0804 - val_accuracy: 0.9813\n",
            "Epoch 9/10\n",
            "750/750 [==============================] - 3s 4ms/step - loss: 0.0193 - accuracy: 0.9938 - val_loss: 0.0789 - val_accuracy: 0.9825\n",
            "Epoch 10/10\n",
            "750/750 [==============================] - 3s 4ms/step - loss: 0.0224 - accuracy: 0.9930 - val_loss: 0.1025 - val_accuracy: 0.9758\n",
            "79/79 [==============================] - 0s 3ms/step - loss: 0.0811 - accuracy: 0.9807\n",
            "Epoch 1/20\n",
            "750/750 [==============================] - 4s 4ms/step - loss: 0.0194 - accuracy: 0.9939 - val_loss: 0.1023 - val_accuracy: 0.9752\n",
            "Epoch 2/20\n",
            "750/750 [==============================] - 3s 4ms/step - loss: 0.0153 - accuracy: 0.9952 - val_loss: 0.0752 - val_accuracy: 0.9814\n",
            "Epoch 3/20\n",
            "750/750 [==============================] - 3s 4ms/step - loss: 0.0133 - accuracy: 0.9958 - val_loss: 0.0921 - val_accuracy: 0.9818\n",
            "Epoch 4/20\n",
            "750/750 [==============================] - 3s 4ms/step - loss: 0.0171 - accuracy: 0.9946 - val_loss: 0.1047 - val_accuracy: 0.9797\n",
            "Epoch 5/20\n",
            "750/750 [==============================] - 3s 4ms/step - loss: 0.0113 - accuracy: 0.9964 - val_loss: 0.0853 - val_accuracy: 0.9833\n",
            "Epoch 6/20\n",
            "750/750 [==============================] - 3s 4ms/step - loss: 0.0116 - accuracy: 0.9966 - val_loss: 0.1076 - val_accuracy: 0.9804\n",
            "Epoch 7/20\n",
            "750/750 [==============================] - 3s 4ms/step - loss: 0.0147 - accuracy: 0.9954 - val_loss: 0.0977 - val_accuracy: 0.9809\n",
            "Epoch 8/20\n",
            "750/750 [==============================] - 3s 4ms/step - loss: 0.0118 - accuracy: 0.9962 - val_loss: 0.1075 - val_accuracy: 0.9788\n",
            "Epoch 9/20\n",
            "750/750 [==============================] - 3s 4ms/step - loss: 0.0091 - accuracy: 0.9975 - val_loss: 0.0968 - val_accuracy: 0.9827\n",
            "Epoch 10/20\n",
            "750/750 [==============================] - 3s 4ms/step - loss: 0.0094 - accuracy: 0.9973 - val_loss: 0.1172 - val_accuracy: 0.9787\n",
            "Epoch 11/20\n",
            "750/750 [==============================] - 3s 4ms/step - loss: 0.0126 - accuracy: 0.9964 - val_loss: 0.1031 - val_accuracy: 0.9800\n",
            "Epoch 12/20\n",
            "750/750 [==============================] - 3s 4ms/step - loss: 0.0101 - accuracy: 0.9969 - val_loss: 0.1037 - val_accuracy: 0.9797\n",
            "Epoch 13/20\n",
            "750/750 [==============================] - 3s 4ms/step - loss: 0.0106 - accuracy: 0.9972 - val_loss: 0.0969 - val_accuracy: 0.9819\n",
            "Epoch 14/20\n",
            "750/750 [==============================] - 3s 4ms/step - loss: 0.0109 - accuracy: 0.9969 - val_loss: 0.0811 - val_accuracy: 0.9843\n",
            "Epoch 15/20\n",
            "750/750 [==============================] - 3s 4ms/step - loss: 0.0074 - accuracy: 0.9978 - val_loss: 0.0888 - val_accuracy: 0.9838\n",
            "Epoch 16/20\n",
            "750/750 [==============================] - 3s 4ms/step - loss: 0.0080 - accuracy: 0.9980 - val_loss: 0.1055 - val_accuracy: 0.9808\n",
            "Epoch 17/20\n",
            "750/750 [==============================] - 3s 4ms/step - loss: 0.0089 - accuracy: 0.9975 - val_loss: 0.1077 - val_accuracy: 0.9814\n",
            "Epoch 18/20\n",
            "750/750 [==============================] - 3s 4ms/step - loss: 0.0092 - accuracy: 0.9972 - val_loss: 0.1063 - val_accuracy: 0.9845\n",
            "Epoch 19/20\n",
            "750/750 [==============================] - 3s 4ms/step - loss: 0.0075 - accuracy: 0.9979 - val_loss: 0.0998 - val_accuracy: 0.9843\n",
            "Epoch 20/20\n",
            "750/750 [==============================] - 3s 4ms/step - loss: 0.0080 - accuracy: 0.9981 - val_loss: 0.1047 - val_accuracy: 0.9807\n",
            "79/79 [==============================] - 0s 3ms/step - loss: 0.0932 - accuracy: 0.9840\n",
            "Epoch 1/30\n",
            "750/750 [==============================] - 3s 4ms/step - loss: 0.0071 - accuracy: 0.9978 - val_loss: 0.1128 - val_accuracy: 0.9817\n",
            "Epoch 2/30\n",
            "750/750 [==============================] - 3s 4ms/step - loss: 0.0079 - accuracy: 0.9976 - val_loss: 0.0971 - val_accuracy: 0.9843\n",
            "Epoch 3/30\n",
            "750/750 [==============================] - 3s 4ms/step - loss: 0.0047 - accuracy: 0.9986 - val_loss: 0.1177 - val_accuracy: 0.9833\n",
            "Epoch 4/30\n",
            "750/750 [==============================] - 3s 4ms/step - loss: 0.0102 - accuracy: 0.9972 - val_loss: 0.1013 - val_accuracy: 0.9828\n",
            "Epoch 5/30\n",
            "750/750 [==============================] - 3s 4ms/step - loss: 0.0069 - accuracy: 0.9979 - val_loss: 0.1069 - val_accuracy: 0.9838\n",
            "Epoch 6/30\n",
            "750/750 [==============================] - 3s 4ms/step - loss: 0.0053 - accuracy: 0.9986 - val_loss: 0.1077 - val_accuracy: 0.9836\n",
            "Epoch 7/30\n",
            "750/750 [==============================] - 3s 4ms/step - loss: 0.0073 - accuracy: 0.9979 - val_loss: 0.1200 - val_accuracy: 0.9820\n",
            "Epoch 8/30\n",
            "750/750 [==============================] - 3s 4ms/step - loss: 0.0073 - accuracy: 0.9981 - val_loss: 0.1181 - val_accuracy: 0.9833\n",
            "Epoch 9/30\n",
            "750/750 [==============================] - 3s 4ms/step - loss: 0.0056 - accuracy: 0.9985 - val_loss: 0.1512 - val_accuracy: 0.9794\n",
            "Epoch 10/30\n",
            "750/750 [==============================] - 3s 4ms/step - loss: 0.0062 - accuracy: 0.9982 - val_loss: 0.1186 - val_accuracy: 0.9822\n",
            "Epoch 11/30\n",
            "750/750 [==============================] - 3s 4ms/step - loss: 0.0082 - accuracy: 0.9979 - val_loss: 0.1129 - val_accuracy: 0.9844\n",
            "Epoch 12/30\n",
            "750/750 [==============================] - 4s 5ms/step - loss: 0.0077 - accuracy: 0.9979 - val_loss: 0.1074 - val_accuracy: 0.9845\n",
            "Epoch 13/30\n",
            "750/750 [==============================] - 3s 4ms/step - loss: 0.0029 - accuracy: 0.9992 - val_loss: 0.1059 - val_accuracy: 0.9849\n",
            "Epoch 14/30\n",
            "750/750 [==============================] - 3s 4ms/step - loss: 0.0072 - accuracy: 0.9980 - val_loss: 0.1412 - val_accuracy: 0.9825\n",
            "Epoch 15/30\n",
            "750/750 [==============================] - 3s 4ms/step - loss: 0.0104 - accuracy: 0.9978 - val_loss: 0.1349 - val_accuracy: 0.9815\n",
            "Epoch 16/30\n",
            "750/750 [==============================] - 3s 4ms/step - loss: 0.0051 - accuracy: 0.9987 - val_loss: 0.1106 - val_accuracy: 0.9844\n",
            "Epoch 17/30\n",
            "750/750 [==============================] - 3s 4ms/step - loss: 0.0054 - accuracy: 0.9984 - val_loss: 0.1302 - val_accuracy: 0.9827\n",
            "Epoch 18/30\n",
            "750/750 [==============================] - 3s 4ms/step - loss: 0.0071 - accuracy: 0.9984 - val_loss: 0.1346 - val_accuracy: 0.9809\n",
            "Epoch 19/30\n",
            "750/750 [==============================] - 3s 4ms/step - loss: 0.0074 - accuracy: 0.9981 - val_loss: 0.1415 - val_accuracy: 0.9812\n",
            "Epoch 20/30\n",
            "750/750 [==============================] - 3s 4ms/step - loss: 0.0035 - accuracy: 0.9990 - val_loss: 0.1386 - val_accuracy: 0.9832\n",
            "Epoch 21/30\n",
            "750/750 [==============================] - 3s 4ms/step - loss: 0.0077 - accuracy: 0.9980 - val_loss: 0.1400 - val_accuracy: 0.9822\n",
            "Epoch 22/30\n",
            "750/750 [==============================] - 3s 4ms/step - loss: 0.0062 - accuracy: 0.9986 - val_loss: 0.1297 - val_accuracy: 0.9817\n",
            "Epoch 23/30\n",
            "750/750 [==============================] - 3s 4ms/step - loss: 0.0048 - accuracy: 0.9988 - val_loss: 0.1479 - val_accuracy: 0.9837\n",
            "Epoch 24/30\n",
            "750/750 [==============================] - 3s 4ms/step - loss: 0.0052 - accuracy: 0.9987 - val_loss: 0.1415 - val_accuracy: 0.9823\n",
            "Epoch 25/30\n",
            "750/750 [==============================] - 3s 4ms/step - loss: 0.0079 - accuracy: 0.9981 - val_loss: 0.1350 - val_accuracy: 0.9839\n",
            "Epoch 26/30\n",
            "750/750 [==============================] - 3s 4ms/step - loss: 0.0052 - accuracy: 0.9988 - val_loss: 0.1401 - val_accuracy: 0.9832\n",
            "Epoch 27/30\n",
            "750/750 [==============================] - 3s 4ms/step - loss: 0.0040 - accuracy: 0.9991 - val_loss: 0.1342 - val_accuracy: 0.9843\n",
            "Epoch 28/30\n",
            "750/750 [==============================] - 3s 4ms/step - loss: 0.0047 - accuracy: 0.9992 - val_loss: 0.1416 - val_accuracy: 0.9805\n",
            "Epoch 29/30\n",
            "750/750 [==============================] - 3s 4ms/step - loss: 0.0057 - accuracy: 0.9984 - val_loss: 0.1077 - val_accuracy: 0.9848\n",
            "Epoch 30/30\n",
            "750/750 [==============================] - 3s 4ms/step - loss: 0.0070 - accuracy: 0.9983 - val_loss: 0.1368 - val_accuracy: 0.9834\n",
            "79/79 [==============================] - 0s 3ms/step - loss: 0.1088 - accuracy: 0.9836\n"
          ]
        }
      ]
    },
    {
      "cell_type": "code",
      "source": [
        "fig, axs = plt.subplots(2, 3)\n",
        "epoch1=range(1,11)\n",
        "epoch2 = range(1,21)\n",
        "epoch3 = range(1,31)\n",
        "\n",
        "\n",
        "axs[0, 0].set_title('SGD,epoch:10')\n",
        "axs[0, 0].plot(epoch1,hist[0]['loss'],color=\"green\",label=\"Training Loss\")\n",
        "axs[0, 0].plot(epoch1,hist[0]['val_loss'],color=\"blue\",label = \"Validation Loss\")\n",
        "\n",
        "axs[0, 1].set_title('SGD,epoch:20')\n",
        "axs[0, 1].plot(epoch2,hist[1]['loss'],color=\"green\")\n",
        "axs[0, 1].plot(epoch2,hist[1]['val_loss'],color=\"blue\")\n",
        "\n",
        "axs[0, 2].set_title('SGD,epoch:30')\n",
        "axs[0, 2].plot(epoch3,hist[2]['loss'],color=\"green\")\n",
        "axs[0, 2].plot(epoch3,hist[2]['val_loss'],color=\"blue\")\n",
        "\n",
        "axs[1, 0].set_title('Adam,epoch:10')\n",
        "axs[1, 0].plot(epoch1,hist[3]['loss'],color=\"green\")\n",
        "axs[1, 0].plot(epoch1,hist[3]['val_loss'],color=\"blue\")\n",
        "\n",
        "axs[1, 1].set_title('Adam,epoch:20')\n",
        "axs[1, 1].plot(epoch2,hist[4]['loss'],color=\"green\")\n",
        "axs[1, 1].plot(epoch2,hist[4]['val_loss'],color=\"blue\")\n",
        "\n",
        "\n",
        "axs[1, 2].set_title('Adam,epoch:30')\n",
        "axs[1, 2].plot(epoch3,hist[5]['loss'],color=\"green\")\n",
        "axs[1, 2].plot(epoch3,hist[5]['val_loss'],color=\"blue\")\n",
        "  \n",
        "\n",
        "for ax in axs.flat:\n",
        "    ax.set(xlabel='epoch', ylabel='Loss')\n",
        "\n",
        "fig.legend(bbox_to_anchor=(1.04, 1), borderaxespad=0)\n",
        "\n",
        "\n",
        "# Hide x labels and tick labels for top plots and y ticks for right plots.\n",
        "for ax in axs.flat:\n",
        "    ax.label_outer()"
      ],
      "metadata": {
        "colab": {
          "base_uri": "https://localhost:8080/",
          "height": 314
        },
        "id": "CXNoAwYwg5Au",
        "outputId": "576690e4-0144-4054-bad0-e85e3b71ef43"
      },
      "execution_count": 20,
      "outputs": [
        {
          "output_type": "display_data",
          "data": {
            "text/plain": [
              "<Figure size 432x288 with 6 Axes>"
            ],
            "image/png": "[encoded data removed]"
          },
          "metadata": {
            "needs_background": "light"
          }
        }
      ]
    },
    {
      "cell_type": "code",
      "source": [
        "fig, axs = plt.subplots(2, 3)\n",
        "epoch1=range(1,11)\n",
        "epoch2 = range(1,21)\n",
        "epoch3 = range(1,31)\n",
        "\n",
        "axs[0, 0].set_title('SGD,epoch:10')\n",
        "axs[0, 0].plot(epoch1,hist[0]['accuracy'],color=\"green\",label=\"Training Accu\")\n",
        "axs[0, 0].plot(epoch1,hist[0]['val_accuracy'],color=\"blue\",label = \"Validation Accu\")\n",
        "\n",
        "axs[0, 1].set_title('SGD,epoch:20' )\n",
        "axs[0, 1].plot(epoch2,hist[1]['accuracy'],color=\"green\")\n",
        "axs[0, 1].plot(epoch2,hist[1]['val_accuracy'],color=\"blue\")\n",
        "\n",
        "axs[0, 2].set_title('SGD,epoch:30')\n",
        "axs[0, 2].plot(epoch3,hist[2]['accuracy'],color=\"green\")\n",
        "axs[0, 2].plot(epoch3,hist[2]['val_accuracy'],color=\"blue\")\n",
        "\n",
        "\n",
        "\n",
        "axs[1, 0].set_title('Adam,epoch:10')\n",
        "axs[1, 0].plot(epoch1,hist[3]['accuracy'],color=\"green\")\n",
        "axs[1, 0].plot(epoch1,hist[3]['val_accuracy'],color=\"blue\")\n",
        "\n",
        "axs[1, 1].set_title('Adam,epoch:20')\n",
        "axs[1, 1].plot(epoch2,hist[4]['accuracy'],color=\"green\")\n",
        "axs[1, 1].plot(epoch2,hist[4]['val_accuracy'],color=\"blue\")\n",
        "\n",
        "\n",
        "axs[1, 2].set_title('Adam,epoch:30')\n",
        "axs[1, 2].plot(epoch3,hist[5]['accuracy'],color=\"green\")\n",
        "axs[1, 2].plot(epoch3,hist[5]['val_accuracy'],color=\"blue\")\n",
        "\n",
        "\n",
        "for ax in axs.flat:\n",
        "    ax.set(xlabel='epoch', ylabel='Accuracy')\n",
        "    \n",
        "fig.legend(bbox_to_anchor=(1.04, 1), borderaxespad=0)\n",
        "\n",
        "\n",
        "# Hide x labels and tick labels for top plots and y ticks for right plots.\n",
        "for ax in axs.flat:\n",
        "    ax.label_outer()"
      ],
      "metadata": {
        "colab": {
          "base_uri": "https://localhost:8080/",
          "height": 314
        },
        "id": "Y5XLxEMNhFIX",
        "outputId": "9c128221-24ff-49f7-80f1-6bfd60344e37"
      },
      "execution_count": 21,
      "outputs": [
        {
          "output_type": "display_data",
          "data": {
            "text/plain": [
              "<Figure size 432x288 with 6 Axes>"
            ],
            "image/png": "[encoded data removed]"
          },
          "metadata": {
            "needs_background": "light"
          }
        }
      ]
    },
    {
      "cell_type": "code",
      "source": [
        "results"
      ],
      "metadata": {
        "colab": {
          "base_uri": "https://localhost:8080/"
        },
        "id": "83iKKauF04hV",
        "outputId": "1ba71cc2-4043-4fed-8c55-a317d9cc391e"
      },
      "execution_count": 22,
      "outputs": [
        {
          "output_type": "execute_result",
          "data": {
            "text/plain": [
              "[[0.08029559254646301, 0.9776999950408936],\n",
              " [0.10530798137187958, 0.9843999743461609],\n",
              " [0.11861125379800797, 0.9839000105857849],\n",
              " [0.0811346247792244, 0.9807000160217285],\n",
              " [0.09315583854913712, 0.984000027179718],\n",
              " [0.10878292471170425, 0.9836000204086304]]"
            ]
          },
          "metadata": {},
          "execution_count": 22
        }
      ]
    }
  ]
}