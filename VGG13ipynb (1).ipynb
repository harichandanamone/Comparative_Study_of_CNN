{
  "cells": [
    {
      "cell_type": "code",
      "execution_count": 1,
      "metadata": {
        "id": "jJUwXVCUsrwc"
      },
      "outputs": [],
      "source": [
        "import tensorflow as tf\n",
        "from tensorflow import keras\n",
        "from sklearn.manifold import TSNE\n",
        "from tensorflow.keras.datasets import mnist\n",
        "from matplotlib import pyplot as plt\n",
        "import numpy as np\n",
        "import pandas as pd\n",
        "import seaborn as sns\n",
        "import os\n",
        "from tensorflow.keras.optimizers import Adam\n",
        "from tensorflow.keras.models import Sequential\n",
        "from tensorflow.keras.layers import Conv2D,MaxPool2D\n",
        "from tensorflow.keras.layers import Dense, Activation, Flatten"
      ]
    },
    {
      "cell_type": "code",
      "execution_count": 2,
      "metadata": {
        "colab": {
          "base_uri": "https://localhost:8080/"
        },
        "id": "WCnGxbXQsur8",
        "outputId": "f3394ca8-148d-4ab7-df49-73fcdb750f5a"
      },
      "outputs": [
        {
          "output_type": "stream",
          "name": "stdout",
          "text": [
            "Downloading data from https://storage.googleapis.com/tensorflow/tf-keras-datasets/mnist.npz\n",
            "11490434/11490434 [==============================] - 1s 0us/step\n",
            "X_train: (60000, 28, 28)\n",
            "Y_train: (60000,)\n",
            "X_test:  (10000, 28, 28)\n",
            "Y_test:  (10000,)\n"
          ]
        }
      ],
      "source": [
        "import keras\n",
        "from keras.datasets import mnist\n",
        "(train_X, train_y), (test_X, test_y) = mnist.load_data()\n",
        "print('X_train: ' + str(train_X.shape))\n",
        "print('Y_train: ' + str(train_y.shape))\n",
        "print('X_test:  '  + str(test_X.shape))\n",
        "print('Y_test:  '  + str(test_y.shape))"
      ]
    },
    {
      "cell_type": "code",
      "execution_count": 2,
      "metadata": {
        "id": "n_oPfktTsxxZ"
      },
      "outputs": [],
      "source": []
    },
    {
      "cell_type": "markdown",
      "metadata": {
        "id": "DNu8o1VvMSRK"
      },
      "source": []
    },
    {
      "cell_type": "code",
      "execution_count": 3,
      "metadata": {
        "id": "aP6iduZhsxpp"
      },
      "outputs": [],
      "source": [
        "train_y = tf.keras.utils.to_categorical(train_y, num_classes=10)\n",
        "test_y = tf.keras.utils.to_categorical(test_y, num_classes=10)"
      ]
    },
    {
      "cell_type": "code",
      "source": [
        "from sklearn.model_selection import train_test_split\n",
        "train_X, X_val, train_y, y_val = train_test_split(train_X, train_y, test_size=0.2, random_state=1)"
      ],
      "metadata": {
        "id": "TxKcXDjhZ5N-"
      },
      "execution_count": 4,
      "outputs": []
    },
    {
      "cell_type": "code",
      "execution_count": 5,
      "metadata": {
        "id": "4YeVPNaWtRwg"
      },
      "outputs": [],
      "source": [
        "model = Sequential()\n",
        "model.add(Conv2D(input_shape=(28,28,1),filters=64,kernel_size=(3,3),padding=\"same\", activation=\"relu\"))\n",
        "model.add(Conv2D(filters=64,kernel_size=(3,3),padding=\"same\", activation=\"relu\"))\n",
        "model.add(MaxPool2D(pool_size=(2,2),strides=(2,2)))\n",
        "\n",
        "model.add(Conv2D(filters=128, kernel_size=(3,3), padding=\"same\", activation=\"relu\"))\n",
        "model.add(Conv2D(filters=128, kernel_size=(3,3), padding=\"same\", activation=\"relu\"))\n",
        "model.add(MaxPool2D(pool_size=(2,2),strides=(2,2)))\n",
        "\n",
        "model.add(Conv2D(filters=256, kernel_size=(3,3), padding=\"same\", activation=\"relu\"))\n",
        "model.add(Conv2D(filters=256, kernel_size=(3,3), padding=\"same\", activation=\"relu\"))\n",
        "model.add(MaxPool2D(pool_size=(2,2),strides=(2,2)))\n",
        "\n",
        "model.add(Conv2D(filters=512, kernel_size=(3,3), padding=\"same\", activation=\"relu\"))\n",
        "model.add(Conv2D(filters=512, kernel_size=(3,3), padding=\"same\", activation=\"relu\"))\n",
        "model.add(MaxPool2D(pool_size=(2,2),strides=(2,2)))\n",
        "\n",
        "model.add(Conv2D(filters=512, kernel_size=(3,3), padding=\"same\", activation=\"relu\"))\n",
        "model.add(Conv2D(filters=512, kernel_size=(3,3), padding=\"same\", activation=\"relu\"))\n",
        "model.add(MaxPool2D(pool_size=(2,2),strides=(2,2),padding=\"same\"))\n",
        "\n",
        "model.add(Flatten())\n",
        "model.add(Dense(units=4096,activation=\"relu\"))\n",
        "model.add(Dense(units=4096,activation=\"relu\"))\n",
        "model.add(Dense(units=1000,activation=\"relu\"))\n",
        "model.add(Dense(units=10, activation=\"softmax\"))\n"
      ]
    },
    {
      "cell_type": "code",
      "execution_count": 6,
      "metadata": {
        "colab": {
          "base_uri": "https://localhost:8080/"
        },
        "id": "Q-pqpypotZs_",
        "outputId": "ed6cee86-cacf-409a-85e2-f63f6542cfca"
      },
      "outputs": [
        {
          "output_type": "stream",
          "name": "stdout",
          "text": [
            "Model: \"sequential\"\n",
            "_________________________________________________________________\n",
            " Layer (type)                Output Shape              Param #   \n",
            "=================================================================\n",
            " conv2d (Conv2D)             (None, 28, 28, 64)        640       \n",
            "                                                                 \n",
            " conv2d_1 (Conv2D)           (None, 28, 28, 64)        36928     \n",
            "                                                                 \n",
            " max_pooling2d (MaxPooling2D  (None, 14, 14, 64)       0         \n",
            " )                                                               \n",
            "                                                                 \n",
            " conv2d_2 (Conv2D)           (None, 14, 14, 128)       73856     \n",
            "                                                                 \n",
            " conv2d_3 (Conv2D)           (None, 14, 14, 128)       147584    \n",
            "                                                                 \n",
            " max_pooling2d_1 (MaxPooling  (None, 7, 7, 128)        0         \n",
            " 2D)                                                             \n",
            "                                                                 \n",
            " conv2d_4 (Conv2D)           (None, 7, 7, 256)         295168    \n",
            "                                                                 \n",
            " conv2d_5 (Conv2D)           (None, 7, 7, 256)         590080    \n",
            "                                                                 \n",
            " max_pooling2d_2 (MaxPooling  (None, 3, 3, 256)        0         \n",
            " 2D)                                                             \n",
            "                                                                 \n",
            " conv2d_6 (Conv2D)           (None, 3, 3, 512)         1180160   \n",
            "                                                                 \n",
            " conv2d_7 (Conv2D)           (None, 3, 3, 512)         2359808   \n",
            "                                                                 \n",
            " max_pooling2d_3 (MaxPooling  (None, 1, 1, 512)        0         \n",
            " 2D)                                                             \n",
            "                                                                 \n",
            " conv2d_8 (Conv2D)           (None, 1, 1, 512)         2359808   \n",
            "                                                                 \n",
            " conv2d_9 (Conv2D)           (None, 1, 1, 512)         2359808   \n",
            "                                                                 \n",
            " max_pooling2d_4 (MaxPooling  (None, 1, 1, 512)        0         \n",
            " 2D)                                                             \n",
            "                                                                 \n",
            " flatten (Flatten)           (None, 512)               0         \n",
            "                                                                 \n",
            " dense (Dense)               (None, 4096)              2101248   \n",
            "                                                                 \n",
            " dense_1 (Dense)             (None, 4096)              16781312  \n",
            "                                                                 \n",
            " dense_2 (Dense)             (None, 1000)              4097000   \n",
            "                                                                 \n",
            " dense_3 (Dense)             (None, 10)                10010     \n",
            "                                                                 \n",
            "=================================================================\n",
            "Total params: 32,393,410\n",
            "Trainable params: 32,393,410\n",
            "Non-trainable params: 0\n",
            "_________________________________________________________________\n"
          ]
        }
      ],
      "source": [
        "model.summary()"
      ]
    },
    {
      "cell_type": "code",
      "execution_count": 7,
      "metadata": {
        "id": "NgUCyEJ7uixj"
      },
      "outputs": [],
      "source": [
        "train_X= train_X.reshape(-1,28,28,1)"
      ]
    },
    {
      "cell_type": "code",
      "execution_count": 8,
      "metadata": {
        "id": "R7QWMMEQt83d"
      },
      "outputs": [],
      "source": [
        "# train_y = tf.keras.utils.to_categorical(train_y, num_classes=10)\n",
        "# test_y = tf.keras.utils.to_categorical(test_y, num_classes=10)"
      ]
    },
    {
      "cell_type": "code",
      "execution_count": 9,
      "metadata": {
        "colab": {
          "base_uri": "https://localhost:8080/"
        },
        "id": "OpB9LDYxuj8o",
        "outputId": "fd7847c3-6553-40cb-f407-af8a7efb5e19"
      },
      "outputs": [
        {
          "output_type": "execute_result",
          "data": {
            "text/plain": [
              "(48000, 10)"
            ]
          },
          "metadata": {},
          "execution_count": 9
        }
      ],
      "source": [
        "train_y.shape"
      ]
    },
    {
      "cell_type": "code",
      "execution_count": 10,
      "metadata": {
        "id": "PslUCkrct8rK"
      },
      "outputs": [],
      "source": [
        "hist=[]\n",
        "results=[]"
      ]
    },
    {
      "cell_type": "code",
      "execution_count": 11,
      "metadata": {
        "colab": {
          "base_uri": "https://localhost:8080/"
        },
        "id": "y0atILmXuGI6",
        "outputId": "555c26c0-683e-449d-b2be-b51780e5cbd8"
      },
      "outputs": [
        {
          "output_type": "stream",
          "name": "stderr",
          "text": [
            "/usr/local/lib/python3.8/dist-packages/keras/optimizers/optimizer_v2/gradient_descent.py:108: UserWarning: The `lr` argument is deprecated, use `learning_rate` instead.\n",
            "  super(SGD, self).__init__(name, **kwargs)\n",
            "/usr/local/lib/python3.8/dist-packages/keras/optimizers/optimizer_v2/adam.py:110: UserWarning: The `lr` argument is deprecated, use `learning_rate` instead.\n",
            "  super(Adam, self).__init__(name, **kwargs)\n"
          ]
        },
        {
          "output_type": "stream",
          "name": "stdout",
          "text": [
            "Epoch 1/5\n",
            "750/750 [==============================] - 34s 31ms/step - loss: 0.7141 - accuracy: 0.7680 - val_loss: 0.1067 - val_accuracy: 0.9656\n",
            "Epoch 2/5\n",
            "750/750 [==============================] - 23s 31ms/step - loss: 0.0859 - accuracy: 0.9736 - val_loss: 0.0663 - val_accuracy: 0.9793\n",
            "Epoch 3/5\n",
            "750/750 [==============================] - 23s 31ms/step - loss: 0.0533 - accuracy: 0.9840 - val_loss: 0.0581 - val_accuracy: 0.9815\n",
            "Epoch 4/5\n",
            "750/750 [==============================] - 24s 32ms/step - loss: 0.0377 - accuracy: 0.9884 - val_loss: 0.0503 - val_accuracy: 0.9838\n",
            "Epoch 5/5\n",
            "750/750 [==============================] - 24s 31ms/step - loss: 0.0265 - accuracy: 0.9917 - val_loss: 0.0444 - val_accuracy: 0.9866\n",
            "79/79 [==============================] - 2s 17ms/step - loss: 0.0342 - accuracy: 0.9893\n",
            "Epoch 1/10\n",
            "750/750 [==============================] - 24s 31ms/step - loss: 0.0221 - accuracy: 0.9928 - val_loss: 0.0596 - val_accuracy: 0.9847\n",
            "Epoch 2/10\n",
            "750/750 [==============================] - 25s 33ms/step - loss: 0.0162 - accuracy: 0.9948 - val_loss: 0.0399 - val_accuracy: 0.9893\n",
            "Epoch 3/10\n",
            "750/750 [==============================] - 24s 32ms/step - loss: 0.0120 - accuracy: 0.9961 - val_loss: 0.0420 - val_accuracy: 0.9893\n",
            "Epoch 4/10\n",
            "750/750 [==============================] - 24s 31ms/step - loss: 0.0101 - accuracy: 0.9966 - val_loss: 0.0468 - val_accuracy: 0.9883\n",
            "Epoch 5/10\n",
            "750/750 [==============================] - 24s 32ms/step - loss: 0.0080 - accuracy: 0.9976 - val_loss: 0.0879 - val_accuracy: 0.9778\n",
            "Epoch 6/10\n",
            "750/750 [==============================] - 24s 32ms/step - loss: 0.0059 - accuracy: 0.9982 - val_loss: 0.0453 - val_accuracy: 0.9886\n",
            "Epoch 7/10\n",
            "750/750 [==============================] - 23s 31ms/step - loss: 0.0062 - accuracy: 0.9983 - val_loss: 0.0463 - val_accuracy: 0.9895\n",
            "Epoch 8/10\n",
            "750/750 [==============================] - 24s 32ms/step - loss: 0.0020 - accuracy: 0.9994 - val_loss: 0.0548 - val_accuracy: 0.9887\n",
            "Epoch 9/10\n",
            "750/750 [==============================] - 23s 31ms/step - loss: 0.0049 - accuracy: 0.9988 - val_loss: 0.0494 - val_accuracy: 0.9888\n",
            "Epoch 10/10\n",
            "750/750 [==============================] - 24s 32ms/step - loss: 0.0013 - accuracy: 0.9995 - val_loss: 0.0549 - val_accuracy: 0.9895\n",
            "79/79 [==============================] - 1s 15ms/step - loss: 0.0372 - accuracy: 0.9911\n",
            "Epoch 1/15\n",
            "750/750 [==============================] - 24s 31ms/step - loss: 7.7864e-04 - accuracy: 0.9998 - val_loss: 0.0530 - val_accuracy: 0.9900\n",
            "Epoch 2/15\n",
            "750/750 [==============================] - 24s 32ms/step - loss: 4.9921e-04 - accuracy: 0.9999 - val_loss: 0.0555 - val_accuracy: 0.9907\n",
            "Epoch 3/15\n",
            "750/750 [==============================] - 24s 32ms/step - loss: 0.0010 - accuracy: 0.9996 - val_loss: 0.0604 - val_accuracy: 0.9889\n",
            "Epoch 4/15\n",
            "750/750 [==============================] - 23s 31ms/step - loss: 0.0072 - accuracy: 0.9985 - val_loss: 0.0464 - val_accuracy: 0.9891\n",
            "Epoch 5/15\n",
            "750/750 [==============================] - 23s 31ms/step - loss: 0.0011 - accuracy: 0.9998 - val_loss: 0.0545 - val_accuracy: 0.9895\n",
            "Epoch 6/15\n",
            "750/750 [==============================] - 24s 31ms/step - loss: 2.7364e-04 - accuracy: 1.0000 - val_loss: 0.0554 - val_accuracy: 0.9896\n",
            "Epoch 7/15\n",
            "750/750 [==============================] - 23s 31ms/step - loss: 7.9284e-05 - accuracy: 1.0000 - val_loss: 0.0559 - val_accuracy: 0.9905\n",
            "Epoch 8/15\n",
            "750/750 [==============================] - 23s 31ms/step - loss: 4.3904e-05 - accuracy: 1.0000 - val_loss: 0.0575 - val_accuracy: 0.9902\n",
            "Epoch 9/15\n",
            "750/750 [==============================] - 23s 31ms/step - loss: 3.3287e-05 - accuracy: 1.0000 - val_loss: 0.0588 - val_accuracy: 0.9903\n",
            "Epoch 10/15\n",
            "750/750 [==============================] - 23s 31ms/step - loss: 2.7083e-05 - accuracy: 1.0000 - val_loss: 0.0597 - val_accuracy: 0.9902\n",
            "Epoch 11/15\n",
            "750/750 [==============================] - 23s 31ms/step - loss: 2.2987e-05 - accuracy: 1.0000 - val_loss: 0.0608 - val_accuracy: 0.9902\n",
            "Epoch 12/15\n",
            "750/750 [==============================] - 24s 32ms/step - loss: 1.9831e-05 - accuracy: 1.0000 - val_loss: 0.0616 - val_accuracy: 0.9902\n",
            "Epoch 13/15\n",
            "750/750 [==============================] - 23s 31ms/step - loss: 1.7698e-05 - accuracy: 1.0000 - val_loss: 0.0622 - val_accuracy: 0.9902\n",
            "Epoch 14/15\n",
            "750/750 [==============================] - 24s 32ms/step - loss: 1.5825e-05 - accuracy: 1.0000 - val_loss: 0.0628 - val_accuracy: 0.9903\n",
            "Epoch 15/15\n",
            "750/750 [==============================] - 23s 31ms/step - loss: 1.4356e-05 - accuracy: 1.0000 - val_loss: 0.0633 - val_accuracy: 0.9904\n",
            "79/79 [==============================] - 1s 15ms/step - loss: 0.0390 - accuracy: 0.9917\n",
            "Epoch 1/5\n",
            "750/750 [==============================] - 27s 35ms/step - loss: 0.5782 - accuracy: 0.8531 - val_loss: 0.1591 - val_accuracy: 0.9601\n",
            "Epoch 2/5\n",
            "750/750 [==============================] - 25s 34ms/step - loss: 0.1158 - accuracy: 0.9736 - val_loss: 0.1025 - val_accuracy: 0.9773\n",
            "Epoch 3/5\n",
            "750/750 [==============================] - 26s 34ms/step - loss: 0.0971 - accuracy: 0.9788 - val_loss: 0.1259 - val_accuracy: 0.9758\n",
            "Epoch 4/5\n",
            "750/750 [==============================] - 26s 34ms/step - loss: 0.1013 - accuracy: 0.9781 - val_loss: 0.0667 - val_accuracy: 0.9853\n",
            "Epoch 5/5\n",
            "750/750 [==============================] - 25s 33ms/step - loss: 0.0701 - accuracy: 0.9850 - val_loss: 0.0674 - val_accuracy: 0.9859\n",
            "79/79 [==============================] - 1s 15ms/step - loss: 0.0448 - accuracy: 0.9896\n",
            "Epoch 1/10\n",
            "750/750 [==============================] - 26s 33ms/step - loss: 0.0794 - accuracy: 0.9835 - val_loss: 0.0962 - val_accuracy: 0.9812\n",
            "Epoch 2/10\n",
            "750/750 [==============================] - 25s 34ms/step - loss: 0.0535 - accuracy: 0.9890 - val_loss: 0.0815 - val_accuracy: 0.9847\n",
            "Epoch 3/10\n",
            "750/750 [==============================] - 25s 33ms/step - loss: 0.0859 - accuracy: 0.9829 - val_loss: 0.0751 - val_accuracy: 0.9850\n",
            "Epoch 4/10\n",
            "750/750 [==============================] - 26s 34ms/step - loss: 0.0569 - accuracy: 0.9889 - val_loss: 0.0466 - val_accuracy: 0.9907\n",
            "Epoch 5/10\n",
            "750/750 [==============================] - 25s 33ms/step - loss: 0.0466 - accuracy: 0.9905 - val_loss: 0.0816 - val_accuracy: 0.9819\n",
            "Epoch 6/10\n",
            "750/750 [==============================] - 25s 33ms/step - loss: 0.0483 - accuracy: 0.9904 - val_loss: 0.0579 - val_accuracy: 0.9898\n",
            "Epoch 7/10\n",
            "750/750 [==============================] - 26s 34ms/step - loss: 0.0570 - accuracy: 0.9892 - val_loss: 0.1541 - val_accuracy: 0.9712\n",
            "Epoch 8/10\n",
            "750/750 [==============================] - 25s 33ms/step - loss: 0.0677 - accuracy: 0.9869 - val_loss: 0.1126 - val_accuracy: 0.9803\n",
            "Epoch 9/10\n",
            "750/750 [==============================] - 25s 33ms/step - loss: 0.0419 - accuracy: 0.9914 - val_loss: 0.0919 - val_accuracy: 0.9869\n",
            "Epoch 10/10\n",
            "750/750 [==============================] - 25s 33ms/step - loss: 0.0348 - accuracy: 0.9924 - val_loss: 0.0621 - val_accuracy: 0.9865\n",
            "79/79 [==============================] - 1s 15ms/step - loss: 0.0496 - accuracy: 0.9883\n",
            "Epoch 1/15\n",
            "750/750 [==============================] - 27s 34ms/step - loss: 0.0340 - accuracy: 0.9925 - val_loss: 0.0753 - val_accuracy: 0.9877\n",
            "Epoch 2/15\n",
            "750/750 [==============================] - 25s 33ms/step - loss: 0.0360 - accuracy: 0.9923 - val_loss: 0.1305 - val_accuracy: 0.9875\n",
            "Epoch 3/15\n",
            "750/750 [==============================] - 25s 33ms/step - loss: 0.0589 - accuracy: 0.9889 - val_loss: 0.0621 - val_accuracy: 0.9874\n",
            "Epoch 4/15\n",
            "750/750 [==============================] - 25s 33ms/step - loss: 0.0209 - accuracy: 0.9953 - val_loss: 0.0688 - val_accuracy: 0.9908\n",
            "Epoch 5/15\n",
            "750/750 [==============================] - 25s 33ms/step - loss: 0.0460 - accuracy: 0.9909 - val_loss: 0.0548 - val_accuracy: 0.9882\n",
            "Epoch 6/15\n",
            "750/750 [==============================] - 26s 34ms/step - loss: 0.0360 - accuracy: 0.9930 - val_loss: 0.0562 - val_accuracy: 0.9893\n",
            "Epoch 7/15\n",
            "750/750 [==============================] - 25s 33ms/step - loss: 0.0585 - accuracy: 0.9899 - val_loss: 0.0704 - val_accuracy: 0.9895\n",
            "Epoch 8/15\n",
            "750/750 [==============================] - 25s 33ms/step - loss: 0.0360 - accuracy: 0.9929 - val_loss: 0.0837 - val_accuracy: 0.9858\n",
            "Epoch 9/15\n",
            "750/750 [==============================] - 25s 33ms/step - loss: 0.0404 - accuracy: 0.9913 - val_loss: 0.0814 - val_accuracy: 0.9858\n",
            "Epoch 10/15\n",
            "750/750 [==============================] - 25s 33ms/step - loss: 0.0222 - accuracy: 0.9948 - val_loss: 0.1001 - val_accuracy: 0.9898\n",
            "Epoch 11/15\n",
            "750/750 [==============================] - 25s 33ms/step - loss: 0.0576 - accuracy: 0.9897 - val_loss: 0.0742 - val_accuracy: 0.9872\n",
            "Epoch 12/15\n",
            "750/750 [==============================] - 25s 33ms/step - loss: 0.0364 - accuracy: 0.9930 - val_loss: 0.0664 - val_accuracy: 0.9902\n",
            "Epoch 13/15\n",
            "750/750 [==============================] - 25s 33ms/step - loss: 0.0329 - accuracy: 0.9936 - val_loss: 0.0865 - val_accuracy: 0.9859\n",
            "Epoch 14/15\n",
            "750/750 [==============================] - 25s 33ms/step - loss: 0.0482 - accuracy: 0.9915 - val_loss: 0.0821 - val_accuracy: 0.9855\n",
            "Epoch 15/15\n",
            "750/750 [==============================] - 25s 33ms/step - loss: 0.0313 - accuracy: 0.9938 - val_loss: 0.0793 - val_accuracy: 0.9901\n",
            "79/79 [==============================] - 1s 14ms/step - loss: 0.0513 - accuracy: 0.9908\n"
          ]
        }
      ],
      "source": [
        "from keras.optimizers import SGD,Adam\n",
        "\n",
        "opt_list=[SGD(lr=0.01),Adam(lr=0.001)]\n",
        "epochs_list = [5,10,15]\n",
        "for optimizer in  opt_list:\n",
        "  for epoch in epochs_list:\n",
        "\n",
        "    model.compile(optimizer=optimizer, loss=keras.losses.categorical_crossentropy, metrics=['accuracy'])\n",
        "    history = model.fit(\n",
        "      train_X,\n",
        "      train_y,\n",
        "      batch_size=64,\n",
        "      epochs=epoch,\n",
        "       validation_data=(X_val, y_val)\n",
        "    )\n",
        "    hist.append(history.history)\n",
        "    results.append(model.evaluate(test_X, test_y, batch_size=128))"
      ]
    },
    {
      "cell_type": "code",
      "source": [
        "fig, axs = plt.subplots(2, 3)\n",
        "epoch1=range(1,6)\n",
        "epoch2 = range(1,11)\n",
        "epoch3 = range(1,16)\n",
        "\n",
        "\n",
        "axs[0, 0].set_title('SGD,epoch:5')\n",
        "axs[0, 0].plot(epoch1,hist[0]['loss'],color=\"green\",label=\"Training Loss\")\n",
        "axs[0, 0].plot(epoch1,hist[0]['val_loss'],color=\"blue\",label = \"Validation Loss\")\n",
        "\n",
        "axs[0, 1].set_title('SGD,epoch:10')\n",
        "axs[0, 1].plot(epoch2,hist[1]['loss'],color=\"green\")\n",
        "axs[0, 1].plot(epoch2,hist[1]['val_loss'],color=\"blue\")\n",
        "\n",
        "axs[0, 2].set_title('SGD,epoch:15')\n",
        "axs[0, 2].plot(epoch3,hist[2]['loss'],color=\"green\")\n",
        "axs[0, 2].plot(epoch3,hist[2]['val_loss'],color=\"blue\")\n",
        "\n",
        "axs[1, 0].set_title('Adam,epoch:5')\n",
        "axs[1, 0].plot(epoch1,hist[3]['loss'],color=\"green\")\n",
        "axs[1, 0].plot(epoch1,hist[3]['val_loss'],color=\"blue\")\n",
        "\n",
        "axs[1, 1].set_title('Adam,epoch:10')\n",
        "axs[1, 1].plot(epoch2,hist[4]['loss'],color=\"green\")\n",
        "axs[1, 1].plot(epoch2,hist[4]['val_loss'],color=\"blue\")\n",
        "\n",
        "\n",
        "axs[1, 2].set_title('Adam,epoch:15')\n",
        "axs[1, 2].plot(epoch3,hist[5]['loss'],color=\"green\")\n",
        "axs[1, 2].plot(epoch3,hist[5]['val_loss'],color=\"blue\")\n",
        "  \n",
        "\n",
        "for ax in axs.flat:\n",
        "    ax.set(xlabel='epoch', ylabel='Loss')\n",
        "\n",
        "fig.legend(bbox_to_anchor=(1.04, 1), borderaxespad=0)\n",
        "\n",
        "\n",
        "# Hide x labels and tick labels for top plots and y ticks for right plots.\n",
        "for ax in axs.flat:\n",
        "    ax.label_outer()"
      ],
      "metadata": {
        "id": "EzqOE_NjaNMB",
        "outputId": "65105424-940f-405a-d87a-a151ce1be098",
        "colab": {
          "base_uri": "https://localhost:8080/",
          "height": 314
        }
      },
      "execution_count": 12,
      "outputs": [
        {
          "output_type": "display_data",
          "data": {
            "text/plain": [
              "<Figure size 432x288 with 6 Axes>"
            ],
            "image/png": "[encoded data removed]"
          },
          "metadata": {
            "needs_background": "light"
          }
        }
      ]
    },
    {
      "cell_type": "code",
      "source": [
        "fig, axs = plt.subplots(2, 3)\n",
        "epoch1=range(1,6)\n",
        "epoch2 = range(1,11)\n",
        "epoch3 = range(1,16)\n",
        "axs[0, 0].set_title('SGD,epoch:5')\n",
        "axs[0, 0].plot(epoch1,hist[0]['accuracy'],color=\"green\",label=\"Training Accu\")\n",
        "axs[0, 0].plot(epoch1,hist[0]['val_accuracy'],color=\"blue\",label = \"Validation Accu\")\n",
        "\n",
        "axs[0, 1].set_title('SGD,epoch:10' )\n",
        "axs[0, 1].plot(epoch2,hist[1]['accuracy'],color=\"green\")\n",
        "axs[0, 1].plot(epoch2,hist[1]['val_accuracy'],color=\"blue\")\n",
        "\n",
        "axs[0, 2].set_title('SGD,epoch:15')\n",
        "axs[0, 2].plot(epoch3,hist[2]['accuracy'],color=\"green\")\n",
        "axs[0, 2].plot(epoch3,hist[2]['val_accuracy'],color=\"blue\")\n",
        "\n",
        "\n",
        "\n",
        "axs[1, 0].set_title('Adam,epoch:5')\n",
        "axs[1, 0].plot(epoch1,hist[3]['accuracy'],color=\"green\")\n",
        "axs[1, 0].plot(epoch1,hist[3]['val_accuracy'],color=\"blue\")\n",
        "\n",
        "axs[1, 1].set_title('Adam,epoch:10')\n",
        "axs[1, 1].plot(epoch2,hist[4]['accuracy'],color=\"green\")\n",
        "axs[1, 1].plot(epoch2,hist[4]['val_accuracy'],color=\"blue\")\n",
        "\n",
        "\n",
        "axs[1, 2].set_title('Adam,epoch:15')\n",
        "axs[1, 2].plot(epoch3,hist[5]['accuracy'],color=\"green\")\n",
        "axs[1, 2].plot(epoch3,hist[5]['val_accuracy'],color=\"blue\")\n",
        "\n",
        "\n",
        "for ax in axs.flat:\n",
        "    ax.set(xlabel='epoch', ylabel='Accuracy')\n",
        "    \n",
        "fig.legend(bbox_to_anchor=(1.04, 1), borderaxespad=0)\n",
        "\n",
        "\n",
        "# Hide x labels and tick labels for top plots and y ticks for right plots.\n",
        "for ax in axs.flat:\n",
        "    ax.label_outer()"
      ],
      "metadata": {
        "id": "ANDwc_StZ7cM",
        "outputId": "1f64d42a-2391-4e67-ff66-397d1d488ad8",
        "colab": {
          "base_uri": "https://localhost:8080/",
          "height": 314
        }
      },
      "execution_count": 13,
      "outputs": [
        {
          "output_type": "display_data",
          "data": {
            "text/plain": [
              "<Figure size 432x288 with 6 Axes>"
            ],
            "image/png": "[encoded data removed]"
          },
          "metadata": {
            "needs_background": "light"
          }
        }
      ]
    },
    {
      "cell_type": "code",
      "source": [
        "results"
      ],
      "metadata": {
        "id": "Vb9imfDCaKXN",
        "outputId": "ac893949-34cc-468d-d942-95320985f0e3",
        "colab": {
          "base_uri": "https://localhost:8080/"
        }
      },
      "execution_count": 14,
      "outputs": [
        {
          "output_type": "execute_result",
          "data": {
            "text/plain": [
              "[[0.034243393689394, 0.989300012588501],\n",
              " [0.037184469401836395, 0.991100013256073],\n",
              " [0.039036087691783905, 0.9916999936103821],\n",
              " [0.04478760063648224, 0.9896000027656555],\n",
              " [0.049577269703149796, 0.9883000254631042],\n",
              " [0.051326118409633636, 0.9908000230789185]]"
            ]
          },
          "metadata": {},
          "execution_count": 14
        }
      ]
    }
  ],
  "metadata": {
    "accelerator": "GPU",
    "colab": {
      "provenance": []
    },
    "gpuClass": "standard",
    "kernelspec": {
      "display_name": "Python 3",
      "name": "python3"
    },
    "language_info": {
      "name": "python"
    }
  },
  "nbformat": 4,
  "nbformat_minor": 0
}