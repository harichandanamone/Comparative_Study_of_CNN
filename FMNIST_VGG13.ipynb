{
  "nbformat": 4,
  "nbformat_minor": 0,
  "metadata": {
    "colab": {
      "provenance": []
    },
    "kernelspec": {
      "name": "python3",
      "display_name": "Python 3"
    },
    "language_info": {
      "name": "python"
    },
    "accelerator": "GPU",
    "gpuClass": "standard"
  },
  "cells": [
    {
      "cell_type": "code",
      "execution_count": 1,
      "metadata": {
        "id": "rB9k1bLgL-_H"
      },
      "outputs": [],
      "source": [
        "import tensorflow as tf\n",
        "from tensorflow import keras\n",
        "from sklearn.manifold import TSNE\n",
        "from tensorflow.keras.datasets import mnist\n",
        "from matplotlib import pyplot as plt\n",
        "import numpy as np\n",
        "import pandas as pd\n",
        "import seaborn as sns\n",
        "import os\n",
        "from tensorflow.keras.optimizers import Adam\n",
        "from tensorflow.keras.models import Sequential\n",
        "from tensorflow.keras.layers import Conv2D,MaxPool2D\n",
        "from tensorflow.keras.layers import Dense, Activation, Flatten"
      ]
    },
    {
      "cell_type": "code",
      "source": [
        "from keras.datasets import fashion_mnist\n",
        "(train_X, train_y), (test_X, test_y) = fashion_mnist.load_data()"
      ],
      "metadata": {
        "colab": {
          "base_uri": "https://localhost:8080/"
        },
        "id": "VD_431RxMF67",
        "outputId": "d92b7754-fdab-41ba-9533-3cd2c4ccabf1"
      },
      "execution_count": 2,
      "outputs": [
        {
          "output_type": "stream",
          "name": "stdout",
          "text": [
            "Downloading data from https://storage.googleapis.com/tensorflow/tf-keras-datasets/train-labels-idx1-ubyte.gz\n",
            "29515/29515 [==============================] - 0s 0us/step\n",
            "Downloading data from https://storage.googleapis.com/tensorflow/tf-keras-datasets/train-images-idx3-ubyte.gz\n",
            "26421880/26421880 [==============================] - 2s 0us/step\n",
            "Downloading data from https://storage.googleapis.com/tensorflow/tf-keras-datasets/t10k-labels-idx1-ubyte.gz\n",
            "5148/5148 [==============================] - 0s 0us/step\n",
            "Downloading data from https://storage.googleapis.com/tensorflow/tf-keras-datasets/t10k-images-idx3-ubyte.gz\n",
            "4422102/4422102 [==============================] - 0s 0us/step\n"
          ]
        }
      ]
    },
    {
      "cell_type": "code",
      "source": [
        "train_y = tf.keras.utils.to_categorical(train_y, num_classes=10)\n",
        "test_y = tf.keras.utils.to_categorical(test_y, num_classes=10)"
      ],
      "metadata": {
        "id": "3YIjCCyDM6cH"
      },
      "execution_count": 3,
      "outputs": []
    },
    {
      "cell_type": "code",
      "source": [
        "from sklearn.model_selection import train_test_split\n",
        "train_X, X_val, train_y, y_val = train_test_split(train_X, train_y, test_size=0.2, random_state=1)"
      ],
      "metadata": {
        "id": "Aqru1BPGM6Z7"
      },
      "execution_count": 4,
      "outputs": []
    },
    {
      "cell_type": "code",
      "source": [
        "model = Sequential()\n",
        "model.add(Conv2D(input_shape=(28,28,1),filters=64,kernel_size=(3,3),padding=\"same\", activation=\"relu\"))\n",
        "model.add(Conv2D(filters=64,kernel_size=(3,3),padding=\"same\", activation=\"relu\"))\n",
        "model.add(MaxPool2D(pool_size=(2,2),strides=(2,2)))\n",
        "\n",
        "model.add(Conv2D(filters=128, kernel_size=(3,3), padding=\"same\", activation=\"relu\"))\n",
        "model.add(Conv2D(filters=128, kernel_size=(3,3), padding=\"same\", activation=\"relu\"))\n",
        "model.add(MaxPool2D(pool_size=(2,2),strides=(2,2)))\n",
        "\n",
        "model.add(Conv2D(filters=256, kernel_size=(3,3), padding=\"same\", activation=\"relu\"))\n",
        "model.add(Conv2D(filters=256, kernel_size=(3,3), padding=\"same\", activation=\"relu\"))\n",
        "model.add(MaxPool2D(pool_size=(2,2),strides=(2,2)))\n",
        "\n",
        "model.add(Conv2D(filters=512, kernel_size=(3,3), padding=\"same\", activation=\"relu\"))\n",
        "model.add(Conv2D(filters=512, kernel_size=(3,3), padding=\"same\", activation=\"relu\"))\n",
        "model.add(MaxPool2D(pool_size=(2,2),strides=(2,2)))\n",
        "\n",
        "model.add(Conv2D(filters=512, kernel_size=(3,3), padding=\"same\", activation=\"relu\"))\n",
        "model.add(Conv2D(filters=512, kernel_size=(3,3), padding=\"same\", activation=\"relu\"))\n",
        "model.add(MaxPool2D(pool_size=(2,2),strides=(2,2),padding=\"same\"))\n",
        "\n",
        "model.add(Flatten())\n",
        "model.add(Dense(units=4096,activation=\"relu\"))\n",
        "model.add(Dense(units=4096,activation=\"relu\"))\n",
        "model.add(Dense(units=1000,activation=\"relu\"))\n",
        "model.add(Dense(units=10, activation=\"softmax\"))\n"
      ],
      "metadata": {
        "id": "ZuKXCt2TMYc_"
      },
      "execution_count": 5,
      "outputs": []
    },
    {
      "cell_type": "code",
      "source": [
        "model.summary()"
      ],
      "metadata": {
        "colab": {
          "base_uri": "https://localhost:8080/"
        },
        "id": "WaWZnitXMZ45",
        "outputId": "e55620f3-d80b-4e26-d693-6f2c2156f52d"
      },
      "execution_count": 6,
      "outputs": [
        {
          "output_type": "stream",
          "name": "stdout",
          "text": [
            "Model: \"sequential\"\n",
            "_________________________________________________________________\n",
            " Layer (type)                Output Shape              Param #   \n",
            "=================================================================\n",
            " conv2d (Conv2D)             (None, 28, 28, 64)        640       \n",
            "                                                                 \n",
            " conv2d_1 (Conv2D)           (None, 28, 28, 64)        36928     \n",
            "                                                                 \n",
            " max_pooling2d (MaxPooling2D  (None, 14, 14, 64)       0         \n",
            " )                                                               \n",
            "                                                                 \n",
            " conv2d_2 (Conv2D)           (None, 14, 14, 128)       73856     \n",
            "                                                                 \n",
            " conv2d_3 (Conv2D)           (None, 14, 14, 128)       147584    \n",
            "                                                                 \n",
            " max_pooling2d_1 (MaxPooling  (None, 7, 7, 128)        0         \n",
            " 2D)                                                             \n",
            "                                                                 \n",
            " conv2d_4 (Conv2D)           (None, 7, 7, 256)         295168    \n",
            "                                                                 \n",
            " conv2d_5 (Conv2D)           (None, 7, 7, 256)         590080    \n",
            "                                                                 \n",
            " max_pooling2d_2 (MaxPooling  (None, 3, 3, 256)        0         \n",
            " 2D)                                                             \n",
            "                                                                 \n",
            " conv2d_6 (Conv2D)           (None, 3, 3, 512)         1180160   \n",
            "                                                                 \n",
            " conv2d_7 (Conv2D)           (None, 3, 3, 512)         2359808   \n",
            "                                                                 \n",
            " max_pooling2d_3 (MaxPooling  (None, 1, 1, 512)        0         \n",
            " 2D)                                                             \n",
            "                                                                 \n",
            " conv2d_8 (Conv2D)           (None, 1, 1, 512)         2359808   \n",
            "                                                                 \n",
            " conv2d_9 (Conv2D)           (None, 1, 1, 512)         2359808   \n",
            "                                                                 \n",
            " max_pooling2d_4 (MaxPooling  (None, 1, 1, 512)        0         \n",
            " 2D)                                                             \n",
            "                                                                 \n",
            " flatten (Flatten)           (None, 512)               0         \n",
            "                                                                 \n",
            " dense (Dense)               (None, 4096)              2101248   \n",
            "                                                                 \n",
            " dense_1 (Dense)             (None, 4096)              16781312  \n",
            "                                                                 \n",
            " dense_2 (Dense)             (None, 1000)              4097000   \n",
            "                                                                 \n",
            " dense_3 (Dense)             (None, 10)                10010     \n",
            "                                                                 \n",
            "=================================================================\n",
            "Total params: 32,393,410\n",
            "Trainable params: 32,393,410\n",
            "Non-trainable params: 0\n",
            "_________________________________________________________________\n"
          ]
        }
      ]
    },
    {
      "cell_type": "code",
      "source": [
        "train_X= train_X.reshape(-1,28,28,1)"
      ],
      "metadata": {
        "id": "d6JG12JZMbq5"
      },
      "execution_count": 7,
      "outputs": []
    },
    {
      "cell_type": "code",
      "source": [],
      "metadata": {
        "id": "tJ93q7ZYM4JE"
      },
      "execution_count": 7,
      "outputs": []
    },
    {
      "cell_type": "code",
      "source": [
        "hist=[]\n",
        "results=[]"
      ],
      "metadata": {
        "id": "8J_x5WiwMbgZ"
      },
      "execution_count": 8,
      "outputs": []
    },
    {
      "cell_type": "code",
      "source": [
        "hist"
      ],
      "metadata": {
        "colab": {
          "base_uri": "https://localhost:8080/"
        },
        "id": "ZQWN9v7z6I5P",
        "outputId": "74fe4c8e-ac06-450a-fdb8-d1f32a1148e7"
      },
      "execution_count": 9,
      "outputs": [
        {
          "output_type": "execute_result",
          "data": {
            "text/plain": [
              "[]"
            ]
          },
          "metadata": {},
          "execution_count": 9
        }
      ]
    },
    {
      "cell_type": "code",
      "source": [
        "results"
      ],
      "metadata": {
        "colab": {
          "base_uri": "https://localhost:8080/"
        },
        "id": "8vyDxRxy6Jmd",
        "outputId": "e8afbf58-c6ee-4b75-dd63-f1717bda77b6"
      },
      "execution_count": 10,
      "outputs": [
        {
          "output_type": "execute_result",
          "data": {
            "text/plain": [
              "[]"
            ]
          },
          "metadata": {},
          "execution_count": 10
        }
      ]
    },
    {
      "cell_type": "code",
      "source": [
        "from keras.optimizers import SGD,Adam\n",
        "\n",
        "opt_list=[SGD(lr=0.01),Adam(lr=0.001)]\n",
        "epochs_list = [5,10,15]\n",
        "for optimizer in  opt_list:\n",
        "  for epoch in epochs_list:\n",
        "\n",
        "    model.compile(optimizer=optimizer, loss=keras.losses.categorical_crossentropy, metrics=['accuracy'])\n",
        "    history = model.fit(\n",
        "      train_X,\n",
        "      train_y,\n",
        "      batch_size=64,\n",
        "      epochs=epoch,\n",
        "      validation_data=(X_val, y_val)\n",
        "    )\n",
        "    hist.append(history.history)\n",
        "    results.append(model.evaluate(test_X, test_y, batch_size=128))"
      ],
      "metadata": {
        "colab": {
          "base_uri": "https://localhost:8080/"
        },
        "id": "GOwpsTThMmFV",
        "outputId": "92cae58c-b781-463d-a457-62cb3b572f72"
      },
      "execution_count": 11,
      "outputs": [
        {
          "metadata": {
            "tags": null
          },
          "name": "stderr",
          "output_type": "stream",
          "text": [
            "/usr/local/lib/python3.8/dist-packages/keras/optimizers/optimizer_v2/gradient_descent.py:108: UserWarning: The `lr` argument is deprecated, use `learning_rate` instead.\n",
            "  super(SGD, self).__init__(name, **kwargs)\n",
            "/usr/local/lib/python3.8/dist-packages/keras/optimizers/optimizer_v2/adam.py:110: UserWarning: The `lr` argument is deprecated, use `learning_rate` instead.\n",
            "  super(Adam, self).__init__(name, **kwargs)\n"
          ]
        },
        {
          "output_type": "stream",
          "name": "stdout",
          "text": [
            "Epoch 1/5\n",
            "750/750 [==============================] - 34s 32ms/step - loss: 1.0146 - accuracy: 0.6195 - val_loss: 0.6133 - val_accuracy: 0.7687\n",
            "Epoch 2/5\n",
            "750/750 [==============================] - 24s 32ms/step - loss: 0.4975 - accuracy: 0.8161 - val_loss: 0.4151 - val_accuracy: 0.8447\n",
            "Epoch 3/5\n",
            "750/750 [==============================] - 24s 32ms/step - loss: 0.3984 - accuracy: 0.8540 - val_loss: 0.3839 - val_accuracy: 0.8553\n",
            "Epoch 4/5\n",
            "750/750 [==============================] - 23s 31ms/step - loss: 0.3467 - accuracy: 0.8718 - val_loss: 0.3603 - val_accuracy: 0.8637\n",
            "Epoch 5/5\n",
            "750/750 [==============================] - 23s 31ms/step - loss: 0.3111 - accuracy: 0.8870 - val_loss: 0.3143 - val_accuracy: 0.8826\n",
            "79/79 [==============================] - 2s 18ms/step - loss: 0.3354 - accuracy: 0.8746\n",
            "Epoch 1/10\n",
            "750/750 [==============================] - 24s 32ms/step - loss: 0.2817 - accuracy: 0.8959 - val_loss: 0.3025 - val_accuracy: 0.8886\n",
            "Epoch 2/10\n",
            "750/750 [==============================] - 24s 31ms/step - loss: 0.2590 - accuracy: 0.9036 - val_loss: 0.2809 - val_accuracy: 0.8952\n",
            "Epoch 3/10\n",
            "750/750 [==============================] - 23s 31ms/step - loss: 0.2388 - accuracy: 0.9126 - val_loss: 0.2827 - val_accuracy: 0.8969\n",
            "Epoch 4/10\n",
            "750/750 [==============================] - 24s 32ms/step - loss: 0.2210 - accuracy: 0.9181 - val_loss: 0.2552 - val_accuracy: 0.9063\n",
            "Epoch 5/10\n",
            "750/750 [==============================] - 23s 31ms/step - loss: 0.2026 - accuracy: 0.9228 - val_loss: 0.2620 - val_accuracy: 0.9053\n",
            "Epoch 6/10\n",
            "750/750 [==============================] - 23s 31ms/step - loss: 0.1863 - accuracy: 0.9296 - val_loss: 0.2529 - val_accuracy: 0.9079\n",
            "Epoch 7/10\n",
            "750/750 [==============================] - 23s 31ms/step - loss: 0.1701 - accuracy: 0.9360 - val_loss: 0.2575 - val_accuracy: 0.9093\n",
            "Epoch 8/10\n",
            "750/750 [==============================] - 23s 31ms/step - loss: 0.1540 - accuracy: 0.9421 - val_loss: 0.2756 - val_accuracy: 0.9077\n",
            "Epoch 9/10\n",
            "750/750 [==============================] - 23s 31ms/step - loss: 0.1431 - accuracy: 0.9457 - val_loss: 0.2720 - val_accuracy: 0.9081\n",
            "Epoch 10/10\n",
            "750/750 [==============================] - 24s 32ms/step - loss: 0.1292 - accuracy: 0.9509 - val_loss: 0.2705 - val_accuracy: 0.9094\n",
            "79/79 [==============================] - 1s 15ms/step - loss: 0.3034 - accuracy: 0.9002\n",
            "Epoch 1/15\n",
            "750/750 [==============================] - 25s 33ms/step - loss: 0.1165 - accuracy: 0.9559 - val_loss: 0.2719 - val_accuracy: 0.9149\n",
            "Epoch 2/15\n",
            "750/750 [==============================] - 24s 32ms/step - loss: 0.1068 - accuracy: 0.9587 - val_loss: 0.2707 - val_accuracy: 0.9165\n",
            "Epoch 3/15\n",
            "750/750 [==============================] - 24s 32ms/step - loss: 0.0980 - accuracy: 0.9625 - val_loss: 0.2809 - val_accuracy: 0.9118\n",
            "Epoch 4/15\n",
            "750/750 [==============================] - 24s 31ms/step - loss: 0.0864 - accuracy: 0.9660 - val_loss: 0.2983 - val_accuracy: 0.9118\n",
            "Epoch 5/15\n",
            "750/750 [==============================] - 24s 32ms/step - loss: 0.0791 - accuracy: 0.9696 - val_loss: 0.2993 - val_accuracy: 0.9184\n",
            "Epoch 6/15\n",
            "750/750 [==============================] - 23s 31ms/step - loss: 0.0709 - accuracy: 0.9728 - val_loss: 0.3241 - val_accuracy: 0.9143\n",
            "Epoch 7/15\n",
            "750/750 [==============================] - 24s 31ms/step - loss: 0.0637 - accuracy: 0.9753 - val_loss: 0.4010 - val_accuracy: 0.9000\n",
            "Epoch 8/15\n",
            "750/750 [==============================] - 23s 31ms/step - loss: 0.0536 - accuracy: 0.9791 - val_loss: 0.3323 - val_accuracy: 0.9116\n",
            "Epoch 9/15\n",
            "750/750 [==============================] - 24s 31ms/step - loss: 0.0547 - accuracy: 0.9801 - val_loss: 0.3738 - val_accuracy: 0.9082\n",
            "Epoch 10/15\n",
            "750/750 [==============================] - 24s 32ms/step - loss: 0.0531 - accuracy: 0.9802 - val_loss: 0.3597 - val_accuracy: 0.9082\n",
            "Epoch 11/15\n",
            "750/750 [==============================] - 23s 31ms/step - loss: 0.0438 - accuracy: 0.9837 - val_loss: 0.3671 - val_accuracy: 0.9161\n",
            "Epoch 12/15\n",
            "750/750 [==============================] - 23s 31ms/step - loss: 0.0333 - accuracy: 0.9880 - val_loss: 0.3872 - val_accuracy: 0.9107\n",
            "Epoch 13/15\n",
            "750/750 [==============================] - 23s 31ms/step - loss: 0.0415 - accuracy: 0.9843 - val_loss: 0.3735 - val_accuracy: 0.9151\n",
            "Epoch 14/15\n",
            "750/750 [==============================] - 24s 32ms/step - loss: 0.0330 - accuracy: 0.9883 - val_loss: 0.3710 - val_accuracy: 0.9192\n",
            "Epoch 15/15\n",
            "750/750 [==============================] - 23s 31ms/step - loss: 0.0276 - accuracy: 0.9898 - val_loss: 0.3879 - val_accuracy: 0.9151\n",
            "79/79 [==============================] - 1s 15ms/step - loss: 0.4207 - accuracy: 0.9101\n",
            "Epoch 1/5\n",
            "750/750 [==============================] - 27s 35ms/step - loss: 1.1143 - accuracy: 0.7042 - val_loss: 0.4427 - val_accuracy: 0.8462\n",
            "Epoch 2/5\n",
            "750/750 [==============================] - 26s 34ms/step - loss: 0.3666 - accuracy: 0.8731 - val_loss: 0.3367 - val_accuracy: 0.8891\n",
            "Epoch 3/5\n",
            "750/750 [==============================] - 25s 34ms/step - loss: 0.3155 - accuracy: 0.8933 - val_loss: 0.3272 - val_accuracy: 0.8866\n",
            "Epoch 4/5\n",
            "750/750 [==============================] - 25s 34ms/step - loss: 0.2940 - accuracy: 0.8991 - val_loss: 0.3292 - val_accuracy: 0.8895\n",
            "Epoch 5/5\n",
            "750/750 [==============================] - 26s 35ms/step - loss: 0.2813 - accuracy: 0.9055 - val_loss: 0.3186 - val_accuracy: 0.9030\n",
            "79/79 [==============================] - 1s 16ms/step - loss: 0.3482 - accuracy: 0.8957\n",
            "Epoch 1/10\n",
            "750/750 [==============================] - 27s 35ms/step - loss: 0.2737 - accuracy: 0.9073 - val_loss: 0.3303 - val_accuracy: 0.8917\n",
            "Epoch 2/10\n",
            "750/750 [==============================] - 25s 34ms/step - loss: 0.2424 - accuracy: 0.9174 - val_loss: 0.2806 - val_accuracy: 0.9031\n",
            "Epoch 3/10\n",
            "750/750 [==============================] - 25s 33ms/step - loss: 0.2365 - accuracy: 0.9199 - val_loss: 0.2861 - val_accuracy: 0.9037\n",
            "Epoch 4/10\n",
            "750/750 [==============================] - 25s 33ms/step - loss: 0.2248 - accuracy: 0.9234 - val_loss: 0.2837 - val_accuracy: 0.9123\n",
            "Epoch 5/10\n",
            "750/750 [==============================] - 25s 33ms/step - loss: 0.2234 - accuracy: 0.9261 - val_loss: 0.3022 - val_accuracy: 0.8994\n",
            "Epoch 6/10\n",
            "750/750 [==============================] - 25s 33ms/step - loss: 0.2125 - accuracy: 0.9284 - val_loss: 0.2606 - val_accuracy: 0.9181\n",
            "Epoch 7/10\n",
            "750/750 [==============================] - 26s 34ms/step - loss: 0.1956 - accuracy: 0.9340 - val_loss: 0.2598 - val_accuracy: 0.9158\n",
            "Epoch 8/10\n",
            "750/750 [==============================] - 25s 33ms/step - loss: 0.1883 - accuracy: 0.9372 - val_loss: 0.2312 - val_accuracy: 0.9230\n",
            "Epoch 9/10\n",
            "750/750 [==============================] - 25s 33ms/step - loss: 0.1712 - accuracy: 0.9431 - val_loss: 0.2489 - val_accuracy: 0.9221\n",
            "Epoch 10/10\n",
            "750/750 [==============================] - 26s 34ms/step - loss: 0.1640 - accuracy: 0.9447 - val_loss: 0.2805 - val_accuracy: 0.9150\n",
            "79/79 [==============================] - 1s 15ms/step - loss: 0.3343 - accuracy: 0.9109\n",
            "Epoch 1/15\n",
            "750/750 [==============================] - 26s 33ms/step - loss: 0.1829 - accuracy: 0.9404 - val_loss: 0.2657 - val_accuracy: 0.9167\n",
            "Epoch 2/15\n",
            "750/750 [==============================] - 25s 33ms/step - loss: 0.1608 - accuracy: 0.9470 - val_loss: 0.2797 - val_accuracy: 0.9112\n",
            "Epoch 3/15\n",
            "750/750 [==============================] - 25s 34ms/step - loss: 0.2110 - accuracy: 0.9348 - val_loss: 0.2450 - val_accuracy: 0.9214\n",
            "Epoch 4/15\n",
            "750/750 [==============================] - 25s 33ms/step - loss: 0.1354 - accuracy: 0.9537 - val_loss: 0.2518 - val_accuracy: 0.9252\n",
            "Epoch 5/15\n",
            "750/750 [==============================] - 25s 33ms/step - loss: 0.1474 - accuracy: 0.9517 - val_loss: 0.2569 - val_accuracy: 0.9241\n",
            "Epoch 6/15\n",
            "750/750 [==============================] - 25s 33ms/step - loss: 0.1432 - accuracy: 0.9522 - val_loss: 0.2915 - val_accuracy: 0.9164\n",
            "Epoch 7/15\n",
            "750/750 [==============================] - 25s 33ms/step - loss: 0.1174 - accuracy: 0.9616 - val_loss: 0.2800 - val_accuracy: 0.9228\n",
            "Epoch 8/15\n",
            "750/750 [==============================] - 25s 33ms/step - loss: 0.1659 - accuracy: 0.9460 - val_loss: 0.2462 - val_accuracy: 0.9253\n",
            "Epoch 9/15\n",
            "750/750 [==============================] - 25s 33ms/step - loss: 0.1278 - accuracy: 0.9570 - val_loss: 0.2629 - val_accuracy: 0.9258\n",
            "Epoch 10/15\n",
            "750/750 [==============================] - 26s 34ms/step - loss: 0.1433 - accuracy: 0.9585 - val_loss: 0.3211 - val_accuracy: 0.9040\n",
            "Epoch 11/15\n",
            "750/750 [==============================] - 25s 33ms/step - loss: 0.1432 - accuracy: 0.9535 - val_loss: 0.2964 - val_accuracy: 0.9166\n",
            "Epoch 12/15\n",
            "750/750 [==============================] - 25s 33ms/step - loss: 0.1118 - accuracy: 0.9630 - val_loss: 0.3061 - val_accuracy: 0.9231\n",
            "Epoch 13/15\n",
            "750/750 [==============================] - 25s 33ms/step - loss: 0.1311 - accuracy: 0.9598 - val_loss: 0.2991 - val_accuracy: 0.9179\n",
            "Epoch 14/15\n",
            "750/750 [==============================] - 26s 34ms/step - loss: 0.1046 - accuracy: 0.9656 - val_loss: 0.3677 - val_accuracy: 0.9203\n",
            "Epoch 15/15\n",
            "750/750 [==============================] - 25s 33ms/step - loss: 0.1120 - accuracy: 0.9651 - val_loss: 0.3347 - val_accuracy: 0.9247\n",
            "79/79 [==============================] - 1s 16ms/step - loss: 0.3971 - accuracy: 0.9200\n"
          ]
        }
      ]
    },
    {
      "cell_type": "code",
      "source": [
        "fig, axs = plt.subplots(2, 3)\n",
        "epoch1=range(1,6)\n",
        "epoch2 = range(1,11)\n",
        "epoch3 = range(1,16)\n",
        "\n",
        "\n",
        "axs[0, 0].set_title('SGD,epoch:5')\n",
        "axs[0, 0].plot(epoch1,hist[0]['loss'],color=\"green\",label=\"Training Loss\")\n",
        "axs[0, 0].plot(epoch1,hist[0]['val_loss'],color=\"blue\",label = \"Validation Loss\")\n",
        "\n",
        "axs[0, 1].set_title('SGD,epoch:10')\n",
        "axs[0, 1].plot(epoch2,hist[1]['loss'],color=\"green\")\n",
        "axs[0, 1].plot(epoch2,hist[1]['val_loss'],color=\"blue\")\n",
        "\n",
        "axs[0, 2].set_title('SGD,epoch:15')\n",
        "axs[0, 2].plot(epoch3,hist[2]['loss'],color=\"green\")\n",
        "axs[0, 2].plot(epoch3,hist[2]['val_loss'],color=\"blue\")\n",
        "\n",
        "axs[1, 0].set_title('Adam,epoch:5')\n",
        "axs[1, 0].plot(epoch1,hist[3]['loss'],color=\"green\")\n",
        "axs[1, 0].plot(epoch1,hist[3]['val_loss'],color=\"blue\")\n",
        "\n",
        "axs[1, 1].set_title('Adam,epoch:10')\n",
        "axs[1, 1].plot(epoch2,hist[4]['loss'],color=\"green\")\n",
        "axs[1, 1].plot(epoch2,hist[4]['val_loss'],color=\"blue\")\n",
        "\n",
        "\n",
        "axs[1, 2].set_title('Adam,epoch:15')\n",
        "axs[1, 2].plot(epoch3,hist[5]['loss'],color=\"green\")\n",
        "axs[1, 2].plot(epoch3,hist[5]['val_loss'],color=\"blue\")\n",
        "  \n",
        "\n",
        "for ax in axs.flat:\n",
        "    ax.set(xlabel='epoch', ylabel='Loss')\n",
        "\n",
        "fig.legend(bbox_to_anchor=(1.04, 1), borderaxespad=0)\n",
        "\n",
        "\n",
        "# Hide x labels and tick labels for top plots and y ticks for right plots.\n",
        "for ax in axs.flat:\n",
        "    ax.label_outer()"
      ],
      "metadata": {
        "id": "l_VXdueybbXZ",
        "outputId": "8cf1a544-6b4f-41e4-e6b1-85c5bbb3cdfc",
        "colab": {
          "base_uri": "https://localhost:8080/",
          "height": 314
        }
      },
      "execution_count": 12,
      "outputs": [
        {
          "output_type": "display_data",
          "data": {
            "text/plain": [
              "<Figure size 432x288 with 6 Axes>"
            ],
            "image/png": "[encoded data removed]"
          },
          "metadata": {
            "needs_background": "light"
          }
        }
      ]
    },
    {
      "cell_type": "code",
      "source": [
        "fig, axs = plt.subplots(2, 3)\n",
        "epoch1=range(1,6)\n",
        "epoch2 = range(1,11)\n",
        "epoch3 = range(1,16)\n",
        "axs[0, 0].set_title('SGD,epoch:5')\n",
        "axs[0, 0].plot(epoch1,hist[0]['accuracy'],color=\"green\",label=\"Training Accu\")\n",
        "axs[0, 0].plot(epoch1,hist[0]['val_accuracy'],color=\"blue\",label = \"Validation Accu\")\n",
        "\n",
        "axs[0, 1].set_title('SGD,epoch:10' )\n",
        "axs[0, 1].plot(epoch2,hist[1]['accuracy'],color=\"green\")\n",
        "axs[0, 1].plot(epoch2,hist[1]['val_accuracy'],color=\"blue\")\n",
        "\n",
        "axs[0, 2].set_title('SGD,epoch:15')\n",
        "axs[0, 2].plot(epoch3,hist[2]['accuracy'],color=\"green\")\n",
        "axs[0, 2].plot(epoch3,hist[2]['val_accuracy'],color=\"blue\")\n",
        "\n",
        "\n",
        "\n",
        "axs[1, 0].set_title('Adam,epoch:5')\n",
        "axs[1, 0].plot(epoch1,hist[3]['accuracy'],color=\"green\")\n",
        "axs[1, 0].plot(epoch1,hist[3]['val_accuracy'],color=\"blue\")\n",
        "\n",
        "axs[1, 1].set_title('Adam,epoch:10')\n",
        "axs[1, 1].plot(epoch2,hist[4]['accuracy'],color=\"green\")\n",
        "axs[1, 1].plot(epoch2,hist[4]['val_accuracy'],color=\"blue\")\n",
        "\n",
        "\n",
        "axs[1, 2].set_title('Adam,epoch:15')\n",
        "axs[1, 2].plot(epoch3,hist[5]['accuracy'],color=\"green\")\n",
        "axs[1, 2].plot(epoch3,hist[5]['val_accuracy'],color=\"blue\")\n",
        "\n",
        "\n",
        "for ax in axs.flat:\n",
        "    ax.set(xlabel='epoch', ylabel='Accuracy')\n",
        "    \n",
        "fig.legend(bbox_to_anchor=(1.04, 1), borderaxespad=0)\n",
        "\n",
        "\n",
        "# Hide x labels and tick labels for top plots and y ticks for right plots.\n",
        "for ax in axs.flat:\n",
        "    ax.label_outer()"
      ],
      "metadata": {
        "id": "3X1MvEmcbbUm",
        "outputId": "27dba194-c942-4d4f-a887-a6ca6fbba4f6",
        "colab": {
          "base_uri": "https://localhost:8080/",
          "height": 314
        }
      },
      "execution_count": 13,
      "outputs": [
        {
          "output_type": "display_data",
          "data": {
            "text/plain": [
              "<Figure size 432x288 with 6 Axes>"
            ],
            "image/png": "[encoded data removed]"
          },
          "metadata": {
            "needs_background": "light"
          }
        }
      ]
    },
    {
      "cell_type": "code",
      "source": [
        "results"
      ],
      "metadata": {
        "id": "itqo644jbnQ6",
        "outputId": "764aa3c5-c4b0-4af5-fc90-283338ca66a6",
        "colab": {
          "base_uri": "https://localhost:8080/"
        }
      },
      "execution_count": 14,
      "outputs": [
        {
          "output_type": "execute_result",
          "data": {
            "text/plain": [
              "[[0.3353719115257263, 0.8745999932289124],\n",
              " [0.3033711016178131, 0.9002000093460083],\n",
              " [0.42070043087005615, 0.910099983215332],\n",
              " [0.34815555810928345, 0.8956999778747559],\n",
              " [0.3342667818069458, 0.9108999967575073],\n",
              " [0.3971286118030548, 0.9200000166893005]]"
            ]
          },
          "metadata": {},
          "execution_count": 14
        }
      ]
    }
  ]
}