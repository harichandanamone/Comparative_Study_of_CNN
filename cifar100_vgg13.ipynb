{
  "nbformat": 4,
  "nbformat_minor": 0,
  "metadata": {
    "colab": {
      "provenance": []
    },
    "kernelspec": {
      "name": "python3",
      "display_name": "Python 3"
    },
    "language_info": {
      "name": "python"
    },
    "accelerator": "GPU",
    "gpuClass": "standard"
  },
  "cells": [
    {
      "cell_type": "code",
      "execution_count": 1,
      "metadata": {
        "id": "Gk4p03swYcaD"
      },
      "outputs": [],
      "source": [
        "import tensorflow as tf\n",
        "from tensorflow import keras\n",
        "from sklearn.manifold import TSNE\n",
        "from tensorflow.keras.datasets import mnist\n",
        "from matplotlib import pyplot as plt\n",
        "import numpy as np\n",
        "import pandas as pd\n",
        "import seaborn as sns\n",
        "import os\n",
        "from tensorflow.keras.optimizers import Adam\n",
        "from tensorflow.keras.models import Sequential\n",
        "from tensorflow.keras.layers import Conv2D,MaxPool2D\n",
        "from tensorflow.keras.layers import Dense, Activation, Flatten"
      ]
    },
    {
      "cell_type": "code",
      "source": [
        "from keras.datasets import cifar100\n",
        "(train_X, train_y), (test_X, test_y) = cifar100.load_data()"
      ],
      "metadata": {
        "colab": {
          "base_uri": "https://localhost:8080/"
        },
        "id": "EK42JH4IYh4z",
        "outputId": "0acdca82-cc14-4fee-cda9-8dddbcd21207"
      },
      "execution_count": 2,
      "outputs": [
        {
          "output_type": "stream",
          "name": "stdout",
          "text": [
            "Downloading data from https://www.cs.toronto.edu/~kriz/cifar-100-python.tar.gz\n",
            "169001437/169001437 [==============================] - 6s 0us/step\n"
          ]
        }
      ]
    },
    {
      "cell_type": "code",
      "source": [
        "train_y = tf.keras.utils.to_categorical(train_y, num_classes=100)\n",
        "test_y = tf.keras.utils.to_categorical(test_y, num_classes=100)"
      ],
      "metadata": {
        "id": "s8d-VVKvY5Ez"
      },
      "execution_count": 3,
      "outputs": []
    },
    {
      "cell_type": "code",
      "source": [
        "from sklearn.model_selection import train_test_split\n",
        "train_X, X_val, train_y, y_val = train_test_split(train_X, train_y, test_size=0.2, random_state=1)"
      ],
      "metadata": {
        "id": "1cXCEqWjY5Bf"
      },
      "execution_count": 4,
      "outputs": []
    },
    {
      "cell_type": "code",
      "source": [
        "train_X= train_X.reshape(-1,32,32,3)"
      ],
      "metadata": {
        "id": "7xpkFNP3avAt"
      },
      "execution_count": 5,
      "outputs": []
    },
    {
      "cell_type": "code",
      "source": [
        "model = Sequential()\n",
        "model.add(Conv2D(input_shape=(32,32,3),filters=64,kernel_size=(3,3),padding=\"same\", activation=\"relu\"))\n",
        "model.add(Conv2D(filters=64,kernel_size=(3,3),padding=\"same\", activation=\"relu\"))\n",
        "model.add(MaxPool2D(pool_size=(2,2),strides=(2,2)))\n",
        "\n",
        "model.add(Conv2D(filters=128, kernel_size=(3,3), padding=\"same\", activation=\"relu\"))\n",
        "model.add(Conv2D(filters=128, kernel_size=(3,3), padding=\"same\", activation=\"relu\"))\n",
        "model.add(MaxPool2D(pool_size=(2,2),strides=(2,2)))\n",
        "\n",
        "model.add(Conv2D(filters=256, kernel_size=(3,3), padding=\"same\", activation=\"relu\"))\n",
        "model.add(Conv2D(filters=256, kernel_size=(3,3), padding=\"same\", activation=\"relu\"))\n",
        "model.add(MaxPool2D(pool_size=(2,2),strides=(2,2)))\n",
        "\n",
        "model.add(Conv2D(filters=512, kernel_size=(3,3), padding=\"same\", activation=\"relu\"))\n",
        "model.add(Conv2D(filters=512, kernel_size=(3,3), padding=\"same\", activation=\"relu\"))\n",
        "model.add(MaxPool2D(pool_size=(2,2),strides=(2,2)))\n",
        "\n",
        "model.add(Conv2D(filters=512, kernel_size=(3,3), padding=\"same\", activation=\"relu\"))\n",
        "model.add(Conv2D(filters=512, kernel_size=(3,3), padding=\"same\", activation=\"relu\"))\n",
        "model.add(MaxPool2D(pool_size=(2,2),strides=(2,2),padding=\"same\"))\n",
        "\n",
        "model.add(Flatten())\n",
        "model.add(Dense(units=4096,activation=\"relu\"))\n",
        "model.add(Dense(units=4096,activation=\"relu\"))\n",
        "model.add(Dense(units=1000,activation=\"relu\"))\n",
        "model.add(Dense(units=100, activation=\"softmax\"))\n"
      ],
      "metadata": {
        "id": "otU_ehaJZbVR"
      },
      "execution_count": 6,
      "outputs": []
    },
    {
      "cell_type": "code",
      "source": [
        "model.summary()"
      ],
      "metadata": {
        "colab": {
          "base_uri": "https://localhost:8080/"
        },
        "id": "6zgbPBs3Y49M",
        "outputId": "e54ef943-63be-4e88-8b07-575ee291efad"
      },
      "execution_count": 7,
      "outputs": [
        {
          "output_type": "stream",
          "name": "stdout",
          "text": [
            "Model: \"sequential\"\n",
            "_________________________________________________________________\n",
            " Layer (type)                Output Shape              Param #   \n",
            "=================================================================\n",
            " conv2d (Conv2D)             (None, 32, 32, 64)        1792      \n",
            "                                                                 \n",
            " conv2d_1 (Conv2D)           (None, 32, 32, 64)        36928     \n",
            "                                                                 \n",
            " max_pooling2d (MaxPooling2D  (None, 16, 16, 64)       0         \n",
            " )                                                               \n",
            "                                                                 \n",
            " conv2d_2 (Conv2D)           (None, 16, 16, 128)       73856     \n",
            "                                                                 \n",
            " conv2d_3 (Conv2D)           (None, 16, 16, 128)       147584    \n",
            "                                                                 \n",
            " max_pooling2d_1 (MaxPooling  (None, 8, 8, 128)        0         \n",
            " 2D)                                                             \n",
            "                                                                 \n",
            " conv2d_4 (Conv2D)           (None, 8, 8, 256)         295168    \n",
            "                                                                 \n",
            " conv2d_5 (Conv2D)           (None, 8, 8, 256)         590080    \n",
            "                                                                 \n",
            " max_pooling2d_2 (MaxPooling  (None, 4, 4, 256)        0         \n",
            " 2D)                                                             \n",
            "                                                                 \n",
            " conv2d_6 (Conv2D)           (None, 4, 4, 512)         1180160   \n",
            "                                                                 \n",
            " conv2d_7 (Conv2D)           (None, 4, 4, 512)         2359808   \n",
            "                                                                 \n",
            " max_pooling2d_3 (MaxPooling  (None, 2, 2, 512)        0         \n",
            " 2D)                                                             \n",
            "                                                                 \n",
            " conv2d_8 (Conv2D)           (None, 2, 2, 512)         2359808   \n",
            "                                                                 \n",
            " conv2d_9 (Conv2D)           (None, 2, 2, 512)         2359808   \n",
            "                                                                 \n",
            " max_pooling2d_4 (MaxPooling  (None, 1, 1, 512)        0         \n",
            " 2D)                                                             \n",
            "                                                                 \n",
            " flatten (Flatten)           (None, 512)               0         \n",
            "                                                                 \n",
            " dense (Dense)               (None, 4096)              2101248   \n",
            "                                                                 \n",
            " dense_1 (Dense)             (None, 4096)              16781312  \n",
            "                                                                 \n",
            " dense_2 (Dense)             (None, 1000)              4097000   \n",
            "                                                                 \n",
            " dense_3 (Dense)             (None, 100)               100100    \n",
            "                                                                 \n",
            "=================================================================\n",
            "Total params: 32,484,652\n",
            "Trainable params: 32,484,652\n",
            "Non-trainable params: 0\n",
            "_________________________________________________________________\n"
          ]
        }
      ]
    },
    {
      "cell_type": "code",
      "source": [
        "\n"
      ],
      "metadata": {
        "id": "ONoTlSCXY46W"
      },
      "execution_count": 7,
      "outputs": []
    },
    {
      "cell_type": "code",
      "source": [
        "hist=[]\n",
        "results=[]"
      ],
      "metadata": {
        "id": "dSNXT8vbZqoQ"
      },
      "execution_count": 8,
      "outputs": []
    },
    {
      "cell_type": "code",
      "source": [
        "hist\n"
      ],
      "metadata": {
        "colab": {
          "base_uri": "https://localhost:8080/"
        },
        "id": "kQNEzyNB9y-R",
        "outputId": "82d0bbe2-c02b-4901-b248-33d8567dd6fe"
      },
      "execution_count": 9,
      "outputs": [
        {
          "output_type": "execute_result",
          "data": {
            "text/plain": [
              "[]"
            ]
          },
          "metadata": {},
          "execution_count": 9
        }
      ]
    },
    {
      "cell_type": "code",
      "source": [
        "results"
      ],
      "metadata": {
        "colab": {
          "base_uri": "https://localhost:8080/"
        },
        "id": "v1XuOjZF9zuA",
        "outputId": "cfceecea-8a27-497c-e87b-f2aad3bef831"
      },
      "execution_count": 10,
      "outputs": [
        {
          "output_type": "execute_result",
          "data": {
            "text/plain": [
              "[]"
            ]
          },
          "metadata": {},
          "execution_count": 10
        }
      ]
    },
    {
      "cell_type": "code",
      "source": [
        "train_X.shape"
      ],
      "metadata": {
        "colab": {
          "base_uri": "https://localhost:8080/"
        },
        "id": "HY8G32ZMahlv",
        "outputId": "4260e3d5-85fe-41c9-a39d-e3a42144b7cd"
      },
      "execution_count": 11,
      "outputs": [
        {
          "output_type": "execute_result",
          "data": {
            "text/plain": [
              "(40000, 32, 32, 3)"
            ]
          },
          "metadata": {},
          "execution_count": 11
        }
      ]
    },
    {
      "cell_type": "code",
      "source": [
        "train_y.shape"
      ],
      "metadata": {
        "colab": {
          "base_uri": "https://localhost:8080/"
        },
        "id": "1rU7MTVgalza",
        "outputId": "6d3d6a6c-ba18-4980-dc42-c30e9ecc7d7c"
      },
      "execution_count": 12,
      "outputs": [
        {
          "output_type": "execute_result",
          "data": {
            "text/plain": [
              "(40000, 100)"
            ]
          },
          "metadata": {},
          "execution_count": 12
        }
      ]
    },
    {
      "cell_type": "code",
      "source": [
        "from keras.optimizers import SGD,Adam\n",
        "\n",
        "opt_list=[SGD(lr=0.01),Adam(lr=0.001)]\n",
        "epochs_list = [5,10,15]\n",
        "for optimizer in  opt_list:\n",
        "  for epoch in epochs_list:\n",
        "\n",
        "    model.compile(optimizer=optimizer, loss=keras.losses.categorical_crossentropy, metrics=['accuracy'])\n",
        "    history = model.fit(\n",
        "      train_X,\n",
        "      train_y,\n",
        "      batch_size=64,\n",
        "      epochs=epoch,\n",
        "      validation_data=(X_val, y_val)\n",
        "    )\n",
        "    hist.append(history.history)\n",
        "    results.append(model.evaluate(test_X, test_y, batch_size=128))"
      ],
      "metadata": {
        "colab": {
          "base_uri": "https://localhost:8080/"
        },
        "id": "K5IUSY_HY43c",
        "outputId": "2674a127-d175-4735-cf57-b05e810b7eea"
      },
      "execution_count": 14,
      "outputs": [
        {
          "output_type": "stream",
          "name": "stderr",
          "text": [
            "/usr/local/lib/python3.8/dist-packages/keras/optimizers/optimizer_v2/gradient_descent.py:108: UserWarning: The `lr` argument is deprecated, use `learning_rate` instead.\n",
            "  super(SGD, self).__init__(name, **kwargs)\n",
            "/usr/local/lib/python3.8/dist-packages/keras/optimizers/optimizer_v2/adam.py:110: UserWarning: The `lr` argument is deprecated, use `learning_rate` instead.\n",
            "  super(Adam, self).__init__(name, **kwargs)\n"
          ]
        },
        {
          "output_type": "stream",
          "name": "stdout",
          "text": [
            "Epoch 1/5\n",
            "625/625 [==============================] - 29s 32ms/step - loss: 4.3530 - accuracy: 0.0381 - val_loss: 4.0166 - val_accuracy: 0.0876\n",
            "Epoch 2/5\n",
            "625/625 [==============================] - 21s 33ms/step - loss: 3.9030 - accuracy: 0.0987 - val_loss: 3.7279 - val_accuracy: 0.1231\n",
            "Epoch 3/5\n",
            "625/625 [==============================] - 20s 31ms/step - loss: 3.6326 - accuracy: 0.1453 - val_loss: 3.5617 - val_accuracy: 0.1514\n",
            "Epoch 4/5\n",
            "625/625 [==============================] - 20s 33ms/step - loss: 3.4049 - accuracy: 0.1810 - val_loss: 3.3606 - val_accuracy: 0.1902\n",
            "Epoch 5/5\n",
            "625/625 [==============================] - 20s 32ms/step - loss: 3.1808 - accuracy: 0.2214 - val_loss: 3.2229 - val_accuracy: 0.2182\n",
            "79/79 [==============================] - 2s 17ms/step - loss: 3.2091 - accuracy: 0.2248\n",
            "Epoch 1/10\n",
            "625/625 [==============================] - 22s 35ms/step - loss: 2.9879 - accuracy: 0.2564 - val_loss: 3.0622 - val_accuracy: 0.2500\n",
            "Epoch 2/10\n",
            "625/625 [==============================] - 20s 33ms/step - loss: 2.7898 - accuracy: 0.2977 - val_loss: 3.0006 - val_accuracy: 0.2648\n",
            "Epoch 3/10\n",
            "625/625 [==============================] - 21s 34ms/step - loss: 2.5935 - accuracy: 0.3365 - val_loss: 3.0961 - val_accuracy: 0.2578\n",
            "Epoch 4/10\n",
            "625/625 [==============================] - 21s 34ms/step - loss: 2.3952 - accuracy: 0.3780 - val_loss: 2.8530 - val_accuracy: 0.2991\n",
            "Epoch 5/10\n",
            "625/625 [==============================] - 20s 32ms/step - loss: 2.1725 - accuracy: 0.4242 - val_loss: 2.8862 - val_accuracy: 0.3016\n",
            "Epoch 6/10\n",
            "625/625 [==============================] - 20s 33ms/step - loss: 1.9646 - accuracy: 0.4696 - val_loss: 2.9496 - val_accuracy: 0.3096\n",
            "Epoch 7/10\n",
            "625/625 [==============================] - 20s 32ms/step - loss: 1.7264 - accuracy: 0.5243 - val_loss: 3.2957 - val_accuracy: 0.2808\n",
            "Epoch 8/10\n",
            "625/625 [==============================] - 21s 34ms/step - loss: 1.5134 - accuracy: 0.5735 - val_loss: 3.0682 - val_accuracy: 0.3109\n",
            "Epoch 9/10\n",
            "625/625 [==============================] - 20s 32ms/step - loss: 1.2759 - accuracy: 0.6338 - val_loss: 3.3162 - val_accuracy: 0.3101\n",
            "Epoch 10/10\n",
            "625/625 [==============================] - 21s 34ms/step - loss: 1.0511 - accuracy: 0.6902 - val_loss: 3.4825 - val_accuracy: 0.3123\n",
            "79/79 [==============================] - 1s 17ms/step - loss: 3.4663 - accuracy: 0.3174\n",
            "Epoch 1/15\n",
            "625/625 [==============================] - 21s 33ms/step - loss: 0.8804 - accuracy: 0.7360 - val_loss: 3.6595 - val_accuracy: 0.3171\n",
            "Epoch 2/15\n",
            "625/625 [==============================] - 21s 33ms/step - loss: 0.7127 - accuracy: 0.7850 - val_loss: 4.1294 - val_accuracy: 0.3010\n",
            "Epoch 3/15\n",
            "625/625 [==============================] - 20s 33ms/step - loss: 0.6105 - accuracy: 0.8140 - val_loss: 4.1768 - val_accuracy: 0.3162\n",
            "Epoch 4/15\n",
            "625/625 [==============================] - 21s 34ms/step - loss: 0.4912 - accuracy: 0.8500 - val_loss: 4.3079 - val_accuracy: 0.3087\n",
            "Epoch 5/15\n",
            "625/625 [==============================] - 20s 33ms/step - loss: 0.4183 - accuracy: 0.8702 - val_loss: 4.6636 - val_accuracy: 0.2975\n",
            "Epoch 6/15\n",
            "625/625 [==============================] - 21s 33ms/step - loss: 0.3518 - accuracy: 0.8927 - val_loss: 4.4931 - val_accuracy: 0.3133\n",
            "Epoch 7/15\n",
            "625/625 [==============================] - 21s 33ms/step - loss: 0.3133 - accuracy: 0.9028 - val_loss: 4.8914 - val_accuracy: 0.3105\n",
            "Epoch 8/15\n",
            "625/625 [==============================] - 22s 34ms/step - loss: 0.2600 - accuracy: 0.9188 - val_loss: 5.0953 - val_accuracy: 0.3218\n",
            "Epoch 9/15\n",
            "625/625 [==============================] - 20s 33ms/step - loss: 0.2266 - accuracy: 0.9308 - val_loss: 5.2460 - val_accuracy: 0.3177\n",
            "Epoch 10/15\n",
            "625/625 [==============================] - 22s 35ms/step - loss: 0.1813 - accuracy: 0.9431 - val_loss: 5.2910 - val_accuracy: 0.3167\n",
            "Epoch 11/15\n",
            "625/625 [==============================] - 20s 33ms/step - loss: 0.1731 - accuracy: 0.9476 - val_loss: 5.1969 - val_accuracy: 0.3358\n",
            "Epoch 12/15\n",
            "625/625 [==============================] - 21s 34ms/step - loss: 0.1546 - accuracy: 0.9535 - val_loss: 5.2978 - val_accuracy: 0.3237\n",
            "Epoch 13/15\n",
            "625/625 [==============================] - 20s 33ms/step - loss: 0.1464 - accuracy: 0.9558 - val_loss: 5.5727 - val_accuracy: 0.3276\n",
            "Epoch 14/15\n",
            "625/625 [==============================] - 21s 34ms/step - loss: 0.1269 - accuracy: 0.9613 - val_loss: 5.5825 - val_accuracy: 0.3227\n",
            "Epoch 15/15\n",
            "625/625 [==============================] - 20s 32ms/step - loss: 0.1229 - accuracy: 0.9627 - val_loss: 6.0445 - val_accuracy: 0.3287\n",
            "79/79 [==============================] - 1s 17ms/step - loss: 5.9775 - accuracy: 0.3307\n",
            "Epoch 1/5\n",
            "625/625 [==============================] - 24s 37ms/step - loss: 4.3980 - accuracy: 0.0305 - val_loss: 4.1431 - val_accuracy: 0.0408\n",
            "Epoch 2/5\n",
            "625/625 [==============================] - 22s 35ms/step - loss: 3.9982 - accuracy: 0.0556 - val_loss: 3.8899 - val_accuracy: 0.0735\n",
            "Epoch 3/5\n",
            "625/625 [==============================] - 22s 35ms/step - loss: 3.7482 - accuracy: 0.0926 - val_loss: 3.6141 - val_accuracy: 0.1147\n",
            "Epoch 4/5\n",
            "625/625 [==============================] - 22s 35ms/step - loss: 3.5448 - accuracy: 0.1286 - val_loss: 3.5242 - val_accuracy: 0.1348\n",
            "Epoch 5/5\n",
            "625/625 [==============================] - 22s 35ms/step - loss: 3.3862 - accuracy: 0.1587 - val_loss: 3.3864 - val_accuracy: 0.1600\n",
            "79/79 [==============================] - 1s 18ms/step - loss: 3.3731 - accuracy: 0.1692\n",
            "Epoch 1/10\n",
            "625/625 [==============================] - 23s 35ms/step - loss: 3.2265 - accuracy: 0.1889 - val_loss: 3.2428 - val_accuracy: 0.2010\n",
            "Epoch 2/10\n",
            "625/625 [==============================] - 22s 35ms/step - loss: 3.0785 - accuracy: 0.2213 - val_loss: 3.2113 - val_accuracy: 0.2063\n",
            "Epoch 3/10\n",
            "625/625 [==============================] - 21s 34ms/step - loss: 2.9060 - accuracy: 0.2503 - val_loss: 3.0511 - val_accuracy: 0.2384\n",
            "Epoch 4/10\n",
            "625/625 [==============================] - 23s 36ms/step - loss: 2.7637 - accuracy: 0.2833 - val_loss: 3.0289 - val_accuracy: 0.2573\n",
            "Epoch 5/10\n",
            "625/625 [==============================] - 22s 34ms/step - loss: 2.6458 - accuracy: 0.3065 - val_loss: 2.9788 - val_accuracy: 0.2690\n",
            "Epoch 6/10\n",
            "625/625 [==============================] - 23s 36ms/step - loss: 2.5475 - accuracy: 0.3257 - val_loss: 2.9809 - val_accuracy: 0.2592\n",
            "Epoch 7/10\n",
            "625/625 [==============================] - 23s 36ms/step - loss: 2.4343 - accuracy: 0.3494 - val_loss: 2.9418 - val_accuracy: 0.2856\n",
            "Epoch 8/10\n",
            "625/625 [==============================] - 22s 34ms/step - loss: 2.3378 - accuracy: 0.3707 - val_loss: 2.9152 - val_accuracy: 0.2836\n",
            "Epoch 9/10\n",
            "625/625 [==============================] - 22s 35ms/step - loss: 2.2642 - accuracy: 0.3882 - val_loss: 2.9408 - val_accuracy: 0.2904\n",
            "Epoch 10/10\n",
            "625/625 [==============================] - 22s 34ms/step - loss: 2.1807 - accuracy: 0.4069 - val_loss: 2.9375 - val_accuracy: 0.2984\n",
            "79/79 [==============================] - 1s 17ms/step - loss: 2.8719 - accuracy: 0.3050\n",
            "Epoch 1/15\n",
            "625/625 [==============================] - 23s 35ms/step - loss: 2.2456 - accuracy: 0.3988 - val_loss: 2.9209 - val_accuracy: 0.3004\n",
            "Epoch 2/15\n",
            "625/625 [==============================] - 22s 35ms/step - loss: 2.0408 - accuracy: 0.4396 - val_loss: 3.0002 - val_accuracy: 0.3003\n",
            "Epoch 3/15\n",
            "625/625 [==============================] - 23s 36ms/step - loss: 1.9657 - accuracy: 0.4573 - val_loss: 3.0112 - val_accuracy: 0.2981\n",
            "Epoch 4/15\n",
            "625/625 [==============================] - 22s 34ms/step - loss: 1.8965 - accuracy: 0.4728 - val_loss: 2.9657 - val_accuracy: 0.3133\n",
            "Epoch 5/15\n",
            "625/625 [==============================] - 22s 34ms/step - loss: 1.8241 - accuracy: 0.4922 - val_loss: 2.9989 - val_accuracy: 0.3155\n",
            "Epoch 6/15\n",
            "625/625 [==============================] - 22s 34ms/step - loss: 1.7497 - accuracy: 0.5091 - val_loss: 2.9855 - val_accuracy: 0.3221\n",
            "Epoch 7/15\n",
            "625/625 [==============================] - 22s 35ms/step - loss: 1.6853 - accuracy: 0.5266 - val_loss: 3.2387 - val_accuracy: 0.3194\n",
            "Epoch 8/15\n",
            "625/625 [==============================] - 22s 34ms/step - loss: 1.6443 - accuracy: 0.5405 - val_loss: 3.1713 - val_accuracy: 0.3156\n",
            "Epoch 9/15\n",
            "625/625 [==============================] - 22s 34ms/step - loss: 1.5976 - accuracy: 0.5495 - val_loss: 3.0825 - val_accuracy: 0.3180\n",
            "Epoch 10/15\n",
            "625/625 [==============================] - 22s 35ms/step - loss: 1.5465 - accuracy: 0.5640 - val_loss: 3.2415 - val_accuracy: 0.3227\n",
            "Epoch 11/15\n",
            "625/625 [==============================] - 22s 35ms/step - loss: 1.5442 - accuracy: 0.5672 - val_loss: 3.1182 - val_accuracy: 0.3247\n",
            "Epoch 12/15\n",
            "625/625 [==============================] - 22s 35ms/step - loss: 1.7212 - accuracy: 0.5307 - val_loss: 3.2176 - val_accuracy: 0.3184\n",
            "Epoch 13/15\n",
            "625/625 [==============================] - 21s 34ms/step - loss: 1.5260 - accuracy: 0.5785 - val_loss: 3.2869 - val_accuracy: 0.3172\n",
            "Epoch 14/15\n",
            "625/625 [==============================] - 22s 35ms/step - loss: 1.4112 - accuracy: 0.6028 - val_loss: 3.3056 - val_accuracy: 0.3240\n",
            "Epoch 15/15\n",
            "625/625 [==============================] - 22s 35ms/step - loss: 1.3497 - accuracy: 0.6154 - val_loss: 3.3041 - val_accuracy: 0.3173\n",
            "79/79 [==============================] - 1s 17ms/step - loss: 3.2481 - accuracy: 0.3197\n"
          ]
        }
      ]
    },
    {
      "cell_type": "code",
      "source": [
        "fig, axs = plt.subplots(2, 3)\n",
        "epoch1=range(1,6)\n",
        "epoch2 = range(1,11)\n",
        "epoch3 = range(1,16)\n",
        "\n",
        "\n",
        "axs[0, 0].set_title('SGD,epoch:5')\n",
        "axs[0, 0].plot(epoch1,hist[0]['loss'],color=\"green\",label=\"Training Loss\")\n",
        "axs[0, 0].plot(epoch1,hist[0]['val_loss'],color=\"blue\",label = \"Validation Loss\")\n",
        "\n",
        "axs[0, 1].set_title('SGD,epoch:10')\n",
        "axs[0, 1].plot(epoch2,hist[1]['loss'],color=\"green\")\n",
        "axs[0, 1].plot(epoch2,hist[1]['val_loss'],color=\"blue\")\n",
        "\n",
        "axs[0, 2].set_title('SGD,epoch:15')\n",
        "axs[0, 2].plot(epoch3,hist[2]['loss'],color=\"green\")\n",
        "axs[0, 2].plot(epoch3,hist[2]['val_loss'],color=\"blue\")\n",
        "\n",
        "axs[1, 0].set_title('Adam,epoch:5')\n",
        "axs[1, 0].plot(epoch1,hist[3]['loss'],color=\"green\")\n",
        "axs[1, 0].plot(epoch1,hist[3]['val_loss'],color=\"blue\")\n",
        "\n",
        "axs[1, 1].set_title('Adam,epoch:10')\n",
        "axs[1, 1].plot(epoch2,hist[4]['loss'],color=\"green\")\n",
        "axs[1, 1].plot(epoch2,hist[4]['val_loss'],color=\"blue\")\n",
        "\n",
        "\n",
        "axs[1, 2].set_title('Adam,epoch:15')\n",
        "axs[1, 2].plot(epoch3,hist[5]['loss'],color=\"green\")\n",
        "axs[1, 2].plot(epoch3,hist[5]['val_loss'],color=\"blue\")\n",
        "  \n",
        "\n",
        "for ax in axs.flat:\n",
        "    ax.set(xlabel='epoch', ylabel='Loss')\n",
        "\n",
        "fig.legend(bbox_to_anchor=(1.04, 1), borderaxespad=0)\n",
        "\n",
        "\n",
        "# Hide x labels and tick labels for top plots and y ticks for right plots.\n",
        "for ax in axs.flat:\n",
        "    ax.label_outer()"
      ],
      "metadata": {
        "id": "D353SsMGY4t-",
        "outputId": "df765d79-f8e4-4cd1-dc7c-ac889235d64b",
        "colab": {
          "base_uri": "https://localhost:8080/",
          "height": 314
        }
      },
      "execution_count": 15,
      "outputs": [
        {
          "output_type": "display_data",
          "data": {
            "text/plain": [
              "<Figure size 432x288 with 6 Axes>"
            ],
            "image/png": "[encoded data removed]"
          },
          "metadata": {
            "needs_background": "light"
          }
        }
      ]
    },
    {
      "cell_type": "code",
      "source": [
        "fig, axs = plt.subplots(2, 3)\n",
        "epoch1=range(1,6)\n",
        "epoch2 = range(1,11)\n",
        "epoch3 = range(1,16)\n",
        "axs[0, 0].set_title('SGD,epoch:5')\n",
        "axs[0, 0].plot(epoch1,hist[0]['accuracy'],color=\"green\",label=\"Training Accu\")\n",
        "axs[0, 0].plot(epoch1,hist[0]['val_accuracy'],color=\"blue\",label = \"Validation Accu\")\n",
        "\n",
        "axs[0, 1].set_title('SGD,epoch:10' )\n",
        "axs[0, 1].plot(epoch2,hist[1]['accuracy'],color=\"green\")\n",
        "axs[0, 1].plot(epoch2,hist[1]['val_accuracy'],color=\"blue\")\n",
        "\n",
        "axs[0, 2].set_title('SGD,epoch:15')\n",
        "axs[0, 2].plot(epoch3,hist[2]['accuracy'],color=\"green\")\n",
        "axs[0, 2].plot(epoch3,hist[2]['val_accuracy'],color=\"blue\")\n",
        "\n",
        "\n",
        "\n",
        "axs[1, 0].set_title('Adam,epoch:5')\n",
        "axs[1, 0].plot(epoch1,hist[3]['accuracy'],color=\"green\")\n",
        "axs[1, 0].plot(epoch1,hist[3]['val_accuracy'],color=\"blue\")\n",
        "\n",
        "axs[1, 1].set_title('Adam,epoch:10')\n",
        "axs[1, 1].plot(epoch2,hist[4]['accuracy'],color=\"green\")\n",
        "axs[1, 1].plot(epoch2,hist[4]['val_accuracy'],color=\"blue\")\n",
        "\n",
        "\n",
        "axs[1, 2].set_title('Adam,epoch:15')\n",
        "axs[1, 2].plot(epoch3,hist[5]['accuracy'],color=\"green\")\n",
        "axs[1, 2].plot(epoch3,hist[5]['val_accuracy'],color=\"blue\")\n",
        "\n",
        "\n",
        "for ax in axs.flat:\n",
        "    ax.set(xlabel='epoch', ylabel='Accuracy')\n",
        "    \n",
        "fig.legend(bbox_to_anchor=(1.04, 1), borderaxespad=0)\n",
        "\n",
        "\n",
        "# Hide x labels and tick labels for top plots and y ticks for right plots.\n",
        "for ax in axs.flat:\n",
        "    ax.label_outer()"
      ],
      "metadata": {
        "id": "7IJY9VcVe7hv",
        "outputId": "20c4e355-ecb3-4d7a-8410-afa13bdab3da",
        "colab": {
          "base_uri": "https://localhost:8080/",
          "height": 314
        }
      },
      "execution_count": 16,
      "outputs": [
        {
          "output_type": "display_data",
          "data": {
            "text/plain": [
              "<Figure size 432x288 with 6 Axes>"
            ],
            "image/png": "[encoded data removed]"
          },
          "metadata": {
            "needs_background": "light"
          }
        }
      ]
    },
    {
      "cell_type": "code",
      "source": [
        "results"
      ],
      "metadata": {
        "id": "_euSin2Ee_ko",
        "outputId": "1e3bf1f9-200d-4903-be2e-0f41c5d6bbb7",
        "colab": {
          "base_uri": "https://localhost:8080/"
        }
      },
      "execution_count": 17,
      "outputs": [
        {
          "output_type": "execute_result",
          "data": {
            "text/plain": [
              "[[3.2090818881988525, 0.2248000055551529],\n",
              " [3.466325283050537, 0.3174000084400177],\n",
              " [5.977539539337158, 0.33070001006126404],\n",
              " [3.3731160163879395, 0.16920000314712524],\n",
              " [2.871936082839966, 0.3050000071525574],\n",
              " [3.248138427734375, 0.3197000026702881]]"
            ]
          },
          "metadata": {},
          "execution_count": 17
        }
      ]
    }
  ]
}