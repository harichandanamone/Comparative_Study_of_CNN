{
  "nbformat": 4,
  "nbformat_minor": 0,
  "metadata": {
    "colab": {
      "provenance": []
    },
    "kernelspec": {
      "name": "python3",
      "display_name": "Python 3"
    },
    "language_info": {
      "name": "python"
    },
    "accelerator": "GPU",
    "gpuClass": "standard"
  },
  "cells": [
    {
      "cell_type": "code",
      "execution_count": 1,
      "metadata": {
        "id": "TmOI4moIrCpp"
      },
      "outputs": [],
      "source": [
        "import tensorflow as tf\n",
        "from tensorflow import keras\n",
        "from sklearn.manifold import TSNE\n",
        "from tensorflow.keras.datasets import mnist\n",
        "from matplotlib import pyplot as plt\n",
        "import numpy as np\n",
        "import pandas as pd\n",
        "import seaborn as sns\n",
        "import os\n",
        "from tensorflow.keras.optimizers import Adam\n",
        "from tensorflow.keras.models import Sequential\n",
        "from tensorflow.keras.layers import Conv2D,MaxPool2D\n",
        "from tensorflow.keras.layers import Dense, Activation, Flatten"
      ]
    },
    {
      "cell_type": "code",
      "source": [
        "from keras.datasets import fashion_mnist\n",
        "(train_X, train_y), (test_X, test_y) = fashion_mnist.load_data()\n"
      ],
      "metadata": {
        "colab": {
          "base_uri": "https://localhost:8080/"
        },
        "id": "H7csNhVTrHRh",
        "outputId": "f6130fd3-39aa-45db-c037-ad7695726829"
      },
      "execution_count": 2,
      "outputs": [
        {
          "output_type": "stream",
          "name": "stdout",
          "text": [
            "Downloading data from https://storage.googleapis.com/tensorflow/tf-keras-datasets/train-labels-idx1-ubyte.gz\n",
            "29515/29515 [==============================] - 0s 0us/step\n",
            "Downloading data from https://storage.googleapis.com/tensorflow/tf-keras-datasets/train-images-idx3-ubyte.gz\n",
            "26421880/26421880 [==============================] - 2s 0us/step\n",
            "Downloading data from https://storage.googleapis.com/tensorflow/tf-keras-datasets/t10k-labels-idx1-ubyte.gz\n",
            "5148/5148 [==============================] - 0s 0us/step\n",
            "Downloading data from https://storage.googleapis.com/tensorflow/tf-keras-datasets/t10k-images-idx3-ubyte.gz\n",
            "4422102/4422102 [==============================] - 0s 0us/step\n"
          ]
        }
      ]
    },
    {
      "cell_type": "code",
      "source": [
        "lenet_model = Sequential()\n",
        "lenet_model.add(Conv2D(filters=6, kernel_size=(5, 5), activation='relu', input_shape=(28,28,1)))\n",
        "lenet_model.add(MaxPool2D(pool_size=(2,2),strides=(2,2)))\n",
        "lenet_model.add(Conv2D(filters=16, kernel_size=(5, 5), activation='relu'))\n",
        "lenet_model.add(MaxPool2D(pool_size=(2,2),strides=(2,2)))\n",
        "lenet_model.add(Flatten())\n",
        "lenet_model.add(Dense(units=120, activation='relu'))\n",
        "lenet_model.add(Dense(units=84, activation='relu'))\n",
        "lenet_model.add(Dense(units=10, activation = 'softmax'))"
      ],
      "metadata": {
        "id": "0YVJKx8ArHMs"
      },
      "execution_count": 4,
      "outputs": []
    },
    {
      "cell_type": "code",
      "source": [
        "lenet_model.summary()"
      ],
      "metadata": {
        "colab": {
          "base_uri": "https://localhost:8080/"
        },
        "id": "Rm2by4QQrHHN",
        "outputId": "4da49b6b-0dab-436a-f82b-21bfc0bfeb28"
      },
      "execution_count": 5,
      "outputs": [
        {
          "output_type": "stream",
          "name": "stdout",
          "text": [
            "Model: \"sequential\"\n",
            "_________________________________________________________________\n",
            " Layer (type)                Output Shape              Param #   \n",
            "=================================================================\n",
            " conv2d (Conv2D)             (None, 24, 24, 6)         156       \n",
            "                                                                 \n",
            " max_pooling2d (MaxPooling2D  (None, 12, 12, 6)        0         \n",
            " )                                                               \n",
            "                                                                 \n",
            " conv2d_1 (Conv2D)           (None, 8, 8, 16)          2416      \n",
            "                                                                 \n",
            " max_pooling2d_1 (MaxPooling  (None, 4, 4, 16)         0         \n",
            " 2D)                                                             \n",
            "                                                                 \n",
            " flatten (Flatten)           (None, 256)               0         \n",
            "                                                                 \n",
            " dense (Dense)               (None, 120)               30840     \n",
            "                                                                 \n",
            " dense_1 (Dense)             (None, 84)                10164     \n",
            "                                                                 \n",
            " dense_2 (Dense)             (None, 10)                850       \n",
            "                                                                 \n",
            "=================================================================\n",
            "Total params: 44,426\n",
            "Trainable params: 44,426\n",
            "Non-trainable params: 0\n",
            "_________________________________________________________________\n"
          ]
        }
      ]
    },
    {
      "cell_type": "code",
      "source": [
        "train_y = tf.keras.utils.to_categorical(train_y, num_classes=10)\n",
        "test_y = tf.keras.utils.to_categorical(test_y, num_classes=10)"
      ],
      "metadata": {
        "id": "zEVn5ZcwrHE3"
      },
      "execution_count": 6,
      "outputs": []
    },
    {
      "cell_type": "code",
      "source": [
        "from sklearn.model_selection import train_test_split\n",
        "train_X, X_val, train_y, y_val = train_test_split(train_X, train_y, test_size=0.2, random_state=1)"
      ],
      "metadata": {
        "id": "nOB7Pkb2rG_7"
      },
      "execution_count": 7,
      "outputs": []
    },
    {
      "cell_type": "code",
      "source": [
        "hist=[]\n",
        "results=[]"
      ],
      "metadata": {
        "id": "12qn9scTrzgF"
      },
      "execution_count": 8,
      "outputs": []
    },
    {
      "cell_type": "code",
      "source": [
        "results"
      ],
      "metadata": {
        "colab": {
          "base_uri": "https://localhost:8080/"
        },
        "id": "Yi3CLKOS8NcZ",
        "outputId": "f70b2d43-ed0a-489a-b5c4-4ee9f9a7ce87"
      },
      "execution_count": 14,
      "outputs": [
        {
          "output_type": "execute_result",
          "data": {
            "text/plain": [
              "[[0.709518313407898, 0.7214999794960022],\n",
              " [0.4800349473953247, 0.8217999935150146],\n",
              " [0.4576725959777832, 0.8363000154495239],\n",
              " [0.47800713777542114, 0.8370000123977661],\n",
              " [0.7224635481834412, 0.823199987411499],\n",
              " [1.067962646484375, 0.8205000162124634]]"
            ]
          },
          "metadata": {},
          "execution_count": 14
        }
      ]
    },
    {
      "cell_type": "code",
      "source": [
        "hist"
      ],
      "metadata": {
        "colab": {
          "base_uri": "https://localhost:8080/"
        },
        "id": "PyErGVX38M0R",
        "outputId": "8835a420-6e57-420c-ed22-84da9daf70d7"
      },
      "execution_count": 10,
      "outputs": [
        {
          "output_type": "execute_result",
          "data": {
            "text/plain": [
              "[]"
            ]
          },
          "metadata": {},
          "execution_count": 10
        }
      ]
    },
    {
      "cell_type": "code",
      "source": [
        "from keras.optimizers import SGD,Adam\n",
        "\n",
        "opt_list=[SGD(lr=0.01),Adam(lr=0.001)]\n",
        "epochs_list = [10,20,30]\n",
        "for optimizer in  opt_list:\n",
        "  for epoch in epochs_list:\n",
        "\n",
        "    lenet_model.compile(optimizer=optimizer, loss=keras.losses.categorical_crossentropy, metrics=['accuracy'])\n",
        "    history = lenet_model.fit(\n",
        "      train_X,\n",
        "      train_y,\n",
        "      batch_size=64,\n",
        "      epochs=epoch,\n",
        "      validation_data=(X_val, y_val)\n",
        "    )\n",
        "    hist.append(history.history)\n",
        "    results.append(lenet_model.evaluate(test_X, test_y, batch_size=128))"
      ],
      "metadata": {
        "colab": {
          "base_uri": "https://localhost:8080/"
        },
        "id": "TITopS9ur1gI",
        "outputId": "e329370c-4e0a-4816-b87c-e959e5fc8477"
      },
      "execution_count": 11,
      "outputs": [
        {
          "output_type": "stream",
          "name": "stdout",
          "text": [
            "Epoch 1/10\n"
          ]
        },
        {
          "output_type": "stream",
          "name": "stderr",
          "text": [
            "/usr/local/lib/python3.8/dist-packages/keras/optimizers/optimizer_v2/gradient_descent.py:108: UserWarning: The `lr` argument is deprecated, use `learning_rate` instead.\n",
            "  super(SGD, self).__init__(name, **kwargs)\n",
            "/usr/local/lib/python3.8/dist-packages/keras/optimizers/optimizer_v2/adam.py:110: UserWarning: The `lr` argument is deprecated, use `learning_rate` instead.\n",
            "  super(Adam, self).__init__(name, **kwargs)\n"
          ]
        },
        {
          "output_type": "stream",
          "name": "stdout",
          "text": [
            "750/750 [==============================] - 12s 5ms/step - loss: 5.7587 - accuracy: 0.1645 - val_loss: 2.2097 - val_accuracy: 0.2057\n",
            "Epoch 2/10\n",
            "750/750 [==============================] - 5s 6ms/step - loss: 1.6405 - accuracy: 0.4098 - val_loss: 1.1311 - val_accuracy: 0.5836\n",
            "Epoch 3/10\n",
            "750/750 [==============================] - 3s 4ms/step - loss: 0.9887 - accuracy: 0.6135 - val_loss: 0.8734 - val_accuracy: 0.6580\n",
            "Epoch 4/10\n",
            "750/750 [==============================] - 3s 4ms/step - loss: 0.8518 - accuracy: 0.6667 - val_loss: 0.8105 - val_accuracy: 0.6933\n",
            "Epoch 5/10\n",
            "750/750 [==============================] - 3s 4ms/step - loss: 0.8302 - accuracy: 0.6733 - val_loss: 0.8354 - val_accuracy: 0.6686\n",
            "Epoch 6/10\n",
            "750/750 [==============================] - 4s 5ms/step - loss: 0.7901 - accuracy: 0.6873 - val_loss: 0.7379 - val_accuracy: 0.7033\n",
            "Epoch 7/10\n",
            "750/750 [==============================] - 3s 4ms/step - loss: 0.7231 - accuracy: 0.7159 - val_loss: 0.6783 - val_accuracy: 0.7319\n",
            "Epoch 8/10\n",
            "750/750 [==============================] - 3s 4ms/step - loss: 0.6897 - accuracy: 0.7303 - val_loss: 0.7147 - val_accuracy: 0.7150\n",
            "Epoch 9/10\n",
            "750/750 [==============================] - 3s 4ms/step - loss: 0.6620 - accuracy: 0.7398 - val_loss: 0.6832 - val_accuracy: 0.7312\n",
            "Epoch 10/10\n",
            "750/750 [==============================] - 3s 4ms/step - loss: 0.6480 - accuracy: 0.7459 - val_loss: 0.6976 - val_accuracy: 0.7258\n",
            "79/79 [==============================] - 0s 4ms/step - loss: 0.7095 - accuracy: 0.7215\n",
            "Epoch 1/20\n",
            "750/750 [==============================] - 4s 4ms/step - loss: 0.6734 - accuracy: 0.7338 - val_loss: 0.6716 - val_accuracy: 0.7299\n",
            "Epoch 2/20\n",
            "750/750 [==============================] - 3s 4ms/step - loss: 0.6567 - accuracy: 0.7398 - val_loss: 0.6400 - val_accuracy: 0.7468\n",
            "Epoch 3/20\n",
            "750/750 [==============================] - 3s 4ms/step - loss: 0.6260 - accuracy: 0.7517 - val_loss: 0.6055 - val_accuracy: 0.7614\n",
            "Epoch 4/20\n",
            "750/750 [==============================] - 3s 4ms/step - loss: 0.6108 - accuracy: 0.7577 - val_loss: 0.6021 - val_accuracy: 0.7641\n",
            "Epoch 5/20\n",
            "750/750 [==============================] - 3s 4ms/step - loss: 0.5919 - accuracy: 0.7664 - val_loss: 0.5830 - val_accuracy: 0.7657\n",
            "Epoch 6/20\n",
            "750/750 [==============================] - 3s 4ms/step - loss: 0.6724 - accuracy: 0.7408 - val_loss: 0.7334 - val_accuracy: 0.7105\n",
            "Epoch 7/20\n",
            "750/750 [==============================] - 3s 4ms/step - loss: 0.6818 - accuracy: 0.7291 - val_loss: 0.6597 - val_accuracy: 0.7343\n",
            "Epoch 8/20\n",
            "750/750 [==============================] - 3s 4ms/step - loss: 0.6060 - accuracy: 0.7631 - val_loss: 0.5775 - val_accuracy: 0.7721\n",
            "Epoch 9/20\n",
            "750/750 [==============================] - 3s 4ms/step - loss: 0.5805 - accuracy: 0.7740 - val_loss: 0.5808 - val_accuracy: 0.7764\n",
            "Epoch 10/20\n",
            "750/750 [==============================] - 3s 4ms/step - loss: 0.5477 - accuracy: 0.7884 - val_loss: 0.5955 - val_accuracy: 0.7717\n",
            "Epoch 11/20\n",
            "750/750 [==============================] - 3s 4ms/step - loss: 0.5327 - accuracy: 0.7927 - val_loss: 0.5349 - val_accuracy: 0.7878\n",
            "Epoch 12/20\n",
            "750/750 [==============================] - 3s 4ms/step - loss: 0.5121 - accuracy: 0.8024 - val_loss: 0.5182 - val_accuracy: 0.7970\n",
            "Epoch 13/20\n",
            "750/750 [==============================] - 3s 4ms/step - loss: 0.4999 - accuracy: 0.8067 - val_loss: 0.5028 - val_accuracy: 0.8098\n",
            "Epoch 14/20\n",
            "750/750 [==============================] - 3s 4ms/step - loss: 0.4898 - accuracy: 0.8111 - val_loss: 0.5044 - val_accuracy: 0.8073\n",
            "Epoch 15/20\n",
            "750/750 [==============================] - 3s 4ms/step - loss: 0.4769 - accuracy: 0.8159 - val_loss: 0.4901 - val_accuracy: 0.8065\n",
            "Epoch 16/20\n",
            "750/750 [==============================] - 3s 4ms/step - loss: 0.4650 - accuracy: 0.8198 - val_loss: 0.4973 - val_accuracy: 0.8050\n",
            "Epoch 17/20\n",
            "750/750 [==============================] - 3s 3ms/step - loss: 0.4550 - accuracy: 0.8251 - val_loss: 0.4707 - val_accuracy: 0.8212\n",
            "Epoch 18/20\n",
            "750/750 [==============================] - 3s 4ms/step - loss: 0.4486 - accuracy: 0.8285 - val_loss: 0.4878 - val_accuracy: 0.8015\n",
            "Epoch 19/20\n",
            "750/750 [==============================] - 3s 4ms/step - loss: 0.4387 - accuracy: 0.8325 - val_loss: 0.4708 - val_accuracy: 0.8138\n",
            "Epoch 20/20\n",
            "750/750 [==============================] - 3s 4ms/step - loss: 0.4495 - accuracy: 0.8271 - val_loss: 0.4524 - val_accuracy: 0.8267\n",
            "79/79 [==============================] - 0s 3ms/step - loss: 0.4800 - accuracy: 0.8218\n",
            "Epoch 1/30\n",
            "750/750 [==============================] - 4s 5ms/step - loss: 0.4452 - accuracy: 0.8306 - val_loss: 0.5213 - val_accuracy: 0.7975\n",
            "Epoch 2/30\n",
            "750/750 [==============================] - 3s 4ms/step - loss: 0.4936 - accuracy: 0.8108 - val_loss: 0.4962 - val_accuracy: 0.8058\n",
            "Epoch 3/30\n",
            "750/750 [==============================] - 3s 4ms/step - loss: 0.4390 - accuracy: 0.8317 - val_loss: 0.4623 - val_accuracy: 0.8220\n",
            "Epoch 4/30\n",
            "750/750 [==============================] - 3s 4ms/step - loss: 0.4259 - accuracy: 0.8370 - val_loss: 0.4685 - val_accuracy: 0.8232\n",
            "Epoch 5/30\n",
            "750/750 [==============================] - 3s 4ms/step - loss: 0.4187 - accuracy: 0.8387 - val_loss: 0.4511 - val_accuracy: 0.8275\n",
            "Epoch 6/30\n",
            "750/750 [==============================] - 3s 4ms/step - loss: 0.4319 - accuracy: 0.8395 - val_loss: 0.4708 - val_accuracy: 0.8159\n",
            "Epoch 7/30\n",
            "750/750 [==============================] - 3s 4ms/step - loss: 0.4247 - accuracy: 0.8372 - val_loss: 0.4534 - val_accuracy: 0.8291\n",
            "Epoch 8/30\n",
            "750/750 [==============================] - 3s 4ms/step - loss: 0.4068 - accuracy: 0.8442 - val_loss: 0.4432 - val_accuracy: 0.8300\n",
            "Epoch 9/30\n",
            "750/750 [==============================] - 3s 4ms/step - loss: 0.4038 - accuracy: 0.8440 - val_loss: 0.4439 - val_accuracy: 0.8278\n",
            "Epoch 10/30\n",
            "750/750 [==============================] - 3s 4ms/step - loss: 0.3962 - accuracy: 0.8472 - val_loss: 0.4534 - val_accuracy: 0.8246\n",
            "Epoch 11/30\n",
            "750/750 [==============================] - 3s 4ms/step - loss: 0.3941 - accuracy: 0.8473 - val_loss: 0.4363 - val_accuracy: 0.8294\n",
            "Epoch 12/30\n",
            "750/750 [==============================] - 3s 4ms/step - loss: 0.3905 - accuracy: 0.8494 - val_loss: 0.4584 - val_accuracy: 0.8282\n",
            "Epoch 13/30\n",
            "750/750 [==============================] - 3s 4ms/step - loss: 0.4778 - accuracy: 0.8105 - val_loss: 0.6207 - val_accuracy: 0.7509\n",
            "Epoch 14/30\n",
            "750/750 [==============================] - 3s 4ms/step - loss: 0.5619 - accuracy: 0.7714 - val_loss: 0.5443 - val_accuracy: 0.7803\n",
            "Epoch 15/30\n",
            "750/750 [==============================] - 3s 4ms/step - loss: 0.5068 - accuracy: 0.7994 - val_loss: 0.5095 - val_accuracy: 0.8031\n",
            "Epoch 16/30\n",
            "750/750 [==============================] - 3s 4ms/step - loss: 0.4376 - accuracy: 0.8296 - val_loss: 0.4426 - val_accuracy: 0.8338\n",
            "Epoch 17/30\n",
            "750/750 [==============================] - 3s 4ms/step - loss: 0.4091 - accuracy: 0.8407 - val_loss: 0.4374 - val_accuracy: 0.8380\n",
            "Epoch 18/30\n",
            "750/750 [==============================] - 3s 4ms/step - loss: 0.3910 - accuracy: 0.8482 - val_loss: 0.4319 - val_accuracy: 0.8347\n",
            "Epoch 19/30\n",
            "750/750 [==============================] - 3s 4ms/step - loss: 0.3832 - accuracy: 0.8523 - val_loss: 0.4336 - val_accuracy: 0.8382\n",
            "Epoch 20/30\n",
            "750/750 [==============================] - 3s 4ms/step - loss: 0.3768 - accuracy: 0.8550 - val_loss: 0.4206 - val_accuracy: 0.8378\n",
            "Epoch 21/30\n",
            "750/750 [==============================] - 3s 4ms/step - loss: 0.3723 - accuracy: 0.8563 - val_loss: 0.4274 - val_accuracy: 0.8365\n",
            "Epoch 22/30\n",
            "750/750 [==============================] - 3s 4ms/step - loss: 0.3684 - accuracy: 0.8571 - val_loss: 0.4210 - val_accuracy: 0.8367\n",
            "Epoch 23/30\n",
            "750/750 [==============================] - 3s 4ms/step - loss: 0.3651 - accuracy: 0.8584 - val_loss: 0.4382 - val_accuracy: 0.8340\n",
            "Epoch 24/30\n",
            "750/750 [==============================] - 3s 4ms/step - loss: 0.3633 - accuracy: 0.8597 - val_loss: 0.4240 - val_accuracy: 0.8386\n",
            "Epoch 25/30\n",
            "750/750 [==============================] - 3s 4ms/step - loss: 0.3580 - accuracy: 0.8626 - val_loss: 0.4296 - val_accuracy: 0.8405\n",
            "Epoch 26/30\n",
            "750/750 [==============================] - 3s 4ms/step - loss: 0.3552 - accuracy: 0.8626 - val_loss: 0.4268 - val_accuracy: 0.8407\n",
            "Epoch 27/30\n",
            "750/750 [==============================] - 3s 4ms/step - loss: 0.3535 - accuracy: 0.8625 - val_loss: 0.4205 - val_accuracy: 0.8385\n",
            "Epoch 28/30\n",
            "750/750 [==============================] - 3s 4ms/step - loss: 0.3512 - accuracy: 0.8640 - val_loss: 0.4306 - val_accuracy: 0.8396\n",
            "Epoch 29/30\n",
            "750/750 [==============================] - 3s 4ms/step - loss: 0.3480 - accuracy: 0.8642 - val_loss: 0.4355 - val_accuracy: 0.8345\n",
            "Epoch 30/30\n",
            "750/750 [==============================] - 3s 4ms/step - loss: 0.3444 - accuracy: 0.8662 - val_loss: 0.4301 - val_accuracy: 0.8395\n",
            "79/79 [==============================] - 0s 3ms/step - loss: 0.4577 - accuracy: 0.8363\n",
            "Epoch 1/10\n",
            "750/750 [==============================] - 3s 4ms/step - loss: 0.3919 - accuracy: 0.8491 - val_loss: 0.4334 - val_accuracy: 0.8352\n",
            "Epoch 2/10\n",
            "750/750 [==============================] - 3s 4ms/step - loss: 0.3726 - accuracy: 0.8562 - val_loss: 0.4272 - val_accuracy: 0.8347\n",
            "Epoch 3/10\n",
            "750/750 [==============================] - 3s 4ms/step - loss: 0.3618 - accuracy: 0.8587 - val_loss: 0.4507 - val_accuracy: 0.8302\n",
            "Epoch 4/10\n",
            "750/750 [==============================] - 3s 4ms/step - loss: 0.3491 - accuracy: 0.8625 - val_loss: 0.4345 - val_accuracy: 0.8366\n",
            "Epoch 5/10\n",
            "750/750 [==============================] - 3s 4ms/step - loss: 0.3405 - accuracy: 0.8672 - val_loss: 0.4288 - val_accuracy: 0.8359\n",
            "Epoch 6/10\n",
            "750/750 [==============================] - 3s 4ms/step - loss: 0.3294 - accuracy: 0.8707 - val_loss: 0.4286 - val_accuracy: 0.8427\n",
            "Epoch 7/10\n",
            "750/750 [==============================] - 3s 4ms/step - loss: 0.3237 - accuracy: 0.8721 - val_loss: 0.4588 - val_accuracy: 0.8352\n",
            "Epoch 8/10\n",
            "750/750 [==============================] - 3s 4ms/step - loss: 0.3162 - accuracy: 0.8758 - val_loss: 0.4368 - val_accuracy: 0.8393\n",
            "Epoch 9/10\n",
            "750/750 [==============================] - 3s 4ms/step - loss: 0.3157 - accuracy: 0.8776 - val_loss: 0.4713 - val_accuracy: 0.8307\n",
            "Epoch 10/10\n",
            "750/750 [==============================] - 3s 4ms/step - loss: 0.2999 - accuracy: 0.8818 - val_loss: 0.4469 - val_accuracy: 0.8411\n",
            "79/79 [==============================] - 0s 3ms/step - loss: 0.4780 - accuracy: 0.8370\n",
            "Epoch 1/20\n",
            "750/750 [==============================] - 3s 4ms/step - loss: 0.2935 - accuracy: 0.8843 - val_loss: 0.4517 - val_accuracy: 0.8365\n",
            "Epoch 2/20\n",
            "750/750 [==============================] - 3s 4ms/step - loss: 0.2884 - accuracy: 0.8871 - val_loss: 0.4522 - val_accuracy: 0.8376\n",
            "Epoch 3/20\n",
            "750/750 [==============================] - 3s 4ms/step - loss: 0.2840 - accuracy: 0.8889 - val_loss: 0.4663 - val_accuracy: 0.8407\n",
            "Epoch 4/20\n",
            "750/750 [==============================] - 3s 4ms/step - loss: 0.2756 - accuracy: 0.8915 - val_loss: 0.4808 - val_accuracy: 0.8402\n",
            "Epoch 5/20\n",
            "750/750 [==============================] - 3s 4ms/step - loss: 0.2722 - accuracy: 0.8925 - val_loss: 0.4921 - val_accuracy: 0.8395\n",
            "Epoch 6/20\n",
            "750/750 [==============================] - 3s 4ms/step - loss: 0.2639 - accuracy: 0.8955 - val_loss: 0.4769 - val_accuracy: 0.8395\n",
            "Epoch 7/20\n",
            "750/750 [==============================] - 3s 4ms/step - loss: 0.2640 - accuracy: 0.8950 - val_loss: 0.4672 - val_accuracy: 0.8407\n",
            "Epoch 8/20\n",
            "750/750 [==============================] - 3s 4ms/step - loss: 0.2524 - accuracy: 0.9006 - val_loss: 0.5062 - val_accuracy: 0.8382\n",
            "Epoch 9/20\n",
            "750/750 [==============================] - 3s 4ms/step - loss: 0.2480 - accuracy: 0.9014 - val_loss: 0.5115 - val_accuracy: 0.8387\n",
            "Epoch 10/20\n",
            "750/750 [==============================] - 3s 4ms/step - loss: 0.2465 - accuracy: 0.9031 - val_loss: 0.5053 - val_accuracy: 0.8403\n",
            "Epoch 11/20\n",
            "750/750 [==============================] - 3s 4ms/step - loss: 0.2393 - accuracy: 0.9050 - val_loss: 0.5439 - val_accuracy: 0.8363\n",
            "Epoch 12/20\n",
            "750/750 [==============================] - 3s 4ms/step - loss: 0.2380 - accuracy: 0.9059 - val_loss: 0.5387 - val_accuracy: 0.8357\n",
            "Epoch 13/20\n",
            "750/750 [==============================] - 3s 4ms/step - loss: 0.2315 - accuracy: 0.9089 - val_loss: 0.5661 - val_accuracy: 0.8367\n",
            "Epoch 14/20\n",
            "750/750 [==============================] - 4s 5ms/step - loss: 0.2271 - accuracy: 0.9099 - val_loss: 0.5400 - val_accuracy: 0.8420\n",
            "Epoch 15/20\n",
            "750/750 [==============================] - 3s 4ms/step - loss: 0.2244 - accuracy: 0.9119 - val_loss: 0.5689 - val_accuracy: 0.8363\n",
            "Epoch 16/20\n",
            "750/750 [==============================] - 3s 4ms/step - loss: 0.2160 - accuracy: 0.9136 - val_loss: 0.5887 - val_accuracy: 0.8378\n",
            "Epoch 17/20\n",
            "750/750 [==============================] - 3s 4ms/step - loss: 0.2204 - accuracy: 0.9125 - val_loss: 0.5933 - val_accuracy: 0.8397\n",
            "Epoch 18/20\n",
            "750/750 [==============================] - 3s 4ms/step - loss: 0.2081 - accuracy: 0.9173 - val_loss: 0.6004 - val_accuracy: 0.8403\n",
            "Epoch 19/20\n",
            "750/750 [==============================] - 3s 4ms/step - loss: 0.2110 - accuracy: 0.9163 - val_loss: 0.5997 - val_accuracy: 0.8402\n",
            "Epoch 20/20\n",
            "750/750 [==============================] - 3s 4ms/step - loss: 0.2017 - accuracy: 0.9208 - val_loss: 0.6523 - val_accuracy: 0.8322\n",
            "79/79 [==============================] - 0s 3ms/step - loss: 0.7225 - accuracy: 0.8232\n",
            "Epoch 1/30\n",
            "750/750 [==============================] - 3s 4ms/step - loss: 0.2024 - accuracy: 0.9212 - val_loss: 0.6670 - val_accuracy: 0.8361\n",
            "Epoch 2/30\n",
            "750/750 [==============================] - 3s 4ms/step - loss: 0.1980 - accuracy: 0.9219 - val_loss: 0.6490 - val_accuracy: 0.8347\n",
            "Epoch 3/30\n",
            "750/750 [==============================] - 3s 4ms/step - loss: 0.1963 - accuracy: 0.9222 - val_loss: 0.6493 - val_accuracy: 0.8363\n",
            "Epoch 4/30\n",
            "750/750 [==============================] - 3s 4ms/step - loss: 0.1930 - accuracy: 0.9246 - val_loss: 0.6853 - val_accuracy: 0.8337\n",
            "Epoch 5/30\n",
            "750/750 [==============================] - 3s 4ms/step - loss: 0.1936 - accuracy: 0.9234 - val_loss: 0.6839 - val_accuracy: 0.8338\n",
            "Epoch 6/30\n",
            "750/750 [==============================] - 3s 4ms/step - loss: 0.1896 - accuracy: 0.9258 - val_loss: 0.7086 - val_accuracy: 0.8288\n",
            "Epoch 7/30\n",
            "750/750 [==============================] - 3s 4ms/step - loss: 0.1800 - accuracy: 0.9291 - val_loss: 0.7184 - val_accuracy: 0.8327\n",
            "Epoch 8/30\n",
            "750/750 [==============================] - 3s 4ms/step - loss: 0.1814 - accuracy: 0.9286 - val_loss: 0.7360 - val_accuracy: 0.8387\n",
            "Epoch 9/30\n",
            "750/750 [==============================] - 3s 4ms/step - loss: 0.1819 - accuracy: 0.9279 - val_loss: 0.7234 - val_accuracy: 0.8314\n",
            "Epoch 10/30\n",
            "750/750 [==============================] - 3s 4ms/step - loss: 0.1749 - accuracy: 0.9323 - val_loss: 0.7471 - val_accuracy: 0.8343\n",
            "Epoch 11/30\n",
            "750/750 [==============================] - 3s 4ms/step - loss: 0.1774 - accuracy: 0.9309 - val_loss: 0.7608 - val_accuracy: 0.8316\n",
            "Epoch 12/30\n",
            "750/750 [==============================] - 3s 4ms/step - loss: 0.1734 - accuracy: 0.9321 - val_loss: 0.7661 - val_accuracy: 0.8343\n",
            "Epoch 13/30\n",
            "750/750 [==============================] - 3s 4ms/step - loss: 0.1737 - accuracy: 0.9323 - val_loss: 0.7767 - val_accuracy: 0.8305\n",
            "Epoch 14/30\n",
            "750/750 [==============================] - 3s 4ms/step - loss: 0.1680 - accuracy: 0.9339 - val_loss: 0.7817 - val_accuracy: 0.8313\n",
            "Epoch 15/30\n",
            "750/750 [==============================] - 3s 4ms/step - loss: 0.1736 - accuracy: 0.9325 - val_loss: 0.8253 - val_accuracy: 0.8324\n",
            "Epoch 16/30\n",
            "750/750 [==============================] - 3s 4ms/step - loss: 0.1701 - accuracy: 0.9345 - val_loss: 0.7931 - val_accuracy: 0.8352\n",
            "Epoch 17/30\n",
            "750/750 [==============================] - 3s 4ms/step - loss: 0.1608 - accuracy: 0.9381 - val_loss: 0.8176 - val_accuracy: 0.8353\n",
            "Epoch 18/30\n",
            "750/750 [==============================] - 3s 4ms/step - loss: 0.1654 - accuracy: 0.9363 - val_loss: 0.8460 - val_accuracy: 0.8343\n",
            "Epoch 19/30\n",
            "750/750 [==============================] - 3s 4ms/step - loss: 0.1619 - accuracy: 0.9380 - val_loss: 0.8331 - val_accuracy: 0.8323\n",
            "Epoch 20/30\n",
            "750/750 [==============================] - 3s 4ms/step - loss: 0.1582 - accuracy: 0.9383 - val_loss: 0.8816 - val_accuracy: 0.8292\n",
            "Epoch 21/30\n",
            "750/750 [==============================] - 3s 4ms/step - loss: 0.1529 - accuracy: 0.9399 - val_loss: 0.8701 - val_accuracy: 0.8321\n",
            "Epoch 22/30\n",
            "750/750 [==============================] - 3s 4ms/step - loss: 0.1486 - accuracy: 0.9432 - val_loss: 0.9005 - val_accuracy: 0.8327\n",
            "Epoch 23/30\n",
            "750/750 [==============================] - 3s 4ms/step - loss: 0.1521 - accuracy: 0.9411 - val_loss: 0.9407 - val_accuracy: 0.8289\n",
            "Epoch 24/30\n",
            "750/750 [==============================] - 3s 4ms/step - loss: 0.1538 - accuracy: 0.9416 - val_loss: 0.9084 - val_accuracy: 0.8330\n",
            "Epoch 25/30\n",
            "750/750 [==============================] - 3s 4ms/step - loss: 0.1480 - accuracy: 0.9425 - val_loss: 0.9319 - val_accuracy: 0.8289\n",
            "Epoch 26/30\n",
            "750/750 [==============================] - 3s 4ms/step - loss: 0.1535 - accuracy: 0.9416 - val_loss: 0.9327 - val_accuracy: 0.8305\n",
            "Epoch 27/30\n",
            "750/750 [==============================] - 3s 4ms/step - loss: 0.1435 - accuracy: 0.9442 - val_loss: 0.9368 - val_accuracy: 0.8339\n",
            "Epoch 28/30\n",
            "750/750 [==============================] - 3s 4ms/step - loss: 0.1495 - accuracy: 0.9424 - val_loss: 0.9482 - val_accuracy: 0.8329\n",
            "Epoch 29/30\n",
            "750/750 [==============================] - 3s 4ms/step - loss: 0.1373 - accuracy: 0.9478 - val_loss: 1.0047 - val_accuracy: 0.8280\n",
            "Epoch 30/30\n",
            "750/750 [==============================] - 3s 4ms/step - loss: 0.1496 - accuracy: 0.9428 - val_loss: 0.9512 - val_accuracy: 0.8311\n",
            "79/79 [==============================] - 0s 3ms/step - loss: 1.0680 - accuracy: 0.8205\n"
          ]
        }
      ]
    },
    {
      "cell_type": "code",
      "source": [
        "print(lenet_model.metrics_names)"
      ],
      "metadata": {
        "colab": {
          "base_uri": "https://localhost:8080/"
        },
        "id": "idaM48vTIHXb",
        "outputId": "2cad9f97-c86e-4a97-84f1-3084402028ca"
      },
      "execution_count": 15,
      "outputs": [
        {
          "output_type": "stream",
          "name": "stdout",
          "text": [
            "['loss', 'accuracy']\n"
          ]
        }
      ]
    },
    {
      "cell_type": "code",
      "source": [
        "fig, axs = plt.subplots(2, 3)\n",
        "epoch1=range(1,11)\n",
        "epoch2 = range(1,21)\n",
        "epoch3 = range(1,31)\n",
        "\n",
        "\n",
        "axs[0, 0].set_title('SGD,epoch:10')\n",
        "axs[0, 0].plot(epoch1,hist[0]['loss'],color=\"green\",label=\"Training Loss\")\n",
        "axs[0, 0].plot(epoch1,hist[0]['val_loss'],color=\"blue\",label = \"Validation Loss\")\n",
        "\n",
        "axs[0, 1].set_title('SGD,epoch:20')\n",
        "axs[0, 1].plot(epoch2,hist[1]['loss'],color=\"green\")\n",
        "axs[0, 1].plot(epoch2,hist[1]['val_loss'],color=\"blue\")\n",
        "\n",
        "axs[0, 2].set_title('SGD,epoch:30')\n",
        "axs[0, 2].plot(epoch3,hist[2]['loss'],color=\"green\")\n",
        "axs[0, 2].plot(epoch3,hist[2]['val_loss'],color=\"blue\")\n",
        "\n",
        "axs[1, 0].set_title('Adam,epoch:10')\n",
        "axs[1, 0].plot(epoch1,hist[3]['loss'],color=\"green\")\n",
        "axs[1, 0].plot(epoch1,hist[3]['val_loss'],color=\"blue\")\n",
        "\n",
        "axs[1, 1].set_title('Adam,epoch:20')\n",
        "axs[1, 1].plot(epoch2,hist[4]['loss'],color=\"green\")\n",
        "axs[1, 1].plot(epoch2,hist[4]['val_loss'],color=\"blue\")\n",
        "\n",
        "\n",
        "axs[1, 2].set_title('Adam,epoch:30')\n",
        "axs[1, 2].plot(epoch3,hist[5]['loss'],color=\"green\")\n",
        "axs[1, 2].plot(epoch3,hist[5]['val_loss'],color=\"blue\")\n",
        "  \n",
        "\n",
        "for ax in axs.flat:\n",
        "    ax.set(xlabel='epoch', ylabel='Loss')\n",
        "\n",
        "fig.legend(bbox_to_anchor=(1.04, 1), borderaxespad=0)\n",
        "\n",
        "\n",
        "# Hide x labels and tick labels for top plots and y ticks for right plots.\n",
        "for ax in axs.flat:\n",
        "    ax.label_outer()"
      ],
      "metadata": {
        "colab": {
          "base_uri": "https://localhost:8080/",
          "height": 314
        },
        "id": "nMnvpj4xr1dy",
        "outputId": "e13b9038-c6db-41db-8496-3e24bd3229a3"
      },
      "execution_count": 12,
      "outputs": [
        {
          "output_type": "display_data",
          "data": {
            "text/plain": [
              "<Figure size 432x288 with 6 Axes>"
            ],
            "image/png": "[encoded data removed]"
          },
          "metadata": {
            "needs_background": "light"
          }
        }
      ]
    },
    {
      "cell_type": "code",
      "source": [
        "fig, axs = plt.subplots(2, 3)\n",
        "epoch1=range(1,11)\n",
        "epoch2 = range(1,21)\n",
        "epoch3 = range(1,31)\n",
        "\n",
        "axs[0, 0].set_title('SGD,epoch:10')\n",
        "axs[0, 0].plot(epoch1,hist[0]['accuracy'],color=\"green\",label=\"Training Accu\")\n",
        "axs[0, 0].plot(epoch1,hist[0]['val_accuracy'],color=\"blue\",label = \"Validation Accu\")\n",
        "\n",
        "axs[0, 1].set_title('SGD,epoch:20' )\n",
        "axs[0, 1].plot(epoch2,hist[1]['accuracy'],color=\"green\")\n",
        "axs[0, 1].plot(epoch2,hist[1]['val_accuracy'],color=\"blue\")\n",
        "\n",
        "axs[0, 2].set_title('SGD,epoch:30')\n",
        "axs[0, 2].plot(epoch3,hist[2]['accuracy'],color=\"green\")\n",
        "axs[0, 2].plot(epoch3,hist[2]['val_accuracy'],color=\"blue\")\n",
        "\n",
        "\n",
        "\n",
        "axs[1, 0].set_title('Adam,epoch:10')\n",
        "axs[1, 0].plot(epoch1,hist[3]['accuracy'],color=\"green\")\n",
        "axs[1, 0].plot(epoch1,hist[3]['val_accuracy'],color=\"blue\")\n",
        "\n",
        "axs[1, 1].set_title('Adam,epoch:20')\n",
        "axs[1, 1].plot(epoch2,hist[4]['accuracy'],color=\"green\")\n",
        "axs[1, 1].plot(epoch2,hist[4]['val_accuracy'],color=\"blue\")\n",
        "\n",
        "\n",
        "axs[1, 2].set_title('Adam,epoch:30')\n",
        "axs[1, 2].plot(epoch3,hist[5]['accuracy'],color=\"green\")\n",
        "axs[1, 2].plot(epoch3,hist[5]['val_accuracy'],color=\"blue\")\n",
        "\n",
        "\n",
        "for ax in axs.flat:\n",
        "    ax.set(xlabel='epoch', ylabel='Accuracy')\n",
        "    \n",
        "fig.legend(bbox_to_anchor=(1.04, 1), borderaxespad=0)\n",
        "\n",
        "\n",
        "# Hide x labels and tick labels for top plots and y ticks for right plots.\n",
        "for ax in axs.flat:\n",
        "    ax.label_outer()"
      ],
      "metadata": {
        "colab": {
          "base_uri": "https://localhost:8080/",
          "height": 314
        },
        "id": "Ib1AlVWmr1bE",
        "outputId": "2850f977-28ca-444a-af36-1aada55700a5"
      },
      "execution_count": 13,
      "outputs": [
        {
          "output_type": "display_data",
          "data": {
            "text/plain": [
              "<Figure size 432x288 with 6 Axes>"
            ],
            "image/png": "[encoded data removed]"
          },
          "metadata": {
            "needs_background": "light"
          }
        }
      ]
    }
  ]
}