{
  "nbformat": 4,
  "nbformat_minor": 0,
  "metadata": {
    "colab": {
      "provenance": []
    },
    "kernelspec": {
      "name": "python3",
      "display_name": "Python 3"
    },
    "language_info": {
      "name": "python"
    },
    "accelerator": "GPU",
    "gpuClass": "standard",
    "widgets": {
      "application/vnd.jupyter.widget-state+json": {
        "e70b0520f02946dc87ef4b7308389aef": {
          "model_module": "@jupyter-widgets/controls",
          "model_name": "HBoxModel",
          "model_module_version": "1.5.0",
          "state": {
            "_dom_classes": [],
            "_model_module": "@jupyter-widgets/controls",
            "_model_module_version": "1.5.0",
            "_model_name": "HBoxModel",
            "_view_count": null,
            "_view_module": "@jupyter-widgets/controls",
            "_view_module_version": "1.5.0",
            "_view_name": "HBoxView",
            "box_style": "",
            "children": [
              "IPY_MODEL_c88a91c7cf364f0c813c6d44fd5a58ee",
              "IPY_MODEL_0489d6d6026a4442b73892bac4f92a51",
              "IPY_MODEL_4e96a7d941b347d3b5ef78d9bf248db7"
            ],
            "layout": "IPY_MODEL_3e8dc0e1b01947e3a2002ffb73f2ac36"
          }
        },
        "c88a91c7cf364f0c813c6d44fd5a58ee": {
          "model_module": "@jupyter-widgets/controls",
          "model_name": "HTMLModel",
          "model_module_version": "1.5.0",
          "state": {
            "_dom_classes": [],
            "_model_module": "@jupyter-widgets/controls",
            "_model_module_version": "1.5.0",
            "_model_name": "HTMLModel",
            "_view_count": null,
            "_view_module": "@jupyter-widgets/controls",
            "_view_module_version": "1.5.0",
            "_view_name": "HTMLView",
            "description": "",
            "description_tooltip": null,
            "layout": "IPY_MODEL_3d210c1a5a694711aaf31006ce03f5a1",
            "placeholder": "​",
            "style": "IPY_MODEL_3deb45241d5347619b5382135a931cd2",
            "value": "100%"
          }
        },
        "0489d6d6026a4442b73892bac4f92a51": {
          "model_module": "@jupyter-widgets/controls",
          "model_name": "FloatProgressModel",
          "model_module_version": "1.5.0",
          "state": {
            "_dom_classes": [],
            "_model_module": "@jupyter-widgets/controls",
            "_model_module_version": "1.5.0",
            "_model_name": "FloatProgressModel",
            "_view_count": null,
            "_view_module": "@jupyter-widgets/controls",
            "_view_module_version": "1.5.0",
            "_view_name": "ProgressView",
            "bar_style": "success",
            "description": "",
            "description_tooltip": null,
            "layout": "IPY_MODEL_44f24a1d140f40dfb5b6ac37401b04ee",
            "max": 169001437,
            "min": 0,
            "orientation": "horizontal",
            "style": "IPY_MODEL_4817dc982d2c46c691e4aa6dea56aacf",
            "value": 169001437
          }
        },
        "4e96a7d941b347d3b5ef78d9bf248db7": {
          "model_module": "@jupyter-widgets/controls",
          "model_name": "HTMLModel",
          "model_module_version": "1.5.0",
          "state": {
            "_dom_classes": [],
            "_model_module": "@jupyter-widgets/controls",
            "_model_module_version": "1.5.0",
            "_model_name": "HTMLModel",
            "_view_count": null,
            "_view_module": "@jupyter-widgets/controls",
            "_view_module_version": "1.5.0",
            "_view_name": "HTMLView",
            "description": "",
            "description_tooltip": null,
            "layout": "IPY_MODEL_0f667698357f464c872ba6da6b0bd3bd",
            "placeholder": "​",
            "style": "IPY_MODEL_30192bd2870f4718a144efa2389fb2b9",
            "value": " 169001437/169001437 [00:13&lt;00:00, 12853888.25it/s]"
          }
        },
        "3e8dc0e1b01947e3a2002ffb73f2ac36": {
          "model_module": "@jupyter-widgets/base",
          "model_name": "LayoutModel",
          "model_module_version": "1.2.0",
          "state": {
            "_model_module": "@jupyter-widgets/base",
            "_model_module_version": "1.2.0",
            "_model_name": "LayoutModel",
            "_view_count": null,
            "_view_module": "@jupyter-widgets/base",
            "_view_module_version": "1.2.0",
            "_view_name": "LayoutView",
            "align_content": null,
            "align_items": null,
            "align_self": null,
            "border": null,
            "bottom": null,
            "display": null,
            "flex": null,
            "flex_flow": null,
            "grid_area": null,
            "grid_auto_columns": null,
            "grid_auto_flow": null,
            "grid_auto_rows": null,
            "grid_column": null,
            "grid_gap": null,
            "grid_row": null,
            "grid_template_areas": null,
            "grid_template_columns": null,
            "grid_template_rows": null,
            "height": null,
            "justify_content": null,
            "justify_items": null,
            "left": null,
            "margin": null,
            "max_height": null,
            "max_width": null,
            "min_height": null,
            "min_width": null,
            "object_fit": null,
            "object_position": null,
            "order": null,
            "overflow": null,
            "overflow_x": null,
            "overflow_y": null,
            "padding": null,
            "right": null,
            "top": null,
            "visibility": null,
            "width": null
          }
        },
        "3d210c1a5a694711aaf31006ce03f5a1": {
          "model_module": "@jupyter-widgets/base",
          "model_name": "LayoutModel",
          "model_module_version": "1.2.0",
          "state": {
            "_model_module": "@jupyter-widgets/base",
            "_model_module_version": "1.2.0",
            "_model_name": "LayoutModel",
            "_view_count": null,
            "_view_module": "@jupyter-widgets/base",
            "_view_module_version": "1.2.0",
            "_view_name": "LayoutView",
            "align_content": null,
            "align_items": null,
            "align_self": null,
            "border": null,
            "bottom": null,
            "display": null,
            "flex": null,
            "flex_flow": null,
            "grid_area": null,
            "grid_auto_columns": null,
            "grid_auto_flow": null,
            "grid_auto_rows": null,
            "grid_column": null,
            "grid_gap": null,
            "grid_row": null,
            "grid_template_areas": null,
            "grid_template_columns": null,
            "grid_template_rows": null,
            "height": null,
            "justify_content": null,
            "justify_items": null,
            "left": null,
            "margin": null,
            "max_height": null,
            "max_width": null,
            "min_height": null,
            "min_width": null,
            "object_fit": null,
            "object_position": null,
            "order": null,
            "overflow": null,
            "overflow_x": null,
            "overflow_y": null,
            "padding": null,
            "right": null,
            "top": null,
            "visibility": null,
            "width": null
          }
        },
        "3deb45241d5347619b5382135a931cd2": {
          "model_module": "@jupyter-widgets/controls",
          "model_name": "DescriptionStyleModel",
          "model_module_version": "1.5.0",
          "state": {
            "_model_module": "@jupyter-widgets/controls",
            "_model_module_version": "1.5.0",
            "_model_name": "DescriptionStyleModel",
            "_view_count": null,
            "_view_module": "@jupyter-widgets/base",
            "_view_module_version": "1.2.0",
            "_view_name": "StyleView",
            "description_width": ""
          }
        },
        "44f24a1d140f40dfb5b6ac37401b04ee": {
          "model_module": "@jupyter-widgets/base",
          "model_name": "LayoutModel",
          "model_module_version": "1.2.0",
          "state": {
            "_model_module": "@jupyter-widgets/base",
            "_model_module_version": "1.2.0",
            "_model_name": "LayoutModel",
            "_view_count": null,
            "_view_module": "@jupyter-widgets/base",
            "_view_module_version": "1.2.0",
            "_view_name": "LayoutView",
            "align_content": null,
            "align_items": null,
            "align_self": null,
            "border": null,
            "bottom": null,
            "display": null,
            "flex": null,
            "flex_flow": null,
            "grid_area": null,
            "grid_auto_columns": null,
            "grid_auto_flow": null,
            "grid_auto_rows": null,
            "grid_column": null,
            "grid_gap": null,
            "grid_row": null,
            "grid_template_areas": null,
            "grid_template_columns": null,
            "grid_template_rows": null,
            "height": null,
            "justify_content": null,
            "justify_items": null,
            "left": null,
            "margin": null,
            "max_height": null,
            "max_width": null,
            "min_height": null,
            "min_width": null,
            "object_fit": null,
            "object_position": null,
            "order": null,
            "overflow": null,
            "overflow_x": null,
            "overflow_y": null,
            "padding": null,
            "right": null,
            "top": null,
            "visibility": null,
            "width": null
          }
        },
        "4817dc982d2c46c691e4aa6dea56aacf": {
          "model_module": "@jupyter-widgets/controls",
          "model_name": "ProgressStyleModel",
          "model_module_version": "1.5.0",
          "state": {
            "_model_module": "@jupyter-widgets/controls",
            "_model_module_version": "1.5.0",
            "_model_name": "ProgressStyleModel",
            "_view_count": null,
            "_view_module": "@jupyter-widgets/base",
            "_view_module_version": "1.2.0",
            "_view_name": "StyleView",
            "bar_color": null,
            "description_width": ""
          }
        },
        "0f667698357f464c872ba6da6b0bd3bd": {
          "model_module": "@jupyter-widgets/base",
          "model_name": "LayoutModel",
          "model_module_version": "1.2.0",
          "state": {
            "_model_module": "@jupyter-widgets/base",
            "_model_module_version": "1.2.0",
            "_model_name": "LayoutModel",
            "_view_count": null,
            "_view_module": "@jupyter-widgets/base",
            "_view_module_version": "1.2.0",
            "_view_name": "LayoutView",
            "align_content": null,
            "align_items": null,
            "align_self": null,
            "border": null,
            "bottom": null,
            "display": null,
            "flex": null,
            "flex_flow": null,
            "grid_area": null,
            "grid_auto_columns": null,
            "grid_auto_flow": null,
            "grid_auto_rows": null,
            "grid_column": null,
            "grid_gap": null,
            "grid_row": null,
            "grid_template_areas": null,
            "grid_template_columns": null,
            "grid_template_rows": null,
            "height": null,
            "justify_content": null,
            "justify_items": null,
            "left": null,
            "margin": null,
            "max_height": null,
            "max_width": null,
            "min_height": null,
            "min_width": null,
            "object_fit": null,
            "object_position": null,
            "order": null,
            "overflow": null,
            "overflow_x": null,
            "overflow_y": null,
            "padding": null,
            "right": null,
            "top": null,
            "visibility": null,
            "width": null
          }
        },
        "30192bd2870f4718a144efa2389fb2b9": {
          "model_module": "@jupyter-widgets/controls",
          "model_name": "DescriptionStyleModel",
          "model_module_version": "1.5.0",
          "state": {
            "_model_module": "@jupyter-widgets/controls",
            "_model_module_version": "1.5.0",
            "_model_name": "DescriptionStyleModel",
            "_view_count": null,
            "_view_module": "@jupyter-widgets/base",
            "_view_module_version": "1.2.0",
            "_view_name": "StyleView",
            "description_width": ""
          }
        }
      }
    }
  },
  "cells": [
    {
      "cell_type": "code",
      "execution_count": null,
      "metadata": {
        "colab": {
          "base_uri": "https://localhost:8080/"
        },
        "id": "wG0lm4dhYq5R",
        "outputId": "a0360a9d-8d7d-4cd2-d8b0-d723749737d0"
      },
      "outputs": [
        {
          "output_type": "stream",
          "name": "stdout",
          "text": [
            "X_train: (60000, 28, 28)\n",
            "Y_train: (60000,)\n",
            "X_test:  (10000, 28, 28)\n",
            "Y_test:  (10000,)\n"
          ]
        }
      ],
      "source": [
        "import keras\n",
        "from keras.datasets import mnist\n",
        "(train_X, train_y), (test_X, test_y) = mnist.load_data()\n",
        "print('X_train: ' + str(train_X.shape))\n",
        "print('Y_train: ' + str(train_y.shape))\n",
        "print('X_test:  '  + str(test_X.shape))\n",
        "print('Y_test:  '  + str(test_y.shape))\n",
        "##Redundant"
      ]
    },
    {
      "cell_type": "code",
      "source": [
        "from matplotlib import pyplot as plt\n",
        "for i in range(5):  \n",
        "  plt.subplot(330 + 1 + i)\n",
        "  plt.imshow(train_X[i], cmap=plt.get_cmap('gray'))\n",
        "  plt.show()\n",
        "  ##Redundant"
      ],
      "metadata": {
        "colab": {
          "base_uri": "https://localhost:8080/",
          "height": 507
        },
        "id": "EPsDLOqqY134",
        "outputId": "ef00befc-4561-48ab-a8ec-3269b72f94a4"
      },
      "execution_count": null,
      "outputs": [
        {
          "output_type": "display_data",
          "data": {
            "text/plain": [
              "<Figure size 432x288 with 1 Axes>"
            ],
            "image/png": "[encoded data removed]"
          },
          "metadata": {
            "needs_background": "light"
          }
        },
        {
          "output_type": "display_data",
          "data": {
            "text/plain": [
              "<Figure size 432x288 with 1 Axes>"
            ],
            "image/png": "[encoded data removed]"
          },
          "metadata": {
            "needs_background": "light"
          }
        },
        {
          "output_type": "display_data",
          "data": {
            "text/plain": [
              "<Figure size 432x288 with 1 Axes>"
            ],
            "image/png": "[encoded data removed]"
          },
          "metadata": {
            "needs_background": "light"
          }
        },
        {
          "output_type": "display_data",
          "data": {
            "text/plain": [
              "<Figure size 432x288 with 1 Axes>"
            ],
            "image/png": "[encoded data removed]"
          },
          "metadata": {
            "needs_background": "light"
          }
        },
        {
          "output_type": "display_data",
          "data": {
            "text/plain": [
              "<Figure size 432x288 with 1 Axes>"
            ],
            "image/png": "[encoded data removed]"
          },
          "metadata": {
            "needs_background": "light"
          }
        }
      ]
    },
    {
      "cell_type": "code",
      "source": [
        "from sklearn.manifold import TSNE\n",
        "data_1000 = train_X[0:3000,:]\n",
        "labels_1000 = train_y[0:3000]\n",
        "model = TSNE(n_components=2, random_state=0)\n",
        "##Redundant"
      ],
      "metadata": {
        "id": "Lad_D3sbY3rR"
      },
      "execution_count": null,
      "outputs": []
    },
    {
      "cell_type": "code",
      "source": [
        "## Bulding a ResNet18"
      ],
      "metadata": {
        "id": "y05D8tqAY6__"
      },
      "execution_count": null,
      "outputs": []
    },
    {
      "cell_type": "code",
      "source": [
        "import tensorflow as tf\n",
        "import numpy as np\n",
        "import matplotlib.pyplot as plt"
      ],
      "metadata": {
        "id": "Qdq0BugZZDZh"
      },
      "execution_count": null,
      "outputs": []
    },
    {
      "cell_type": "code",
      "source": [
        "import keras\n",
        "from keras.datasets import mnist\n",
        "(train_X, train_y), (test_X, test_y) = mnist.load_data()\n",
        "print('X_train: ' + str(train_X.shape))\n",
        "print('Y_train: ' + str(train_y.shape))\n",
        "print('X_test:  '  + str(test_X.shape))\n",
        "print('Y_test:  '  + str(test_y.shape))"
      ],
      "metadata": {
        "colab": {
          "base_uri": "https://localhost:8080/"
        },
        "id": "49YQjhyfgS6Q",
        "outputId": "9b6b8b0e-f2af-4ec8-d589-dc58ca517434"
      },
      "execution_count": null,
      "outputs": [
        {
          "output_type": "stream",
          "name": "stdout",
          "text": [
            "X_train: (60000, 28, 28)\n",
            "Y_train: (60000,)\n",
            "X_test:  (10000, 28, 28)\n",
            "Y_test:  (10000,)\n"
          ]
        }
      ]
    },
    {
      "cell_type": "code",
      "source": [
        "train_y = tf.keras.utils.to_categorical(train_y, 10)\n",
        "test_y = tf.keras.utils.to_categorical(test_y, 10)"
      ],
      "metadata": {
        "id": "gRQ3UZ_Vie9H"
      },
      "execution_count": null,
      "outputs": []
    },
    {
      "cell_type": "code",
      "source": [
        "from keras.optimizers import Adam\n",
        "opt = Adam(lr=0.001)"
      ],
      "metadata": {
        "colab": {
          "base_uri": "https://localhost:8080/"
        },
        "id": "nZ6RztqeevEe",
        "outputId": "84bdfd81-bc0c-44b9-f388-4b0800f11eaf"
      },
      "execution_count": null,
      "outputs": [
        {
          "output_type": "stream",
          "name": "stderr",
          "text": [
            "/usr/local/lib/python3.8/dist-packages/keras/optimizers/optimizer_v2/adam.py:110: UserWarning: The `lr` argument is deprecated, use `learning_rate` instead.\n",
            "  super(Adam, self).__init__(name, **kwargs)\n"
          ]
        }
      ]
    },
    {
      "cell_type": "code",
      "source": [
        "def idBlock(x, filter):\n",
        "    # copy the input to feed it forward\n",
        "    res = x\n",
        "    # First Layer\n",
        "    x = tf.keras.layers.Conv2D(filter, (3,3), padding = 'same')(x)\n",
        "    x = tf.keras.layers.BatchNormalization(axis=3)(x)\n",
        "    x = tf.keras.layers.Activation('relu')(x)\n",
        "    # Second Layer \n",
        "    x = tf.keras.layers.Conv2D(filter, (3,3), padding = 'same')(x)\n",
        "    x = tf.keras.layers.BatchNormalization(axis=3)(x)\n",
        "    # Feed the res\n",
        "    x = tf.keras.layers.Add()([x, res])     \n",
        "    x = tf.keras.layers.Activation('relu')(x)\n",
        "    return x"
      ],
      "metadata": {
        "id": "CpVFTmp2aDKD"
      },
      "execution_count": null,
      "outputs": []
    },
    {
      "cell_type": "code",
      "source": [
        "def convBlock(x, filter):\n",
        "    # copy the input to feed it forward\n",
        "    res = x\n",
        "    # sending the res through conv(1,1) before feeding it\n",
        "    res = tf.keras.layers.Conv2D(filter, (1,1), strides = (2,2))(res)\n",
        "    # First Layer\n",
        "    x = tf.keras.layers.Conv2D(filter, (3,3), padding = 'same', strides = (2,2))(x)\n",
        "    x = tf.keras.layers.BatchNormalization(axis=3)(x)\n",
        "    x = tf.keras.layers.Activation('relu')(x)\n",
        "    # Second Layer\n",
        "    x = tf.keras.layers.Conv2D(filter, (3,3), padding = 'same')(x)\n",
        "    x = tf.keras.layers.BatchNormalization(axis=3)(x)\n",
        "    # Feed the processed res\n",
        "    x = tf.keras.layers.Add()([x, res])     \n",
        "    x = tf.keras.layers.Activation('relu')(x)\n",
        "    return x"
      ],
      "metadata": {
        "id": "5OXEJqL7bLwt"
      },
      "execution_count": null,
      "outputs": []
    },
    {
      "cell_type": "code",
      "source": [
        "def ResNet34(shape = (28, 28, 1), classes = 10):\n",
        "    # Step 1 (Setup Input Layer)\n",
        "    x_input = tf.keras.layers.Input(shape)\n",
        "    x = tf.keras.layers.ZeroPadding2D((3, 3))(x_input)\n",
        "    # Step 2 (Initial Conv layer along with maxPool)\n",
        "    x = tf.keras.layers.Conv2D(64, kernel_size=7, strides=2, padding='same')(x)\n",
        "    x = tf.keras.layers.BatchNormalization()(x)\n",
        "    x = tf.keras.layers.Activation('relu')(x)\n",
        "    x = tf.keras.layers.MaxPool2D(pool_size=3, strides=2, padding='same')(x)\n",
        "    # Define size of sub-blocks and initial filter size\n",
        "    block_layers = [3, 4, 6, 3]\n",
        "    filter_size = 64\n",
        "    # Step 3 Add the Resnet Blocks\n",
        "    for i in range(4):\n",
        "        if i == 0:\n",
        "            # For sub-block 1 Residual/Convolutional block not needed\n",
        "            for j in range(block_layers[i]):\n",
        "                x = idBlock(x, filter_size)\n",
        "        else:\n",
        "            # One Residual/Convolutional Block followed by Identity blocks\n",
        "            # The filter size will go on increasing by a factor of 2\n",
        "            filter_size = filter_size*2\n",
        "            x = convBlock(x, filter_size)\n",
        "            for j in range(block_layers[i] - 1):\n",
        "                x = idBlock(x, filter_size)\n",
        "    # Step 4 End Dense Network\n",
        "    x = tf.keras.layers.AveragePooling2D((2,2), padding = 'same')(x)\n",
        "    x = tf.keras.layers.Flatten()(x)\n",
        "    x = tf.keras.layers.Dense(512, activation = 'relu')(x)\n",
        "    x = tf.keras.layers.Dense(classes, activation = 'softmax')(x)\n",
        "    model = tf.keras.models.Model(inputs = x_input, outputs = x, name = \"ResNet34\")\n",
        "    return model"
      ],
      "metadata": {
        "id": "-kqhelYJcvOu"
      },
      "execution_count": null,
      "outputs": []
    },
    {
      "cell_type": "code",
      "source": [
        "model = ResNet34()\n",
        "##Redundant"
      ],
      "metadata": {
        "id": "PDORhxDijxaZ"
      },
      "execution_count": null,
      "outputs": []
    },
    {
      "cell_type": "code",
      "source": [
        "model.compile(optimizer = opt, loss = keras.losses.categorical_crossentropy, metrics=['accuracy'])\n",
        "model.summary()\n",
        "train = model.fit(train_X,train_y,batch_size=64, epochs=1)\n",
        "##Redundant"
      ],
      "metadata": {
        "colab": {
          "base_uri": "https://localhost:8080/"
        },
        "id": "dn0wrriaiuPp",
        "outputId": "a0e44193-8612-4c09-c2a8-c0eaf8361373"
      },
      "execution_count": null,
      "outputs": [
        {
          "output_type": "stream",
          "name": "stdout",
          "text": [
            "Model: \"ResNet34\"\n",
            "__________________________________________________________________________________________________\n",
            " Layer (type)                   Output Shape         Param #     Connected to                     \n",
            "==================================================================================================\n",
            " input_1 (InputLayer)           [(None, 28, 28, 1)]  0           []                               \n",
            "                                                                                                  \n",
            " zero_padding2d (ZeroPadding2D)  (None, 34, 34, 1)   0           ['input_1[0][0]']                \n",
            "                                                                                                  \n",
            " conv2d (Conv2D)                (None, 17, 17, 64)   3200        ['zero_padding2d[0][0]']         \n",
            "                                                                                                  \n",
            " batch_normalization (BatchNorm  (None, 17, 17, 64)  256         ['conv2d[0][0]']                 \n",
            " alization)                                                                                       \n",
            "                                                                                                  \n",
            " activation (Activation)        (None, 17, 17, 64)   0           ['batch_normalization[0][0]']    \n",
            "                                                                                                  \n",
            " max_pooling2d (MaxPooling2D)   (None, 9, 9, 64)     0           ['activation[0][0]']             \n",
            "                                                                                                  \n",
            " conv2d_1 (Conv2D)              (None, 9, 9, 64)     36928       ['max_pooling2d[0][0]']          \n",
            "                                                                                                  \n",
            " batch_normalization_1 (BatchNo  (None, 9, 9, 64)    256         ['conv2d_1[0][0]']               \n",
            " rmalization)                                                                                     \n",
            "                                                                                                  \n",
            " activation_1 (Activation)      (None, 9, 9, 64)     0           ['batch_normalization_1[0][0]']  \n",
            "                                                                                                  \n",
            " conv2d_2 (Conv2D)              (None, 9, 9, 64)     36928       ['activation_1[0][0]']           \n",
            "                                                                                                  \n",
            " batch_normalization_2 (BatchNo  (None, 9, 9, 64)    256         ['conv2d_2[0][0]']               \n",
            " rmalization)                                                                                     \n",
            "                                                                                                  \n",
            " add (Add)                      (None, 9, 9, 64)     0           ['batch_normalization_2[0][0]',  \n",
            "                                                                  'max_pooling2d[0][0]']          \n",
            "                                                                                                  \n",
            " activation_2 (Activation)      (None, 9, 9, 64)     0           ['add[0][0]']                    \n",
            "                                                                                                  \n",
            " conv2d_3 (Conv2D)              (None, 9, 9, 64)     36928       ['activation_2[0][0]']           \n",
            "                                                                                                  \n",
            " batch_normalization_3 (BatchNo  (None, 9, 9, 64)    256         ['conv2d_3[0][0]']               \n",
            " rmalization)                                                                                     \n",
            "                                                                                                  \n",
            " activation_3 (Activation)      (None, 9, 9, 64)     0           ['batch_normalization_3[0][0]']  \n",
            "                                                                                                  \n",
            " conv2d_4 (Conv2D)              (None, 9, 9, 64)     36928       ['activation_3[0][0]']           \n",
            "                                                                                                  \n",
            " batch_normalization_4 (BatchNo  (None, 9, 9, 64)    256         ['conv2d_4[0][0]']               \n",
            " rmalization)                                                                                     \n",
            "                                                                                                  \n",
            " add_1 (Add)                    (None, 9, 9, 64)     0           ['batch_normalization_4[0][0]',  \n",
            "                                                                  'activation_2[0][0]']           \n",
            "                                                                                                  \n",
            " activation_4 (Activation)      (None, 9, 9, 64)     0           ['add_1[0][0]']                  \n",
            "                                                                                                  \n",
            " conv2d_5 (Conv2D)              (None, 9, 9, 64)     36928       ['activation_4[0][0]']           \n",
            "                                                                                                  \n",
            " batch_normalization_5 (BatchNo  (None, 9, 9, 64)    256         ['conv2d_5[0][0]']               \n",
            " rmalization)                                                                                     \n",
            "                                                                                                  \n",
            " activation_5 (Activation)      (None, 9, 9, 64)     0           ['batch_normalization_5[0][0]']  \n",
            "                                                                                                  \n",
            " conv2d_6 (Conv2D)              (None, 9, 9, 64)     36928       ['activation_5[0][0]']           \n",
            "                                                                                                  \n",
            " batch_normalization_6 (BatchNo  (None, 9, 9, 64)    256         ['conv2d_6[0][0]']               \n",
            " rmalization)                                                                                     \n",
            "                                                                                                  \n",
            " add_2 (Add)                    (None, 9, 9, 64)     0           ['batch_normalization_6[0][0]',  \n",
            "                                                                  'activation_4[0][0]']           \n",
            "                                                                                                  \n",
            " activation_6 (Activation)      (None, 9, 9, 64)     0           ['add_2[0][0]']                  \n",
            "                                                                                                  \n",
            " conv2d_8 (Conv2D)              (None, 5, 5, 128)    73856       ['activation_6[0][0]']           \n",
            "                                                                                                  \n",
            " batch_normalization_7 (BatchNo  (None, 5, 5, 128)   512         ['conv2d_8[0][0]']               \n",
            " rmalization)                                                                                     \n",
            "                                                                                                  \n",
            " activation_7 (Activation)      (None, 5, 5, 128)    0           ['batch_normalization_7[0][0]']  \n",
            "                                                                                                  \n",
            " conv2d_9 (Conv2D)              (None, 5, 5, 128)    147584      ['activation_7[0][0]']           \n",
            "                                                                                                  \n",
            " batch_normalization_8 (BatchNo  (None, 5, 5, 128)   512         ['conv2d_9[0][0]']               \n",
            " rmalization)                                                                                     \n",
            "                                                                                                  \n",
            " conv2d_7 (Conv2D)              (None, 5, 5, 128)    8320        ['activation_6[0][0]']           \n",
            "                                                                                                  \n",
            " add_3 (Add)                    (None, 5, 5, 128)    0           ['batch_normalization_8[0][0]',  \n",
            "                                                                  'conv2d_7[0][0]']               \n",
            "                                                                                                  \n",
            " activation_8 (Activation)      (None, 5, 5, 128)    0           ['add_3[0][0]']                  \n",
            "                                                                                                  \n",
            " conv2d_10 (Conv2D)             (None, 5, 5, 128)    147584      ['activation_8[0][0]']           \n",
            "                                                                                                  \n",
            " batch_normalization_9 (BatchNo  (None, 5, 5, 128)   512         ['conv2d_10[0][0]']              \n",
            " rmalization)                                                                                     \n",
            "                                                                                                  \n",
            " activation_9 (Activation)      (None, 5, 5, 128)    0           ['batch_normalization_9[0][0]']  \n",
            "                                                                                                  \n",
            " conv2d_11 (Conv2D)             (None, 5, 5, 128)    147584      ['activation_9[0][0]']           \n",
            "                                                                                                  \n",
            " batch_normalization_10 (BatchN  (None, 5, 5, 128)   512         ['conv2d_11[0][0]']              \n",
            " ormalization)                                                                                    \n",
            "                                                                                                  \n",
            " add_4 (Add)                    (None, 5, 5, 128)    0           ['batch_normalization_10[0][0]', \n",
            "                                                                  'activation_8[0][0]']           \n",
            "                                                                                                  \n",
            " activation_10 (Activation)     (None, 5, 5, 128)    0           ['add_4[0][0]']                  \n",
            "                                                                                                  \n",
            " conv2d_12 (Conv2D)             (None, 5, 5, 128)    147584      ['activation_10[0][0]']          \n",
            "                                                                                                  \n",
            " batch_normalization_11 (BatchN  (None, 5, 5, 128)   512         ['conv2d_12[0][0]']              \n",
            " ormalization)                                                                                    \n",
            "                                                                                                  \n",
            " activation_11 (Activation)     (None, 5, 5, 128)    0           ['batch_normalization_11[0][0]'] \n",
            "                                                                                                  \n",
            " conv2d_13 (Conv2D)             (None, 5, 5, 128)    147584      ['activation_11[0][0]']          \n",
            "                                                                                                  \n",
            " batch_normalization_12 (BatchN  (None, 5, 5, 128)   512         ['conv2d_13[0][0]']              \n",
            " ormalization)                                                                                    \n",
            "                                                                                                  \n",
            " add_5 (Add)                    (None, 5, 5, 128)    0           ['batch_normalization_12[0][0]', \n",
            "                                                                  'activation_10[0][0]']          \n",
            "                                                                                                  \n",
            " activation_12 (Activation)     (None, 5, 5, 128)    0           ['add_5[0][0]']                  \n",
            "                                                                                                  \n",
            " conv2d_14 (Conv2D)             (None, 5, 5, 128)    147584      ['activation_12[0][0]']          \n",
            "                                                                                                  \n",
            " batch_normalization_13 (BatchN  (None, 5, 5, 128)   512         ['conv2d_14[0][0]']              \n",
            " ormalization)                                                                                    \n",
            "                                                                                                  \n",
            " activation_13 (Activation)     (None, 5, 5, 128)    0           ['batch_normalization_13[0][0]'] \n",
            "                                                                                                  \n",
            " conv2d_15 (Conv2D)             (None, 5, 5, 128)    147584      ['activation_13[0][0]']          \n",
            "                                                                                                  \n",
            " batch_normalization_14 (BatchN  (None, 5, 5, 128)   512         ['conv2d_15[0][0]']              \n",
            " ormalization)                                                                                    \n",
            "                                                                                                  \n",
            " add_6 (Add)                    (None, 5, 5, 128)    0           ['batch_normalization_14[0][0]', \n",
            "                                                                  'activation_12[0][0]']          \n",
            "                                                                                                  \n",
            " activation_14 (Activation)     (None, 5, 5, 128)    0           ['add_6[0][0]']                  \n",
            "                                                                                                  \n",
            " conv2d_17 (Conv2D)             (None, 3, 3, 256)    295168      ['activation_14[0][0]']          \n",
            "                                                                                                  \n",
            " batch_normalization_15 (BatchN  (None, 3, 3, 256)   1024        ['conv2d_17[0][0]']              \n",
            " ormalization)                                                                                    \n",
            "                                                                                                  \n",
            " activation_15 (Activation)     (None, 3, 3, 256)    0           ['batch_normalization_15[0][0]'] \n",
            "                                                                                                  \n",
            " conv2d_18 (Conv2D)             (None, 3, 3, 256)    590080      ['activation_15[0][0]']          \n",
            "                                                                                                  \n",
            " batch_normalization_16 (BatchN  (None, 3, 3, 256)   1024        ['conv2d_18[0][0]']              \n",
            " ormalization)                                                                                    \n",
            "                                                                                                  \n",
            " conv2d_16 (Conv2D)             (None, 3, 3, 256)    33024       ['activation_14[0][0]']          \n",
            "                                                                                                  \n",
            " add_7 (Add)                    (None, 3, 3, 256)    0           ['batch_normalization_16[0][0]', \n",
            "                                                                  'conv2d_16[0][0]']              \n",
            "                                                                                                  \n",
            " activation_16 (Activation)     (None, 3, 3, 256)    0           ['add_7[0][0]']                  \n",
            "                                                                                                  \n",
            " conv2d_19 (Conv2D)             (None, 3, 3, 256)    590080      ['activation_16[0][0]']          \n",
            "                                                                                                  \n",
            " batch_normalization_17 (BatchN  (None, 3, 3, 256)   1024        ['conv2d_19[0][0]']              \n",
            " ormalization)                                                                                    \n",
            "                                                                                                  \n",
            " activation_17 (Activation)     (None, 3, 3, 256)    0           ['batch_normalization_17[0][0]'] \n",
            "                                                                                                  \n",
            " conv2d_20 (Conv2D)             (None, 3, 3, 256)    590080      ['activation_17[0][0]']          \n",
            "                                                                                                  \n",
            " batch_normalization_18 (BatchN  (None, 3, 3, 256)   1024        ['conv2d_20[0][0]']              \n",
            " ormalization)                                                                                    \n",
            "                                                                                                  \n",
            " add_8 (Add)                    (None, 3, 3, 256)    0           ['batch_normalization_18[0][0]', \n",
            "                                                                  'activation_16[0][0]']          \n",
            "                                                                                                  \n",
            " activation_18 (Activation)     (None, 3, 3, 256)    0           ['add_8[0][0]']                  \n",
            "                                                                                                  \n",
            " conv2d_21 (Conv2D)             (None, 3, 3, 256)    590080      ['activation_18[0][0]']          \n",
            "                                                                                                  \n",
            " batch_normalization_19 (BatchN  (None, 3, 3, 256)   1024        ['conv2d_21[0][0]']              \n",
            " ormalization)                                                                                    \n",
            "                                                                                                  \n",
            " activation_19 (Activation)     (None, 3, 3, 256)    0           ['batch_normalization_19[0][0]'] \n",
            "                                                                                                  \n",
            " conv2d_22 (Conv2D)             (None, 3, 3, 256)    590080      ['activation_19[0][0]']          \n",
            "                                                                                                  \n",
            " batch_normalization_20 (BatchN  (None, 3, 3, 256)   1024        ['conv2d_22[0][0]']              \n",
            " ormalization)                                                                                    \n",
            "                                                                                                  \n",
            " add_9 (Add)                    (None, 3, 3, 256)    0           ['batch_normalization_20[0][0]', \n",
            "                                                                  'activation_18[0][0]']          \n",
            "                                                                                                  \n",
            " activation_20 (Activation)     (None, 3, 3, 256)    0           ['add_9[0][0]']                  \n",
            "                                                                                                  \n",
            " conv2d_23 (Conv2D)             (None, 3, 3, 256)    590080      ['activation_20[0][0]']          \n",
            "                                                                                                  \n",
            " batch_normalization_21 (BatchN  (None, 3, 3, 256)   1024        ['conv2d_23[0][0]']              \n",
            " ormalization)                                                                                    \n",
            "                                                                                                  \n",
            " activation_21 (Activation)     (None, 3, 3, 256)    0           ['batch_normalization_21[0][0]'] \n",
            "                                                                                                  \n",
            " conv2d_24 (Conv2D)             (None, 3, 3, 256)    590080      ['activation_21[0][0]']          \n",
            "                                                                                                  \n",
            " batch_normalization_22 (BatchN  (None, 3, 3, 256)   1024        ['conv2d_24[0][0]']              \n",
            " ormalization)                                                                                    \n",
            "                                                                                                  \n",
            " add_10 (Add)                   (None, 3, 3, 256)    0           ['batch_normalization_22[0][0]', \n",
            "                                                                  'activation_20[0][0]']          \n",
            "                                                                                                  \n",
            " activation_22 (Activation)     (None, 3, 3, 256)    0           ['add_10[0][0]']                 \n",
            "                                                                                                  \n",
            " conv2d_25 (Conv2D)             (None, 3, 3, 256)    590080      ['activation_22[0][0]']          \n",
            "                                                                                                  \n",
            " batch_normalization_23 (BatchN  (None, 3, 3, 256)   1024        ['conv2d_25[0][0]']              \n",
            " ormalization)                                                                                    \n",
            "                                                                                                  \n",
            " activation_23 (Activation)     (None, 3, 3, 256)    0           ['batch_normalization_23[0][0]'] \n",
            "                                                                                                  \n",
            " conv2d_26 (Conv2D)             (None, 3, 3, 256)    590080      ['activation_23[0][0]']          \n",
            "                                                                                                  \n",
            " batch_normalization_24 (BatchN  (None, 3, 3, 256)   1024        ['conv2d_26[0][0]']              \n",
            " ormalization)                                                                                    \n",
            "                                                                                                  \n",
            " add_11 (Add)                   (None, 3, 3, 256)    0           ['batch_normalization_24[0][0]', \n",
            "                                                                  'activation_22[0][0]']          \n",
            "                                                                                                  \n",
            " activation_24 (Activation)     (None, 3, 3, 256)    0           ['add_11[0][0]']                 \n",
            "                                                                                                  \n",
            " conv2d_27 (Conv2D)             (None, 3, 3, 256)    590080      ['activation_24[0][0]']          \n",
            "                                                                                                  \n",
            " batch_normalization_25 (BatchN  (None, 3, 3, 256)   1024        ['conv2d_27[0][0]']              \n",
            " ormalization)                                                                                    \n",
            "                                                                                                  \n",
            " activation_25 (Activation)     (None, 3, 3, 256)    0           ['batch_normalization_25[0][0]'] \n",
            "                                                                                                  \n",
            " conv2d_28 (Conv2D)             (None, 3, 3, 256)    590080      ['activation_25[0][0]']          \n",
            "                                                                                                  \n",
            " batch_normalization_26 (BatchN  (None, 3, 3, 256)   1024        ['conv2d_28[0][0]']              \n",
            " ormalization)                                                                                    \n",
            "                                                                                                  \n",
            " add_12 (Add)                   (None, 3, 3, 256)    0           ['batch_normalization_26[0][0]', \n",
            "                                                                  'activation_24[0][0]']          \n",
            "                                                                                                  \n",
            " activation_26 (Activation)     (None, 3, 3, 256)    0           ['add_12[0][0]']                 \n",
            "                                                                                                  \n",
            " conv2d_30 (Conv2D)             (None, 2, 2, 512)    1180160     ['activation_26[0][0]']          \n",
            "                                                                                                  \n",
            " batch_normalization_27 (BatchN  (None, 2, 2, 512)   2048        ['conv2d_30[0][0]']              \n",
            " ormalization)                                                                                    \n",
            "                                                                                                  \n",
            " activation_27 (Activation)     (None, 2, 2, 512)    0           ['batch_normalization_27[0][0]'] \n",
            "                                                                                                  \n",
            " conv2d_31 (Conv2D)             (None, 2, 2, 512)    2359808     ['activation_27[0][0]']          \n",
            "                                                                                                  \n",
            " batch_normalization_28 (BatchN  (None, 2, 2, 512)   2048        ['conv2d_31[0][0]']              \n",
            " ormalization)                                                                                    \n",
            "                                                                                                  \n",
            " conv2d_29 (Conv2D)             (None, 2, 2, 512)    131584      ['activation_26[0][0]']          \n",
            "                                                                                                  \n",
            " add_13 (Add)                   (None, 2, 2, 512)    0           ['batch_normalization_28[0][0]', \n",
            "                                                                  'conv2d_29[0][0]']              \n",
            "                                                                                                  \n",
            " activation_28 (Activation)     (None, 2, 2, 512)    0           ['add_13[0][0]']                 \n",
            "                                                                                                  \n",
            " conv2d_32 (Conv2D)             (None, 2, 2, 512)    2359808     ['activation_28[0][0]']          \n",
            "                                                                                                  \n",
            " batch_normalization_29 (BatchN  (None, 2, 2, 512)   2048        ['conv2d_32[0][0]']              \n",
            " ormalization)                                                                                    \n",
            "                                                                                                  \n",
            " activation_29 (Activation)     (None, 2, 2, 512)    0           ['batch_normalization_29[0][0]'] \n",
            "                                                                                                  \n",
            " conv2d_33 (Conv2D)             (None, 2, 2, 512)    2359808     ['activation_29[0][0]']          \n",
            "                                                                                                  \n",
            " batch_normalization_30 (BatchN  (None, 2, 2, 512)   2048        ['conv2d_33[0][0]']              \n",
            " ormalization)                                                                                    \n",
            "                                                                                                  \n",
            " add_14 (Add)                   (None, 2, 2, 512)    0           ['batch_normalization_30[0][0]', \n",
            "                                                                  'activation_28[0][0]']          \n",
            "                                                                                                  \n",
            " activation_30 (Activation)     (None, 2, 2, 512)    0           ['add_14[0][0]']                 \n",
            "                                                                                                  \n",
            " conv2d_34 (Conv2D)             (None, 2, 2, 512)    2359808     ['activation_30[0][0]']          \n",
            "                                                                                                  \n",
            " batch_normalization_31 (BatchN  (None, 2, 2, 512)   2048        ['conv2d_34[0][0]']              \n",
            " ormalization)                                                                                    \n",
            "                                                                                                  \n",
            " activation_31 (Activation)     (None, 2, 2, 512)    0           ['batch_normalization_31[0][0]'] \n",
            "                                                                                                  \n",
            " conv2d_35 (Conv2D)             (None, 2, 2, 512)    2359808     ['activation_31[0][0]']          \n",
            "                                                                                                  \n",
            " batch_normalization_32 (BatchN  (None, 2, 2, 512)   2048        ['conv2d_35[0][0]']              \n",
            " ormalization)                                                                                    \n",
            "                                                                                                  \n",
            " add_15 (Add)                   (None, 2, 2, 512)    0           ['batch_normalization_32[0][0]', \n",
            "                                                                  'activation_30[0][0]']          \n",
            "                                                                                                  \n",
            " activation_32 (Activation)     (None, 2, 2, 512)    0           ['add_15[0][0]']                 \n",
            "                                                                                                  \n",
            " average_pooling2d (AveragePool  (None, 1, 1, 512)   0           ['activation_32[0][0]']          \n",
            " ing2D)                                                                                           \n",
            "                                                                                                  \n",
            " flatten (Flatten)              (None, 512)          0           ['average_pooling2d[0][0]']      \n",
            "                                                                                                  \n",
            " dense (Dense)                  (None, 512)          262656      ['flatten[0][0]']                \n",
            "                                                                                                  \n",
            " dense_1 (Dense)                (None, 10)           5130        ['dense[0][0]']                  \n",
            "                                                                                                  \n",
            "==================================================================================================\n",
            "Total params: 21,568,138\n",
            "Trainable params: 21,552,906\n",
            "Non-trainable params: 15,232\n",
            "__________________________________________________________________________________________________\n",
            "938/938 [==============================] - 7984s 9s/step - loss: 0.1839 - accuracy: 0.9462\n"
          ]
        }
      ]
    },
    {
      "cell_type": "code",
      "source": [
        "train.history()"
      ],
      "metadata": {
        "id": "E1LWGbt1jnyj"
      },
      "execution_count": null,
      "outputs": []
    },
    {
      "cell_type": "code",
      "source": [
        "def ResNet18(shape = (28, 28, 1), classes = 10):\n",
        "    # Step 1 (Setup Input Layer)\n",
        "    x_input = tf.keras.layers.Input(shape)\n",
        "    x = tf.keras.layers.ZeroPadding2D((3, 3))(x_input)\n",
        "    # Step 2 (Initial Conv layer along with maxPool)\n",
        "    x = tf.keras.layers.Conv2D(64, kernel_size=7, strides=2, padding='same')(x)\n",
        "    x = tf.keras.layers.BatchNormalization()(x)\n",
        "    x = tf.keras.layers.Activation('relu')(x)\n",
        "    x = tf.keras.layers.MaxPool2D(pool_size=3, strides=2, padding='same')(x)\n",
        "    # Define size of sub-blocks and initial filter size\n",
        "    block_layers = [2, 2, 2, 2]\n",
        "    filter_size = 64\n",
        "    # Step 3 Add the Resnet Blocks\n",
        "    for i in range(4):\n",
        "        if i == 0:\n",
        "            # For sub-block 1 Residual/Convolutional block not needed\n",
        "            for j in range(block_layers[i]):\n",
        "                x = idBlock(x, filter_size)\n",
        "        else:\n",
        "            # One Residual/Convolutional Block followed by Identity blocks\n",
        "            # The filter size will go on increasing by a factor of 2\n",
        "            filter_size = filter_size*2\n",
        "            x = convBlock(x, filter_size)\n",
        "            for j in range(block_layers[i] - 1):\n",
        "                x = idBlock(x, filter_size)\n",
        "    # Step 4 End Dense Network\n",
        "    x = tf.keras.layers.AveragePooling2D((2,2), padding = 'same')(x)\n",
        "    x = tf.keras.layers.Flatten()(x)\n",
        "    x = tf.keras.layers.Dense(512, activation = 'relu')(x)\n",
        "    x = tf.keras.layers.Dense(classes, activation = 'softmax')(x)\n",
        "    model = tf.keras.models.Model(inputs = x_input, outputs = x, name = \"ResNet34\")\n",
        "    return model"
      ],
      "metadata": {
        "id": "K97rcCuSEZsL"
      },
      "execution_count": null,
      "outputs": []
    },
    {
      "cell_type": "code",
      "source": [
        "model2 = ResNet18()\n",
        "model2.compile(optimizer = opt, loss = keras.losses.categorical_crossentropy, metrics=['accuracy'])\n",
        "model2.summary()\n",
        "train = model2.fit(train_X,train_y,batch_size=64, epochs=1)"
      ],
      "metadata": {
        "colab": {
          "base_uri": "https://localhost:8080/"
        },
        "id": "kc2dRNAFI_xW",
        "outputId": "ecaaef1c-5f3d-4b7a-8752-1d9677df0c81"
      },
      "execution_count": null,
      "outputs": [
        {
          "output_type": "stream",
          "name": "stdout",
          "text": [
            "Model: \"ResNet34\"\n",
            "__________________________________________________________________________________________________\n",
            " Layer (type)                   Output Shape         Param #     Connected to                     \n",
            "==================================================================================================\n",
            " input_1 (InputLayer)           [(None, 28, 28, 1)]  0           []                               \n",
            "                                                                                                  \n",
            " zero_padding2d (ZeroPadding2D)  (None, 34, 34, 1)   0           ['input_1[0][0]']                \n",
            "                                                                                                  \n",
            " conv2d (Conv2D)                (None, 17, 17, 64)   3200        ['zero_padding2d[0][0]']         \n",
            "                                                                                                  \n",
            " batch_normalization (BatchNorm  (None, 17, 17, 64)  256         ['conv2d[0][0]']                 \n",
            " alization)                                                                                       \n",
            "                                                                                                  \n",
            " activation (Activation)        (None, 17, 17, 64)   0           ['batch_normalization[0][0]']    \n",
            "                                                                                                  \n",
            " max_pooling2d (MaxPooling2D)   (None, 9, 9, 64)     0           ['activation[0][0]']             \n",
            "                                                                                                  \n",
            " conv2d_1 (Conv2D)              (None, 9, 9, 64)     36928       ['max_pooling2d[0][0]']          \n",
            "                                                                                                  \n",
            " batch_normalization_1 (BatchNo  (None, 9, 9, 64)    256         ['conv2d_1[0][0]']               \n",
            " rmalization)                                                                                     \n",
            "                                                                                                  \n",
            " activation_1 (Activation)      (None, 9, 9, 64)     0           ['batch_normalization_1[0][0]']  \n",
            "                                                                                                  \n",
            " conv2d_2 (Conv2D)              (None, 9, 9, 64)     36928       ['activation_1[0][0]']           \n",
            "                                                                                                  \n",
            " batch_normalization_2 (BatchNo  (None, 9, 9, 64)    256         ['conv2d_2[0][0]']               \n",
            " rmalization)                                                                                     \n",
            "                                                                                                  \n",
            " add (Add)                      (None, 9, 9, 64)     0           ['batch_normalization_2[0][0]',  \n",
            "                                                                  'max_pooling2d[0][0]']          \n",
            "                                                                                                  \n",
            " activation_2 (Activation)      (None, 9, 9, 64)     0           ['add[0][0]']                    \n",
            "                                                                                                  \n",
            " conv2d_3 (Conv2D)              (None, 9, 9, 64)     36928       ['activation_2[0][0]']           \n",
            "                                                                                                  \n",
            " batch_normalization_3 (BatchNo  (None, 9, 9, 64)    256         ['conv2d_3[0][0]']               \n",
            " rmalization)                                                                                     \n",
            "                                                                                                  \n",
            " activation_3 (Activation)      (None, 9, 9, 64)     0           ['batch_normalization_3[0][0]']  \n",
            "                                                                                                  \n",
            " conv2d_4 (Conv2D)              (None, 9, 9, 64)     36928       ['activation_3[0][0]']           \n",
            "                                                                                                  \n",
            " batch_normalization_4 (BatchNo  (None, 9, 9, 64)    256         ['conv2d_4[0][0]']               \n",
            " rmalization)                                                                                     \n",
            "                                                                                                  \n",
            " add_1 (Add)                    (None, 9, 9, 64)     0           ['batch_normalization_4[0][0]',  \n",
            "                                                                  'activation_2[0][0]']           \n",
            "                                                                                                  \n",
            " activation_4 (Activation)      (None, 9, 9, 64)     0           ['add_1[0][0]']                  \n",
            "                                                                                                  \n",
            " conv2d_6 (Conv2D)              (None, 5, 5, 128)    73856       ['activation_4[0][0]']           \n",
            "                                                                                                  \n",
            " batch_normalization_5 (BatchNo  (None, 5, 5, 128)   512         ['conv2d_6[0][0]']               \n",
            " rmalization)                                                                                     \n",
            "                                                                                                  \n",
            " activation_5 (Activation)      (None, 5, 5, 128)    0           ['batch_normalization_5[0][0]']  \n",
            "                                                                                                  \n",
            " conv2d_7 (Conv2D)              (None, 5, 5, 128)    147584      ['activation_5[0][0]']           \n",
            "                                                                                                  \n",
            " batch_normalization_6 (BatchNo  (None, 5, 5, 128)   512         ['conv2d_7[0][0]']               \n",
            " rmalization)                                                                                     \n",
            "                                                                                                  \n",
            " conv2d_5 (Conv2D)              (None, 5, 5, 128)    8320        ['activation_4[0][0]']           \n",
            "                                                                                                  \n",
            " add_2 (Add)                    (None, 5, 5, 128)    0           ['batch_normalization_6[0][0]',  \n",
            "                                                                  'conv2d_5[0][0]']               \n",
            "                                                                                                  \n",
            " activation_6 (Activation)      (None, 5, 5, 128)    0           ['add_2[0][0]']                  \n",
            "                                                                                                  \n",
            " conv2d_8 (Conv2D)              (None, 5, 5, 128)    147584      ['activation_6[0][0]']           \n",
            "                                                                                                  \n",
            " batch_normalization_7 (BatchNo  (None, 5, 5, 128)   512         ['conv2d_8[0][0]']               \n",
            " rmalization)                                                                                     \n",
            "                                                                                                  \n",
            " activation_7 (Activation)      (None, 5, 5, 128)    0           ['batch_normalization_7[0][0]']  \n",
            "                                                                                                  \n",
            " conv2d_9 (Conv2D)              (None, 5, 5, 128)    147584      ['activation_7[0][0]']           \n",
            "                                                                                                  \n",
            " batch_normalization_8 (BatchNo  (None, 5, 5, 128)   512         ['conv2d_9[0][0]']               \n",
            " rmalization)                                                                                     \n",
            "                                                                                                  \n",
            " add_3 (Add)                    (None, 5, 5, 128)    0           ['batch_normalization_8[0][0]',  \n",
            "                                                                  'activation_6[0][0]']           \n",
            "                                                                                                  \n",
            " activation_8 (Activation)      (None, 5, 5, 128)    0           ['add_3[0][0]']                  \n",
            "                                                                                                  \n",
            " conv2d_11 (Conv2D)             (None, 3, 3, 256)    295168      ['activation_8[0][0]']           \n",
            "                                                                                                  \n",
            " batch_normalization_9 (BatchNo  (None, 3, 3, 256)   1024        ['conv2d_11[0][0]']              \n",
            " rmalization)                                                                                     \n",
            "                                                                                                  \n",
            " activation_9 (Activation)      (None, 3, 3, 256)    0           ['batch_normalization_9[0][0]']  \n",
            "                                                                                                  \n",
            " conv2d_12 (Conv2D)             (None, 3, 3, 256)    590080      ['activation_9[0][0]']           \n",
            "                                                                                                  \n",
            " batch_normalization_10 (BatchN  (None, 3, 3, 256)   1024        ['conv2d_12[0][0]']              \n",
            " ormalization)                                                                                    \n",
            "                                                                                                  \n",
            " conv2d_10 (Conv2D)             (None, 3, 3, 256)    33024       ['activation_8[0][0]']           \n",
            "                                                                                                  \n",
            " add_4 (Add)                    (None, 3, 3, 256)    0           ['batch_normalization_10[0][0]', \n",
            "                                                                  'conv2d_10[0][0]']              \n",
            "                                                                                                  \n",
            " activation_10 (Activation)     (None, 3, 3, 256)    0           ['add_4[0][0]']                  \n",
            "                                                                                                  \n",
            " conv2d_13 (Conv2D)             (None, 3, 3, 256)    590080      ['activation_10[0][0]']          \n",
            "                                                                                                  \n",
            " batch_normalization_11 (BatchN  (None, 3, 3, 256)   1024        ['conv2d_13[0][0]']              \n",
            " ormalization)                                                                                    \n",
            "                                                                                                  \n",
            " activation_11 (Activation)     (None, 3, 3, 256)    0           ['batch_normalization_11[0][0]'] \n",
            "                                                                                                  \n",
            " conv2d_14 (Conv2D)             (None, 3, 3, 256)    590080      ['activation_11[0][0]']          \n",
            "                                                                                                  \n",
            " batch_normalization_12 (BatchN  (None, 3, 3, 256)   1024        ['conv2d_14[0][0]']              \n",
            " ormalization)                                                                                    \n",
            "                                                                                                  \n",
            " add_5 (Add)                    (None, 3, 3, 256)    0           ['batch_normalization_12[0][0]', \n",
            "                                                                  'activation_10[0][0]']          \n",
            "                                                                                                  \n",
            " activation_12 (Activation)     (None, 3, 3, 256)    0           ['add_5[0][0]']                  \n",
            "                                                                                                  \n",
            " conv2d_16 (Conv2D)             (None, 2, 2, 512)    1180160     ['activation_12[0][0]']          \n",
            "                                                                                                  \n",
            " batch_normalization_13 (BatchN  (None, 2, 2, 512)   2048        ['conv2d_16[0][0]']              \n",
            " ormalization)                                                                                    \n",
            "                                                                                                  \n",
            " activation_13 (Activation)     (None, 2, 2, 512)    0           ['batch_normalization_13[0][0]'] \n",
            "                                                                                                  \n",
            " conv2d_17 (Conv2D)             (None, 2, 2, 512)    2359808     ['activation_13[0][0]']          \n",
            "                                                                                                  \n",
            " batch_normalization_14 (BatchN  (None, 2, 2, 512)   2048        ['conv2d_17[0][0]']              \n",
            " ormalization)                                                                                    \n",
            "                                                                                                  \n",
            " conv2d_15 (Conv2D)             (None, 2, 2, 512)    131584      ['activation_12[0][0]']          \n",
            "                                                                                                  \n",
            " add_6 (Add)                    (None, 2, 2, 512)    0           ['batch_normalization_14[0][0]', \n",
            "                                                                  'conv2d_15[0][0]']              \n",
            "                                                                                                  \n",
            " activation_14 (Activation)     (None, 2, 2, 512)    0           ['add_6[0][0]']                  \n",
            "                                                                                                  \n",
            " conv2d_18 (Conv2D)             (None, 2, 2, 512)    2359808     ['activation_14[0][0]']          \n",
            "                                                                                                  \n",
            " batch_normalization_15 (BatchN  (None, 2, 2, 512)   2048        ['conv2d_18[0][0]']              \n",
            " ormalization)                                                                                    \n",
            "                                                                                                  \n",
            " activation_15 (Activation)     (None, 2, 2, 512)    0           ['batch_normalization_15[0][0]'] \n",
            "                                                                                                  \n",
            " conv2d_19 (Conv2D)             (None, 2, 2, 512)    2359808     ['activation_15[0][0]']          \n",
            "                                                                                                  \n",
            " batch_normalization_16 (BatchN  (None, 2, 2, 512)   2048        ['conv2d_19[0][0]']              \n",
            " ormalization)                                                                                    \n",
            "                                                                                                  \n",
            " add_7 (Add)                    (None, 2, 2, 512)    0           ['batch_normalization_16[0][0]', \n",
            "                                                                  'activation_14[0][0]']          \n",
            "                                                                                                  \n",
            " activation_16 (Activation)     (None, 2, 2, 512)    0           ['add_7[0][0]']                  \n",
            "                                                                                                  \n",
            " average_pooling2d (AveragePool  (None, 1, 1, 512)   0           ['activation_16[0][0]']          \n",
            " ing2D)                                                                                           \n",
            "                                                                                                  \n",
            " flatten (Flatten)              (None, 512)          0           ['average_pooling2d[0][0]']      \n",
            "                                                                                                  \n",
            " dense (Dense)                  (None, 512)          262656      ['flatten[0][0]']                \n",
            "                                                                                                  \n",
            " dense_1 (Dense)                (None, 10)           5130        ['dense[0][0]']                  \n",
            "                                                                                                  \n",
            "==================================================================================================\n",
            "Total params: 11,448,842\n",
            "Trainable params: 11,441,034\n",
            "Non-trainable params: 7,808\n",
            "__________________________________________________________________________________________________\n",
            "938/938 [==============================] - 4308s 5s/step - loss: 0.1494 - accuracy: 0.9558\n"
          ]
        }
      ]
    },
    {
      "cell_type": "code",
      "source": [
        "import matplotlib.pyplot as plt\n",
        "for i in range(0,len(hist)):\n",
        "  plt.plot(hist[i]['accuracy'])\n",
        "  plt.title(\"model accuracy\")\n",
        "  plt.ylabel('accuracy')\n",
        "  plt.xlabel('epoch')\n",
        "  plt.legend(['train'],loc='upper left')\n",
        "  plt.show()"
      ],
      "metadata": {
        "id": "1aELnPh5QkU1"
      },
      "execution_count": null,
      "outputs": []
    },
    {
      "cell_type": "code",
      "source": [
        "from keras.optimizers import SGD\n",
        "# compile model\n",
        "opt = SGD(lr=0.01, momentum=0.9)\n",
        "model3 = ResNet18()\n",
        "model3.compile(optimizer = opt, loss = keras.losses.categorical_crossentropy, metrics=['accuracy'])\n",
        "model3.summary()\n",
        "train = model3.fit(train_X,train_y,batch_size=64, epochs=1)"
      ],
      "metadata": {
        "colab": {
          "base_uri": "https://localhost:8080/"
        },
        "id": "BPi5mT-pJLdb",
        "outputId": "afe62298-6257-44ae-ed06-5771b40673c3"
      },
      "execution_count": null,
      "outputs": [
        {
          "output_type": "stream",
          "name": "stdout",
          "text": [
            "Model: \"ResNet34\"\n",
            "__________________________________________________________________________________________________\n",
            " Layer (type)                   Output Shape         Param #     Connected to                     \n",
            "==================================================================================================\n",
            " input_2 (InputLayer)           [(None, 28, 28, 1)]  0           []                               \n",
            "                                                                                                  \n",
            " zero_padding2d_1 (ZeroPadding2  (None, 34, 34, 1)   0           ['input_2[0][0]']                \n",
            " D)                                                                                               \n",
            "                                                                                                  \n",
            " conv2d_20 (Conv2D)             (None, 17, 17, 64)   3200        ['zero_padding2d_1[0][0]']       \n",
            "                                                                                                  \n",
            " batch_normalization_17 (BatchN  (None, 17, 17, 64)  256         ['conv2d_20[0][0]']              \n",
            " ormalization)                                                                                    \n",
            "                                                                                                  \n",
            " activation_17 (Activation)     (None, 17, 17, 64)   0           ['batch_normalization_17[0][0]'] \n",
            "                                                                                                  \n",
            " max_pooling2d_1 (MaxPooling2D)  (None, 9, 9, 64)    0           ['activation_17[0][0]']          \n",
            "                                                                                                  \n",
            " conv2d_21 (Conv2D)             (None, 9, 9, 64)     36928       ['max_pooling2d_1[0][0]']        \n",
            "                                                                                                  \n",
            " batch_normalization_18 (BatchN  (None, 9, 9, 64)    256         ['conv2d_21[0][0]']              \n",
            " ormalization)                                                                                    \n",
            "                                                                                                  \n",
            " activation_18 (Activation)     (None, 9, 9, 64)     0           ['batch_normalization_18[0][0]'] \n",
            "                                                                                                  \n",
            " conv2d_22 (Conv2D)             (None, 9, 9, 64)     36928       ['activation_18[0][0]']          \n",
            "                                                                                                  \n",
            " batch_normalization_19 (BatchN  (None, 9, 9, 64)    256         ['conv2d_22[0][0]']              \n",
            " ormalization)                                                                                    \n",
            "                                                                                                  \n",
            " add_8 (Add)                    (None, 9, 9, 64)     0           ['batch_normalization_19[0][0]', \n",
            "                                                                  'max_pooling2d_1[0][0]']        \n",
            "                                                                                                  \n",
            " activation_19 (Activation)     (None, 9, 9, 64)     0           ['add_8[0][0]']                  \n",
            "                                                                                                  \n",
            " conv2d_23 (Conv2D)             (None, 9, 9, 64)     36928       ['activation_19[0][0]']          \n",
            "                                                                                                  \n",
            " batch_normalization_20 (BatchN  (None, 9, 9, 64)    256         ['conv2d_23[0][0]']              \n",
            " ormalization)                                                                                    \n",
            "                                                                                                  \n",
            " activation_20 (Activation)     (None, 9, 9, 64)     0           ['batch_normalization_20[0][0]'] \n",
            "                                                                                                  \n",
            " conv2d_24 (Conv2D)             (None, 9, 9, 64)     36928       ['activation_20[0][0]']          \n",
            "                                                                                                  \n",
            " batch_normalization_21 (BatchN  (None, 9, 9, 64)    256         ['conv2d_24[0][0]']              \n",
            " ormalization)                                                                                    \n",
            "                                                                                                  \n",
            " add_9 (Add)                    (None, 9, 9, 64)     0           ['batch_normalization_21[0][0]', \n",
            "                                                                  'activation_19[0][0]']          \n",
            "                                                                                                  \n",
            " activation_21 (Activation)     (None, 9, 9, 64)     0           ['add_9[0][0]']                  \n",
            "                                                                                                  \n",
            " conv2d_26 (Conv2D)             (None, 5, 5, 128)    73856       ['activation_21[0][0]']          \n",
            "                                                                                                  \n",
            " batch_normalization_22 (BatchN  (None, 5, 5, 128)   512         ['conv2d_26[0][0]']              \n",
            " ormalization)                                                                                    \n",
            "                                                                                                  \n",
            " activation_22 (Activation)     (None, 5, 5, 128)    0           ['batch_normalization_22[0][0]'] \n",
            "                                                                                                  \n",
            " conv2d_27 (Conv2D)             (None, 5, 5, 128)    147584      ['activation_22[0][0]']          \n",
            "                                                                                                  \n",
            " batch_normalization_23 (BatchN  (None, 5, 5, 128)   512         ['conv2d_27[0][0]']              \n",
            " ormalization)                                                                                    \n",
            "                                                                                                  \n",
            " conv2d_25 (Conv2D)             (None, 5, 5, 128)    8320        ['activation_21[0][0]']          \n",
            "                                                                                                  \n",
            " add_10 (Add)                   (None, 5, 5, 128)    0           ['batch_normalization_23[0][0]', \n",
            "                                                                  'conv2d_25[0][0]']              \n",
            "                                                                                                  \n",
            " activation_23 (Activation)     (None, 5, 5, 128)    0           ['add_10[0][0]']                 \n",
            "                                                                                                  \n",
            " conv2d_28 (Conv2D)             (None, 5, 5, 128)    147584      ['activation_23[0][0]']          \n",
            "                                                                                                  \n",
            " batch_normalization_24 (BatchN  (None, 5, 5, 128)   512         ['conv2d_28[0][0]']              \n",
            " ormalization)                                                                                    \n",
            "                                                                                                  \n",
            " activation_24 (Activation)     (None, 5, 5, 128)    0           ['batch_normalization_24[0][0]'] \n",
            "                                                                                                  \n",
            " conv2d_29 (Conv2D)             (None, 5, 5, 128)    147584      ['activation_24[0][0]']          \n",
            "                                                                                                  \n",
            " batch_normalization_25 (BatchN  (None, 5, 5, 128)   512         ['conv2d_29[0][0]']              \n",
            " ormalization)                                                                                    \n",
            "                                                                                                  \n",
            " add_11 (Add)                   (None, 5, 5, 128)    0           ['batch_normalization_25[0][0]', \n",
            "                                                                  'activation_23[0][0]']          \n",
            "                                                                                                  \n",
            " activation_25 (Activation)     (None, 5, 5, 128)    0           ['add_11[0][0]']                 \n",
            "                                                                                                  \n",
            " conv2d_31 (Conv2D)             (None, 3, 3, 256)    295168      ['activation_25[0][0]']          \n",
            "                                                                                                  \n",
            " batch_normalization_26 (BatchN  (None, 3, 3, 256)   1024        ['conv2d_31[0][0]']              \n",
            " ormalization)                                                                                    \n",
            "                                                                                                  \n",
            " activation_26 (Activation)     (None, 3, 3, 256)    0           ['batch_normalization_26[0][0]'] \n",
            "                                                                                                  \n",
            " conv2d_32 (Conv2D)             (None, 3, 3, 256)    590080      ['activation_26[0][0]']          \n",
            "                                                                                                  \n",
            " batch_normalization_27 (BatchN  (None, 3, 3, 256)   1024        ['conv2d_32[0][0]']              \n",
            " ormalization)                                                                                    \n",
            "                                                                                                  \n",
            " conv2d_30 (Conv2D)             (None, 3, 3, 256)    33024       ['activation_25[0][0]']          \n",
            "                                                                                                  \n",
            " add_12 (Add)                   (None, 3, 3, 256)    0           ['batch_normalization_27[0][0]', \n",
            "                                                                  'conv2d_30[0][0]']              \n",
            "                                                                                                  \n",
            " activation_27 (Activation)     (None, 3, 3, 256)    0           ['add_12[0][0]']                 \n",
            "                                                                                                  \n",
            " conv2d_33 (Conv2D)             (None, 3, 3, 256)    590080      ['activation_27[0][0]']          \n",
            "                                                                                                  \n",
            " batch_normalization_28 (BatchN  (None, 3, 3, 256)   1024        ['conv2d_33[0][0]']              \n",
            " ormalization)                                                                                    \n",
            "                                                                                                  \n",
            " activation_28 (Activation)     (None, 3, 3, 256)    0           ['batch_normalization_28[0][0]'] \n",
            "                                                                                                  \n",
            " conv2d_34 (Conv2D)             (None, 3, 3, 256)    590080      ['activation_28[0][0]']          \n",
            "                                                                                                  \n",
            " batch_normalization_29 (BatchN  (None, 3, 3, 256)   1024        ['conv2d_34[0][0]']              \n",
            " ormalization)                                                                                    \n",
            "                                                                                                  \n",
            " add_13 (Add)                   (None, 3, 3, 256)    0           ['batch_normalization_29[0][0]', \n",
            "                                                                  'activation_27[0][0]']          \n",
            "                                                                                                  \n",
            " activation_29 (Activation)     (None, 3, 3, 256)    0           ['add_13[0][0]']                 \n",
            "                                                                                                  \n",
            " conv2d_36 (Conv2D)             (None, 2, 2, 512)    1180160     ['activation_29[0][0]']          \n",
            "                                                                                                  \n",
            " batch_normalization_30 (BatchN  (None, 2, 2, 512)   2048        ['conv2d_36[0][0]']              \n",
            " ormalization)                                                                                    \n",
            "                                                                                                  \n",
            " activation_30 (Activation)     (None, 2, 2, 512)    0           ['batch_normalization_30[0][0]'] \n",
            "                                                                                                  \n",
            " conv2d_37 (Conv2D)             (None, 2, 2, 512)    2359808     ['activation_30[0][0]']          \n",
            "                                                                                                  \n",
            " batch_normalization_31 (BatchN  (None, 2, 2, 512)   2048        ['conv2d_37[0][0]']              \n",
            " ormalization)                                                                                    \n",
            "                                                                                                  \n",
            " conv2d_35 (Conv2D)             (None, 2, 2, 512)    131584      ['activation_29[0][0]']          \n",
            "                                                                                                  \n",
            " add_14 (Add)                   (None, 2, 2, 512)    0           ['batch_normalization_31[0][0]', \n",
            "                                                                  'conv2d_35[0][0]']              \n",
            "                                                                                                  \n",
            " activation_31 (Activation)     (None, 2, 2, 512)    0           ['add_14[0][0]']                 \n",
            "                                                                                                  \n",
            " conv2d_38 (Conv2D)             (None, 2, 2, 512)    2359808     ['activation_31[0][0]']          \n",
            "                                                                                                  \n",
            " batch_normalization_32 (BatchN  (None, 2, 2, 512)   2048        ['conv2d_38[0][0]']              \n",
            " ormalization)                                                                                    \n",
            "                                                                                                  \n",
            " activation_32 (Activation)     (None, 2, 2, 512)    0           ['batch_normalization_32[0][0]'] \n",
            "                                                                                                  \n",
            " conv2d_39 (Conv2D)             (None, 2, 2, 512)    2359808     ['activation_32[0][0]']          \n",
            "                                                                                                  \n",
            " batch_normalization_33 (BatchN  (None, 2, 2, 512)   2048        ['conv2d_39[0][0]']              \n",
            " ormalization)                                                                                    \n",
            "                                                                                                  \n",
            " add_15 (Add)                   (None, 2, 2, 512)    0           ['batch_normalization_33[0][0]', \n",
            "                                                                  'activation_31[0][0]']          \n",
            "                                                                                                  \n",
            " activation_33 (Activation)     (None, 2, 2, 512)    0           ['add_15[0][0]']                 \n",
            "                                                                                                  \n",
            " average_pooling2d_1 (AveragePo  (None, 1, 1, 512)   0           ['activation_33[0][0]']          \n",
            " oling2D)                                                                                         \n",
            "                                                                                                  \n",
            " flatten_1 (Flatten)            (None, 512)          0           ['average_pooling2d_1[0][0]']    \n",
            "                                                                                                  \n",
            " dense_2 (Dense)                (None, 512)          262656      ['flatten_1[0][0]']              \n",
            "                                                                                                  \n",
            " dense_3 (Dense)                (None, 10)           5130        ['dense_2[0][0]']                \n",
            "                                                                                                  \n",
            "==================================================================================================\n",
            "Total params: 11,448,842\n",
            "Trainable params: 11,441,034\n",
            "Non-trainable params: 7,808\n",
            "__________________________________________________________________________________________________\n",
            "938/938 [==============================] - 2985s 3s/step - loss: 0.1156 - accuracy: 0.9656\n"
          ]
        }
      ]
    },
    {
      "cell_type": "markdown",
      "source": [
        "##Redundant code from top till here"
      ],
      "metadata": {
        "id": "sp5XG0XBEoWf"
      }
    },
    {
      "cell_type": "code",
      "source": [
        "import tensorflow as tf\n",
        "import matplotlib.pyplot as plt\n",
        "import cv2\n",
        "import math\n",
        "import sys\n",
        "import random\n",
        "from datetime import datetime\n",
        "import os\n",
        "from imgaug import augmenters as iaa\n",
        "import seaborn as sns\n",
        "import torch                                                  \n",
        "import torchvision\n",
        "#import os\n",
        "#import tarfile\n",
        "import numpy as np\n",
        "import matplotlib.pyplot as plt\n",
        "import torch.nn as nn\n",
        "import torch.nn.functional as F\n",
        "from torchvision.datasets import CIFAR100\n",
        "from torchvision.transforms import ToTensor\n",
        "from torchvision.utils import make_grid\n",
        "from torch.utils.data.dataloader import DataLoader\n",
        "from torch.utils.data import random_split\n",
        "#from torchvision.datasets.utils import download_url\n",
        "%matplotlib inline"
      ],
      "metadata": {
        "id": "eHRC8shiA_38"
      },
      "execution_count": null,
      "outputs": []
    },
    {
      "cell_type": "code",
      "source": [
        "trainingData = CIFAR100(root = 'data/', download = True, transform = ToTensor())\n",
        "testingData = CIFAR100(root = 'data/', train = False, transform = ToTensor())"
      ],
      "metadata": {
        "colab": {
          "base_uri": "https://localhost:8080/",
          "height": 84,
          "referenced_widgets": [
            "e70b0520f02946dc87ef4b7308389aef",
            "c88a91c7cf364f0c813c6d44fd5a58ee",
            "0489d6d6026a4442b73892bac4f92a51",
            "4e96a7d941b347d3b5ef78d9bf248db7",
            "3e8dc0e1b01947e3a2002ffb73f2ac36",
            "3d210c1a5a694711aaf31006ce03f5a1",
            "3deb45241d5347619b5382135a931cd2",
            "44f24a1d140f40dfb5b6ac37401b04ee",
            "4817dc982d2c46c691e4aa6dea56aacf",
            "0f667698357f464c872ba6da6b0bd3bd",
            "30192bd2870f4718a144efa2389fb2b9"
          ]
        },
        "id": "44Y-EnFBKtku",
        "outputId": "3d96d17d-c47e-4540-bf32-1d8539c0f8c1"
      },
      "execution_count": null,
      "outputs": [
        {
          "output_type": "stream",
          "name": "stdout",
          "text": [
            "Downloading https://www.cs.toronto.edu/~kriz/cifar-100-python.tar.gz to data/cifar-100-python.tar.gz\n"
          ]
        },
        {
          "output_type": "display_data",
          "data": {
            "text/plain": [
              "  0%|          | 0/169001437 [00:00<?, ?it/s]"
            ],
            "application/vnd.jupyter.widget-view+json": {
              "version_major": 2,
              "version_minor": 0,
              "model_id": "e70b0520f02946dc87ef4b7308389aef"
            }
          },
          "metadata": {}
        },
        {
          "output_type": "stream",
          "name": "stdout",
          "text": [
            "Extracting data/cifar-100-python.tar.gz to data/\n"
          ]
        }
      ]
    },
    {
      "cell_type": "code",
      "source": [
        "classes = trainingData.classes \n",
        "print('Number of Classes:', len(classes))\n",
        "print('Class Names :\\n', classes)"
      ],
      "metadata": {
        "colab": {
          "base_uri": "https://localhost:8080/"
        },
        "id": "NOQzMZkBK11J",
        "outputId": "f614f6dd-e575-4afc-d142-7e8c651d5d2c"
      },
      "execution_count": null,
      "outputs": [
        {
          "output_type": "stream",
          "name": "stdout",
          "text": [
            "Number of Classes: 100\n",
            "Class Names :\n",
            " ['apple', 'aquarium_fish', 'baby', 'bear', 'beaver', 'bed', 'bee', 'beetle', 'bicycle', 'bottle', 'bowl', 'boy', 'bridge', 'bus', 'butterfly', 'camel', 'can', 'castle', 'caterpillar', 'cattle', 'chair', 'chimpanzee', 'clock', 'cloud', 'cockroach', 'couch', 'crab', 'crocodile', 'cup', 'dinosaur', 'dolphin', 'elephant', 'flatfish', 'forest', 'fox', 'girl', 'hamster', 'house', 'kangaroo', 'keyboard', 'lamp', 'lawn_mower', 'leopard', 'lion', 'lizard', 'lobster', 'man', 'maple_tree', 'motorcycle', 'mountain', 'mouse', 'mushroom', 'oak_tree', 'orange', 'orchid', 'otter', 'palm_tree', 'pear', 'pickup_truck', 'pine_tree', 'plain', 'plate', 'poppy', 'porcupine', 'possum', 'rabbit', 'raccoon', 'ray', 'road', 'rocket', 'rose', 'sea', 'seal', 'shark', 'shrew', 'skunk', 'skyscraper', 'snail', 'snake', 'spider', 'squirrel', 'streetcar', 'sunflower', 'sweet_pepper', 'table', 'tank', 'telephone', 'television', 'tiger', 'tractor', 'train', 'trout', 'tulip', 'turtle', 'wardrobe', 'whale', 'willow_tree', 'wolf', 'woman', 'worm']\n"
          ]
        }
      ]
    },
    {
      "cell_type": "code",
      "source": [
        "img, label = trainingData[33]\n",
        "plt.imshow(img.permute((1,2,0)))\n",
        "print('Label as Number:', label)\n",
        "print('Label as Name:', classes[label])"
      ],
      "metadata": {
        "colab": {
          "base_uri": "https://localhost:8080/",
          "height": 301
        },
        "id": "zmgaq9LyK6dK",
        "outputId": "a621c4c5-5592-405a-c721-9e462f211948"
      },
      "execution_count": null,
      "outputs": [
        {
          "output_type": "stream",
          "name": "stdout",
          "text": [
            "Label as Number: 65\n",
            "Label as Name: rabbit\n"
          ]
        },
        {
          "output_type": "display_data",
          "data": {
            "text/plain": [
              "<Figure size 432x288 with 1 Axes>"
            ],
            "image/png": "[encoded data removed]"
          },
          "metadata": {
            "needs_background": "light"
          }
        }
      ]
    },
    {
      "cell_type": "code",
      "source": [
        "torch.cuda.is_available()"
      ],
      "metadata": {
        "colab": {
          "base_uri": "https://localhost:8080/"
        },
        "id": "cdZzVqBQK9_o",
        "outputId": "1bb392c6-9dc0-4d89-8a36-84f76077e477"
      },
      "execution_count": null,
      "outputs": [
        {
          "output_type": "execute_result",
          "data": {
            "text/plain": [
              "True"
            ]
          },
          "metadata": {},
          "execution_count": 17
        }
      ]
    },
    {
      "cell_type": "code",
      "source": [
        "validationDataLen = 10000\n",
        "trainDataLen = len(trainingData) - validationDataLen"
      ],
      "metadata": {
        "id": "3VuIgs7ZLGty"
      },
      "execution_count": null,
      "outputs": []
    },
    {
      "cell_type": "code",
      "source": [
        "trainData, valData = random_split(trainingData,[trainDataLen, validationDataLen])\n",
        "len(trainData), len(valData)"
      ],
      "metadata": {
        "colab": {
          "base_uri": "https://localhost:8080/"
        },
        "id": "JDKT4FxBLJMn",
        "outputId": "da368ac1-fa16-4412-e9a4-a59648de445a"
      },
      "execution_count": null,
      "outputs": [
        {
          "output_type": "execute_result",
          "data": {
            "text/plain": [
              "(40000, 10000)"
            ]
          },
          "metadata": {},
          "execution_count": 19
        }
      ]
    },
    {
      "cell_type": "code",
      "source": [
        "batch_size = 64"
      ],
      "metadata": {
        "id": "bzvST1ayLLQz"
      },
      "execution_count": null,
      "outputs": []
    },
    {
      "cell_type": "code",
      "source": [
        "train_y = tf.keras.utils.to_categorical(train_y, 10)\n",
        "test_y = tf.keras.utils.to_categorical(test_y, 10)"
      ],
      "metadata": {
        "id": "BE-SHoiyLOjd"
      },
      "execution_count": null,
      "outputs": []
    },
    {
      "cell_type": "markdown",
      "source": [
        "#### New\n"
      ],
      "metadata": {
        "id": "LJBQAkkqNmDD"
      }
    },
    {
      "cell_type": "code",
      "source": [
        "import tensorflow as tf\n",
        "from tensorflow import keras\n",
        "from keras import layers\n",
        "  \n",
        "import numpy as np\n",
        "import matplotlib.pyplot as plt\n",
        "  \n",
        "import warnings\n",
        "warnings.filterwarnings('ignore')"
      ],
      "metadata": {
        "id": "ojDw3kKCNrpp"
      },
      "execution_count": null,
      "outputs": []
    },
    {
      "cell_type": "code",
      "source": [
        "\n",
        "cifar100 = tf.keras.datasets.cifar100\n",
        "\n",
        "(train_X, train_y), (test_X, test_y) = cifar100.load_data()\n",
        "print('X_train: ' + str(train_X.shape))\n",
        "print('Y_train: ' + str(train_y.shape))\n",
        "print('X_test:  '  + str(test_X.shape))\n",
        "print('Y_test:  '  + str(test_y.shape))\n"
      ],
      "metadata": {
        "colab": {
          "base_uri": "https://localhost:8080/"
        },
        "id": "Mfv8NxpJNz36",
        "outputId": "510d30a2-b92c-44d5-91d3-18a2795dbd58"
      },
      "execution_count": null,
      "outputs": [
        {
          "output_type": "stream",
          "name": "stdout",
          "text": [
            "Downloading data from https://www.cs.toronto.edu/~kriz/cifar-100-python.tar.gz\n",
            "169001437/169001437 [==============================] - 6s 0us/step\n",
            "X_train: (50000, 32, 32, 3)\n",
            "Y_train: (50000, 1)\n",
            "X_test:  (10000, 32, 32, 3)\n",
            "Y_test:  (10000, 1)\n"
          ]
        }
      ]
    },
    {
      "cell_type": "code",
      "source": [
        "train_y = tf.one_hot(train_y,\n",
        "                     depth=train_y.max() + 1,\n",
        "                     dtype=tf.float64)\n",
        "test_y = tf.one_hot(test_y,\n",
        "                   depth=test_y.max() + 1,\n",
        "                   dtype=tf.float64)\n",
        "  \n",
        "train_y = tf.squeeze(train_y)\n",
        "test_y = tf.squeeze(test_y)"
      ],
      "metadata": {
        "id": "ewHXHq7KOSlz"
      },
      "execution_count": null,
      "outputs": []
    },
    {
      "cell_type": "code",
      "source": [
        "def idBlock(x, filter):\n",
        "    # copy the input to feed it forward\n",
        "    res = x\n",
        "    # First Layer\n",
        "    x = tf.keras.layers.Conv2D(filter, (3,3), padding = 'same')(x)\n",
        "    x = tf.keras.layers.BatchNormalization(axis=3)(x)\n",
        "    x = tf.keras.layers.Activation('relu')(x)\n",
        "    # Second Layer \n",
        "    x = tf.keras.layers.Conv2D(filter, (3,3), padding = 'same')(x)\n",
        "    x = tf.keras.layers.BatchNormalization(axis=3)(x)\n",
        "    # Feed the res\n",
        "    x = tf.keras.layers.Add()([x, res])     \n",
        "    x = tf.keras.layers.Activation('relu')(x)\n",
        "    return x"
      ],
      "metadata": {
        "id": "_7QoOV_PV5TK"
      },
      "execution_count": null,
      "outputs": []
    },
    {
      "cell_type": "code",
      "source": [
        "def convBlock(x, filter):\n",
        "    # copy the input to feed it forward\n",
        "    res = x\n",
        "    # sending the res through conv(1,1) before feeding it\n",
        "    res = tf.keras.layers.Conv2D(filter, (1,1), strides = (2,2))(res)\n",
        "    # First Layer\n",
        "    x = tf.keras.layers.Conv2D(filter, (3,3), padding = 'same', strides = (2,2))(x)\n",
        "    x = tf.keras.layers.BatchNormalization(axis=3)(x)\n",
        "    x = tf.keras.layers.Activation('relu')(x)\n",
        "    # Second Layer\n",
        "    x = tf.keras.layers.Conv2D(filter, (3,3), padding = 'same')(x)\n",
        "    x = tf.keras.layers.BatchNormalization(axis=3)(x)\n",
        "    # Feed the processed res\n",
        "    x = tf.keras.layers.Add()([x, res])     \n",
        "    x = tf.keras.layers.Activation('relu')(x)\n",
        "    return x"
      ],
      "metadata": {
        "id": "hKmGB1SZV_ke"
      },
      "execution_count": null,
      "outputs": []
    },
    {
      "cell_type": "code",
      "source": [
        "def ResNet18(shape = (32, 32, 3), classes = 100):\n",
        "    # Step 1 (Setup Input Layer)\n",
        "    x_input = tf.keras.layers.Input(shape)\n",
        "    x = tf.keras.layers.ZeroPadding2D((3, 3))(x_input)\n",
        "    # Step 2 (Initial Conv layer along with maxPool)\n",
        "    x = tf.keras.layers.Conv2D(64, kernel_size=7, strides=2, padding='same')(x)\n",
        "    x = tf.keras.layers.BatchNormalization()(x)\n",
        "    x = tf.keras.layers.Activation('relu')(x)\n",
        "    x = tf.keras.layers.MaxPool2D(pool_size=3, strides=2, padding='same')(x)\n",
        "    # Define size of sub-blocks and initial filter size\n",
        "    block_layers = [2, 2, 2, 2]\n",
        "    filter_size = 64\n",
        "    # Step 3 Add the Resnet Blocks\n",
        "    for i in range(4):\n",
        "        if i == 0:\n",
        "            # For sub-block 1 Residual/Convolutional block not needed\n",
        "            for j in range(block_layers[i]):\n",
        "                x = idBlock(x, filter_size)\n",
        "        else:\n",
        "            # One Residual/Convolutional Block followed by Identity blocks\n",
        "            # The filter size will go on increasing by a factor of 2\n",
        "            filter_size = filter_size*2\n",
        "            x = convBlock(x, filter_size)\n",
        "            for j in range(block_layers[i] - 1):\n",
        "                x = idBlock(x, filter_size)\n",
        "    # Step 4 End Dense Network\n",
        "    x = tf.keras.layers.AveragePooling2D((2,2), padding = 'same')(x)\n",
        "    x = tf.keras.layers.Flatten()(x)\n",
        "    x = tf.keras.layers.Dense(512, activation = 'relu')(x)\n",
        "    x = tf.keras.layers.Dense(classes, activation = 'softmax')(x)\n",
        "    model = tf.keras.models.Model(inputs = x_input, outputs = x, name = \"ResNet18\")\n",
        "    return model"
      ],
      "metadata": {
        "id": "WGZzqYMFO0AU"
      },
      "execution_count": null,
      "outputs": []
    },
    {
      "cell_type": "code",
      "source": [
        "model = ResNet18()"
      ],
      "metadata": {
        "id": "HFr74HDpPFf4"
      },
      "execution_count": null,
      "outputs": []
    },
    {
      "cell_type": "code",
      "source": [
        "hist=[]\n",
        "results=[]"
      ],
      "metadata": {
        "id": "rkw7BfacUlcM"
      },
      "execution_count": null,
      "outputs": []
    },
    {
      "cell_type": "code",
      "source": [
        "from keras.optimizers import SGD,Adam\n",
        "\n",
        "opt_list=[SGD(lr=0.01, momentum=0.9),Adam(lr=0.001)]\n",
        "epochs_list = [5,10,20]\n",
        "for optimizer in  opt_list:\n",
        "  for epoch in epochs_list:\n",
        "\n",
        "    model.compile(optimizer = optimizer, loss = keras.losses.categorical_crossentropy, metrics=['accuracy'])\n",
        "    history = model.fit(\n",
        "      train_X,\n",
        "      train_y,\n",
        "      batch_size=64,\n",
        "      epochs=epoch,\n",
        "      validation_split = 0.2\n",
        "    )\n",
        "    hist.append(history.history)\n",
        "    results.append(model.evaluate(test_X, test_y, batch_size=128))"
      ],
      "metadata": {
        "id": "G_DY967pQ6bp",
        "colab": {
          "base_uri": "https://localhost:8080/"
        },
        "outputId": "680fd538-fdcc-495a-dc6c-5a515ec1824e"
      },
      "execution_count": null,
      "outputs": [
        {
          "output_type": "stream",
          "name": "stdout",
          "text": [
            "Epoch 1/5\n",
            "625/625 [==============================] - 29s 32ms/step - loss: 3.7726 - accuracy: 0.1186 - val_loss: 3.7024 - val_accuracy: 0.1299\n",
            "Epoch 2/5\n",
            "625/625 [==============================] - 18s 30ms/step - loss: 3.1538 - accuracy: 0.2207 - val_loss: 3.1637 - val_accuracy: 0.2270\n",
            "Epoch 3/5\n",
            "625/625 [==============================] - 17s 27ms/step - loss: 2.8077 - accuracy: 0.2869 - val_loss: 3.3886 - val_accuracy: 0.2137\n",
            "Epoch 4/5\n",
            "625/625 [==============================] - 17s 28ms/step - loss: 2.5243 - accuracy: 0.3440 - val_loss: 3.0961 - val_accuracy: 0.2441\n",
            "Epoch 5/5\n",
            "625/625 [==============================] - 19s 30ms/step - loss: 2.2774 - accuracy: 0.3956 - val_loss: 2.7608 - val_accuracy: 0.3149\n",
            "79/79 [==============================] - 2s 13ms/step - loss: 2.7469 - accuracy: 0.3231\n",
            "Epoch 1/10\n",
            "625/625 [==============================] - 20s 29ms/step - loss: 2.0295 - accuracy: 0.4485 - val_loss: 3.2407 - val_accuracy: 0.2776\n",
            "Epoch 2/10\n",
            "625/625 [==============================] - 19s 30ms/step - loss: 1.8053 - accuracy: 0.5008 - val_loss: 3.0517 - val_accuracy: 0.2919\n",
            "Epoch 3/10\n",
            "625/625 [==============================] - 18s 28ms/step - loss: 1.5866 - accuracy: 0.5505 - val_loss: 3.2512 - val_accuracy: 0.3028\n",
            "Epoch 4/10\n",
            "625/625 [==============================] - 17s 28ms/step - loss: 1.3663 - accuracy: 0.6045 - val_loss: 2.9266 - val_accuracy: 0.3439\n",
            "Epoch 5/10\n",
            "625/625 [==============================] - 17s 27ms/step - loss: 1.1631 - accuracy: 0.6554 - val_loss: 3.3817 - val_accuracy: 0.2978\n",
            "Epoch 6/10\n",
            "625/625 [==============================] - 17s 28ms/step - loss: 0.9853 - accuracy: 0.7042 - val_loss: 3.1497 - val_accuracy: 0.3544\n",
            "Epoch 7/10\n",
            "625/625 [==============================] - 18s 29ms/step - loss: 0.8182 - accuracy: 0.7486 - val_loss: 3.2118 - val_accuracy: 0.3561\n",
            "Epoch 8/10\n",
            "625/625 [==============================] - 19s 30ms/step - loss: 0.6769 - accuracy: 0.7866 - val_loss: 3.4234 - val_accuracy: 0.3420\n",
            "Epoch 9/10\n",
            "625/625 [==============================] - 18s 29ms/step - loss: 0.5504 - accuracy: 0.8235 - val_loss: 3.5766 - val_accuracy: 0.3544\n",
            "Epoch 10/10\n",
            "625/625 [==============================] - 18s 28ms/step - loss: 0.4565 - accuracy: 0.8554 - val_loss: 3.6882 - val_accuracy: 0.3672\n",
            "79/79 [==============================] - 1s 11ms/step - loss: 3.6330 - accuracy: 0.3725\n",
            "Epoch 1/20\n",
            "625/625 [==============================] - 19s 28ms/step - loss: 0.3478 - accuracy: 0.8877 - val_loss: 3.8412 - val_accuracy: 0.3619\n",
            "Epoch 2/20\n",
            "625/625 [==============================] - 18s 29ms/step - loss: 0.3030 - accuracy: 0.9029 - val_loss: 4.1326 - val_accuracy: 0.3622\n",
            "Epoch 3/20\n",
            "625/625 [==============================] - 17s 27ms/step - loss: 0.2362 - accuracy: 0.9244 - val_loss: 4.0941 - val_accuracy: 0.3690\n",
            "Epoch 4/20\n",
            "625/625 [==============================] - 17s 27ms/step - loss: 0.2207 - accuracy: 0.9284 - val_loss: 4.4050 - val_accuracy: 0.3578\n",
            "Epoch 5/20\n",
            "625/625 [==============================] - 17s 27ms/step - loss: 0.1740 - accuracy: 0.9436 - val_loss: 4.0488 - val_accuracy: 0.3910\n",
            "Epoch 6/20\n",
            "625/625 [==============================] - 17s 27ms/step - loss: 0.1331 - accuracy: 0.9564 - val_loss: 4.5675 - val_accuracy: 0.3701\n",
            "Epoch 7/20\n",
            "625/625 [==============================] - 17s 27ms/step - loss: 0.1313 - accuracy: 0.9573 - val_loss: 4.4443 - val_accuracy: 0.3860\n",
            "Epoch 8/20\n",
            "625/625 [==============================] - 17s 27ms/step - loss: 0.1207 - accuracy: 0.9606 - val_loss: 4.6275 - val_accuracy: 0.3715\n",
            "Epoch 9/20\n",
            "625/625 [==============================] - 17s 27ms/step - loss: 0.1067 - accuracy: 0.9660 - val_loss: 4.6242 - val_accuracy: 0.3829\n",
            "Epoch 10/20\n",
            "625/625 [==============================] - 17s 27ms/step - loss: 0.0885 - accuracy: 0.9722 - val_loss: 4.6679 - val_accuracy: 0.3864\n",
            "Epoch 11/20\n",
            "625/625 [==============================] - 17s 27ms/step - loss: 0.0593 - accuracy: 0.9815 - val_loss: 4.7766 - val_accuracy: 0.3868\n",
            "Epoch 12/20\n",
            "625/625 [==============================] - 17s 28ms/step - loss: 0.0560 - accuracy: 0.9825 - val_loss: 4.8797 - val_accuracy: 0.3917\n",
            "Epoch 13/20\n",
            "625/625 [==============================] - 17s 28ms/step - loss: 0.0527 - accuracy: 0.9837 - val_loss: 5.3028 - val_accuracy: 0.3705\n",
            "Epoch 14/20\n",
            "625/625 [==============================] - 17s 27ms/step - loss: 0.0537 - accuracy: 0.9835 - val_loss: 5.2938 - val_accuracy: 0.3691\n",
            "Epoch 15/20\n",
            "625/625 [==============================] - 17s 27ms/step - loss: 0.0470 - accuracy: 0.9859 - val_loss: 5.2347 - val_accuracy: 0.3703\n",
            "Epoch 16/20\n",
            "625/625 [==============================] - 17s 27ms/step - loss: 0.0490 - accuracy: 0.9845 - val_loss: 5.0876 - val_accuracy: 0.3819\n",
            "Epoch 17/20\n",
            "625/625 [==============================] - 17s 27ms/step - loss: 0.0502 - accuracy: 0.9843 - val_loss: 4.9557 - val_accuracy: 0.3944\n",
            "Epoch 18/20\n",
            "625/625 [==============================] - 17s 27ms/step - loss: 0.0437 - accuracy: 0.9863 - val_loss: 4.9764 - val_accuracy: 0.3866\n",
            "Epoch 19/20\n",
            "625/625 [==============================] - 17s 27ms/step - loss: 0.0414 - accuracy: 0.9865 - val_loss: 5.2154 - val_accuracy: 0.3829\n",
            "Epoch 20/20\n",
            "625/625 [==============================] - 17s 27ms/step - loss: 0.0357 - accuracy: 0.9890 - val_loss: 5.2469 - val_accuracy: 0.3843\n",
            "79/79 [==============================] - 1s 12ms/step - loss: 5.0914 - accuracy: 0.3939\n",
            "Epoch 1/5\n",
            "625/625 [==============================] - 20s 29ms/step - loss: 1.1273 - accuracy: 0.6696 - val_loss: 3.1729 - val_accuracy: 0.3459\n",
            "Epoch 2/5\n",
            "625/625 [==============================] - 18s 28ms/step - loss: 0.8931 - accuracy: 0.7304 - val_loss: 3.4533 - val_accuracy: 0.3437\n",
            "Epoch 3/5\n",
            "625/625 [==============================] - 18s 28ms/step - loss: 0.6941 - accuracy: 0.7852 - val_loss: 3.3377 - val_accuracy: 0.3589\n",
            "Epoch 4/5\n",
            "625/625 [==============================] - 17s 28ms/step - loss: 0.5563 - accuracy: 0.8260 - val_loss: 3.7874 - val_accuracy: 0.3474\n",
            "Epoch 5/5\n",
            "625/625 [==============================] - 17s 28ms/step - loss: 0.4711 - accuracy: 0.8524 - val_loss: 3.6211 - val_accuracy: 0.3658\n",
            "79/79 [==============================] - 1s 11ms/step - loss: 3.5155 - accuracy: 0.3788\n",
            "Epoch 1/10\n",
            "625/625 [==============================] - 20s 30ms/step - loss: 0.4070 - accuracy: 0.8724 - val_loss: 3.7237 - val_accuracy: 0.3682\n",
            "Epoch 2/10\n",
            "625/625 [==============================] - 18s 28ms/step - loss: 0.3503 - accuracy: 0.8885 - val_loss: 3.9452 - val_accuracy: 0.3699\n",
            "Epoch 3/10\n",
            "625/625 [==============================] - 17s 28ms/step - loss: 0.3196 - accuracy: 0.8976 - val_loss: 3.9873 - val_accuracy: 0.3689\n",
            "Epoch 4/10\n",
            "625/625 [==============================] - 17s 28ms/step - loss: 0.2755 - accuracy: 0.9128 - val_loss: 4.0885 - val_accuracy: 0.3628\n",
            "Epoch 5/10\n",
            "625/625 [==============================] - 17s 28ms/step - loss: 0.2574 - accuracy: 0.9183 - val_loss: 4.2115 - val_accuracy: 0.3628\n",
            "Epoch 6/10\n",
            "625/625 [==============================] - 17s 28ms/step - loss: 0.2457 - accuracy: 0.9218 - val_loss: 4.0595 - val_accuracy: 0.3747\n",
            "Epoch 7/10\n",
            "625/625 [==============================] - 18s 28ms/step - loss: 0.2241 - accuracy: 0.9282 - val_loss: 4.1931 - val_accuracy: 0.3672\n",
            "Epoch 8/10\n",
            "625/625 [==============================] - 18s 28ms/step - loss: 0.2036 - accuracy: 0.9353 - val_loss: 4.0896 - val_accuracy: 0.3783\n",
            "Epoch 9/10\n",
            "625/625 [==============================] - 18s 28ms/step - loss: 0.2022 - accuracy: 0.9358 - val_loss: 4.4220 - val_accuracy: 0.3656\n",
            "Epoch 10/10\n",
            "625/625 [==============================] - 18s 28ms/step - loss: 0.1853 - accuracy: 0.9416 - val_loss: 4.1047 - val_accuracy: 0.3809\n",
            "79/79 [==============================] - 1s 11ms/step - loss: 4.0011 - accuracy: 0.3939\n",
            "Epoch 1/20\n",
            "625/625 [==============================] - 20s 29ms/step - loss: 0.1714 - accuracy: 0.9454 - val_loss: 4.2433 - val_accuracy: 0.3715\n",
            "Epoch 2/20\n",
            "625/625 [==============================] - 18s 28ms/step - loss: 0.1714 - accuracy: 0.9463 - val_loss: 4.3405 - val_accuracy: 0.3872\n",
            "Epoch 3/20\n",
            "625/625 [==============================] - 17s 28ms/step - loss: 0.1597 - accuracy: 0.9487 - val_loss: 4.6071 - val_accuracy: 0.3642\n",
            "Epoch 4/20\n",
            "625/625 [==============================] - 17s 28ms/step - loss: 0.1516 - accuracy: 0.9524 - val_loss: 4.7351 - val_accuracy: 0.3651\n",
            "Epoch 5/20\n",
            "625/625 [==============================] - 17s 28ms/step - loss: 0.1528 - accuracy: 0.9517 - val_loss: 4.6196 - val_accuracy: 0.3613\n",
            "Epoch 6/20\n",
            "625/625 [==============================] - 17s 28ms/step - loss: 0.1343 - accuracy: 0.9579 - val_loss: 4.7222 - val_accuracy: 0.3676\n",
            "Epoch 7/20\n",
            "625/625 [==============================] - 17s 28ms/step - loss: 0.1289 - accuracy: 0.9579 - val_loss: 4.6923 - val_accuracy: 0.3808\n",
            "Epoch 8/20\n",
            "625/625 [==============================] - 17s 28ms/step - loss: 0.1347 - accuracy: 0.9585 - val_loss: 4.6512 - val_accuracy: 0.3712\n",
            "Epoch 9/20\n",
            "625/625 [==============================] - 18s 28ms/step - loss: 0.1301 - accuracy: 0.9576 - val_loss: 4.5179 - val_accuracy: 0.3837\n",
            "Epoch 10/20\n",
            "625/625 [==============================] - 18s 28ms/step - loss: 0.1138 - accuracy: 0.9642 - val_loss: 4.6268 - val_accuracy: 0.3806\n",
            "Epoch 11/20\n",
            "625/625 [==============================] - 18s 28ms/step - loss: 0.1080 - accuracy: 0.9667 - val_loss: 4.8850 - val_accuracy: 0.3640\n",
            "Epoch 12/20\n",
            "625/625 [==============================] - 17s 28ms/step - loss: 0.1182 - accuracy: 0.9631 - val_loss: 4.9117 - val_accuracy: 0.3755\n",
            "Epoch 13/20\n",
            "625/625 [==============================] - 17s 28ms/step - loss: 0.1112 - accuracy: 0.9651 - val_loss: 4.7808 - val_accuracy: 0.3659\n",
            "Epoch 14/20\n",
            "625/625 [==============================] - 17s 28ms/step - loss: 0.1092 - accuracy: 0.9665 - val_loss: 4.6582 - val_accuracy: 0.3856\n",
            "Epoch 15/20\n",
            "625/625 [==============================] - 17s 28ms/step - loss: 0.1047 - accuracy: 0.9682 - val_loss: 4.7011 - val_accuracy: 0.3675\n",
            "Epoch 16/20\n",
            "625/625 [==============================] - 17s 28ms/step - loss: 0.1169 - accuracy: 0.9636 - val_loss: 4.8197 - val_accuracy: 0.3757\n",
            "Epoch 17/20\n",
            "625/625 [==============================] - 17s 28ms/step - loss: 0.0903 - accuracy: 0.9715 - val_loss: 5.0192 - val_accuracy: 0.3775\n",
            "Epoch 18/20\n",
            "625/625 [==============================] - 17s 28ms/step - loss: 0.1060 - accuracy: 0.9661 - val_loss: 4.9028 - val_accuracy: 0.3767\n",
            "Epoch 19/20\n",
            "625/625 [==============================] - 18s 28ms/step - loss: 0.0945 - accuracy: 0.9709 - val_loss: 4.9420 - val_accuracy: 0.3834\n",
            "Epoch 20/20\n",
            "625/625 [==============================] - 17s 28ms/step - loss: 0.0859 - accuracy: 0.9732 - val_loss: 4.9100 - val_accuracy: 0.3876\n",
            "79/79 [==============================] - 1s 11ms/step - loss: 4.7937 - accuracy: 0.3921\n"
          ]
        }
      ]
    },
    {
      "cell_type": "code",
      "source": [
        "fig, axs = plt.subplots(2, 3)\n",
        "epoch1=range(1,6)\n",
        "epoch2 = range(1,11)\n",
        "epoch3 = range(1,21)\n",
        "\n",
        "axs[0, 0].set_title('SGD,epoch:5')\n",
        "axs[0, 0].plot(epoch1,hist[0]['accuracy'],color=\"green\",label=\"Training Accu\")\n",
        "axs[0, 0].plot(epoch1,hist[0]['val_accuracy'],color=\"blue\",label = \"Validation Accu\")\n",
        "\n",
        "axs[0, 1].set_title('SGD,epoch:10')\n",
        "axs[0, 1].plot(epoch2,hist[1]['accuracy'],color=\"green\")\n",
        "axs[0, 1].plot(epoch2,hist[1]['val_accuracy'],color=\"blue\")\n",
        "\n",
        "axs[0, 2].set_title('SGD,epoch:20')\n",
        "axs[0, 2].plot(epoch3,hist[2]['accuracy'],color=\"green\")\n",
        "axs[0, 2].plot(epoch3,hist[2]['val_accuracy'],color=\"blue\")\n",
        "\n",
        "axs[1, 0].set_title('Adam,epoch:5')\n",
        "axs[1, 0].plot(epoch1,hist[3]['accuracy'],color=\"green\")\n",
        "axs[1, 0].plot(epoch1,hist[3]['val_accuracy'],color=\"blue\")\n",
        "\n",
        "axs[1, 1].set_title('Adam,epoch:10')\n",
        "axs[1, 1].plot(epoch2,hist[4]['accuracy'],color=\"green\")\n",
        "axs[1, 1].plot(epoch2,hist[4]['val_accuracy'],color=\"blue\")\n",
        "\n",
        "axs[1, 2].set_title('Adam,epoch:20')\n",
        "axs[1, 2].plot(epoch3,hist[5]['accuracy'],color=\"green\")\n",
        "axs[1, 2].plot(epoch3,hist[5]['val_accuracy'],color=\"blue\")\n",
        "\n",
        "\n",
        "\n",
        "for ax in axs.flat:\n",
        "    ax.set(xlabel='epoch', ylabel='Accuracy')\n",
        "    \n",
        "fig.legend(bbox_to_anchor=(1.15, 1), borderaxespad=0)\n",
        "# Hide x labels and tick labels for top plots and y ticks for right plots.\n",
        "for ax in axs.flat:\n",
        "    ax.label_outer()"
      ],
      "metadata": {
        "colab": {
          "base_uri": "https://localhost:8080/",
          "height": 314
        },
        "id": "lvEipuj4U9Xd",
        "outputId": "3713d860-fb97-4c6d-edf7-9a269cd094ae"
      },
      "execution_count": null,
      "outputs": [
        {
          "output_type": "display_data",
          "data": {
            "text/plain": [
              "<Figure size 432x288 with 6 Axes>"
            ],
            "image/png": "[encoded data removed]"
          },
          "metadata": {
            "needs_background": "light"
          }
        }
      ]
    },
    {
      "cell_type": "code",
      "source": [
        "fig, axs = plt.subplots(2, 3)\n",
        "epoch1=range(1,6)\n",
        "epoch2 = range(1,11)\n",
        "epoch3 = range(1,21)\n",
        "\n",
        "axs[0, 0].set_title('SGD,epoch:5')\n",
        "axs[0, 0].plot(epoch1,hist[0]['loss'],color=\"green\",label=\"Training Loss\")\n",
        "axs[0, 0].plot(epoch1,hist[0]['val_loss'],color=\"blue\",label = \"Validation Loss\")\n",
        "\n",
        "axs[0, 1].set_title('SGD,epoch:10')\n",
        "axs[0, 1].plot(epoch2,hist[1]['loss'],color=\"green\")\n",
        "axs[0, 1].plot(epoch2,hist[1]['val_loss'],color=\"blue\")\n",
        "\n",
        "axs[0, 2].set_title('SGD,epoch:20')\n",
        "axs[0, 2].plot(epoch3,hist[2]['loss'],color=\"green\")\n",
        "axs[0, 2].plot(epoch3,hist[2]['val_loss'],color=\"blue\")\n",
        "\n",
        "axs[1, 0].set_title('Adam,epoch:5')\n",
        "axs[1, 0].plot(epoch1,hist[3]['loss'],color=\"green\")\n",
        "axs[1, 0].plot(epoch1,hist[3]['val_loss'],color=\"blue\")\n",
        "\n",
        "axs[1, 1].set_title('Adam,epoch:10')\n",
        "axs[1, 1].plot(epoch2,hist[4]['loss'],color=\"green\")\n",
        "axs[1, 1].plot(epoch2,hist[4]['val_loss'],color=\"blue\")\n",
        "\n",
        "axs[1, 2].set_title('Adam,epoch:20')\n",
        "axs[1, 2].plot(epoch3,hist[5]['loss'],color=\"green\")\n",
        "axs[1, 2].plot(epoch3,hist[5]['val_loss'],color=\"blue\")\n",
        "\n",
        "\n",
        "\n",
        "for ax in axs.flat:\n",
        "    ax.set(xlabel='epoch', ylabel='Loss')\n",
        "    \n",
        "fig.legend(bbox_to_anchor=(1.15, 1), borderaxespad=0)\n",
        "# Hide x labels and tick labels for top plots and y ticks for right plots.\n",
        "for ax in axs.flat:\n",
        "    ax.label_outer()"
      ],
      "metadata": {
        "colab": {
          "base_uri": "https://localhost:8080/",
          "height": 314
        },
        "id": "YLrTTiOcUrag",
        "outputId": "eddc6428-651d-42d8-ff8f-fd13c66f91b8"
      },
      "execution_count": null,
      "outputs": [
        {
          "output_type": "display_data",
          "data": {
            "text/plain": [
              "<Figure size 432x288 with 6 Axes>"
            ],
            "image/png": "[encoded data removed]"
          },
          "metadata": {
            "needs_background": "light"
          }
        }
      ]
    },
    {
      "cell_type": "code",
      "source": [
        "def ResNet34(shape = (32, 32, 3), classes = 100):\n",
        "    # Step 1 (Setup Input Layer)\n",
        "    x_input = tf.keras.layers.Input(shape)\n",
        "    x = tf.keras.layers.ZeroPadding2D((3, 3))(x_input)\n",
        "    # Step 2 (Initial Conv layer along with maxPool)\n",
        "    x = tf.keras.layers.Conv2D(64, kernel_size=7, strides=2, padding='same')(x)\n",
        "    x = tf.keras.layers.BatchNormalization()(x)\n",
        "    x = tf.keras.layers.Activation('relu')(x)\n",
        "    x = tf.keras.layers.MaxPool2D(pool_size=3, strides=2, padding='same')(x)\n",
        "    # Define size of sub-blocks and initial filter size\n",
        "    block_layers = [3, 4, 6, 3]\n",
        "    filter_size = 64\n",
        "    # Step 3 Add the Resnet Blocks\n",
        "    for i in range(4):\n",
        "        if i == 0:\n",
        "            # For sub-block 1 Residual/Convolutional block not needed\n",
        "            for j in range(block_layers[i]):\n",
        "                x = idBlock(x, filter_size)\n",
        "        else:\n",
        "            # One Residual/Convolutional Block followed by Identity blocks\n",
        "            # The filter size will go on increasing by a factor of 2\n",
        "            filter_size = filter_size*2\n",
        "            x = convBlock(x, filter_size)\n",
        "            for j in range(block_layers[i] - 1):\n",
        "                x = idBlock(x, filter_size)\n",
        "    # Step 4 End Dense Network\n",
        "    x = tf.keras.layers.AveragePooling2D((2,2), padding = 'same')(x)\n",
        "    x = tf.keras.layers.Flatten()(x)\n",
        "    x = tf.keras.layers.Dense(512, activation = 'relu')(x)\n",
        "    x = tf.keras.layers.Dense(classes, activation = 'softmax')(x)\n",
        "    model = tf.keras.models.Model(inputs = x_input, outputs = x, name = \"ResNet34\")\n",
        "    return model"
      ],
      "metadata": {
        "id": "kxnGaG3uUwTx"
      },
      "execution_count": null,
      "outputs": []
    },
    {
      "cell_type": "code",
      "source": [
        "model = ResNet34()"
      ],
      "metadata": {
        "id": "sHaryma3YXv5"
      },
      "execution_count": null,
      "outputs": []
    },
    {
      "cell_type": "code",
      "source": [
        "hist=[]\n",
        "results=[]"
      ],
      "metadata": {
        "id": "2xwOKsOgYdqi"
      },
      "execution_count": null,
      "outputs": []
    },
    {
      "cell_type": "code",
      "source": [
        "from keras.optimizers import SGD,Adam\n",
        "\n",
        "opt_list=[SGD(lr=0.01, momentum=0.9),Adam(lr=0.001)]\n",
        "epochs_list = [5,10,20]\n",
        "for optimizer in  opt_list:\n",
        "  for epoch in epochs_list:\n",
        "\n",
        "    model.compile(optimizer = optimizer, loss = keras.losses.categorical_crossentropy, metrics=['accuracy'])\n",
        "    history = model.fit(\n",
        "      train_X,\n",
        "      train_y,\n",
        "      batch_size=64,\n",
        "      epochs=epoch,\n",
        "      validation_split = 0.2\n",
        "    )\n",
        "    hist.append(history.history)\n",
        "    results.append(model.evaluate(test_X, test_y, batch_size=128))"
      ],
      "metadata": {
        "colab": {
          "base_uri": "https://localhost:8080/"
        },
        "id": "0egN_HgIYj5N",
        "outputId": "17b2496d-31b9-41b7-dbdb-cf745f6b03dd"
      },
      "execution_count": null,
      "outputs": [
        {
          "output_type": "stream",
          "name": "stdout",
          "text": [
            "Epoch 1/5\n",
            "625/625 [==============================] - 33s 49ms/step - loss: 3.9870 - accuracy: 0.0826 - val_loss: 3.8688 - val_accuracy: 0.1067\n",
            "Epoch 2/5\n",
            "625/625 [==============================] - 29s 47ms/step - loss: 3.4780 - accuracy: 0.1612 - val_loss: 3.6584 - val_accuracy: 0.1425\n",
            "Epoch 3/5\n",
            "625/625 [==============================] - 29s 47ms/step - loss: 3.1782 - accuracy: 0.2119 - val_loss: 3.3524 - val_accuracy: 0.1949\n",
            "Epoch 4/5\n",
            "625/625 [==============================] - 29s 46ms/step - loss: 2.9235 - accuracy: 0.2600 - val_loss: 4.0121 - val_accuracy: 0.1580\n",
            "Epoch 5/5\n",
            "625/625 [==============================] - 29s 46ms/step - loss: 2.6847 - accuracy: 0.3074 - val_loss: 4.2762 - val_accuracy: 0.1450\n",
            "79/79 [==============================] - 1s 19ms/step - loss: 4.2412 - accuracy: 0.1471\n",
            "Epoch 1/10\n",
            "625/625 [==============================] - 76s 47ms/step - loss: 2.4825 - accuracy: 0.3484 - val_loss: 3.6479 - val_accuracy: 0.2042\n",
            "Epoch 2/10\n",
            "625/625 [==============================] - 30s 48ms/step - loss: 2.2800 - accuracy: 0.3932 - val_loss: 2.8357 - val_accuracy: 0.2989\n",
            "Epoch 3/10\n",
            "625/625 [==============================] - 29s 47ms/step - loss: 2.0981 - accuracy: 0.4323 - val_loss: 2.8846 - val_accuracy: 0.3022\n",
            "Epoch 4/10\n",
            "625/625 [==============================] - 31s 49ms/step - loss: 1.9153 - accuracy: 0.4717 - val_loss: 2.9209 - val_accuracy: 0.3107\n",
            "Epoch 5/10\n",
            "625/625 [==============================] - 29s 46ms/step - loss: 1.7335 - accuracy: 0.5139 - val_loss: 3.0100 - val_accuracy: 0.3146\n",
            "Epoch 6/10\n",
            "625/625 [==============================] - 30s 47ms/step - loss: 1.5660 - accuracy: 0.5553 - val_loss: 3.0090 - val_accuracy: 0.3282\n",
            "Epoch 7/10\n",
            "625/625 [==============================] - 29s 47ms/step - loss: 1.3906 - accuracy: 0.5968 - val_loss: 3.0871 - val_accuracy: 0.3233\n",
            "Epoch 8/10\n",
            "625/625 [==============================] - 29s 46ms/step - loss: 1.2298 - accuracy: 0.6365 - val_loss: 3.0386 - val_accuracy: 0.3501\n",
            "Epoch 9/10\n",
            "625/625 [==============================] - 29s 46ms/step - loss: 1.0724 - accuracy: 0.6808 - val_loss: 2.9958 - val_accuracy: 0.3645\n",
            "Epoch 10/10\n",
            "625/625 [==============================] - 29s 46ms/step - loss: 0.9339 - accuracy: 0.7169 - val_loss: 3.3473 - val_accuracy: 0.3435\n",
            "79/79 [==============================] - 2s 20ms/step - loss: 3.3305 - accuracy: 0.3417\n",
            "Epoch 1/20\n",
            "625/625 [==============================] - 32s 48ms/step - loss: 0.8167 - accuracy: 0.7462 - val_loss: 3.3426 - val_accuracy: 0.3554\n",
            "Epoch 2/20\n",
            "625/625 [==============================] - 29s 47ms/step - loss: 0.6970 - accuracy: 0.7826 - val_loss: 3.6598 - val_accuracy: 0.3419\n",
            "Epoch 3/20\n",
            "625/625 [==============================] - 29s 46ms/step - loss: 0.5931 - accuracy: 0.8132 - val_loss: 3.4479 - val_accuracy: 0.3683\n",
            "Epoch 4/20\n",
            "625/625 [==============================] - 29s 47ms/step - loss: 0.4981 - accuracy: 0.8407 - val_loss: 3.9811 - val_accuracy: 0.3444\n",
            "Epoch 5/20\n",
            "625/625 [==============================] - 29s 47ms/step - loss: 0.4393 - accuracy: 0.8593 - val_loss: 3.9373 - val_accuracy: 0.3472\n",
            "Epoch 6/20\n",
            "625/625 [==============================] - 29s 47ms/step - loss: 0.3579 - accuracy: 0.8858 - val_loss: 4.1539 - val_accuracy: 0.3558\n",
            "Epoch 7/20\n",
            "625/625 [==============================] - 29s 46ms/step - loss: 0.3304 - accuracy: 0.8937 - val_loss: 4.1185 - val_accuracy: 0.3653\n",
            "Epoch 8/20\n",
            "625/625 [==============================] - 29s 46ms/step - loss: 0.2723 - accuracy: 0.9119 - val_loss: 4.2801 - val_accuracy: 0.3610\n",
            "Epoch 9/20\n",
            "625/625 [==============================] - 29s 46ms/step - loss: 0.2286 - accuracy: 0.9264 - val_loss: 4.6235 - val_accuracy: 0.3608\n",
            "Epoch 10/20\n",
            "625/625 [==============================] - 29s 46ms/step - loss: 0.2131 - accuracy: 0.9299 - val_loss: 4.5194 - val_accuracy: 0.3671\n",
            "Epoch 11/20\n",
            "625/625 [==============================] - 29s 47ms/step - loss: 0.1874 - accuracy: 0.9391 - val_loss: 4.4477 - val_accuracy: 0.3627\n",
            "Epoch 12/20\n",
            "625/625 [==============================] - 29s 46ms/step - loss: 0.1605 - accuracy: 0.9478 - val_loss: 4.8351 - val_accuracy: 0.3651\n",
            "Epoch 13/20\n",
            "625/625 [==============================] - 29s 47ms/step - loss: 0.1454 - accuracy: 0.9526 - val_loss: 4.6472 - val_accuracy: 0.3747\n",
            "Epoch 14/20\n",
            "625/625 [==============================] - 29s 47ms/step - loss: 0.1397 - accuracy: 0.9543 - val_loss: 4.6826 - val_accuracy: 0.3702\n",
            "Epoch 15/20\n",
            "625/625 [==============================] - 29s 47ms/step - loss: 0.1203 - accuracy: 0.9599 - val_loss: 4.6192 - val_accuracy: 0.3881\n",
            "Epoch 16/20\n",
            "625/625 [==============================] - 30s 48ms/step - loss: 0.0883 - accuracy: 0.9714 - val_loss: 5.2310 - val_accuracy: 0.3765\n",
            "Epoch 17/20\n",
            "625/625 [==============================] - 30s 48ms/step - loss: 0.0872 - accuracy: 0.9714 - val_loss: 4.8176 - val_accuracy: 0.3880\n",
            "Epoch 18/20\n",
            "625/625 [==============================] - 29s 47ms/step - loss: 0.0759 - accuracy: 0.9757 - val_loss: 5.1759 - val_accuracy: 0.3852\n",
            "Epoch 19/20\n",
            "625/625 [==============================] - 29s 47ms/step - loss: 0.0890 - accuracy: 0.9720 - val_loss: 5.1443 - val_accuracy: 0.3777\n",
            "Epoch 20/20\n",
            "625/625 [==============================] - 30s 48ms/step - loss: 0.0907 - accuracy: 0.9711 - val_loss: 5.0571 - val_accuracy: 0.3880\n",
            "79/79 [==============================] - 2s 20ms/step - loss: 4.9753 - accuracy: 0.3934\n",
            "Epoch 1/5\n",
            "625/625 [==============================] - 34s 49ms/step - loss: 1.3390 - accuracy: 0.6130 - val_loss: 3.1261 - val_accuracy: 0.3411\n",
            "Epoch 2/5\n",
            "625/625 [==============================] - 29s 47ms/step - loss: 1.0015 - accuracy: 0.6996 - val_loss: 3.0943 - val_accuracy: 0.3611\n",
            "Epoch 3/5\n",
            "625/625 [==============================] - 29s 47ms/step - loss: 0.7928 - accuracy: 0.7564 - val_loss: 3.2552 - val_accuracy: 0.3582\n",
            "Epoch 4/5\n",
            "625/625 [==============================] - 29s 47ms/step - loss: 0.6460 - accuracy: 0.7977 - val_loss: 3.5658 - val_accuracy: 0.3466\n",
            "Epoch 5/5\n",
            "625/625 [==============================] - 30s 47ms/step - loss: 0.5479 - accuracy: 0.8296 - val_loss: 3.7289 - val_accuracy: 0.3407\n",
            "79/79 [==============================] - 1s 19ms/step - loss: 3.6835 - accuracy: 0.3482\n",
            "Epoch 1/10\n",
            "625/625 [==============================] - 33s 48ms/step - loss: 0.4814 - accuracy: 0.8479 - val_loss: 3.8526 - val_accuracy: 0.3586\n",
            "Epoch 2/10\n",
            "625/625 [==============================] - 30s 48ms/step - loss: 0.4010 - accuracy: 0.8722 - val_loss: 3.6702 - val_accuracy: 0.3656\n",
            "Epoch 3/10\n",
            "625/625 [==============================] - 29s 47ms/step - loss: 0.3642 - accuracy: 0.8853 - val_loss: 4.1508 - val_accuracy: 0.3521\n",
            "Epoch 4/10\n",
            "625/625 [==============================] - 29s 47ms/step - loss: 0.3228 - accuracy: 0.8972 - val_loss: 3.9130 - val_accuracy: 0.3763\n",
            "Epoch 5/10\n",
            "625/625 [==============================] - 29s 47ms/step - loss: 0.3015 - accuracy: 0.9053 - val_loss: 4.1737 - val_accuracy: 0.3591\n",
            "Epoch 6/10\n",
            "625/625 [==============================] - 29s 47ms/step - loss: 0.2935 - accuracy: 0.9082 - val_loss: 4.1572 - val_accuracy: 0.3652\n",
            "Epoch 7/10\n",
            "625/625 [==============================] - 29s 47ms/step - loss: 0.2585 - accuracy: 0.9180 - val_loss: 4.2657 - val_accuracy: 0.3748\n",
            "Epoch 8/10\n",
            "625/625 [==============================] - 29s 47ms/step - loss: 0.2356 - accuracy: 0.9250 - val_loss: 4.2236 - val_accuracy: 0.3740\n",
            "Epoch 9/10\n",
            "625/625 [==============================] - 29s 47ms/step - loss: 0.2159 - accuracy: 0.9308 - val_loss: 4.3864 - val_accuracy: 0.3665\n",
            "Epoch 10/10\n",
            "625/625 [==============================] - 30s 48ms/step - loss: 0.2298 - accuracy: 0.9266 - val_loss: 4.5496 - val_accuracy: 0.3507\n",
            "79/79 [==============================] - 1s 19ms/step - loss: 4.5383 - accuracy: 0.3513\n",
            "Epoch 1/20\n",
            "625/625 [==============================] - 34s 49ms/step - loss: 0.2056 - accuracy: 0.9339 - val_loss: 4.7004 - val_accuracy: 0.3613\n",
            "Epoch 2/20\n",
            "625/625 [==============================] - 29s 47ms/step - loss: 0.2005 - accuracy: 0.9363 - val_loss: 4.7188 - val_accuracy: 0.3659\n",
            "Epoch 3/20\n",
            "625/625 [==============================] - 30s 48ms/step - loss: 0.1847 - accuracy: 0.9425 - val_loss: 4.5614 - val_accuracy: 0.3651\n",
            "Epoch 4/20\n",
            "625/625 [==============================] - 29s 47ms/step - loss: 0.1788 - accuracy: 0.9452 - val_loss: 4.5293 - val_accuracy: 0.3659\n",
            "Epoch 5/20\n",
            "625/625 [==============================] - 29s 47ms/step - loss: 0.1722 - accuracy: 0.9457 - val_loss: 4.7149 - val_accuracy: 0.3765\n",
            "Epoch 6/20\n",
            "625/625 [==============================] - 29s 47ms/step - loss: 0.1707 - accuracy: 0.9458 - val_loss: 4.6526 - val_accuracy: 0.3739\n",
            "Epoch 7/20\n",
            "625/625 [==============================] - 29s 47ms/step - loss: 0.1472 - accuracy: 0.9530 - val_loss: 4.6998 - val_accuracy: 0.3801\n",
            "Epoch 8/20\n",
            "625/625 [==============================] - 29s 47ms/step - loss: 0.1666 - accuracy: 0.9467 - val_loss: 4.6863 - val_accuracy: 0.3773\n",
            "Epoch 9/20\n",
            "625/625 [==============================] - 29s 47ms/step - loss: 0.1460 - accuracy: 0.9547 - val_loss: 4.7326 - val_accuracy: 0.3713\n",
            "Epoch 10/20\n",
            "625/625 [==============================] - 30s 48ms/step - loss: 0.1380 - accuracy: 0.9572 - val_loss: 5.1188 - val_accuracy: 0.3685\n",
            "Epoch 11/20\n",
            "625/625 [==============================] - 29s 47ms/step - loss: 0.1430 - accuracy: 0.9559 - val_loss: 5.0069 - val_accuracy: 0.3711\n",
            "Epoch 12/20\n",
            "625/625 [==============================] - 29s 47ms/step - loss: 0.1341 - accuracy: 0.9574 - val_loss: 4.7716 - val_accuracy: 0.3788\n",
            "Epoch 13/20\n",
            "625/625 [==============================] - 29s 47ms/step - loss: 0.1402 - accuracy: 0.9566 - val_loss: 4.7060 - val_accuracy: 0.3772\n",
            "Epoch 14/20\n",
            "625/625 [==============================] - 29s 47ms/step - loss: 0.1315 - accuracy: 0.9584 - val_loss: 4.8996 - val_accuracy: 0.3729\n",
            "Epoch 15/20\n",
            "625/625 [==============================] - 30s 48ms/step - loss: 0.1126 - accuracy: 0.9654 - val_loss: 5.2731 - val_accuracy: 0.3764\n",
            "Epoch 16/20\n",
            "625/625 [==============================] - 29s 47ms/step - loss: 0.1345 - accuracy: 0.9588 - val_loss: 5.1010 - val_accuracy: 0.3731\n",
            "Epoch 17/20\n",
            "625/625 [==============================] - 29s 47ms/step - loss: 0.1100 - accuracy: 0.9659 - val_loss: 5.1263 - val_accuracy: 0.3761\n",
            "Epoch 18/20\n",
            "625/625 [==============================] - 29s 47ms/step - loss: 0.1116 - accuracy: 0.9663 - val_loss: 5.0439 - val_accuracy: 0.3798\n",
            "Epoch 19/20\n",
            "625/625 [==============================] - 29s 47ms/step - loss: 0.1155 - accuracy: 0.9640 - val_loss: 5.4290 - val_accuracy: 0.3631\n",
            "Epoch 20/20\n",
            "625/625 [==============================] - 30s 48ms/step - loss: 0.1222 - accuracy: 0.9620 - val_loss: 5.1445 - val_accuracy: 0.3752\n",
            "79/79 [==============================] - 1s 19ms/step - loss: 5.2083 - accuracy: 0.3772\n"
          ]
        }
      ]
    },
    {
      "cell_type": "code",
      "source": [
        "fig, axs = plt.subplots(2, 3)\n",
        "epoch1=range(1,6)\n",
        "epoch2 = range(1,11)\n",
        "epoch3 = range(1,21)\n",
        "\n",
        "axs[0, 0].set_title('SGD,epoch:5')\n",
        "axs[0, 0].plot(epoch1,hist[0]['accuracy'],color=\"green\",label=\"Training Accu\")\n",
        "axs[0, 0].plot(epoch1,hist[0]['val_accuracy'],color=\"blue\",label = \"Validation Accu\")\n",
        "\n",
        "axs[0, 1].set_title('SGD,epoch:10')\n",
        "axs[0, 1].plot(epoch2,hist[1]['accuracy'],color=\"green\")\n",
        "axs[0, 1].plot(epoch2,hist[1]['val_accuracy'],color=\"blue\")\n",
        "\n",
        "axs[0, 2].set_title('SGD,epoch:20')\n",
        "axs[0, 2].plot(epoch3,hist[2]['accuracy'],color=\"green\")\n",
        "axs[0, 2].plot(epoch3,hist[2]['val_accuracy'],color=\"blue\")\n",
        "\n",
        "axs[1, 0].set_title('Adam,epoch:5')\n",
        "axs[1, 0].plot(epoch1,hist[3]['accuracy'],color=\"green\")\n",
        "axs[1, 0].plot(epoch1,hist[3]['val_accuracy'],color=\"blue\")\n",
        "\n",
        "axs[1, 1].set_title('Adam,epoch:10')\n",
        "axs[1, 1].plot(epoch2,hist[4]['accuracy'],color=\"green\")\n",
        "axs[1, 1].plot(epoch2,hist[4]['val_accuracy'],color=\"blue\")\n",
        "\n",
        "axs[1, 2].set_title('Adam,epoch:20')\n",
        "axs[1, 2].plot(epoch3,hist[5]['accuracy'],color=\"green\")\n",
        "axs[1, 2].plot(epoch3,hist[5]['val_accuracy'],color=\"blue\")\n",
        "\n",
        "\n",
        "\n",
        "for ax in axs.flat:\n",
        "    ax.set(xlabel='epoch', ylabel='Accuracy')\n",
        "    \n",
        "fig.legend(bbox_to_anchor=(1.15, 1), borderaxespad=0)\n",
        "# Hide x labels and tick labels for top plots and y ticks for right plots.\n",
        "for ax in axs.flat:\n",
        "    ax.label_outer()"
      ],
      "metadata": {
        "colab": {
          "base_uri": "https://localhost:8080/",
          "height": 314
        },
        "id": "h9kCqU94Ys65",
        "outputId": "70477e2e-8e3a-4a1b-e8a4-56a73cd96916"
      },
      "execution_count": null,
      "outputs": [
        {
          "output_type": "display_data",
          "data": {
            "text/plain": [
              "<Figure size 432x288 with 6 Axes>"
            ],
            "image/png": "[encoded data removed]"
          },
          "metadata": {
            "needs_background": "light"
          }
        }
      ]
    },
    {
      "cell_type": "code",
      "source": [
        "fig, axs = plt.subplots(2, 3)\n",
        "epoch1=range(1,6)\n",
        "epoch2 = range(1,11)\n",
        "epoch3 = range(1,21)\n",
        "\n",
        "axs[0, 0].set_title('SGD,epoch:5')\n",
        "axs[0, 0].plot(epoch1,hist[0]['loss'],color=\"green\",label=\"Training Loss\")\n",
        "axs[0, 0].plot(epoch1,hist[0]['val_loss'],color=\"blue\",label = \"Validation Loss\")\n",
        "\n",
        "axs[0, 1].set_title('SGD,epoch:10')\n",
        "axs[0, 1].plot(epoch2,hist[1]['loss'],color=\"green\")\n",
        "axs[0, 1].plot(epoch2,hist[1]['val_loss'],color=\"blue\")\n",
        "\n",
        "axs[0, 2].set_title('SGD,epoch:20')\n",
        "axs[0, 2].plot(epoch3,hist[2]['loss'],color=\"green\")\n",
        "axs[0, 2].plot(epoch3,hist[2]['val_loss'],color=\"blue\")\n",
        "\n",
        "axs[1, 0].set_title('Adam,epoch:5')\n",
        "axs[1, 0].plot(epoch1,hist[3]['loss'],color=\"green\")\n",
        "axs[1, 0].plot(epoch1,hist[3]['val_loss'],color=\"blue\")\n",
        "\n",
        "axs[1, 1].set_title('Adam,epoch:10')\n",
        "axs[1, 1].plot(epoch2,hist[4]['loss'],color=\"green\")\n",
        "axs[1, 1].plot(epoch2,hist[4]['val_loss'],color=\"blue\")\n",
        "\n",
        "axs[1, 2].set_title('Adam,epoch:20')\n",
        "axs[1, 2].plot(epoch3,hist[5]['loss'],color=\"green\")\n",
        "axs[1, 2].plot(epoch3,hist[5]['val_loss'],color=\"blue\")\n",
        "\n",
        "\n",
        "\n",
        "for ax in axs.flat:\n",
        "    ax.set(xlabel='epoch', ylabel='Loss')\n",
        "    \n",
        "fig.legend(bbox_to_anchor=(1.15, 1), borderaxespad=0)\n",
        "# Hide x labels and tick labels for top plots and y ticks for right plots.\n",
        "for ax in axs.flat:\n",
        "    ax.label_outer()"
      ],
      "metadata": {
        "colab": {
          "base_uri": "https://localhost:8080/",
          "height": 314
        },
        "id": "_2uVW-QVYwuD",
        "outputId": "b778320e-0259-4df2-c027-d514f87771a1"
      },
      "execution_count": null,
      "outputs": [
        {
          "output_type": "display_data",
          "data": {
            "text/plain": [
              "<Figure size 432x288 with 6 Axes>"
            ],
            "image/png": "[encoded data removed]"
          },
          "metadata": {
            "needs_background": "light"
          }
        }
      ]
    },
    {
      "cell_type": "code",
      "source": [],
      "metadata": {
        "id": "5L1XLYHOkDPU"
      },
      "execution_count": null,
      "outputs": []
    }
  ]
}